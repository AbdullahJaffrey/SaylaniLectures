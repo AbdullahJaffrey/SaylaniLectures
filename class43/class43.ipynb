{
 "cells": [
  {
   "cell_type": "code",
   "execution_count": 1,
   "id": "f1c0b25b",
   "metadata": {},
   "outputs": [],
   "source": [
    "#(20/10/2022) Thursday"
   ]
  },
  {
   "cell_type": "markdown",
   "id": "a7661a1d",
   "metadata": {},
   "source": [
    "# Let's Explore:\n",
    "\n",
    "<img src='data:image/jpeg;base64,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'>\n",
    "\n",
    "**Hoffmann’s two-toed sloth :**\n",
    "\n",
    "Hoffmann’s two-toed sloth, also known as the northern two-toed sloth, is a species of sloth found in the rainforests and deciduous forests of Central and South America. True to their stereotype, they are one of the world’s slowest mammals. Their arms, legs, hands and feet evolved for hanging out of trees like the pair of Hoffmann's two-toed sloths featured in today's homepage image.\n",
    "\n",
    "This mother and pup (baby sloth) are relaxing together in a coastal town of Costa Rica. They won't be together forever, though, as they prefer a solitary life. While gestation lasts 11.5 months, newborns are precocial and are born with open eyes, sharp claws and fully formed teeth. After around a year they go out on their own, and adult sloths rarely interact with one another."
   ]
  },
  {
   "cell_type": "code",
   "execution_count": 2,
   "id": "f40617bc",
   "metadata": {},
   "outputs": [],
   "source": [
    "# Class Starts from here:"
   ]
  },
  {
   "cell_type": "code",
   "execution_count": 3,
   "id": "d9268eec",
   "metadata": {},
   "outputs": [],
   "source": [
    "# Last Class Revision:"
   ]
  },
  {
   "cell_type": "code",
   "execution_count": 4,
   "id": "38729445",
   "metadata": {},
   "outputs": [],
   "source": [
    "import pandas as pd"
   ]
  },
  {
   "cell_type": "code",
   "execution_count": 5,
   "id": "18e338cb",
   "metadata": {},
   "outputs": [],
   "source": [
    "air_data = pd.read_csv('AirBnb_NYC_2019.csv')"
   ]
  },
  {
   "cell_type": "code",
   "execution_count": 6,
   "id": "4c22adcb",
   "metadata": {},
   "outputs": [
    {
     "data": {
      "text/html": [
       "<div>\n",
       "<style scoped>\n",
       "    .dataframe tbody tr th:only-of-type {\n",
       "        vertical-align: middle;\n",
       "    }\n",
       "\n",
       "    .dataframe tbody tr th {\n",
       "        vertical-align: top;\n",
       "    }\n",
       "\n",
       "    .dataframe thead th {\n",
       "        text-align: right;\n",
       "    }\n",
       "</style>\n",
       "<table border=\"1\" class=\"dataframe\">\n",
       "  <thead>\n",
       "    <tr style=\"text-align: right;\">\n",
       "      <th></th>\n",
       "      <th>id</th>\n",
       "      <th>name</th>\n",
       "      <th>host_id</th>\n",
       "      <th>host_name</th>\n",
       "      <th>neighbourhood_group</th>\n",
       "      <th>neighbourhood</th>\n",
       "      <th>latitude</th>\n",
       "      <th>longitude</th>\n",
       "      <th>room_type</th>\n",
       "      <th>price</th>\n",
       "      <th>minimum_nights</th>\n",
       "      <th>number_of_reviews</th>\n",
       "      <th>last_review</th>\n",
       "      <th>reviews_per_month</th>\n",
       "      <th>calculated_host_listings_count</th>\n",
       "      <th>availability_365</th>\n",
       "    </tr>\n",
       "  </thead>\n",
       "  <tbody>\n",
       "    <tr>\n",
       "      <th>0</th>\n",
       "      <td>2539</td>\n",
       "      <td>Clean &amp; quiet apt home by the park</td>\n",
       "      <td>2787</td>\n",
       "      <td>John</td>\n",
       "      <td>Brooklyn</td>\n",
       "      <td>Kensington</td>\n",
       "      <td>40.64749</td>\n",
       "      <td>-73.97237</td>\n",
       "      <td>Private room</td>\n",
       "      <td>149</td>\n",
       "      <td>1</td>\n",
       "      <td>9</td>\n",
       "      <td>2018-10-19</td>\n",
       "      <td>0.21</td>\n",
       "      <td>6</td>\n",
       "      <td>365</td>\n",
       "    </tr>\n",
       "    <tr>\n",
       "      <th>1</th>\n",
       "      <td>2595</td>\n",
       "      <td>Skylit Midtown Castle</td>\n",
       "      <td>2845</td>\n",
       "      <td>Jennifer</td>\n",
       "      <td>Manhattan</td>\n",
       "      <td>Midtown</td>\n",
       "      <td>40.75362</td>\n",
       "      <td>-73.98377</td>\n",
       "      <td>Entire home/apt</td>\n",
       "      <td>225</td>\n",
       "      <td>1</td>\n",
       "      <td>45</td>\n",
       "      <td>2019-05-21</td>\n",
       "      <td>0.38</td>\n",
       "      <td>2</td>\n",
       "      <td>355</td>\n",
       "    </tr>\n",
       "  </tbody>\n",
       "</table>\n",
       "</div>"
      ],
      "text/plain": [
       "     id                                name  host_id host_name  \\\n",
       "0  2539  Clean & quiet apt home by the park     2787      John   \n",
       "1  2595               Skylit Midtown Castle     2845  Jennifer   \n",
       "\n",
       "  neighbourhood_group neighbourhood  latitude  longitude        room_type  \\\n",
       "0            Brooklyn    Kensington  40.64749  -73.97237     Private room   \n",
       "1           Manhattan       Midtown  40.75362  -73.98377  Entire home/apt   \n",
       "\n",
       "   price  minimum_nights  number_of_reviews last_review  reviews_per_month  \\\n",
       "0    149               1                  9  2018-10-19               0.21   \n",
       "1    225               1                 45  2019-05-21               0.38   \n",
       "\n",
       "   calculated_host_listings_count  availability_365  \n",
       "0                               6               365  \n",
       "1                               2               355  "
      ]
     },
     "execution_count": 6,
     "metadata": {},
     "output_type": "execute_result"
    }
   ],
   "source": [
    "air_data.head(2)"
   ]
  },
  {
   "cell_type": "code",
   "execution_count": 7,
   "id": "764d4daf",
   "metadata": {},
   "outputs": [],
   "source": [
    "df = air_data.copy()"
   ]
  },
  {
   "cell_type": "code",
   "execution_count": 8,
   "id": "a4ade88c",
   "metadata": {},
   "outputs": [
    {
     "data": {
      "text/html": [
       "<div>\n",
       "<style scoped>\n",
       "    .dataframe tbody tr th:only-of-type {\n",
       "        vertical-align: middle;\n",
       "    }\n",
       "\n",
       "    .dataframe tbody tr th {\n",
       "        vertical-align: top;\n",
       "    }\n",
       "\n",
       "    .dataframe thead th {\n",
       "        text-align: right;\n",
       "    }\n",
       "</style>\n",
       "<table border=\"1\" class=\"dataframe\">\n",
       "  <thead>\n",
       "    <tr style=\"text-align: right;\">\n",
       "      <th></th>\n",
       "      <th>id</th>\n",
       "      <th>name</th>\n",
       "      <th>host_id</th>\n",
       "      <th>host_name</th>\n",
       "      <th>neighbourhood_group</th>\n",
       "      <th>neighbourhood</th>\n",
       "      <th>latitude</th>\n",
       "      <th>longitude</th>\n",
       "      <th>room_type</th>\n",
       "      <th>price</th>\n",
       "      <th>minimum_nights</th>\n",
       "      <th>number_of_reviews</th>\n",
       "      <th>last_review</th>\n",
       "      <th>reviews_per_month</th>\n",
       "      <th>calculated_host_listings_count</th>\n",
       "      <th>availability_365</th>\n",
       "    </tr>\n",
       "  </thead>\n",
       "  <tbody>\n",
       "    <tr>\n",
       "      <th>44986</th>\n",
       "      <td>34489385</td>\n",
       "      <td>Steps from Times Square and Central Park</td>\n",
       "      <td>260639745</td>\n",
       "      <td>Manhattan At Times Square</td>\n",
       "      <td>Manhattan</td>\n",
       "      <td>Theater District</td>\n",
       "      <td>40.76156</td>\n",
       "      <td>-73.98471</td>\n",
       "      <td>Private room</td>\n",
       "      <td>100</td>\n",
       "      <td>1</td>\n",
       "      <td>2</td>\n",
       "      <td>2019-07-03</td>\n",
       "      <td>2.00</td>\n",
       "      <td>15</td>\n",
       "      <td>349</td>\n",
       "    </tr>\n",
       "    <tr>\n",
       "      <th>735</th>\n",
       "      <td>267376</td>\n",
       "      <td>BIG ROOM / DOWNTOWN  LOFT /</td>\n",
       "      <td>638721</td>\n",
       "      <td>Fred</td>\n",
       "      <td>Manhattan</td>\n",
       "      <td>Financial District</td>\n",
       "      <td>40.70741</td>\n",
       "      <td>-74.00102</td>\n",
       "      <td>Private room</td>\n",
       "      <td>65</td>\n",
       "      <td>30</td>\n",
       "      <td>10</td>\n",
       "      <td>2019-06-24</td>\n",
       "      <td>1.02</td>\n",
       "      <td>1</td>\n",
       "      <td>0</td>\n",
       "    </tr>\n",
       "    <tr>\n",
       "      <th>6796</th>\n",
       "      <td>4861046</td>\n",
       "      <td>Beautiful light cozy apartment</td>\n",
       "      <td>7355953</td>\n",
       "      <td>Carmen</td>\n",
       "      <td>Queens</td>\n",
       "      <td>Astoria</td>\n",
       "      <td>40.75741</td>\n",
       "      <td>-73.92509</td>\n",
       "      <td>Entire home/apt</td>\n",
       "      <td>125</td>\n",
       "      <td>1</td>\n",
       "      <td>0</td>\n",
       "      <td>NaN</td>\n",
       "      <td>NaN</td>\n",
       "      <td>1</td>\n",
       "      <td>0</td>\n",
       "    </tr>\n",
       "  </tbody>\n",
       "</table>\n",
       "</div>"
      ],
      "text/plain": [
       "             id                                      name    host_id  \\\n",
       "44986  34489385  Steps from Times Square and Central Park  260639745   \n",
       "735      267376               BIG ROOM / DOWNTOWN  LOFT /     638721   \n",
       "6796    4861046            Beautiful light cozy apartment    7355953   \n",
       "\n",
       "                       host_name neighbourhood_group       neighbourhood  \\\n",
       "44986  Manhattan At Times Square           Manhattan    Theater District   \n",
       "735                         Fred           Manhattan  Financial District   \n",
       "6796                      Carmen              Queens             Astoria   \n",
       "\n",
       "       latitude  longitude        room_type  price  minimum_nights  \\\n",
       "44986  40.76156  -73.98471     Private room    100               1   \n",
       "735    40.70741  -74.00102     Private room     65              30   \n",
       "6796   40.75741  -73.92509  Entire home/apt    125               1   \n",
       "\n",
       "       number_of_reviews last_review  reviews_per_month  \\\n",
       "44986                  2  2019-07-03               2.00   \n",
       "735                   10  2019-06-24               1.02   \n",
       "6796                   0         NaN                NaN   \n",
       "\n",
       "       calculated_host_listings_count  availability_365  \n",
       "44986                              15               349  \n",
       "735                                 1                 0  \n",
       "6796                                1                 0  "
      ]
     },
     "execution_count": 8,
     "metadata": {},
     "output_type": "execute_result"
    }
   ],
   "source": [
    "df.sample(3)"
   ]
  },
  {
   "cell_type": "code",
   "execution_count": 9,
   "id": "ba37eaef",
   "metadata": {},
   "outputs": [
    {
     "name": "stdout",
     "output_type": "stream",
     "text": [
      "<class 'pandas.core.frame.DataFrame'>\n",
      "RangeIndex: 48895 entries, 0 to 48894\n",
      "Data columns (total 16 columns):\n",
      " #   Column                          Non-Null Count  Dtype  \n",
      "---  ------                          --------------  -----  \n",
      " 0   id                              48895 non-null  int64  \n",
      " 1   name                            48879 non-null  object \n",
      " 2   host_id                         48895 non-null  int64  \n",
      " 3   host_name                       48874 non-null  object \n",
      " 4   neighbourhood_group             48895 non-null  object \n",
      " 5   neighbourhood                   48895 non-null  object \n",
      " 6   latitude                        48895 non-null  float64\n",
      " 7   longitude                       48895 non-null  float64\n",
      " 8   room_type                       48895 non-null  object \n",
      " 9   price                           48895 non-null  int64  \n",
      " 10  minimum_nights                  48895 non-null  int64  \n",
      " 11  number_of_reviews               48895 non-null  int64  \n",
      " 12  last_review                     38843 non-null  object \n",
      " 13  reviews_per_month               38843 non-null  float64\n",
      " 14  calculated_host_listings_count  48895 non-null  int64  \n",
      " 15  availability_365                48895 non-null  int64  \n",
      "dtypes: float64(3), int64(7), object(6)\n",
      "memory usage: 6.0+ MB\n"
     ]
    }
   ],
   "source": [
    "df.info()"
   ]
  },
  {
   "cell_type": "code",
   "execution_count": 10,
   "id": "221fd66e",
   "metadata": {},
   "outputs": [
    {
     "data": {
      "text/plain": [
       "id                                    0\n",
       "name                                 16\n",
       "host_id                               0\n",
       "host_name                            21\n",
       "neighbourhood_group                   0\n",
       "neighbourhood                         0\n",
       "latitude                              0\n",
       "longitude                             0\n",
       "room_type                             0\n",
       "price                                 0\n",
       "minimum_nights                        0\n",
       "number_of_reviews                     0\n",
       "last_review                       10052\n",
       "reviews_per_month                 10052\n",
       "calculated_host_listings_count        0\n",
       "availability_365                      0\n",
       "dtype: int64"
      ]
     },
     "execution_count": 10,
     "metadata": {},
     "output_type": "execute_result"
    }
   ],
   "source": [
    "df.isnull().sum()"
   ]
  },
  {
   "cell_type": "code",
   "execution_count": 11,
   "id": "338e79cf",
   "metadata": {},
   "outputs": [
    {
     "data": {
      "text/plain": [
       "Entire home/apt    25409\n",
       "Private room       22326\n",
       "Shared room         1160\n",
       "Name: room_type, dtype: int64"
      ]
     },
     "execution_count": 11,
     "metadata": {},
     "output_type": "execute_result"
    }
   ],
   "source": [
    "df['room_type'].value_counts()"
   ]
  },
  {
   "cell_type": "code",
   "execution_count": 12,
   "id": "dec5e20b",
   "metadata": {},
   "outputs": [],
   "source": [
    "df_groupby = df.groupby('room_type')"
   ]
  },
  {
   "cell_type": "code",
   "execution_count": 13,
   "id": "f07b074c",
   "metadata": {},
   "outputs": [
    {
     "data": {
      "text/html": [
       "<div>\n",
       "<style scoped>\n",
       "    .dataframe tbody tr th:only-of-type {\n",
       "        vertical-align: middle;\n",
       "    }\n",
       "\n",
       "    .dataframe tbody tr th {\n",
       "        vertical-align: top;\n",
       "    }\n",
       "\n",
       "    .dataframe thead th {\n",
       "        text-align: right;\n",
       "    }\n",
       "</style>\n",
       "<table border=\"1\" class=\"dataframe\">\n",
       "  <thead>\n",
       "    <tr style=\"text-align: right;\">\n",
       "      <th></th>\n",
       "      <th>id</th>\n",
       "      <th>name</th>\n",
       "      <th>host_id</th>\n",
       "      <th>host_name</th>\n",
       "      <th>neighbourhood_group</th>\n",
       "      <th>neighbourhood</th>\n",
       "      <th>latitude</th>\n",
       "      <th>longitude</th>\n",
       "      <th>room_type</th>\n",
       "      <th>price</th>\n",
       "      <th>minimum_nights</th>\n",
       "      <th>number_of_reviews</th>\n",
       "      <th>last_review</th>\n",
       "      <th>reviews_per_month</th>\n",
       "      <th>calculated_host_listings_count</th>\n",
       "      <th>availability_365</th>\n",
       "    </tr>\n",
       "  </thead>\n",
       "  <tbody>\n",
       "    <tr>\n",
       "      <th>6164</th>\n",
       "      <td>4509500</td>\n",
       "      <td>Prime Chelsea~XL1Br~Terrace~Sleeps4</td>\n",
       "      <td>2119276</td>\n",
       "      <td>Host</td>\n",
       "      <td>Manhattan</td>\n",
       "      <td>Chelsea</td>\n",
       "      <td>40.73984</td>\n",
       "      <td>-74.00060</td>\n",
       "      <td>Entire home/apt</td>\n",
       "      <td>150</td>\n",
       "      <td>30</td>\n",
       "      <td>7</td>\n",
       "      <td>2019-06-14</td>\n",
       "      <td>0.15</td>\n",
       "      <td>39</td>\n",
       "      <td>339</td>\n",
       "    </tr>\n",
       "    <tr>\n",
       "      <th>1207</th>\n",
       "      <td>514548</td>\n",
       "      <td>Loft Apt and Art Studio: 4-month rental</td>\n",
       "      <td>2533991</td>\n",
       "      <td>Amanda</td>\n",
       "      <td>Brooklyn</td>\n",
       "      <td>Bushwick</td>\n",
       "      <td>40.69849</td>\n",
       "      <td>-73.92678</td>\n",
       "      <td>Entire home/apt</td>\n",
       "      <td>180</td>\n",
       "      <td>30</td>\n",
       "      <td>0</td>\n",
       "      <td>NaN</td>\n",
       "      <td>NaN</td>\n",
       "      <td>1</td>\n",
       "      <td>352</td>\n",
       "    </tr>\n",
       "    <tr>\n",
       "      <th>33961</th>\n",
       "      <td>26894122</td>\n",
       "      <td>Spacious duplex apt in Brooklyn</td>\n",
       "      <td>202307843</td>\n",
       "      <td>Julie</td>\n",
       "      <td>Brooklyn</td>\n",
       "      <td>Bedford-Stuyvesant</td>\n",
       "      <td>40.68489</td>\n",
       "      <td>-73.95096</td>\n",
       "      <td>Entire home/apt</td>\n",
       "      <td>108</td>\n",
       "      <td>2</td>\n",
       "      <td>19</td>\n",
       "      <td>2019-06-25</td>\n",
       "      <td>1.67</td>\n",
       "      <td>1</td>\n",
       "      <td>0</td>\n",
       "    </tr>\n",
       "    <tr>\n",
       "      <th>29588</th>\n",
       "      <td>22713055</td>\n",
       "      <td>Cozy Private room in Hamilton Heights</td>\n",
       "      <td>54740781</td>\n",
       "      <td>Melissa</td>\n",
       "      <td>Manhattan</td>\n",
       "      <td>Harlem</td>\n",
       "      <td>40.82949</td>\n",
       "      <td>-73.94644</td>\n",
       "      <td>Private room</td>\n",
       "      <td>35</td>\n",
       "      <td>3</td>\n",
       "      <td>2</td>\n",
       "      <td>2018-08-13</td>\n",
       "      <td>0.17</td>\n",
       "      <td>1</td>\n",
       "      <td>0</td>\n",
       "    </tr>\n",
       "    <tr>\n",
       "      <th>10204</th>\n",
       "      <td>7819704</td>\n",
       "      <td>Quaint Sunny apartment in Bed-stuy</td>\n",
       "      <td>40070423</td>\n",
       "      <td>Stephanie</td>\n",
       "      <td>Brooklyn</td>\n",
       "      <td>Bedford-Stuyvesant</td>\n",
       "      <td>40.68741</td>\n",
       "      <td>-73.92622</td>\n",
       "      <td>Private room</td>\n",
       "      <td>70</td>\n",
       "      <td>3</td>\n",
       "      <td>5</td>\n",
       "      <td>2016-05-16</td>\n",
       "      <td>0.11</td>\n",
       "      <td>1</td>\n",
       "      <td>0</td>\n",
       "    </tr>\n",
       "    <tr>\n",
       "      <th>10146</th>\n",
       "      <td>7782176</td>\n",
       "      <td>Newly Renovated Private Room</td>\n",
       "      <td>8792814</td>\n",
       "      <td>Caroline</td>\n",
       "      <td>Brooklyn</td>\n",
       "      <td>Bedford-Stuyvesant</td>\n",
       "      <td>40.69454</td>\n",
       "      <td>-73.94495</td>\n",
       "      <td>Private room</td>\n",
       "      <td>65</td>\n",
       "      <td>1</td>\n",
       "      <td>11</td>\n",
       "      <td>2018-04-22</td>\n",
       "      <td>0.24</td>\n",
       "      <td>10</td>\n",
       "      <td>260</td>\n",
       "    </tr>\n",
       "    <tr>\n",
       "      <th>36941</th>\n",
       "      <td>29365401</td>\n",
       "      <td>4min subway. Prime locations.  single sofa bed...</td>\n",
       "      <td>196058543</td>\n",
       "      <td>美德</td>\n",
       "      <td>Queens</td>\n",
       "      <td>Forest Hills</td>\n",
       "      <td>40.72192</td>\n",
       "      <td>-73.83931</td>\n",
       "      <td>Shared room</td>\n",
       "      <td>40</td>\n",
       "      <td>2</td>\n",
       "      <td>20</td>\n",
       "      <td>2019-05-29</td>\n",
       "      <td>2.40</td>\n",
       "      <td>5</td>\n",
       "      <td>230</td>\n",
       "    </tr>\n",
       "    <tr>\n",
       "      <th>33210</th>\n",
       "      <td>26211176</td>\n",
       "      <td>Shared room in East Williamsburg near the park</td>\n",
       "      <td>178543960</td>\n",
       "      <td>Sergii</td>\n",
       "      <td>Brooklyn</td>\n",
       "      <td>Greenpoint</td>\n",
       "      <td>40.72157</td>\n",
       "      <td>-73.94002</td>\n",
       "      <td>Shared room</td>\n",
       "      <td>35</td>\n",
       "      <td>30</td>\n",
       "      <td>1</td>\n",
       "      <td>2018-08-10</td>\n",
       "      <td>0.09</td>\n",
       "      <td>10</td>\n",
       "      <td>364</td>\n",
       "    </tr>\n",
       "    <tr>\n",
       "      <th>47414</th>\n",
       "      <td>35717846</td>\n",
       "      <td>Share;Almost Heart of Manhattan;Safe and Silen...</td>\n",
       "      <td>175730239</td>\n",
       "      <td>Baboucarr</td>\n",
       "      <td>Queens</td>\n",
       "      <td>Sunnyside</td>\n",
       "      <td>40.73997</td>\n",
       "      <td>-73.92655</td>\n",
       "      <td>Shared room</td>\n",
       "      <td>30</td>\n",
       "      <td>3</td>\n",
       "      <td>1</td>\n",
       "      <td>2019-06-20</td>\n",
       "      <td>1.00</td>\n",
       "      <td>12</td>\n",
       "      <td>345</td>\n",
       "    </tr>\n",
       "  </tbody>\n",
       "</table>\n",
       "</div>"
      ],
      "text/plain": [
       "             id                                               name    host_id  \\\n",
       "6164    4509500                Prime Chelsea~XL1Br~Terrace~Sleeps4    2119276   \n",
       "1207     514548            Loft Apt and Art Studio: 4-month rental    2533991   \n",
       "33961  26894122                    Spacious duplex apt in Brooklyn  202307843   \n",
       "29588  22713055              Cozy Private room in Hamilton Heights   54740781   \n",
       "10204   7819704                 Quaint Sunny apartment in Bed-stuy   40070423   \n",
       "10146   7782176                       Newly Renovated Private Room    8792814   \n",
       "36941  29365401  4min subway. Prime locations.  single sofa bed...  196058543   \n",
       "33210  26211176     Shared room in East Williamsburg near the park  178543960   \n",
       "47414  35717846  Share;Almost Heart of Manhattan;Safe and Silen...  175730239   \n",
       "\n",
       "       host_name neighbourhood_group       neighbourhood  latitude  longitude  \\\n",
       "6164        Host           Manhattan             Chelsea  40.73984  -74.00060   \n",
       "1207      Amanda            Brooklyn            Bushwick  40.69849  -73.92678   \n",
       "33961      Julie            Brooklyn  Bedford-Stuyvesant  40.68489  -73.95096   \n",
       "29588    Melissa           Manhattan              Harlem  40.82949  -73.94644   \n",
       "10204  Stephanie            Brooklyn  Bedford-Stuyvesant  40.68741  -73.92622   \n",
       "10146   Caroline            Brooklyn  Bedford-Stuyvesant  40.69454  -73.94495   \n",
       "36941         美德              Queens        Forest Hills  40.72192  -73.83931   \n",
       "33210     Sergii            Brooklyn          Greenpoint  40.72157  -73.94002   \n",
       "47414  Baboucarr              Queens           Sunnyside  40.73997  -73.92655   \n",
       "\n",
       "             room_type  price  minimum_nights  number_of_reviews last_review  \\\n",
       "6164   Entire home/apt    150              30                  7  2019-06-14   \n",
       "1207   Entire home/apt    180              30                  0         NaN   \n",
       "33961  Entire home/apt    108               2                 19  2019-06-25   \n",
       "29588     Private room     35               3                  2  2018-08-13   \n",
       "10204     Private room     70               3                  5  2016-05-16   \n",
       "10146     Private room     65               1                 11  2018-04-22   \n",
       "36941      Shared room     40               2                 20  2019-05-29   \n",
       "33210      Shared room     35              30                  1  2018-08-10   \n",
       "47414      Shared room     30               3                  1  2019-06-20   \n",
       "\n",
       "       reviews_per_month  calculated_host_listings_count  availability_365  \n",
       "6164                0.15                              39               339  \n",
       "1207                 NaN                               1               352  \n",
       "33961               1.67                               1                 0  \n",
       "29588               0.17                               1                 0  \n",
       "10204               0.11                               1                 0  \n",
       "10146               0.24                              10               260  \n",
       "36941               2.40                               5               230  \n",
       "33210               0.09                              10               364  \n",
       "47414               1.00                              12               345  "
      ]
     },
     "execution_count": 13,
     "metadata": {},
     "output_type": "execute_result"
    }
   ],
   "source": [
    "df_groupby.sample(3)"
   ]
  },
  {
   "cell_type": "markdown",
   "id": "a7b57741",
   "metadata": {},
   "source": [
    "## Aggregate: \n",
    "    \n",
    "   * Grouping (clustering) the data to apply statistics in it!"
   ]
  },
  {
   "cell_type": "code",
   "execution_count": 14,
   "id": "5fb1449e",
   "metadata": {},
   "outputs": [
    {
     "data": {
      "text/html": [
       "<div>\n",
       "<style scoped>\n",
       "    .dataframe tbody tr th:only-of-type {\n",
       "        vertical-align: middle;\n",
       "    }\n",
       "\n",
       "    .dataframe tbody tr th {\n",
       "        vertical-align: top;\n",
       "    }\n",
       "\n",
       "    .dataframe thead th {\n",
       "        text-align: right;\n",
       "    }\n",
       "</style>\n",
       "<table border=\"1\" class=\"dataframe\">\n",
       "  <thead>\n",
       "    <tr style=\"text-align: right;\">\n",
       "      <th></th>\n",
       "      <th>id</th>\n",
       "      <th>host_id</th>\n",
       "      <th>latitude</th>\n",
       "      <th>longitude</th>\n",
       "      <th>price</th>\n",
       "      <th>minimum_nights</th>\n",
       "      <th>number_of_reviews</th>\n",
       "      <th>reviews_per_month</th>\n",
       "      <th>calculated_host_listings_count</th>\n",
       "      <th>availability_365</th>\n",
       "    </tr>\n",
       "    <tr>\n",
       "      <th>room_type</th>\n",
       "      <th></th>\n",
       "      <th></th>\n",
       "      <th></th>\n",
       "      <th></th>\n",
       "      <th></th>\n",
       "      <th></th>\n",
       "      <th></th>\n",
       "      <th></th>\n",
       "      <th></th>\n",
       "      <th></th>\n",
       "    </tr>\n",
       "  </thead>\n",
       "  <tbody>\n",
       "    <tr>\n",
       "      <th>Entire home/apt</th>\n",
       "      <td>1.843818e+07</td>\n",
       "      <td>6.175593e+07</td>\n",
       "      <td>40.728649</td>\n",
       "      <td>-73.960696</td>\n",
       "      <td>211.794246</td>\n",
       "      <td>8.506907</td>\n",
       "      <td>22.842418</td>\n",
       "      <td>1.306578</td>\n",
       "      <td>10.698335</td>\n",
       "      <td>111.920304</td>\n",
       "    </tr>\n",
       "    <tr>\n",
       "      <th>Private room</th>\n",
       "      <td>1.946893e+07</td>\n",
       "      <td>7.247514e+07</td>\n",
       "      <td>40.729208</td>\n",
       "      <td>-73.942924</td>\n",
       "      <td>89.780973</td>\n",
       "      <td>5.377900</td>\n",
       "      <td>24.112962</td>\n",
       "      <td>1.445209</td>\n",
       "      <td>3.227717</td>\n",
       "      <td>111.203933</td>\n",
       "    </tr>\n",
       "    <tr>\n",
       "      <th>Shared room</th>\n",
       "      <td>2.300378e+07</td>\n",
       "      <td>1.026241e+08</td>\n",
       "      <td>40.730514</td>\n",
       "      <td>-73.943343</td>\n",
       "      <td>70.127586</td>\n",
       "      <td>6.475000</td>\n",
       "      <td>16.600000</td>\n",
       "      <td>1.471726</td>\n",
       "      <td>4.662931</td>\n",
       "      <td>162.000862</td>\n",
       "    </tr>\n",
       "  </tbody>\n",
       "</table>\n",
       "</div>"
      ],
      "text/plain": [
       "                           id       host_id   latitude  longitude       price  \\\n",
       "room_type                                                                       \n",
       "Entire home/apt  1.843818e+07  6.175593e+07  40.728649 -73.960696  211.794246   \n",
       "Private room     1.946893e+07  7.247514e+07  40.729208 -73.942924   89.780973   \n",
       "Shared room      2.300378e+07  1.026241e+08  40.730514 -73.943343   70.127586   \n",
       "\n",
       "                 minimum_nights  number_of_reviews  reviews_per_month  \\\n",
       "room_type                                                               \n",
       "Entire home/apt        8.506907          22.842418           1.306578   \n",
       "Private room           5.377900          24.112962           1.445209   \n",
       "Shared room            6.475000          16.600000           1.471726   \n",
       "\n",
       "                 calculated_host_listings_count  availability_365  \n",
       "room_type                                                          \n",
       "Entire home/apt                       10.698335        111.920304  \n",
       "Private room                           3.227717        111.203933  \n",
       "Shared room                            4.662931        162.000862  "
      ]
     },
     "execution_count": 14,
     "metadata": {},
     "output_type": "execute_result"
    }
   ],
   "source": [
    "df_groupby.mean()"
   ]
  },
  {
   "cell_type": "code",
   "execution_count": 15,
   "id": "305d21de",
   "metadata": {},
   "outputs": [],
   "source": [
    "df_mean = df.groupby('room_type')[['price','availability_365']].mean()"
   ]
  },
  {
   "cell_type": "code",
   "execution_count": 16,
   "id": "a7181984",
   "metadata": {},
   "outputs": [
    {
     "data": {
      "text/html": [
       "<div>\n",
       "<style scoped>\n",
       "    .dataframe tbody tr th:only-of-type {\n",
       "        vertical-align: middle;\n",
       "    }\n",
       "\n",
       "    .dataframe tbody tr th {\n",
       "        vertical-align: top;\n",
       "    }\n",
       "\n",
       "    .dataframe thead th {\n",
       "        text-align: right;\n",
       "    }\n",
       "</style>\n",
       "<table border=\"1\" class=\"dataframe\">\n",
       "  <thead>\n",
       "    <tr style=\"text-align: right;\">\n",
       "      <th></th>\n",
       "      <th>price</th>\n",
       "      <th>availability_365</th>\n",
       "    </tr>\n",
       "    <tr>\n",
       "      <th>room_type</th>\n",
       "      <th></th>\n",
       "      <th></th>\n",
       "    </tr>\n",
       "  </thead>\n",
       "  <tbody>\n",
       "    <tr>\n",
       "      <th>Entire home/apt</th>\n",
       "      <td>211.794246</td>\n",
       "      <td>111.920304</td>\n",
       "    </tr>\n",
       "    <tr>\n",
       "      <th>Private room</th>\n",
       "      <td>89.780973</td>\n",
       "      <td>111.203933</td>\n",
       "    </tr>\n",
       "    <tr>\n",
       "      <th>Shared room</th>\n",
       "      <td>70.127586</td>\n",
       "      <td>162.000862</td>\n",
       "    </tr>\n",
       "  </tbody>\n",
       "</table>\n",
       "</div>"
      ],
      "text/plain": [
       "                      price  availability_365\n",
       "room_type                                    \n",
       "Entire home/apt  211.794246        111.920304\n",
       "Private room      89.780973        111.203933\n",
       "Shared room       70.127586        162.000862"
      ]
     },
     "execution_count": 16,
     "metadata": {},
     "output_type": "execute_result"
    }
   ],
   "source": [
    "df_mean.head()"
   ]
  },
  {
   "cell_type": "code",
   "execution_count": 17,
   "id": "76f3d0c0",
   "metadata": {},
   "outputs": [],
   "source": [
    "#Class Starts from here:"
   ]
  },
  {
   "cell_type": "code",
   "execution_count": 18,
   "id": "ac0ec4a0",
   "metadata": {},
   "outputs": [
    {
     "data": {
      "text/html": [
       "<div>\n",
       "<style scoped>\n",
       "    .dataframe tbody tr th:only-of-type {\n",
       "        vertical-align: middle;\n",
       "    }\n",
       "\n",
       "    .dataframe tbody tr th {\n",
       "        vertical-align: top;\n",
       "    }\n",
       "\n",
       "    .dataframe thead th {\n",
       "        text-align: right;\n",
       "    }\n",
       "</style>\n",
       "<table border=\"1\" class=\"dataframe\">\n",
       "  <thead>\n",
       "    <tr style=\"text-align: right;\">\n",
       "      <th></th>\n",
       "      <th>name</th>\n",
       "      <th>host_id</th>\n",
       "      <th>host_name</th>\n",
       "      <th>neighbourhood_group</th>\n",
       "      <th>neighbourhood</th>\n",
       "      <th>latitude</th>\n",
       "      <th>longitude</th>\n",
       "      <th>room_type</th>\n",
       "      <th>price</th>\n",
       "      <th>minimum_nights</th>\n",
       "      <th>number_of_reviews</th>\n",
       "      <th>last_review</th>\n",
       "      <th>reviews_per_month</th>\n",
       "      <th>calculated_host_listings_count</th>\n",
       "      <th>availability_365</th>\n",
       "    </tr>\n",
       "    <tr>\n",
       "      <th>id</th>\n",
       "      <th></th>\n",
       "      <th></th>\n",
       "      <th></th>\n",
       "      <th></th>\n",
       "      <th></th>\n",
       "      <th></th>\n",
       "      <th></th>\n",
       "      <th></th>\n",
       "      <th></th>\n",
       "      <th></th>\n",
       "      <th></th>\n",
       "      <th></th>\n",
       "      <th></th>\n",
       "      <th></th>\n",
       "      <th></th>\n",
       "    </tr>\n",
       "  </thead>\n",
       "  <tbody>\n",
       "    <tr>\n",
       "      <th>2539</th>\n",
       "      <td>Clean &amp; quiet apt home by the park</td>\n",
       "      <td>2787</td>\n",
       "      <td>John</td>\n",
       "      <td>Brooklyn</td>\n",
       "      <td>Kensington</td>\n",
       "      <td>40.64749</td>\n",
       "      <td>-73.97237</td>\n",
       "      <td>Private room</td>\n",
       "      <td>149</td>\n",
       "      <td>1</td>\n",
       "      <td>9</td>\n",
       "      <td>2018-10-19</td>\n",
       "      <td>0.21</td>\n",
       "      <td>6</td>\n",
       "      <td>365</td>\n",
       "    </tr>\n",
       "    <tr>\n",
       "      <th>2595</th>\n",
       "      <td>Skylit Midtown Castle</td>\n",
       "      <td>2845</td>\n",
       "      <td>Jennifer</td>\n",
       "      <td>Manhattan</td>\n",
       "      <td>Midtown</td>\n",
       "      <td>40.75362</td>\n",
       "      <td>-73.98377</td>\n",
       "      <td>Entire home/apt</td>\n",
       "      <td>225</td>\n",
       "      <td>1</td>\n",
       "      <td>45</td>\n",
       "      <td>2019-05-21</td>\n",
       "      <td>0.38</td>\n",
       "      <td>2</td>\n",
       "      <td>355</td>\n",
       "    </tr>\n",
       "    <tr>\n",
       "      <th>3647</th>\n",
       "      <td>THE VILLAGE OF HARLEM....NEW YORK !</td>\n",
       "      <td>4632</td>\n",
       "      <td>Elisabeth</td>\n",
       "      <td>Manhattan</td>\n",
       "      <td>Harlem</td>\n",
       "      <td>40.80902</td>\n",
       "      <td>-73.94190</td>\n",
       "      <td>Private room</td>\n",
       "      <td>150</td>\n",
       "      <td>3</td>\n",
       "      <td>0</td>\n",
       "      <td>NaN</td>\n",
       "      <td>NaN</td>\n",
       "      <td>1</td>\n",
       "      <td>365</td>\n",
       "    </tr>\n",
       "    <tr>\n",
       "      <th>3831</th>\n",
       "      <td>Cozy Entire Floor of Brownstone</td>\n",
       "      <td>4869</td>\n",
       "      <td>LisaRoxanne</td>\n",
       "      <td>Brooklyn</td>\n",
       "      <td>Clinton Hill</td>\n",
       "      <td>40.68514</td>\n",
       "      <td>-73.95976</td>\n",
       "      <td>Entire home/apt</td>\n",
       "      <td>89</td>\n",
       "      <td>1</td>\n",
       "      <td>270</td>\n",
       "      <td>2019-07-05</td>\n",
       "      <td>4.64</td>\n",
       "      <td>1</td>\n",
       "      <td>194</td>\n",
       "    </tr>\n",
       "    <tr>\n",
       "      <th>5022</th>\n",
       "      <td>Entire Apt: Spacious Studio/Loft by central park</td>\n",
       "      <td>7192</td>\n",
       "      <td>Laura</td>\n",
       "      <td>Manhattan</td>\n",
       "      <td>East Harlem</td>\n",
       "      <td>40.79851</td>\n",
       "      <td>-73.94399</td>\n",
       "      <td>Entire home/apt</td>\n",
       "      <td>80</td>\n",
       "      <td>10</td>\n",
       "      <td>9</td>\n",
       "      <td>2018-11-19</td>\n",
       "      <td>0.10</td>\n",
       "      <td>1</td>\n",
       "      <td>0</td>\n",
       "    </tr>\n",
       "    <tr>\n",
       "      <th>...</th>\n",
       "      <td>...</td>\n",
       "      <td>...</td>\n",
       "      <td>...</td>\n",
       "      <td>...</td>\n",
       "      <td>...</td>\n",
       "      <td>...</td>\n",
       "      <td>...</td>\n",
       "      <td>...</td>\n",
       "      <td>...</td>\n",
       "      <td>...</td>\n",
       "      <td>...</td>\n",
       "      <td>...</td>\n",
       "      <td>...</td>\n",
       "      <td>...</td>\n",
       "      <td>...</td>\n",
       "    </tr>\n",
       "    <tr>\n",
       "      <th>36484665</th>\n",
       "      <td>Charming one bedroom - newly renovated rowhouse</td>\n",
       "      <td>8232441</td>\n",
       "      <td>Sabrina</td>\n",
       "      <td>Brooklyn</td>\n",
       "      <td>Bedford-Stuyvesant</td>\n",
       "      <td>40.67853</td>\n",
       "      <td>-73.94995</td>\n",
       "      <td>Private room</td>\n",
       "      <td>70</td>\n",
       "      <td>2</td>\n",
       "      <td>0</td>\n",
       "      <td>NaN</td>\n",
       "      <td>NaN</td>\n",
       "      <td>2</td>\n",
       "      <td>9</td>\n",
       "    </tr>\n",
       "    <tr>\n",
       "      <th>36485057</th>\n",
       "      <td>Affordable room in Bushwick/East Williamsburg</td>\n",
       "      <td>6570630</td>\n",
       "      <td>Marisol</td>\n",
       "      <td>Brooklyn</td>\n",
       "      <td>Bushwick</td>\n",
       "      <td>40.70184</td>\n",
       "      <td>-73.93317</td>\n",
       "      <td>Private room</td>\n",
       "      <td>40</td>\n",
       "      <td>4</td>\n",
       "      <td>0</td>\n",
       "      <td>NaN</td>\n",
       "      <td>NaN</td>\n",
       "      <td>2</td>\n",
       "      <td>36</td>\n",
       "    </tr>\n",
       "    <tr>\n",
       "      <th>36485431</th>\n",
       "      <td>Sunny Studio at Historical Neighborhood</td>\n",
       "      <td>23492952</td>\n",
       "      <td>Ilgar &amp; Aysel</td>\n",
       "      <td>Manhattan</td>\n",
       "      <td>Harlem</td>\n",
       "      <td>40.81475</td>\n",
       "      <td>-73.94867</td>\n",
       "      <td>Entire home/apt</td>\n",
       "      <td>115</td>\n",
       "      <td>10</td>\n",
       "      <td>0</td>\n",
       "      <td>NaN</td>\n",
       "      <td>NaN</td>\n",
       "      <td>1</td>\n",
       "      <td>27</td>\n",
       "    </tr>\n",
       "    <tr>\n",
       "      <th>36485609</th>\n",
       "      <td>43rd St. Time Square-cozy single bed</td>\n",
       "      <td>30985759</td>\n",
       "      <td>Taz</td>\n",
       "      <td>Manhattan</td>\n",
       "      <td>Hell's Kitchen</td>\n",
       "      <td>40.75751</td>\n",
       "      <td>-73.99112</td>\n",
       "      <td>Shared room</td>\n",
       "      <td>55</td>\n",
       "      <td>1</td>\n",
       "      <td>0</td>\n",
       "      <td>NaN</td>\n",
       "      <td>NaN</td>\n",
       "      <td>6</td>\n",
       "      <td>2</td>\n",
       "    </tr>\n",
       "    <tr>\n",
       "      <th>36487245</th>\n",
       "      <td>Trendy duplex in the very heart of Hell's Kitchen</td>\n",
       "      <td>68119814</td>\n",
       "      <td>Christophe</td>\n",
       "      <td>Manhattan</td>\n",
       "      <td>Hell's Kitchen</td>\n",
       "      <td>40.76404</td>\n",
       "      <td>-73.98933</td>\n",
       "      <td>Private room</td>\n",
       "      <td>90</td>\n",
       "      <td>7</td>\n",
       "      <td>0</td>\n",
       "      <td>NaN</td>\n",
       "      <td>NaN</td>\n",
       "      <td>1</td>\n",
       "      <td>23</td>\n",
       "    </tr>\n",
       "  </tbody>\n",
       "</table>\n",
       "<p>48895 rows × 15 columns</p>\n",
       "</div>"
      ],
      "text/plain": [
       "                                                       name   host_id  \\\n",
       "id                                                                      \n",
       "2539                     Clean & quiet apt home by the park      2787   \n",
       "2595                                  Skylit Midtown Castle      2845   \n",
       "3647                    THE VILLAGE OF HARLEM....NEW YORK !      4632   \n",
       "3831                        Cozy Entire Floor of Brownstone      4869   \n",
       "5022       Entire Apt: Spacious Studio/Loft by central park      7192   \n",
       "...                                                     ...       ...   \n",
       "36484665    Charming one bedroom - newly renovated rowhouse   8232441   \n",
       "36485057      Affordable room in Bushwick/East Williamsburg   6570630   \n",
       "36485431            Sunny Studio at Historical Neighborhood  23492952   \n",
       "36485609               43rd St. Time Square-cozy single bed  30985759   \n",
       "36487245  Trendy duplex in the very heart of Hell's Kitchen  68119814   \n",
       "\n",
       "              host_name neighbourhood_group       neighbourhood  latitude  \\\n",
       "id                                                                          \n",
       "2539               John            Brooklyn          Kensington  40.64749   \n",
       "2595           Jennifer           Manhattan             Midtown  40.75362   \n",
       "3647          Elisabeth           Manhattan              Harlem  40.80902   \n",
       "3831        LisaRoxanne            Brooklyn        Clinton Hill  40.68514   \n",
       "5022              Laura           Manhattan         East Harlem  40.79851   \n",
       "...                 ...                 ...                 ...       ...   \n",
       "36484665        Sabrina            Brooklyn  Bedford-Stuyvesant  40.67853   \n",
       "36485057        Marisol            Brooklyn            Bushwick  40.70184   \n",
       "36485431  Ilgar & Aysel           Manhattan              Harlem  40.81475   \n",
       "36485609            Taz           Manhattan      Hell's Kitchen  40.75751   \n",
       "36487245     Christophe           Manhattan      Hell's Kitchen  40.76404   \n",
       "\n",
       "          longitude        room_type  price  minimum_nights  \\\n",
       "id                                                            \n",
       "2539      -73.97237     Private room    149               1   \n",
       "2595      -73.98377  Entire home/apt    225               1   \n",
       "3647      -73.94190     Private room    150               3   \n",
       "3831      -73.95976  Entire home/apt     89               1   \n",
       "5022      -73.94399  Entire home/apt     80              10   \n",
       "...             ...              ...    ...             ...   \n",
       "36484665  -73.94995     Private room     70               2   \n",
       "36485057  -73.93317     Private room     40               4   \n",
       "36485431  -73.94867  Entire home/apt    115              10   \n",
       "36485609  -73.99112      Shared room     55               1   \n",
       "36487245  -73.98933     Private room     90               7   \n",
       "\n",
       "          number_of_reviews last_review  reviews_per_month  \\\n",
       "id                                                           \n",
       "2539                      9  2018-10-19               0.21   \n",
       "2595                     45  2019-05-21               0.38   \n",
       "3647                      0         NaN                NaN   \n",
       "3831                    270  2019-07-05               4.64   \n",
       "5022                      9  2018-11-19               0.10   \n",
       "...                     ...         ...                ...   \n",
       "36484665                  0         NaN                NaN   \n",
       "36485057                  0         NaN                NaN   \n",
       "36485431                  0         NaN                NaN   \n",
       "36485609                  0         NaN                NaN   \n",
       "36487245                  0         NaN                NaN   \n",
       "\n",
       "          calculated_host_listings_count  availability_365  \n",
       "id                                                          \n",
       "2539                                   6               365  \n",
       "2595                                   2               355  \n",
       "3647                                   1               365  \n",
       "3831                                   1               194  \n",
       "5022                                   1                 0  \n",
       "...                                  ...               ...  \n",
       "36484665                               2                 9  \n",
       "36485057                               2                36  \n",
       "36485431                               1                27  \n",
       "36485609                               6                 2  \n",
       "36487245                               1                23  \n",
       "\n",
       "[48895 rows x 15 columns]"
      ]
     },
     "execution_count": 18,
     "metadata": {},
     "output_type": "execute_result"
    }
   ],
   "source": [
    "df.sort_index(ascending=True)\n",
    "df.set_index('id')"
   ]
  },
  {
   "cell_type": "code",
   "execution_count": 19,
   "id": "bb1d9137",
   "metadata": {},
   "outputs": [
    {
     "data": {
      "text/plain": [
       "<AxesSubplot:>"
      ]
     },
     "execution_count": 19,
     "metadata": {},
     "output_type": "execute_result"
    },
    {
     "data": {
      "image/png": "[encoded data removed]",
      "text/plain": [
       "<Figure size 432x288 with 1 Axes>"
      ]
     },
     "metadata": {
      "needs_background": "light"
     },
     "output_type": "display_data"
    }
   ],
   "source": [
    "df['price'].plot()"
   ]
  },
  {
   "cell_type": "code",
   "execution_count": 20,
   "id": "6a5c7eeb",
   "metadata": {},
   "outputs": [],
   "source": [
    "room_type_val = df['room_type'].value_counts()"
   ]
  },
  {
   "cell_type": "code",
   "execution_count": 21,
   "id": "71db806a",
   "metadata": {},
   "outputs": [
    {
     "data": {
      "text/plain": [
       "Entire home/apt    25409\n",
       "Private room       22326\n",
       "Shared room         1160\n",
       "Name: room_type, dtype: int64"
      ]
     },
     "execution_count": 21,
     "metadata": {},
     "output_type": "execute_result"
    }
   ],
   "source": [
    "room_type_val"
   ]
  },
  {
   "cell_type": "code",
   "execution_count": 22,
   "id": "805972b0",
   "metadata": {},
   "outputs": [],
   "source": [
    "import matplotlib.pyplot as plt"
   ]
  },
  {
   "cell_type": "code",
   "execution_count": 23,
   "id": "70a4422b",
   "metadata": {},
   "outputs": [
    {
     "data": {
      "text/plain": [
       "<BarContainer object of 3 artists>"
      ]
     },
     "execution_count": 23,
     "metadata": {},
     "output_type": "execute_result"
    },
    {
     "data": {
      "image/png": "[encoded data removed]",
      "text/plain": [
       "<Figure size 432x288 with 1 Axes>"
      ]
     },
     "metadata": {
      "needs_background": "light"
     },
     "output_type": "display_data"
    }
   ],
   "source": [
    "plt.bar(\n",
    "    x = df['room_type'].unique(), \n",
    "        height=room_type_val)"
   ]
  },
  {
   "cell_type": "code",
   "execution_count": 24,
   "id": "9583ba66",
   "metadata": {},
   "outputs": [
    {
     "data": {
      "text/plain": [
       "Index(['id', 'name', 'host_id', 'host_name', 'neighbourhood_group',\n",
       "       'neighbourhood', 'latitude', 'longitude', 'room_type', 'price',\n",
       "       'minimum_nights', 'number_of_reviews', 'last_review',\n",
       "       'reviews_per_month', 'calculated_host_listings_count',\n",
       "       'availability_365'],\n",
       "      dtype='object')"
      ]
     },
     "execution_count": 24,
     "metadata": {},
     "output_type": "execute_result"
    }
   ],
   "source": [
    "df.columns"
   ]
  },
  {
   "cell_type": "code",
   "execution_count": 25,
   "id": "048463c7",
   "metadata": {},
   "outputs": [],
   "source": [
    "neighbourhood_group_val = df.neighbourhood_group.value_counts()\n",
    "\n",
    "neighbourhood_group_groupyby = df.groupby('neighbourhood_group')[['price',\n",
    "       'minimum_nights','availability_365']].mean()"
   ]
  },
  {
   "cell_type": "code",
   "execution_count": 26,
   "id": "57366b0a",
   "metadata": {},
   "outputs": [
    {
     "data": {
      "text/html": [
       "<div>\n",
       "<style scoped>\n",
       "    .dataframe tbody tr th:only-of-type {\n",
       "        vertical-align: middle;\n",
       "    }\n",
       "\n",
       "    .dataframe tbody tr th {\n",
       "        vertical-align: top;\n",
       "    }\n",
       "\n",
       "    .dataframe thead th {\n",
       "        text-align: right;\n",
       "    }\n",
       "</style>\n",
       "<table border=\"1\" class=\"dataframe\">\n",
       "  <thead>\n",
       "    <tr style=\"text-align: right;\">\n",
       "      <th></th>\n",
       "      <th>price</th>\n",
       "      <th>minimum_nights</th>\n",
       "      <th>availability_365</th>\n",
       "    </tr>\n",
       "    <tr>\n",
       "      <th>neighbourhood_group</th>\n",
       "      <th></th>\n",
       "      <th></th>\n",
       "      <th></th>\n",
       "    </tr>\n",
       "  </thead>\n",
       "  <tbody>\n",
       "    <tr>\n",
       "      <th>Bronx</th>\n",
       "      <td>87.496792</td>\n",
       "      <td>4.560953</td>\n",
       "      <td>165.758937</td>\n",
       "    </tr>\n",
       "    <tr>\n",
       "      <th>Brooklyn</th>\n",
       "      <td>124.383207</td>\n",
       "      <td>6.056556</td>\n",
       "      <td>100.232292</td>\n",
       "    </tr>\n",
       "    <tr>\n",
       "      <th>Manhattan</th>\n",
       "      <td>196.875814</td>\n",
       "      <td>8.579151</td>\n",
       "      <td>111.979410</td>\n",
       "    </tr>\n",
       "    <tr>\n",
       "      <th>Queens</th>\n",
       "      <td>99.517649</td>\n",
       "      <td>5.181433</td>\n",
       "      <td>144.451818</td>\n",
       "    </tr>\n",
       "    <tr>\n",
       "      <th>Staten Island</th>\n",
       "      <td>114.812332</td>\n",
       "      <td>4.831099</td>\n",
       "      <td>199.678284</td>\n",
       "    </tr>\n",
       "  </tbody>\n",
       "</table>\n",
       "</div>"
      ],
      "text/plain": [
       "                          price  minimum_nights  availability_365\n",
       "neighbourhood_group                                              \n",
       "Bronx                 87.496792        4.560953        165.758937\n",
       "Brooklyn             124.383207        6.056556        100.232292\n",
       "Manhattan            196.875814        8.579151        111.979410\n",
       "Queens                99.517649        5.181433        144.451818\n",
       "Staten Island        114.812332        4.831099        199.678284"
      ]
     },
     "execution_count": 26,
     "metadata": {},
     "output_type": "execute_result"
    }
   ],
   "source": [
    "neighbourhood_group_groupyby"
   ]
  },
  {
   "cell_type": "code",
   "execution_count": 27,
   "id": "a1405abd",
   "metadata": {},
   "outputs": [
    {
     "data": {
      "text/plain": [
       "<AxesSubplot:xlabel='neighbourhood_group'>"
      ]
     },
     "execution_count": 27,
     "metadata": {},
     "output_type": "execute_result"
    },
    {
     "data": {
      "image/png": "[encoded data removed]",
      "text/plain": [
       "<Figure size 432x288 with 1 Axes>"
      ]
     },
     "metadata": {
      "needs_background": "light"
     },
     "output_type": "display_data"
    }
   ],
   "source": [
    "neighbourhood_group_groupyby.plot()"
   ]
  },
  {
   "cell_type": "code",
   "execution_count": 28,
   "id": "7210ba7f",
   "metadata": {},
   "outputs": [
    {
     "data": {
      "text/plain": [
       "<BarContainer object of 5 artists>"
      ]
     },
     "execution_count": 28,
     "metadata": {},
     "output_type": "execute_result"
    },
    {
     "data": {
      "image/png": "[encoded data removed]",
      "text/plain": [
       "<Figure size 432x288 with 1 Axes>"
      ]
     },
     "metadata": {
      "needs_background": "light"
     },
     "output_type": "display_data"
    }
   ],
   "source": [
    "plt.bar(x = df['neighbourhood_group'].unique(), height=neighbourhood_group_val)"
   ]
  },
  {
   "cell_type": "code",
   "execution_count": 29,
   "id": "85ee3ecb",
   "metadata": {},
   "outputs": [
    {
     "data": {
      "text/plain": [
       "<matplotlib.collections.PathCollection at 0x291133e7df0>"
      ]
     },
     "execution_count": 29,
     "metadata": {},
     "output_type": "execute_result"
    },
    {
     "data": {
      "image/png": "[encoded data removed]",
      "text/plain": [
       "<Figure size 432x288 with 1 Axes>"
      ]
     },
     "metadata": {
      "needs_background": "light"
     },
     "output_type": "display_data"
    }
   ],
   "source": [
    "plt.bar(x = df['neighbourhood_group'].unique(), height=neighbourhood_group_val, color=['brown','orange','yellow','green','pink'])\n",
    "plt.scatter(x = df['neighbourhood_group'].unique(), y=neighbourhood_group_val, alpha=0.5, marker='*', edgecolors='r', linewidths=5, cmap=0.6)"
   ]
  },
  {
   "cell_type": "markdown",
   "id": "cb9cc0eb",
   "metadata": {},
   "source": [
    "<img src='NYC_neighbourhood.jpg' width=50%>"
   ]
  },
  {
   "cell_type": "code",
   "execution_count": 30,
   "id": "d061cb32",
   "metadata": {},
   "outputs": [
    {
     "data": {
      "text/html": [
       "<div>\n",
       "<style scoped>\n",
       "    .dataframe tbody tr th:only-of-type {\n",
       "        vertical-align: middle;\n",
       "    }\n",
       "\n",
       "    .dataframe tbody tr th {\n",
       "        vertical-align: top;\n",
       "    }\n",
       "\n",
       "    .dataframe thead th {\n",
       "        text-align: right;\n",
       "    }\n",
       "</style>\n",
       "<table border=\"1\" class=\"dataframe\">\n",
       "  <thead>\n",
       "    <tr style=\"text-align: right;\">\n",
       "      <th></th>\n",
       "      <th>v1</th>\n",
       "      <th>v2</th>\n",
       "      <th>Unnamed: 2</th>\n",
       "      <th>Unnamed: 3</th>\n",
       "      <th>Unnamed: 4</th>\n",
       "    </tr>\n",
       "  </thead>\n",
       "  <tbody>\n",
       "    <tr>\n",
       "      <th>0</th>\n",
       "      <td>ham</td>\n",
       "      <td>Go until jurong point, crazy.. Available only ...</td>\n",
       "      <td>NaN</td>\n",
       "      <td>NaN</td>\n",
       "      <td>NaN</td>\n",
       "    </tr>\n",
       "    <tr>\n",
       "      <th>1</th>\n",
       "      <td>ham</td>\n",
       "      <td>Ok lar... Joking wif u oni...</td>\n",
       "      <td>NaN</td>\n",
       "      <td>NaN</td>\n",
       "      <td>NaN</td>\n",
       "    </tr>\n",
       "    <tr>\n",
       "      <th>2</th>\n",
       "      <td>spam</td>\n",
       "      <td>Free entry in 2 a wkly comp to win FA Cup fina...</td>\n",
       "      <td>NaN</td>\n",
       "      <td>NaN</td>\n",
       "      <td>NaN</td>\n",
       "    </tr>\n",
       "    <tr>\n",
       "      <th>3</th>\n",
       "      <td>ham</td>\n",
       "      <td>U dun say so early hor... U c already then say...</td>\n",
       "      <td>NaN</td>\n",
       "      <td>NaN</td>\n",
       "      <td>NaN</td>\n",
       "    </tr>\n",
       "    <tr>\n",
       "      <th>4</th>\n",
       "      <td>ham</td>\n",
       "      <td>Nah I don't think he goes to usf, he lives aro...</td>\n",
       "      <td>NaN</td>\n",
       "      <td>NaN</td>\n",
       "      <td>NaN</td>\n",
       "    </tr>\n",
       "  </tbody>\n",
       "</table>\n",
       "</div>"
      ],
      "text/plain": [
       "     v1                                                 v2 Unnamed: 2  \\\n",
       "0   ham  Go until jurong point, crazy.. Available only ...        NaN   \n",
       "1   ham                      Ok lar... Joking wif u oni...        NaN   \n",
       "2  spam  Free entry in 2 a wkly comp to win FA Cup fina...        NaN   \n",
       "3   ham  U dun say so early hor... U c already then say...        NaN   \n",
       "4   ham  Nah I don't think he goes to usf, he lives aro...        NaN   \n",
       "\n",
       "  Unnamed: 3 Unnamed: 4  \n",
       "0        NaN        NaN  \n",
       "1        NaN        NaN  \n",
       "2        NaN        NaN  \n",
       "3        NaN        NaN  \n",
       "4        NaN        NaN  "
      ]
     },
     "execution_count": 30,
     "metadata": {},
     "output_type": "execute_result"
    }
   ],
   "source": [
    "spam_data = pd.read_csv('spam_mail.csv', encoding='ISO-8859-1')\n",
    "spam_data.head()"
   ]
  },
  {
   "cell_type": "code",
   "execution_count": 31,
   "id": "4aa559a9",
   "metadata": {},
   "outputs": [
    {
     "data": {
      "text/html": [
       "<div>\n",
       "<style scoped>\n",
       "    .dataframe tbody tr th:only-of-type {\n",
       "        vertical-align: middle;\n",
       "    }\n",
       "\n",
       "    .dataframe tbody tr th {\n",
       "        vertical-align: top;\n",
       "    }\n",
       "\n",
       "    .dataframe thead th {\n",
       "        text-align: right;\n",
       "    }\n",
       "</style>\n",
       "<table border=\"1\" class=\"dataframe\">\n",
       "  <thead>\n",
       "    <tr style=\"text-align: right;\">\n",
       "      <th></th>\n",
       "      <th>v1</th>\n",
       "      <th>v2</th>\n",
       "      <th>Unnamed: 2</th>\n",
       "      <th>Unnamed: 3</th>\n",
       "      <th>Unnamed: 4</th>\n",
       "    </tr>\n",
       "  </thead>\n",
       "  <tbody>\n",
       "    <tr>\n",
       "      <th>0</th>\n",
       "      <td>ham</td>\n",
       "      <td>Go until jurong point, crazy.. Available only ...</td>\n",
       "      <td>NaN</td>\n",
       "      <td>NaN</td>\n",
       "      <td>NaN</td>\n",
       "    </tr>\n",
       "    <tr>\n",
       "      <th>1</th>\n",
       "      <td>ham</td>\n",
       "      <td>Ok lar... Joking wif u oni...</td>\n",
       "      <td>NaN</td>\n",
       "      <td>NaN</td>\n",
       "      <td>NaN</td>\n",
       "    </tr>\n",
       "    <tr>\n",
       "      <th>2</th>\n",
       "      <td>spam</td>\n",
       "      <td>Free entry in 2 a wkly comp to win FA Cup fina...</td>\n",
       "      <td>NaN</td>\n",
       "      <td>NaN</td>\n",
       "      <td>NaN</td>\n",
       "    </tr>\n",
       "    <tr>\n",
       "      <th>3</th>\n",
       "      <td>ham</td>\n",
       "      <td>U dun say so early hor... U c already then say...</td>\n",
       "      <td>NaN</td>\n",
       "      <td>NaN</td>\n",
       "      <td>NaN</td>\n",
       "    </tr>\n",
       "    <tr>\n",
       "      <th>4</th>\n",
       "      <td>ham</td>\n",
       "      <td>Nah I don't think he goes to usf, he lives aro...</td>\n",
       "      <td>NaN</td>\n",
       "      <td>NaN</td>\n",
       "      <td>NaN</td>\n",
       "    </tr>\n",
       "  </tbody>\n",
       "</table>\n",
       "</div>"
      ],
      "text/plain": [
       "     v1                                                 v2 Unnamed: 2  \\\n",
       "0   ham  Go until jurong point, crazy.. Available only ...        NaN   \n",
       "1   ham                      Ok lar... Joking wif u oni...        NaN   \n",
       "2  spam  Free entry in 2 a wkly comp to win FA Cup fina...        NaN   \n",
       "3   ham  U dun say so early hor... U c already then say...        NaN   \n",
       "4   ham  Nah I don't think he goes to usf, he lives aro...        NaN   \n",
       "\n",
       "  Unnamed: 3 Unnamed: 4  \n",
       "0        NaN        NaN  \n",
       "1        NaN        NaN  \n",
       "2        NaN        NaN  \n",
       "3        NaN        NaN  \n",
       "4        NaN        NaN  "
      ]
     },
     "execution_count": 31,
     "metadata": {},
     "output_type": "execute_result"
    }
   ],
   "source": [
    "utf = 'cp1252'\n",
    "spam_data = pd.read_csv('spam_mail.csv', encoding=utf)\n",
    "spam_data.head()"
   ]
  },
  {
   "cell_type": "code",
   "execution_count": 32,
   "id": "469d4e49",
   "metadata": {},
   "outputs": [
    {
     "data": {
      "text/html": [
       "<div>\n",
       "<style scoped>\n",
       "    .dataframe tbody tr th:only-of-type {\n",
       "        vertical-align: middle;\n",
       "    }\n",
       "\n",
       "    .dataframe tbody tr th {\n",
       "        vertical-align: top;\n",
       "    }\n",
       "\n",
       "    .dataframe thead th {\n",
       "        text-align: right;\n",
       "    }\n",
       "</style>\n",
       "<table border=\"1\" class=\"dataframe\">\n",
       "  <thead>\n",
       "    <tr style=\"text-align: right;\">\n",
       "      <th></th>\n",
       "      <th>v1</th>\n",
       "      <th>v2</th>\n",
       "      <th>Unnamed: 2</th>\n",
       "      <th>Unnamed: 3</th>\n",
       "      <th>Unnamed: 4</th>\n",
       "    </tr>\n",
       "  </thead>\n",
       "  <tbody>\n",
       "    <tr>\n",
       "      <th>1944</th>\n",
       "      <td>ham</td>\n",
       "      <td>Yeah, I'll leave in a couple minutes &amp;amp; let...</td>\n",
       "      <td>NaN</td>\n",
       "      <td>NaN</td>\n",
       "      <td>NaN</td>\n",
       "    </tr>\n",
       "    <tr>\n",
       "      <th>2624</th>\n",
       "      <td>ham</td>\n",
       "      <td>S da..al r above  &amp;lt;#&amp;gt;</td>\n",
       "      <td>NaN</td>\n",
       "      <td>NaN</td>\n",
       "      <td>NaN</td>\n",
       "    </tr>\n",
       "    <tr>\n",
       "      <th>2747</th>\n",
       "      <td>ham</td>\n",
       "      <td>Ya had just now.onion roast.</td>\n",
       "      <td>NaN</td>\n",
       "      <td>NaN</td>\n",
       "      <td>NaN</td>\n",
       "    </tr>\n",
       "  </tbody>\n",
       "</table>\n",
       "</div>"
      ],
      "text/plain": [
       "       v1                                                 v2 Unnamed: 2  \\\n",
       "1944  ham  Yeah, I'll leave in a couple minutes &amp; let...        NaN   \n",
       "2624  ham                        S da..al r above  &lt;#&gt;        NaN   \n",
       "2747  ham                       Ya had just now.onion roast.        NaN   \n",
       "\n",
       "     Unnamed: 3 Unnamed: 4  \n",
       "1944        NaN        NaN  \n",
       "2624        NaN        NaN  \n",
       "2747        NaN        NaN  "
      ]
     },
     "execution_count": 32,
     "metadata": {},
     "output_type": "execute_result"
    }
   ],
   "source": [
    "spam_data.sample(3)"
   ]
  },
  {
   "cell_type": "code",
   "execution_count": 33,
   "id": "ed993293",
   "metadata": {},
   "outputs": [
    {
     "data": {
      "text/plain": [
       "(5572, 5)"
      ]
     },
     "execution_count": 33,
     "metadata": {},
     "output_type": "execute_result"
    }
   ],
   "source": [
    "spam_data.shape"
   ]
  },
  {
   "cell_type": "markdown",
   "id": "a797f1ee",
   "metadata": {},
   "source": [
    "# Data Preprocessing:\n",
    "\n",
    "     1. Data Cleaning\n",
    "     2. EDA\n",
    "     3. Text Preprocessing\n"
   ]
  },
  {
   "cell_type": "markdown",
   "id": "b42c6f58",
   "metadata": {},
   "source": [
    "# 1. Data Cleaning: "
   ]
  },
  {
   "cell_type": "markdown",
   "id": "3cd449d6",
   "metadata": {},
   "source": [
    "##### Dropping unwanted columns:"
   ]
  },
  {
   "cell_type": "code",
   "execution_count": 34,
   "id": "a2779c49",
   "metadata": {},
   "outputs": [],
   "source": [
    "spam_data.drop(['Unnamed: 2','Unnamed: 3','Unnamed: 4'], inplace=True, axis = 1)"
   ]
  },
  {
   "cell_type": "code",
   "execution_count": 35,
   "id": "924b57e7",
   "metadata": {},
   "outputs": [
    {
     "data": {
      "text/html": [
       "<div>\n",
       "<style scoped>\n",
       "    .dataframe tbody tr th:only-of-type {\n",
       "        vertical-align: middle;\n",
       "    }\n",
       "\n",
       "    .dataframe tbody tr th {\n",
       "        vertical-align: top;\n",
       "    }\n",
       "\n",
       "    .dataframe thead th {\n",
       "        text-align: right;\n",
       "    }\n",
       "</style>\n",
       "<table border=\"1\" class=\"dataframe\">\n",
       "  <thead>\n",
       "    <tr style=\"text-align: right;\">\n",
       "      <th></th>\n",
       "      <th>v1</th>\n",
       "      <th>v2</th>\n",
       "    </tr>\n",
       "  </thead>\n",
       "  <tbody>\n",
       "    <tr>\n",
       "      <th>0</th>\n",
       "      <td>ham</td>\n",
       "      <td>Go until jurong point, crazy.. Available only ...</td>\n",
       "    </tr>\n",
       "    <tr>\n",
       "      <th>1</th>\n",
       "      <td>ham</td>\n",
       "      <td>Ok lar... Joking wif u oni...</td>\n",
       "    </tr>\n",
       "    <tr>\n",
       "      <th>2</th>\n",
       "      <td>spam</td>\n",
       "      <td>Free entry in 2 a wkly comp to win FA Cup fina...</td>\n",
       "    </tr>\n",
       "    <tr>\n",
       "      <th>3</th>\n",
       "      <td>ham</td>\n",
       "      <td>U dun say so early hor... U c already then say...</td>\n",
       "    </tr>\n",
       "    <tr>\n",
       "      <th>4</th>\n",
       "      <td>ham</td>\n",
       "      <td>Nah I don't think he goes to usf, he lives aro...</td>\n",
       "    </tr>\n",
       "    <tr>\n",
       "      <th>...</th>\n",
       "      <td>...</td>\n",
       "      <td>...</td>\n",
       "    </tr>\n",
       "    <tr>\n",
       "      <th>5567</th>\n",
       "      <td>spam</td>\n",
       "      <td>This is the 2nd time we have tried 2 contact u...</td>\n",
       "    </tr>\n",
       "    <tr>\n",
       "      <th>5568</th>\n",
       "      <td>ham</td>\n",
       "      <td>Will Ì_ b going to esplanade fr home?</td>\n",
       "    </tr>\n",
       "    <tr>\n",
       "      <th>5569</th>\n",
       "      <td>ham</td>\n",
       "      <td>Pity, * was in mood for that. So...any other s...</td>\n",
       "    </tr>\n",
       "    <tr>\n",
       "      <th>5570</th>\n",
       "      <td>ham</td>\n",
       "      <td>The guy did some bitching but I acted like i'd...</td>\n",
       "    </tr>\n",
       "    <tr>\n",
       "      <th>5571</th>\n",
       "      <td>ham</td>\n",
       "      <td>Rofl. Its true to its name</td>\n",
       "    </tr>\n",
       "  </tbody>\n",
       "</table>\n",
       "<p>5572 rows × 2 columns</p>\n",
       "</div>"
      ],
      "text/plain": [
       "        v1                                                 v2\n",
       "0      ham  Go until jurong point, crazy.. Available only ...\n",
       "1      ham                      Ok lar... Joking wif u oni...\n",
       "2     spam  Free entry in 2 a wkly comp to win FA Cup fina...\n",
       "3      ham  U dun say so early hor... U c already then say...\n",
       "4      ham  Nah I don't think he goes to usf, he lives aro...\n",
       "...    ...                                                ...\n",
       "5567  spam  This is the 2nd time we have tried 2 contact u...\n",
       "5568   ham              Will Ì_ b going to esplanade fr home?\n",
       "5569   ham  Pity, * was in mood for that. So...any other s...\n",
       "5570   ham  The guy did some bitching but I acted like i'd...\n",
       "5571   ham                         Rofl. Its true to its name\n",
       "\n",
       "[5572 rows x 2 columns]"
      ]
     },
     "execution_count": 35,
     "metadata": {},
     "output_type": "execute_result"
    }
   ],
   "source": [
    "spam_data"
   ]
  },
  {
   "cell_type": "markdown",
   "id": "bc9254f6",
   "metadata": {},
   "source": [
    "##### Renaming columns name:"
   ]
  },
  {
   "cell_type": "code",
   "execution_count": 36,
   "id": "d9bd7b6d",
   "metadata": {},
   "outputs": [],
   "source": [
    "spam_data = spam_data.rename(columns={'v1':'target', 'v2':'text',})"
   ]
  },
  {
   "cell_type": "code",
   "execution_count": 37,
   "id": "6d73f9fd",
   "metadata": {},
   "outputs": [
    {
     "data": {
      "text/html": [
       "<div>\n",
       "<style scoped>\n",
       "    .dataframe tbody tr th:only-of-type {\n",
       "        vertical-align: middle;\n",
       "    }\n",
       "\n",
       "    .dataframe tbody tr th {\n",
       "        vertical-align: top;\n",
       "    }\n",
       "\n",
       "    .dataframe thead th {\n",
       "        text-align: right;\n",
       "    }\n",
       "</style>\n",
       "<table border=\"1\" class=\"dataframe\">\n",
       "  <thead>\n",
       "    <tr style=\"text-align: right;\">\n",
       "      <th></th>\n",
       "      <th>target</th>\n",
       "      <th>text</th>\n",
       "    </tr>\n",
       "  </thead>\n",
       "  <tbody>\n",
       "    <tr>\n",
       "      <th>921</th>\n",
       "      <td>ham</td>\n",
       "      <td>On ma way to school. Can you pls send me ashle...</td>\n",
       "    </tr>\n",
       "    <tr>\n",
       "      <th>1707</th>\n",
       "      <td>ham</td>\n",
       "      <td>Was doing my test earlier. I appreciate you. W...</td>\n",
       "    </tr>\n",
       "    <tr>\n",
       "      <th>3421</th>\n",
       "      <td>spam</td>\n",
       "      <td>Freemsg: 1-month unlimited free calls! Activat...</td>\n",
       "    </tr>\n",
       "  </tbody>\n",
       "</table>\n",
       "</div>"
      ],
      "text/plain": [
       "     target                                               text\n",
       "921     ham  On ma way to school. Can you pls send me ashle...\n",
       "1707    ham  Was doing my test earlier. I appreciate you. W...\n",
       "3421   spam  Freemsg: 1-month unlimited free calls! Activat..."
      ]
     },
     "execution_count": 37,
     "metadata": {},
     "output_type": "execute_result"
    }
   ],
   "source": [
    "spam_data.sample(3)"
   ]
  },
  {
   "cell_type": "markdown",
   "id": "0aa02232",
   "metadata": {},
   "source": [
    "Target = Label which we are going to predict."
   ]
  },
  {
   "cell_type": "code",
   "execution_count": 38,
   "id": "fb9546da",
   "metadata": {},
   "outputs": [
    {
     "data": {
      "text/plain": [
       "array(['ham', 'spam'], dtype=object)"
      ]
     },
     "execution_count": 38,
     "metadata": {},
     "output_type": "execute_result"
    }
   ],
   "source": [
    "spam_data['target'].unique()"
   ]
  },
  {
   "cell_type": "markdown",
   "id": "b5e67051",
   "metadata": {},
   "source": [
    "# Classification:\n",
    "\n",
    "\n",
    "   * Binary Classification: If we have 2 classes.\n",
    "        \n",
    "   * Multi-Classification: If we have more than 2 classes."
   ]
  },
  {
   "cell_type": "markdown",
   "id": "4c57d6e7",
   "metadata": {},
   "source": [
    "# Categorical \n",
    "  \n",
    "  >> Words (Quanlitative)\n",
    "  \n",
    "  "
   ]
  },
  {
   "cell_type": "markdown",
   "id": "ad701db7",
   "metadata": {},
   "source": [
    "# Numerical \n",
    "  \n",
    "  >> Numeric (Quantitative)\n",
    "  \n",
    "  "
   ]
  },
  {
   "cell_type": "code",
   "execution_count": 39,
   "id": "9c8bfd13",
   "metadata": {},
   "outputs": [],
   "source": [
    "# When we tried to change the categorical data into integer data, will becomes ordinal."
   ]
  },
  {
   "cell_type": "markdown",
   "id": "41ebeb65",
   "metadata": {},
   "source": [
    "# One hot encoding:\n",
    "\n",
    "code in a such way, to maintain its type.\n",
    "  \n",
    "<img src='https://github.com/AbdullahJaffrey/SaylaniLectures/blob/master/class41/OneHotEncoder.png?raw=true'>\n",
    "    "
   ]
  },
  {
   "cell_type": "code",
   "execution_count": 40,
   "id": "7e43efe7",
   "metadata": {},
   "outputs": [],
   "source": [
    "from sklearn.preprocessing import LabelEncoder"
   ]
  },
  {
   "cell_type": "code",
   "execution_count": 41,
   "id": "26093f96",
   "metadata": {},
   "outputs": [],
   "source": [
    "encoder = LabelEncoder()"
   ]
  },
  {
   "cell_type": "code",
   "execution_count": 42,
   "id": "c0b1c098",
   "metadata": {},
   "outputs": [],
   "source": [
    "spam_data['target'] = encoder.fit_transform(spam_data['target'])"
   ]
  },
  {
   "cell_type": "code",
   "execution_count": 43,
   "id": "5c9453ba",
   "metadata": {},
   "outputs": [
    {
     "data": {
      "text/html": [
       "<div>\n",
       "<style scoped>\n",
       "    .dataframe tbody tr th:only-of-type {\n",
       "        vertical-align: middle;\n",
       "    }\n",
       "\n",
       "    .dataframe tbody tr th {\n",
       "        vertical-align: top;\n",
       "    }\n",
       "\n",
       "    .dataframe thead th {\n",
       "        text-align: right;\n",
       "    }\n",
       "</style>\n",
       "<table border=\"1\" class=\"dataframe\">\n",
       "  <thead>\n",
       "    <tr style=\"text-align: right;\">\n",
       "      <th></th>\n",
       "      <th>target</th>\n",
       "      <th>text</th>\n",
       "    </tr>\n",
       "  </thead>\n",
       "  <tbody>\n",
       "    <tr>\n",
       "      <th>0</th>\n",
       "      <td>0</td>\n",
       "      <td>Go until jurong point, crazy.. Available only ...</td>\n",
       "    </tr>\n",
       "    <tr>\n",
       "      <th>1</th>\n",
       "      <td>0</td>\n",
       "      <td>Ok lar... Joking wif u oni...</td>\n",
       "    </tr>\n",
       "    <tr>\n",
       "      <th>2</th>\n",
       "      <td>1</td>\n",
       "      <td>Free entry in 2 a wkly comp to win FA Cup fina...</td>\n",
       "    </tr>\n",
       "    <tr>\n",
       "      <th>3</th>\n",
       "      <td>0</td>\n",
       "      <td>U dun say so early hor... U c already then say...</td>\n",
       "    </tr>\n",
       "    <tr>\n",
       "      <th>4</th>\n",
       "      <td>0</td>\n",
       "      <td>Nah I don't think he goes to usf, he lives aro...</td>\n",
       "    </tr>\n",
       "    <tr>\n",
       "      <th>...</th>\n",
       "      <td>...</td>\n",
       "      <td>...</td>\n",
       "    </tr>\n",
       "    <tr>\n",
       "      <th>5567</th>\n",
       "      <td>1</td>\n",
       "      <td>This is the 2nd time we have tried 2 contact u...</td>\n",
       "    </tr>\n",
       "    <tr>\n",
       "      <th>5568</th>\n",
       "      <td>0</td>\n",
       "      <td>Will Ì_ b going to esplanade fr home?</td>\n",
       "    </tr>\n",
       "    <tr>\n",
       "      <th>5569</th>\n",
       "      <td>0</td>\n",
       "      <td>Pity, * was in mood for that. So...any other s...</td>\n",
       "    </tr>\n",
       "    <tr>\n",
       "      <th>5570</th>\n",
       "      <td>0</td>\n",
       "      <td>The guy did some bitching but I acted like i'd...</td>\n",
       "    </tr>\n",
       "    <tr>\n",
       "      <th>5571</th>\n",
       "      <td>0</td>\n",
       "      <td>Rofl. Its true to its name</td>\n",
       "    </tr>\n",
       "  </tbody>\n",
       "</table>\n",
       "<p>5572 rows × 2 columns</p>\n",
       "</div>"
      ],
      "text/plain": [
       "      target                                               text\n",
       "0          0  Go until jurong point, crazy.. Available only ...\n",
       "1          0                      Ok lar... Joking wif u oni...\n",
       "2          1  Free entry in 2 a wkly comp to win FA Cup fina...\n",
       "3          0  U dun say so early hor... U c already then say...\n",
       "4          0  Nah I don't think he goes to usf, he lives aro...\n",
       "...      ...                                                ...\n",
       "5567       1  This is the 2nd time we have tried 2 contact u...\n",
       "5568       0              Will Ì_ b going to esplanade fr home?\n",
       "5569       0  Pity, * was in mood for that. So...any other s...\n",
       "5570       0  The guy did some bitching but I acted like i'd...\n",
       "5571       0                         Rofl. Its true to its name\n",
       "\n",
       "[5572 rows x 2 columns]"
      ]
     },
     "execution_count": 43,
     "metadata": {},
     "output_type": "execute_result"
    }
   ],
   "source": [
    "spam_data"
   ]
  },
  {
   "cell_type": "code",
   "execution_count": 44,
   "id": "2edfb749",
   "metadata": {},
   "outputs": [
    {
     "data": {
      "text/plain": [
       "target    0\n",
       "text      0\n",
       "dtype: int64"
      ]
     },
     "execution_count": 44,
     "metadata": {},
     "output_type": "execute_result"
    }
   ],
   "source": [
    "spam_data.isnull().sum()"
   ]
  },
  {
   "cell_type": "markdown",
   "id": "a6d03ad8",
   "metadata": {},
   "source": [
    "### Checking if there is an duplicate value exist or not!"
   ]
  },
  {
   "cell_type": "code",
   "execution_count": 45,
   "id": "8df98484",
   "metadata": {},
   "outputs": [
    {
     "data": {
      "text/plain": [
       "403"
      ]
     },
     "execution_count": 45,
     "metadata": {},
     "output_type": "execute_result"
    }
   ],
   "source": [
    "spam_data.duplicated().sum()"
   ]
  },
  {
   "cell_type": "markdown",
   "id": "c6c6b3db",
   "metadata": {},
   "source": [
    "#### Dropping all the duplicate values from the data:"
   ]
  },
  {
   "cell_type": "code",
   "execution_count": 46,
   "id": "46c4f65a",
   "metadata": {},
   "outputs": [],
   "source": [
    "spam_data.drop_duplicates(keep='first',inplace=True)"
   ]
  },
  {
   "cell_type": "code",
   "execution_count": 47,
   "id": "9e5c6833",
   "metadata": {},
   "outputs": [
    {
     "data": {
      "text/plain": [
       "(5169, 2)"
      ]
     },
     "execution_count": 47,
     "metadata": {},
     "output_type": "execute_result"
    }
   ],
   "source": [
    "spam_data.shape"
   ]
  },
  {
   "cell_type": "code",
   "execution_count": 48,
   "id": "f7e7090c",
   "metadata": {},
   "outputs": [
    {
     "data": {
      "text/plain": [
       "0"
      ]
     },
     "execution_count": 48,
     "metadata": {},
     "output_type": "execute_result"
    }
   ],
   "source": [
    "spam_data.duplicated().sum()"
   ]
  },
  {
   "cell_type": "markdown",
   "id": "d2dc6518",
   "metadata": {},
   "source": [
    "# 2. Exploratory Data Analysis (EDA) : "
   ]
  },
  {
   "cell_type": "code",
   "execution_count": 49,
   "id": "e05408aa",
   "metadata": {},
   "outputs": [
    {
     "data": {
      "text/plain": [
       "0    4516\n",
       "1     653\n",
       "Name: target, dtype: int64"
      ]
     },
     "execution_count": 49,
     "metadata": {},
     "output_type": "execute_result"
    }
   ],
   "source": [
    "label_count = spam_data.target.value_counts()\n",
    "label_count"
   ]
  },
  {
   "cell_type": "markdown",
   "id": "a064616e",
   "metadata": {},
   "source": [
    "# Imbalanced data: \n",
    "\n",
    "     This topic will be covered in our Machine Learning session."
   ]
  },
  {
   "cell_type": "code",
   "execution_count": 50,
   "id": "b3778f62",
   "metadata": {},
   "outputs": [
    {
     "data": {
      "image/png": "[encoded data removed]",
      "text/plain": [
       "<Figure size 432x288 with 1 Axes>"
      ]
     },
     "metadata": {},
     "output_type": "display_data"
    }
   ],
   "source": [
    "plt.pie(label_count, labels=['ham','spam'], autopct='%.02f') # 02f = 2 decimal plotting point\n",
    "plt.show()"
   ]
  },
  {
   "cell_type": "code",
   "execution_count": 51,
   "id": "18ca938e",
   "metadata": {},
   "outputs": [
    {
     "data": {
      "image/png": "[encoded data removed]",
      "text/plain": [
       "<Figure size 432x288 with 1 Axes>"
      ]
     },
     "metadata": {},
     "output_type": "display_data"
    }
   ],
   "source": [
    "plt.pie(label_count, labels=['ham','spam'], autopct='%.02f',explode=[0,0.6], shadow=True, colors=['r','g'] ) # 02f = 2 decimal plotting point\n",
    "plt.show()"
   ]
  },
  {
   "cell_type": "code",
   "execution_count": 52,
   "id": "97cd3245",
   "metadata": {},
   "outputs": [],
   "source": [
    "spam_data['number of character'] = spam_data['text'].apply(len)"
   ]
  },
  {
   "cell_type": "code",
   "execution_count": 53,
   "id": "a0c01121",
   "metadata": {},
   "outputs": [
    {
     "data": {
      "text/html": [
       "<div>\n",
       "<style scoped>\n",
       "    .dataframe tbody tr th:only-of-type {\n",
       "        vertical-align: middle;\n",
       "    }\n",
       "\n",
       "    .dataframe tbody tr th {\n",
       "        vertical-align: top;\n",
       "    }\n",
       "\n",
       "    .dataframe thead th {\n",
       "        text-align: right;\n",
       "    }\n",
       "</style>\n",
       "<table border=\"1\" class=\"dataframe\">\n",
       "  <thead>\n",
       "    <tr style=\"text-align: right;\">\n",
       "      <th></th>\n",
       "      <th>target</th>\n",
       "      <th>text</th>\n",
       "      <th>number of character</th>\n",
       "    </tr>\n",
       "  </thead>\n",
       "  <tbody>\n",
       "    <tr>\n",
       "      <th>0</th>\n",
       "      <td>0</td>\n",
       "      <td>Go until jurong point, crazy.. Available only ...</td>\n",
       "      <td>111</td>\n",
       "    </tr>\n",
       "    <tr>\n",
       "      <th>1</th>\n",
       "      <td>0</td>\n",
       "      <td>Ok lar... Joking wif u oni...</td>\n",
       "      <td>29</td>\n",
       "    </tr>\n",
       "    <tr>\n",
       "      <th>2</th>\n",
       "      <td>1</td>\n",
       "      <td>Free entry in 2 a wkly comp to win FA Cup fina...</td>\n",
       "      <td>155</td>\n",
       "    </tr>\n",
       "    <tr>\n",
       "      <th>3</th>\n",
       "      <td>0</td>\n",
       "      <td>U dun say so early hor... U c already then say...</td>\n",
       "      <td>49</td>\n",
       "    </tr>\n",
       "    <tr>\n",
       "      <th>4</th>\n",
       "      <td>0</td>\n",
       "      <td>Nah I don't think he goes to usf, he lives aro...</td>\n",
       "      <td>61</td>\n",
       "    </tr>\n",
       "  </tbody>\n",
       "</table>\n",
       "</div>"
      ],
      "text/plain": [
       "   target                                               text  \\\n",
       "0       0  Go until jurong point, crazy.. Available only ...   \n",
       "1       0                      Ok lar... Joking wif u oni...   \n",
       "2       1  Free entry in 2 a wkly comp to win FA Cup fina...   \n",
       "3       0  U dun say so early hor... U c already then say...   \n",
       "4       0  Nah I don't think he goes to usf, he lives aro...   \n",
       "\n",
       "   number of character  \n",
       "0                  111  \n",
       "1                   29  \n",
       "2                  155  \n",
       "3                   49  \n",
       "4                   61  "
      ]
     },
     "execution_count": 53,
     "metadata": {},
     "output_type": "execute_result"
    }
   ],
   "source": [
    "spam_data.head()"
   ]
  },
  {
   "cell_type": "markdown",
   "id": "d9b7a384",
   "metadata": {},
   "source": [
    "###### Counting number of words using List Comprehension:"
   ]
  },
  {
   "cell_type": "code",
   "execution_count": 54,
   "id": "9ab2e02d",
   "metadata": {},
   "outputs": [],
   "source": [
    "spam_data['number of words'] =  [len(x.split(' ')) for x in spam_data['text']]"
   ]
  },
  {
   "cell_type": "markdown",
   "id": "d10bf0e7",
   "metadata": {},
   "source": [
    "###### Counting number of words using Lambda Function:"
   ]
  },
  {
   "cell_type": "code",
   "execution_count": 55,
   "id": "1f089320",
   "metadata": {},
   "outputs": [],
   "source": [
    "# spam_data['number of words'] =  spam_data['text'].apply(lambda x: x.split(' '))"
   ]
  },
  {
   "cell_type": "markdown",
   "id": "583ef229",
   "metadata": {},
   "source": [
    "###### Counting number of sentence using Lambda Function:"
   ]
  },
  {
   "cell_type": "code",
   "execution_count": 56,
   "id": "1dce1a6f",
   "metadata": {},
   "outputs": [],
   "source": [
    "spam_data['number of sentence'] =  spam_data['text'].apply(lambda x: len(x.split('.')))"
   ]
  },
  {
   "cell_type": "code",
   "execution_count": 57,
   "id": "f2c8b3ba",
   "metadata": {},
   "outputs": [
    {
     "data": {
      "text/html": [
       "<div>\n",
       "<style scoped>\n",
       "    .dataframe tbody tr th:only-of-type {\n",
       "        vertical-align: middle;\n",
       "    }\n",
       "\n",
       "    .dataframe tbody tr th {\n",
       "        vertical-align: top;\n",
       "    }\n",
       "\n",
       "    .dataframe thead th {\n",
       "        text-align: right;\n",
       "    }\n",
       "</style>\n",
       "<table border=\"1\" class=\"dataframe\">\n",
       "  <thead>\n",
       "    <tr style=\"text-align: right;\">\n",
       "      <th></th>\n",
       "      <th>target</th>\n",
       "      <th>text</th>\n",
       "      <th>number of character</th>\n",
       "      <th>number of words</th>\n",
       "      <th>number of sentence</th>\n",
       "    </tr>\n",
       "  </thead>\n",
       "  <tbody>\n",
       "    <tr>\n",
       "      <th>0</th>\n",
       "      <td>0</td>\n",
       "      <td>Go until jurong point, crazy.. Available only ...</td>\n",
       "      <td>111</td>\n",
       "      <td>20</td>\n",
       "      <td>9</td>\n",
       "    </tr>\n",
       "    <tr>\n",
       "      <th>1</th>\n",
       "      <td>0</td>\n",
       "      <td>Ok lar... Joking wif u oni...</td>\n",
       "      <td>29</td>\n",
       "      <td>6</td>\n",
       "      <td>7</td>\n",
       "    </tr>\n",
       "    <tr>\n",
       "      <th>2</th>\n",
       "      <td>1</td>\n",
       "      <td>Free entry in 2 a wkly comp to win FA Cup fina...</td>\n",
       "      <td>155</td>\n",
       "      <td>28</td>\n",
       "      <td>2</td>\n",
       "    </tr>\n",
       "    <tr>\n",
       "      <th>3</th>\n",
       "      <td>0</td>\n",
       "      <td>U dun say so early hor... U c already then say...</td>\n",
       "      <td>49</td>\n",
       "      <td>11</td>\n",
       "      <td>7</td>\n",
       "    </tr>\n",
       "    <tr>\n",
       "      <th>4</th>\n",
       "      <td>0</td>\n",
       "      <td>Nah I don't think he goes to usf, he lives aro...</td>\n",
       "      <td>61</td>\n",
       "      <td>13</td>\n",
       "      <td>1</td>\n",
       "    </tr>\n",
       "    <tr>\n",
       "      <th>...</th>\n",
       "      <td>...</td>\n",
       "      <td>...</td>\n",
       "      <td>...</td>\n",
       "      <td>...</td>\n",
       "      <td>...</td>\n",
       "    </tr>\n",
       "    <tr>\n",
       "      <th>5567</th>\n",
       "      <td>1</td>\n",
       "      <td>This is the 2nd time we have tried 2 contact u...</td>\n",
       "      <td>161</td>\n",
       "      <td>30</td>\n",
       "      <td>5</td>\n",
       "    </tr>\n",
       "    <tr>\n",
       "      <th>5568</th>\n",
       "      <td>0</td>\n",
       "      <td>Will Ì_ b going to esplanade fr home?</td>\n",
       "      <td>37</td>\n",
       "      <td>8</td>\n",
       "      <td>1</td>\n",
       "    </tr>\n",
       "    <tr>\n",
       "      <th>5569</th>\n",
       "      <td>0</td>\n",
       "      <td>Pity, * was in mood for that. So...any other s...</td>\n",
       "      <td>57</td>\n",
       "      <td>10</td>\n",
       "      <td>5</td>\n",
       "    </tr>\n",
       "    <tr>\n",
       "      <th>5570</th>\n",
       "      <td>0</td>\n",
       "      <td>The guy did some bitching but I acted like i'd...</td>\n",
       "      <td>125</td>\n",
       "      <td>26</td>\n",
       "      <td>1</td>\n",
       "    </tr>\n",
       "    <tr>\n",
       "      <th>5571</th>\n",
       "      <td>0</td>\n",
       "      <td>Rofl. Its true to its name</td>\n",
       "      <td>26</td>\n",
       "      <td>6</td>\n",
       "      <td>2</td>\n",
       "    </tr>\n",
       "  </tbody>\n",
       "</table>\n",
       "<p>5169 rows × 5 columns</p>\n",
       "</div>"
      ],
      "text/plain": [
       "      target                                               text  \\\n",
       "0          0  Go until jurong point, crazy.. Available only ...   \n",
       "1          0                      Ok lar... Joking wif u oni...   \n",
       "2          1  Free entry in 2 a wkly comp to win FA Cup fina...   \n",
       "3          0  U dun say so early hor... U c already then say...   \n",
       "4          0  Nah I don't think he goes to usf, he lives aro...   \n",
       "...      ...                                                ...   \n",
       "5567       1  This is the 2nd time we have tried 2 contact u...   \n",
       "5568       0              Will Ì_ b going to esplanade fr home?   \n",
       "5569       0  Pity, * was in mood for that. So...any other s...   \n",
       "5570       0  The guy did some bitching but I acted like i'd...   \n",
       "5571       0                         Rofl. Its true to its name   \n",
       "\n",
       "      number of character  number of words  number of sentence  \n",
       "0                     111               20                   9  \n",
       "1                      29                6                   7  \n",
       "2                     155               28                   2  \n",
       "3                      49               11                   7  \n",
       "4                      61               13                   1  \n",
       "...                   ...              ...                 ...  \n",
       "5567                  161               30                   5  \n",
       "5568                   37                8                   1  \n",
       "5569                   57               10                   5  \n",
       "5570                  125               26                   1  \n",
       "5571                   26                6                   2  \n",
       "\n",
       "[5169 rows x 5 columns]"
      ]
     },
     "execution_count": 57,
     "metadata": {},
     "output_type": "execute_result"
    }
   ],
   "source": [
    "spam_data"
   ]
  },
  {
   "cell_type": "markdown",
   "id": "c372d5c4",
   "metadata": {},
   "source": [
    "<td width=\"100%\" height=\"auto-fit\">\n",
    "<img src='https://confusedcoders.com/wp-content/uploads/2019/07/Python-Data-Science_Watermarked.2789459dd138.jpg' width='700px' height='400px'>\n",
    "</td>"
   ]
  },
  {
   "cell_type": "code",
   "execution_count": 58,
   "id": "45103c98",
   "metadata": {},
   "outputs": [
    {
     "name": "stderr",
     "output_type": "stream",
     "text": [
      "[nltk_data] Downloading package punkt to\n",
      "[nltk_data]     C:\\Users\\Lab02R05Pc35\\AppData\\Roaming\\nltk_data...\n",
      "[nltk_data]   Package punkt is already up-to-date!\n"
     ]
    },
    {
     "data": {
      "text/plain": [
       "True"
      ]
     },
     "execution_count": 58,
     "metadata": {},
     "output_type": "execute_result"
    }
   ],
   "source": [
    "import nltk as nl #Natural Language Toolkit\n",
    "\n",
    "nl.download('punkt')"
   ]
  },
  {
   "cell_type": "markdown",
   "id": "a09cf8aa",
   "metadata": {},
   "source": [
    "<td width=\"33%\">\n",
    "<img src='https://files.realpython.com/media/UPDATE-First-Steps-With-Python_Watermarked.256721df5607.jpg'>\n",
    "</td>\n",
    "\n",
    "<td width=\"33%\">\n",
    "<img src='https://files.realpython.com/media/NLP-for-Beginners-Pythons-Natural-Language-Toolkit-NLTK_Watermarked.16a787c1e9c6.jpg'>\n",
    "</td>\n",
    "\n",
    "<td width=\"33%\">\n",
    "<img src='https://files.realpython.com/media/How-to-use-NLTK-for-Sentiment-Analysis-in-Python_Watermarked.05ff07ca7ec7.jpg'>\n",
    "</td>"
   ]
  },
  {
   "cell_type": "markdown",
   "id": "a56ca91d",
   "metadata": {},
   "source": [
    "### Counting number of words using tokenization function:"
   ]
  },
  {
   "cell_type": "code",
   "execution_count": 59,
   "id": "182179b6",
   "metadata": {},
   "outputs": [],
   "source": [
    "spam_data['num sentence'] =  spam_data['text'].apply(lambda x: len(nl.sent_tokenize(x)))"
   ]
  },
  {
   "cell_type": "code",
   "execution_count": 60,
   "id": "af2b6db7",
   "metadata": {},
   "outputs": [],
   "source": [
    "spam_data['num word'] =  spam_data['text'].apply(lambda x: len(nl.word_tokenize(x)))"
   ]
  },
  {
   "cell_type": "code",
   "execution_count": 61,
   "id": "518d8233",
   "metadata": {},
   "outputs": [],
   "source": [
    "spam_data.drop(['number of words','number of sentence'], axis=1, inplace=True)"
   ]
  },
  {
   "cell_type": "code",
   "execution_count": 62,
   "id": "04f0c12f",
   "metadata": {},
   "outputs": [
    {
     "data": {
      "text/html": [
       "<div>\n",
       "<style scoped>\n",
       "    .dataframe tbody tr th:only-of-type {\n",
       "        vertical-align: middle;\n",
       "    }\n",
       "\n",
       "    .dataframe tbody tr th {\n",
       "        vertical-align: top;\n",
       "    }\n",
       "\n",
       "    .dataframe thead th {\n",
       "        text-align: right;\n",
       "    }\n",
       "</style>\n",
       "<table border=\"1\" class=\"dataframe\">\n",
       "  <thead>\n",
       "    <tr style=\"text-align: right;\">\n",
       "      <th></th>\n",
       "      <th>target</th>\n",
       "      <th>text</th>\n",
       "      <th>number of character</th>\n",
       "      <th>num sentence</th>\n",
       "      <th>num word</th>\n",
       "    </tr>\n",
       "  </thead>\n",
       "  <tbody>\n",
       "    <tr>\n",
       "      <th>0</th>\n",
       "      <td>0</td>\n",
       "      <td>Go until jurong point, crazy.. Available only ...</td>\n",
       "      <td>111</td>\n",
       "      <td>2</td>\n",
       "      <td>24</td>\n",
       "    </tr>\n",
       "    <tr>\n",
       "      <th>1</th>\n",
       "      <td>0</td>\n",
       "      <td>Ok lar... Joking wif u oni...</td>\n",
       "      <td>29</td>\n",
       "      <td>2</td>\n",
       "      <td>8</td>\n",
       "    </tr>\n",
       "    <tr>\n",
       "      <th>2</th>\n",
       "      <td>1</td>\n",
       "      <td>Free entry in 2 a wkly comp to win FA Cup fina...</td>\n",
       "      <td>155</td>\n",
       "      <td>2</td>\n",
       "      <td>37</td>\n",
       "    </tr>\n",
       "  </tbody>\n",
       "</table>\n",
       "</div>"
      ],
      "text/plain": [
       "   target                                               text  \\\n",
       "0       0  Go until jurong point, crazy.. Available only ...   \n",
       "1       0                      Ok lar... Joking wif u oni...   \n",
       "2       1  Free entry in 2 a wkly comp to win FA Cup fina...   \n",
       "\n",
       "   number of character  num sentence  num word  \n",
       "0                  111             2        24  \n",
       "1                   29             2         8  \n",
       "2                  155             2        37  "
      ]
     },
     "execution_count": 62,
     "metadata": {},
     "output_type": "execute_result"
    }
   ],
   "source": [
    "spam_data.head(3)"
   ]
  },
  {
   "cell_type": "code",
   "execution_count": 63,
   "id": "692ff316",
   "metadata": {},
   "outputs": [
    {
     "data": {
      "text/html": [
       "<div>\n",
       "<style scoped>\n",
       "    .dataframe tbody tr th:only-of-type {\n",
       "        vertical-align: middle;\n",
       "    }\n",
       "\n",
       "    .dataframe tbody tr th {\n",
       "        vertical-align: top;\n",
       "    }\n",
       "\n",
       "    .dataframe thead th {\n",
       "        text-align: right;\n",
       "    }\n",
       "</style>\n",
       "<table border=\"1\" class=\"dataframe\">\n",
       "  <thead>\n",
       "    <tr style=\"text-align: right;\">\n",
       "      <th></th>\n",
       "      <th>number of character</th>\n",
       "      <th>num sentence</th>\n",
       "      <th>num word</th>\n",
       "    </tr>\n",
       "  </thead>\n",
       "  <tbody>\n",
       "    <tr>\n",
       "      <th>count</th>\n",
       "      <td>5169.000000</td>\n",
       "      <td>5169.000000</td>\n",
       "      <td>5169.000000</td>\n",
       "    </tr>\n",
       "    <tr>\n",
       "      <th>mean</th>\n",
       "      <td>78.977945</td>\n",
       "      <td>1.961308</td>\n",
       "      <td>18.455407</td>\n",
       "    </tr>\n",
       "    <tr>\n",
       "      <th>std</th>\n",
       "      <td>58.236293</td>\n",
       "      <td>1.432583</td>\n",
       "      <td>13.322448</td>\n",
       "    </tr>\n",
       "    <tr>\n",
       "      <th>min</th>\n",
       "      <td>2.000000</td>\n",
       "      <td>1.000000</td>\n",
       "      <td>1.000000</td>\n",
       "    </tr>\n",
       "    <tr>\n",
       "      <th>25%</th>\n",
       "      <td>36.000000</td>\n",
       "      <td>1.000000</td>\n",
       "      <td>9.000000</td>\n",
       "    </tr>\n",
       "    <tr>\n",
       "      <th>50%</th>\n",
       "      <td>60.000000</td>\n",
       "      <td>1.000000</td>\n",
       "      <td>15.000000</td>\n",
       "    </tr>\n",
       "    <tr>\n",
       "      <th>75%</th>\n",
       "      <td>117.000000</td>\n",
       "      <td>2.000000</td>\n",
       "      <td>26.000000</td>\n",
       "    </tr>\n",
       "    <tr>\n",
       "      <th>max</th>\n",
       "      <td>910.000000</td>\n",
       "      <td>38.000000</td>\n",
       "      <td>220.000000</td>\n",
       "    </tr>\n",
       "  </tbody>\n",
       "</table>\n",
       "</div>"
      ],
      "text/plain": [
       "       number of character  num sentence     num word\n",
       "count          5169.000000   5169.000000  5169.000000\n",
       "mean             78.977945      1.961308    18.455407\n",
       "std              58.236293      1.432583    13.322448\n",
       "min               2.000000      1.000000     1.000000\n",
       "25%              36.000000      1.000000     9.000000\n",
       "50%              60.000000      1.000000    15.000000\n",
       "75%             117.000000      2.000000    26.000000\n",
       "max             910.000000     38.000000   220.000000"
      ]
     },
     "execution_count": 63,
     "metadata": {},
     "output_type": "execute_result"
    }
   ],
   "source": [
    "# stats behind all new added columns.\n",
    "\n",
    "spam_data[['number of character','num sentence','num word']].describe()"
   ]
  },
  {
   "cell_type": "code",
   "execution_count": 64,
   "id": "5169b02b",
   "metadata": {},
   "outputs": [
    {
     "data": {
      "text/html": [
       "<div>\n",
       "<style scoped>\n",
       "    .dataframe tbody tr th:only-of-type {\n",
       "        vertical-align: middle;\n",
       "    }\n",
       "\n",
       "    .dataframe tbody tr th {\n",
       "        vertical-align: top;\n",
       "    }\n",
       "\n",
       "    .dataframe thead th {\n",
       "        text-align: right;\n",
       "    }\n",
       "</style>\n",
       "<table border=\"1\" class=\"dataframe\">\n",
       "  <thead>\n",
       "    <tr style=\"text-align: right;\">\n",
       "      <th></th>\n",
       "      <th>number of character</th>\n",
       "      <th>num sentence</th>\n",
       "      <th>num word</th>\n",
       "    </tr>\n",
       "  </thead>\n",
       "  <tbody>\n",
       "    <tr>\n",
       "      <th>count</th>\n",
       "      <td>653.000000</td>\n",
       "      <td>653.000000</td>\n",
       "      <td>653.000000</td>\n",
       "    </tr>\n",
       "    <tr>\n",
       "      <th>mean</th>\n",
       "      <td>137.891271</td>\n",
       "      <td>2.969372</td>\n",
       "      <td>27.667688</td>\n",
       "    </tr>\n",
       "    <tr>\n",
       "      <th>std</th>\n",
       "      <td>30.137753</td>\n",
       "      <td>1.488910</td>\n",
       "      <td>7.008418</td>\n",
       "    </tr>\n",
       "    <tr>\n",
       "      <th>min</th>\n",
       "      <td>13.000000</td>\n",
       "      <td>1.000000</td>\n",
       "      <td>2.000000</td>\n",
       "    </tr>\n",
       "    <tr>\n",
       "      <th>25%</th>\n",
       "      <td>132.000000</td>\n",
       "      <td>2.000000</td>\n",
       "      <td>25.000000</td>\n",
       "    </tr>\n",
       "    <tr>\n",
       "      <th>50%</th>\n",
       "      <td>149.000000</td>\n",
       "      <td>3.000000</td>\n",
       "      <td>29.000000</td>\n",
       "    </tr>\n",
       "    <tr>\n",
       "      <th>75%</th>\n",
       "      <td>157.000000</td>\n",
       "      <td>4.000000</td>\n",
       "      <td>32.000000</td>\n",
       "    </tr>\n",
       "    <tr>\n",
       "      <th>max</th>\n",
       "      <td>224.000000</td>\n",
       "      <td>9.000000</td>\n",
       "      <td>46.000000</td>\n",
       "    </tr>\n",
       "  </tbody>\n",
       "</table>\n",
       "</div>"
      ],
      "text/plain": [
       "       number of character  num sentence    num word\n",
       "count           653.000000    653.000000  653.000000\n",
       "mean            137.891271      2.969372   27.667688\n",
       "std              30.137753      1.488910    7.008418\n",
       "min              13.000000      1.000000    2.000000\n",
       "25%             132.000000      2.000000   25.000000\n",
       "50%             149.000000      3.000000   29.000000\n",
       "75%             157.000000      4.000000   32.000000\n",
       "max             224.000000      9.000000   46.000000"
      ]
     },
     "execution_count": 64,
     "metadata": {},
     "output_type": "execute_result"
    }
   ],
   "source": [
    "# stats behind all new added columns in spam category.\n",
    "\n",
    "spam_data[spam_data['target'] == 1][['number of character','num sentence','num word']].describe()"
   ]
  },
  {
   "cell_type": "code",
   "execution_count": 65,
   "id": "fa746915",
   "metadata": {},
   "outputs": [
    {
     "data": {
      "text/html": [
       "<div>\n",
       "<style scoped>\n",
       "    .dataframe tbody tr th:only-of-type {\n",
       "        vertical-align: middle;\n",
       "    }\n",
       "\n",
       "    .dataframe tbody tr th {\n",
       "        vertical-align: top;\n",
       "    }\n",
       "\n",
       "    .dataframe thead th {\n",
       "        text-align: right;\n",
       "    }\n",
       "</style>\n",
       "<table border=\"1\" class=\"dataframe\">\n",
       "  <thead>\n",
       "    <tr style=\"text-align: right;\">\n",
       "      <th></th>\n",
       "      <th>number of character</th>\n",
       "      <th>num sentence</th>\n",
       "      <th>num word</th>\n",
       "    </tr>\n",
       "  </thead>\n",
       "  <tbody>\n",
       "    <tr>\n",
       "      <th>count</th>\n",
       "      <td>4516.000000</td>\n",
       "      <td>4516.000000</td>\n",
       "      <td>4516.000000</td>\n",
       "    </tr>\n",
       "    <tr>\n",
       "      <th>mean</th>\n",
       "      <td>70.459256</td>\n",
       "      <td>1.815545</td>\n",
       "      <td>17.123339</td>\n",
       "    </tr>\n",
       "    <tr>\n",
       "      <th>std</th>\n",
       "      <td>56.358207</td>\n",
       "      <td>1.364098</td>\n",
       "      <td>13.491315</td>\n",
       "    </tr>\n",
       "    <tr>\n",
       "      <th>min</th>\n",
       "      <td>2.000000</td>\n",
       "      <td>1.000000</td>\n",
       "      <td>1.000000</td>\n",
       "    </tr>\n",
       "    <tr>\n",
       "      <th>25%</th>\n",
       "      <td>34.000000</td>\n",
       "      <td>1.000000</td>\n",
       "      <td>8.000000</td>\n",
       "    </tr>\n",
       "    <tr>\n",
       "      <th>50%</th>\n",
       "      <td>52.000000</td>\n",
       "      <td>1.000000</td>\n",
       "      <td>13.000000</td>\n",
       "    </tr>\n",
       "    <tr>\n",
       "      <th>75%</th>\n",
       "      <td>90.000000</td>\n",
       "      <td>2.000000</td>\n",
       "      <td>22.000000</td>\n",
       "    </tr>\n",
       "    <tr>\n",
       "      <th>max</th>\n",
       "      <td>910.000000</td>\n",
       "      <td>38.000000</td>\n",
       "      <td>220.000000</td>\n",
       "    </tr>\n",
       "  </tbody>\n",
       "</table>\n",
       "</div>"
      ],
      "text/plain": [
       "       number of character  num sentence     num word\n",
       "count          4516.000000   4516.000000  4516.000000\n",
       "mean             70.459256      1.815545    17.123339\n",
       "std              56.358207      1.364098    13.491315\n",
       "min               2.000000      1.000000     1.000000\n",
       "25%              34.000000      1.000000     8.000000\n",
       "50%              52.000000      1.000000    13.000000\n",
       "75%              90.000000      2.000000    22.000000\n",
       "max             910.000000     38.000000   220.000000"
      ]
     },
     "execution_count": 65,
     "metadata": {},
     "output_type": "execute_result"
    }
   ],
   "source": [
    "# stats behind all new added columns in ham category.\n",
    "\n",
    "spam_data[spam_data['target'] == 0][['number of character','num sentence','num word']].describe()"
   ]
  },
  {
   "cell_type": "code",
   "execution_count": 66,
   "id": "82f5fb6a",
   "metadata": {},
   "outputs": [],
   "source": [
    "# Class Starts from here: "
   ]
  },
  {
   "cell_type": "code",
   "execution_count": 67,
   "id": "0e90b9f1",
   "metadata": {},
   "outputs": [
    {
     "data": {
      "text/html": [
       "<div>\n",
       "<style scoped>\n",
       "    .dataframe tbody tr th:only-of-type {\n",
       "        vertical-align: middle;\n",
       "    }\n",
       "\n",
       "    .dataframe tbody tr th {\n",
       "        vertical-align: top;\n",
       "    }\n",
       "\n",
       "    .dataframe thead th {\n",
       "        text-align: right;\n",
       "    }\n",
       "</style>\n",
       "<table border=\"1\" class=\"dataframe\">\n",
       "  <thead>\n",
       "    <tr style=\"text-align: right;\">\n",
       "      <th></th>\n",
       "      <th>target</th>\n",
       "      <th>text</th>\n",
       "      <th>number of character</th>\n",
       "      <th>num sentence</th>\n",
       "      <th>num word</th>\n",
       "    </tr>\n",
       "  </thead>\n",
       "  <tbody>\n",
       "    <tr>\n",
       "      <th>0</th>\n",
       "      <td>0</td>\n",
       "      <td>Go until jurong point, crazy.. Available only ...</td>\n",
       "      <td>111</td>\n",
       "      <td>2</td>\n",
       "      <td>24</td>\n",
       "    </tr>\n",
       "    <tr>\n",
       "      <th>1</th>\n",
       "      <td>0</td>\n",
       "      <td>Ok lar... Joking wif u oni...</td>\n",
       "      <td>29</td>\n",
       "      <td>2</td>\n",
       "      <td>8</td>\n",
       "    </tr>\n",
       "    <tr>\n",
       "      <th>2</th>\n",
       "      <td>1</td>\n",
       "      <td>Free entry in 2 a wkly comp to win FA Cup fina...</td>\n",
       "      <td>155</td>\n",
       "      <td>2</td>\n",
       "      <td>37</td>\n",
       "    </tr>\n",
       "    <tr>\n",
       "      <th>3</th>\n",
       "      <td>0</td>\n",
       "      <td>U dun say so early hor... U c already then say...</td>\n",
       "      <td>49</td>\n",
       "      <td>1</td>\n",
       "      <td>13</td>\n",
       "    </tr>\n",
       "    <tr>\n",
       "      <th>4</th>\n",
       "      <td>0</td>\n",
       "      <td>Nah I don't think he goes to usf, he lives aro...</td>\n",
       "      <td>61</td>\n",
       "      <td>1</td>\n",
       "      <td>15</td>\n",
       "    </tr>\n",
       "  </tbody>\n",
       "</table>\n",
       "</div>"
      ],
      "text/plain": [
       "   target                                               text  \\\n",
       "0       0  Go until jurong point, crazy.. Available only ...   \n",
       "1       0                      Ok lar... Joking wif u oni...   \n",
       "2       1  Free entry in 2 a wkly comp to win FA Cup fina...   \n",
       "3       0  U dun say so early hor... U c already then say...   \n",
       "4       0  Nah I don't think he goes to usf, he lives aro...   \n",
       "\n",
       "   number of character  num sentence  num word  \n",
       "0                  111             2        24  \n",
       "1                   29             2         8  \n",
       "2                  155             2        37  \n",
       "3                   49             1        13  \n",
       "4                   61             1        15  "
      ]
     },
     "execution_count": 67,
     "metadata": {},
     "output_type": "execute_result"
    }
   ],
   "source": [
    "spam_data.head(5)"
   ]
  },
  {
   "cell_type": "code",
   "execution_count": 68,
   "id": "669a447c",
   "metadata": {},
   "outputs": [
    {
     "data": {
      "text/plain": [
       "'U dun say so early hor... U c already then say...'"
      ]
     },
     "execution_count": 68,
     "metadata": {},
     "output_type": "execute_result"
    }
   ],
   "source": [
    "spam_data.loc[3, 'text']"
   ]
  },
  {
   "cell_type": "markdown",
   "id": "6ef7e758",
   "metadata": {},
   "source": [
    "### Plotting the number of character in both ham and spam:"
   ]
  },
  {
   "cell_type": "code",
   "execution_count": 69,
   "id": "27901135",
   "metadata": {},
   "outputs": [],
   "source": [
    "import seaborn as sns"
   ]
  },
  {
   "cell_type": "code",
   "execution_count": 70,
   "id": "c459565b",
   "metadata": {
    "scrolled": true
   },
   "outputs": [
    {
     "data": {
      "text/plain": [
       "<AxesSubplot:xlabel='number of character', ylabel='Count'>"
      ]
     },
     "execution_count": 70,
     "metadata": {},
     "output_type": "execute_result"
    },
    {
     "data": {
      "image/png": "[encoded data removed]",
      "text/plain": [
       "<Figure size 720x360 with 1 Axes>"
      ]
     },
     "metadata": {
      "needs_background": "light"
     },
     "output_type": "display_data"
    }
   ],
   "source": [
    "plt.figure(figsize=(10,5))\n",
    "ham = spam_data[spam_data['target']==0]['number of character']\n",
    "spam = spam_data[spam_data['target']==1]['number of character']\n",
    "sns.histplot(ham)\n",
    "sns.histplot(spam,color='r')"
   ]
  },
  {
   "cell_type": "code",
   "execution_count": 71,
   "id": "19a3642c",
   "metadata": {
    "scrolled": true
   },
   "outputs": [
    {
     "data": {
      "text/plain": [
       "<AxesSubplot:xlabel='num word', ylabel='Count'>"
      ]
     },
     "execution_count": 71,
     "metadata": {},
     "output_type": "execute_result"
    },
    {
     "data": {
      "image/png": "[encoded data removed]",
      "text/plain": [
       "<Figure size 720x360 with 1 Axes>"
      ]
     },
     "metadata": {
      "needs_background": "light"
     },
     "output_type": "display_data"
    }
   ],
   "source": [
    "plt.figure(figsize=(10,5))\n",
    "ham = spam_data[spam_data['target']==0]['num word']\n",
    "spam = spam_data[spam_data['target']==1]['num word']\n",
    "sns.histplot(ham,kde=True,)\n",
    "sns.histplot(spam,color='r')"
   ]
  },
  {
   "cell_type": "code",
   "execution_count": 72,
   "id": "2753359c",
   "metadata": {},
   "outputs": [
    {
     "data": {
      "text/plain": [
       "<AxesSubplot:xlabel='num sentence', ylabel='Count'>"
      ]
     },
     "execution_count": 72,
     "metadata": {},
     "output_type": "execute_result"
    },
    {
     "data": {
      "image/png": "[encoded data removed]",
      "text/plain": [
       "<Figure size 720x360 with 1 Axes>"
      ]
     },
     "metadata": {
      "needs_background": "light"
     },
     "output_type": "display_data"
    }
   ],
   "source": [
    "plt.figure(figsize=(10,5))\n",
    "ham = spam_data[spam_data['target']==0]['num sentence']\n",
    "spam = spam_data[spam_data['target']==1]['num sentence']\n",
    "sns.histplot(ham,kde=True,)\n",
    "sns.histplot(spam,color='r')"
   ]
  },
  {
   "cell_type": "code",
   "execution_count": 73,
   "id": "cdcb45b7",
   "metadata": {},
   "outputs": [
    {
     "data": {
      "text/plain": [
       "<seaborn.axisgrid.PairGrid at 0x29116f1af40>"
      ]
     },
     "execution_count": 73,
     "metadata": {},
     "output_type": "execute_result"
    },
    {
     "data": {
      "image/png": "[encoded data removed]",
      "text/plain": [
       "<Figure size 582.375x540 with 12 Axes>"
      ]
     },
     "metadata": {
      "needs_background": "light"
     },
     "output_type": "display_data"
    }
   ],
   "source": [
    "sns.pairplot(data=spam_data, hue='target')"
   ]
  },
  {
   "cell_type": "markdown",
   "id": "9f14bb96",
   "metadata": {},
   "source": [
    " ### Correlation:\n",
    "        \n",
    "   * Correlation is a statistical measure that indicates the extent to which two or more variables fluctuate in relation to each other.\n",
    "      \n",
    "   OR\n",
    "   <br />\n",
    "   \n",
    "   * If a change occurred in one value, another value would change as well.\n",
    "  "
   ]
  },
  {
   "cell_type": "markdown",
   "id": "f2f24439",
   "metadata": {},
   "source": [
    "<td width=\"25%\">\n",
    "<img src='https://miro.medium.com/max/320/0*abk24QJL8-9JKFEz.png'>\n",
    "</td>\n",
    "\n",
    "<td width=\"25%\">\n",
    "<img src='https://sphweb.bumc.bu.edu/otlt/MPH-Modules/PH717-QuantCore/PH717-Module9-Correlation-Regression/Correlation%20Coefficient%20examples.png'>\n",
    "</td>\n",
    "\n",
    "<td width=\"25%\">\n",
    "<img src='https://efinancemanagement.com/wp-content/uploads/2020/01/Correlation-vs-Covariance.png'>\n",
    "</td>\n",
    "\n",
    "<td width=\"25%\">\n",
    "<img src='https://www.investopedia.com/thmb/f3tU1WRE8f7scy1fRr6y6EteuB4=/735x0/Covariance_Final_4198606-cc69f3559d794548b74b04765a557e45.png'>\n",
    "</td>"
   ]
  },
  {
   "cell_type": "markdown",
   "id": "6635d258",
   "metadata": {},
   "source": [
    "<td width='50%'>\n",
    "<img src='https://statisticsguruonline.com/wp-content/uploads/2019/02/positive-and-negative-correlation-definition.png'>\n",
    "</td>\n",
    "\n",
    "<td width='50%'>\n",
    "<img src='https://www.mbaskool.com/2013_images/stories/dec_images/pearson-coeff-bcon.jpg'>\n",
    "</td>"
   ]
  },
  {
   "cell_type": "markdown",
   "id": "0403c810",
   "metadata": {},
   "source": [
    " ### Covariance:\n",
    "        \n",
    "   * Covariance measures the direction of the relationship between two variables."
   ]
  },
  {
   "cell_type": "code",
   "execution_count": 74,
   "id": "d444a7fb",
   "metadata": {},
   "outputs": [
    {
     "data": {
      "text/html": [
       "<div>\n",
       "<style scoped>\n",
       "    .dataframe tbody tr th:only-of-type {\n",
       "        vertical-align: middle;\n",
       "    }\n",
       "\n",
       "    .dataframe tbody tr th {\n",
       "        vertical-align: top;\n",
       "    }\n",
       "\n",
       "    .dataframe thead th {\n",
       "        text-align: right;\n",
       "    }\n",
       "</style>\n",
       "<table border=\"1\" class=\"dataframe\">\n",
       "  <thead>\n",
       "    <tr style=\"text-align: right;\">\n",
       "      <th></th>\n",
       "      <th>target</th>\n",
       "      <th>number of character</th>\n",
       "      <th>num sentence</th>\n",
       "      <th>num word</th>\n",
       "    </tr>\n",
       "  </thead>\n",
       "  <tbody>\n",
       "    <tr>\n",
       "      <th>target</th>\n",
       "      <td>1.000000</td>\n",
       "      <td>0.384717</td>\n",
       "      <td>0.267602</td>\n",
       "      <td>0.262969</td>\n",
       "    </tr>\n",
       "    <tr>\n",
       "      <th>number of character</th>\n",
       "      <td>0.384717</td>\n",
       "      <td>1.000000</td>\n",
       "      <td>0.626118</td>\n",
       "      <td>0.965784</td>\n",
       "    </tr>\n",
       "    <tr>\n",
       "      <th>num sentence</th>\n",
       "      <td>0.267602</td>\n",
       "      <td>0.626118</td>\n",
       "      <td>1.000000</td>\n",
       "      <td>0.680882</td>\n",
       "    </tr>\n",
       "    <tr>\n",
       "      <th>num word</th>\n",
       "      <td>0.262969</td>\n",
       "      <td>0.965784</td>\n",
       "      <td>0.680882</td>\n",
       "      <td>1.000000</td>\n",
       "    </tr>\n",
       "  </tbody>\n",
       "</table>\n",
       "</div>"
      ],
      "text/plain": [
       "                       target  number of character  num sentence  num word\n",
       "target               1.000000             0.384717      0.267602  0.262969\n",
       "number of character  0.384717             1.000000      0.626118  0.965784\n",
       "num sentence         0.267602             0.626118      1.000000  0.680882\n",
       "num word             0.262969             0.965784      0.680882  1.000000"
      ]
     },
     "execution_count": 74,
     "metadata": {},
     "output_type": "execute_result"
    }
   ],
   "source": [
    "spam_data.corr()"
   ]
  },
  {
   "cell_type": "code",
   "execution_count": 75,
   "id": "11801920",
   "metadata": {},
   "outputs": [
    {
     "data": {
      "text/plain": [
       "0.2629691258780235"
      ]
     },
     "execution_count": 75,
     "metadata": {},
     "output_type": "execute_result"
    }
   ],
   "source": [
    "spam_data['target'].corr(spam_data['num word'])"
   ]
  },
  {
   "cell_type": "code",
   "execution_count": 76,
   "id": "5643de6a",
   "metadata": {},
   "outputs": [
    {
     "data": {
      "text/plain": [
       "<AxesSubplot:>"
      ]
     },
     "execution_count": 76,
     "metadata": {},
     "output_type": "execute_result"
    },
    {
     "data": {
      "image/png": "[encoded data removed]",
      "text/plain": [
       "<Figure size 432x288 with 2 Axes>"
      ]
     },
     "metadata": {
      "needs_background": "light"
     },
     "output_type": "display_data"
    }
   ],
   "source": [
    "sns.heatmap(spam_data.corr(), annot=True)"
   ]
  },
  {
   "cell_type": "markdown",
   "id": "5af855af",
   "metadata": {},
   "source": [
    "# Data shouldn't have Multi-collinearity:"
   ]
  },
  {
   "cell_type": "markdown",
   "id": "1bf302d8",
   "metadata": {},
   "source": [
    "<td width='50%'>\n",
    "<img src='https://cdn.wallstreetmojo.com/wp-content/uploads/2019/08/Multicollinearity.jpg'>\n",
    "</td>\n",
    "\n",
    "<td width='50%'>\n",
    "<img src='https://miro.medium.com/max/574/1*IjOfE2673aO55FD5x88OFQ.png'>\n",
    "</td>"
   ]
  },
  {
   "cell_type": "markdown",
   "id": "dcb15edf",
   "metadata": {},
   "source": [
    "<td width='50%'>\n",
    "<img src='https://cdn.wallstreetmojo.com/wp-content/uploads/2019/08/what-is-Multicollinearity.png'>\n",
    "</td>\n",
    "\n",
    "<td width='50%'>\n",
    "<img src='https://datatab.net/assets/tutorial/Multicollinearity.png'>\n",
    "</td>"
   ]
  },
  {
   "cell_type": "markdown",
   "id": "70ea037f",
   "metadata": {},
   "source": [
    "# Data Preprocessing:\n",
    "\n",
    "   * Converting all text in lower case!\n",
    "   * Using the concept of Tokenization!\n",
    "   * Removing all special characters!\n",
    "   * Removing all stop-words punctuation!\n",
    "   * Applying stemming on it!\n"
   ]
  },
  {
   "cell_type": "markdown",
   "id": "37ddb964",
   "metadata": {},
   "source": [
    "### What are examples of stop words?\n",
    "\n",
    "<img src='https://kavita-ganesan.com/wp-content/uploads/Understanding-Stop-Words-1.png'>\n",
    "\n",
    "Stop words are a set of commonly used words in a language. Examples of stop words in English are “a”, “the”, “is”, “are” and etc. Stop words are commonly used in Text Mining and Natural Language Processing (NLP) to eliminate words that are so commonly used that they carry very little useful information."
   ]
  },
  {
   "cell_type": "code",
   "execution_count": 77,
   "id": "856b1c21",
   "metadata": {},
   "outputs": [
    {
     "name": "stderr",
     "output_type": "stream",
     "text": [
      "[nltk_data] Downloading package stopwords to\n",
      "[nltk_data]     C:\\Users\\Lab02R05Pc35\\AppData\\Roaming\\nltk_data...\n",
      "[nltk_data]   Package stopwords is already up-to-date!\n"
     ]
    }
   ],
   "source": [
    "import nltk\n",
    "nltk.download('stopwords')\n",
    "from nltk.corpus import stopwords"
   ]
  },
  {
   "cell_type": "code",
   "execution_count": 78,
   "id": "2b28daaa",
   "metadata": {},
   "outputs": [],
   "source": [
    "stopwords = stopwords.words('english')"
   ]
  },
  {
   "cell_type": "code",
   "execution_count": 79,
   "id": "213811ee",
   "metadata": {},
   "outputs": [
    {
     "data": {
      "text/plain": [
       "['i',\n",
       " 'me',\n",
       " 'my',\n",
       " 'myself',\n",
       " 'we',\n",
       " 'our',\n",
       " 'ours',\n",
       " 'ourselves',\n",
       " 'you',\n",
       " \"you're\",\n",
       " \"you've\",\n",
       " \"you'll\",\n",
       " \"you'd\",\n",
       " 'your',\n",
       " 'yours',\n",
       " 'yourself',\n",
       " 'yourselves',\n",
       " 'he',\n",
       " 'him',\n",
       " 'his',\n",
       " 'himself',\n",
       " 'she',\n",
       " \"she's\",\n",
       " 'her',\n",
       " 'hers',\n",
       " 'herself',\n",
       " 'it',\n",
       " \"it's\",\n",
       " 'its',\n",
       " 'itself',\n",
       " 'they',\n",
       " 'them',\n",
       " 'their',\n",
       " 'theirs',\n",
       " 'themselves',\n",
       " 'what',\n",
       " 'which',\n",
       " 'who',\n",
       " 'whom',\n",
       " 'this',\n",
       " 'that',\n",
       " \"that'll\",\n",
       " 'these',\n",
       " 'those',\n",
       " 'am',\n",
       " 'is',\n",
       " 'are',\n",
       " 'was',\n",
       " 'were',\n",
       " 'be',\n",
       " 'been',\n",
       " 'being',\n",
       " 'have',\n",
       " 'has',\n",
       " 'had',\n",
       " 'having',\n",
       " 'do',\n",
       " 'does',\n",
       " 'did',\n",
       " 'doing',\n",
       " 'a',\n",
       " 'an',\n",
       " 'the',\n",
       " 'and',\n",
       " 'but',\n",
       " 'if',\n",
       " 'or',\n",
       " 'because',\n",
       " 'as',\n",
       " 'until',\n",
       " 'while',\n",
       " 'of',\n",
       " 'at',\n",
       " 'by',\n",
       " 'for',\n",
       " 'with',\n",
       " 'about',\n",
       " 'against',\n",
       " 'between',\n",
       " 'into',\n",
       " 'through',\n",
       " 'during',\n",
       " 'before',\n",
       " 'after',\n",
       " 'above',\n",
       " 'below',\n",
       " 'to',\n",
       " 'from',\n",
       " 'up',\n",
       " 'down',\n",
       " 'in',\n",
       " 'out',\n",
       " 'on',\n",
       " 'off',\n",
       " 'over',\n",
       " 'under',\n",
       " 'again',\n",
       " 'further',\n",
       " 'then',\n",
       " 'once',\n",
       " 'here',\n",
       " 'there',\n",
       " 'when',\n",
       " 'where',\n",
       " 'why',\n",
       " 'how',\n",
       " 'all',\n",
       " 'any',\n",
       " 'both',\n",
       " 'each',\n",
       " 'few',\n",
       " 'more',\n",
       " 'most',\n",
       " 'other',\n",
       " 'some',\n",
       " 'such',\n",
       " 'no',\n",
       " 'nor',\n",
       " 'not',\n",
       " 'only',\n",
       " 'own',\n",
       " 'same',\n",
       " 'so',\n",
       " 'than',\n",
       " 'too',\n",
       " 'very',\n",
       " 's',\n",
       " 't',\n",
       " 'can',\n",
       " 'will',\n",
       " 'just',\n",
       " 'don',\n",
       " \"don't\",\n",
       " 'should',\n",
       " \"should've\",\n",
       " 'now',\n",
       " 'd',\n",
       " 'll',\n",
       " 'm',\n",
       " 'o',\n",
       " 're',\n",
       " 've',\n",
       " 'y',\n",
       " 'ain',\n",
       " 'aren',\n",
       " \"aren't\",\n",
       " 'couldn',\n",
       " \"couldn't\",\n",
       " 'didn',\n",
       " \"didn't\",\n",
       " 'doesn',\n",
       " \"doesn't\",\n",
       " 'hadn',\n",
       " \"hadn't\",\n",
       " 'hasn',\n",
       " \"hasn't\",\n",
       " 'haven',\n",
       " \"haven't\",\n",
       " 'isn',\n",
       " \"isn't\",\n",
       " 'ma',\n",
       " 'mightn',\n",
       " \"mightn't\",\n",
       " 'mustn',\n",
       " \"mustn't\",\n",
       " 'needn',\n",
       " \"needn't\",\n",
       " 'shan',\n",
       " \"shan't\",\n",
       " 'shouldn',\n",
       " \"shouldn't\",\n",
       " 'wasn',\n",
       " \"wasn't\",\n",
       " 'weren',\n",
       " \"weren't\",\n",
       " 'won',\n",
       " \"won't\",\n",
       " 'wouldn',\n",
       " \"wouldn't\"]"
      ]
     },
     "execution_count": 79,
     "metadata": {},
     "output_type": "execute_result"
    }
   ],
   "source": [
    "stopwords"
   ]
  },
  {
   "cell_type": "code",
   "execution_count": 80,
   "id": "5943ac00",
   "metadata": {},
   "outputs": [],
   "source": [
    "import string"
   ]
  },
  {
   "cell_type": "code",
   "execution_count": 81,
   "id": "a12004c0",
   "metadata": {},
   "outputs": [],
   "source": [
    "punctuation = string.punctuation"
   ]
  },
  {
   "cell_type": "code",
   "execution_count": 82,
   "id": "adf4aa78",
   "metadata": {},
   "outputs": [
    {
     "data": {
      "text/plain": [
       "'!\"#$%&\\'()*+,-./:;<=>?@[\\\\]^_`{|}~'"
      ]
     },
     "execution_count": 82,
     "metadata": {},
     "output_type": "execute_result"
    }
   ],
   "source": [
    "punctuation"
   ]
  },
  {
   "cell_type": "markdown",
   "id": "d4a22c2f",
   "metadata": {},
   "source": [
    "### Stemming:\n",
    "\n",
    "Stemming is the process of reducing a word to its word stem that affixes to suffixes and prefixes or to the roots of words known as a lemma. Stemming is important in natural language understanding (NLU) and natural language processing (NLP)."
   ]
  },
  {
   "cell_type": "markdown",
   "id": "2e943b8b",
   "metadata": {},
   "source": [
    "<td width='33%'>\n",
    "<img src='https://i.ytimg.com/vi/p1ccbR2P_xA/maxresdefault.jpg'>\n",
    "</ td>\n",
    "\n",
    "\n",
    "<td width='33%'>\n",
    "<img src='https://d2mk45aasx86xg.cloudfront.net/difference_between_Stemming_and_lemmatization_8_11zon_452539721d.webp'>\n",
    "</ td>"
   ]
  },
  {
   "cell_type": "markdown",
   "id": "48c8c9e6",
   "metadata": {},
   "source": [
    "<a href='https://www.questionpro.com/blog/pearson-correlation-coefficient/'>Pearson correlation coefficient:</a>\n",
    "\n",
    "<a href='https://daringfireball.net/projects/markdown/syntax#html'>Markdown: Syntax :</a>\n",
    "\n",
    "<a href='https://ppt-online.org/456926'> Into to NLP & NLTK PDF:</a>"
   ]
  },
  {
   "cell_type": "code",
   "execution_count": 83,
   "id": "6ee97b15",
   "metadata": {},
   "outputs": [],
   "source": [
    "# stemming:\n",
    "\n",
    "from nltk.stem.porter import PorterStemmer"
   ]
  },
  {
   "cell_type": "code",
   "execution_count": 84,
   "id": "3c98c628",
   "metadata": {},
   "outputs": [],
   "source": [
    "ps = PorterStemmer()"
   ]
  },
  {
   "cell_type": "code",
   "execution_count": 85,
   "id": "4c051e39",
   "metadata": {},
   "outputs": [
    {
     "data": {
      "text/plain": [
       "'beauti'"
      ]
     },
     "execution_count": 85,
     "metadata": {},
     "output_type": "execute_result"
    }
   ],
   "source": [
    "ps.stem('beautiful')"
   ]
  },
  {
   "cell_type": "code",
   "execution_count": 86,
   "id": "92a81698",
   "metadata": {},
   "outputs": [
    {
     "data": {
      "text/plain": [
       "'clean'"
      ]
     },
     "execution_count": 86,
     "metadata": {},
     "output_type": "execute_result"
    }
   ],
   "source": [
    "ps.stem('cleaning')"
   ]
  },
  {
   "cell_type": "code",
   "execution_count": 87,
   "id": "bdd480aa",
   "metadata": {},
   "outputs": [],
   "source": [
    "def text_transformer(text):\n",
    "   # 1. Converting all text in lower case!\n",
    "    text = text.lower()\n",
    "   # 2.  Using the concept of Tokenization!\n",
    "    y  = []\n",
    "    text = nltk.word_tokenize(text)\n",
    "    for i in text:\n",
    "        if i.isalnum():\n",
    "            y.append(i)\n",
    "    text = y[:]\n",
    "    y.clear()\n",
    "\n",
    "   # 3.  Removing all special characters!\n",
    "   # 4. Removing all stop-words punctuation!\n",
    "    \n",
    "    for i in text:\n",
    "        if (i not in punctuation) & (i not in stopwords):\n",
    "            y.append(i)\n",
    "    text = y[:]\n",
    "    y.clear()\n",
    "    \n",
    "    # 5. Apply stemming!\n",
    "    \n",
    "    for i in text:\n",
    "        y.append(ps.stem(i))\n",
    "    return ' '.join(y)"
   ]
  },
  {
   "cell_type": "code",
   "execution_count": 88,
   "id": "6254e484",
   "metadata": {},
   "outputs": [
    {
     "data": {
      "text/plain": [
       "'hi name abdullah'"
      ]
     },
     "execution_count": 88,
     "metadata": {},
     "output_type": "execute_result"
    }
   ],
   "source": [
    "text_transformer('Hi, My name is Abdullah!')"
   ]
  },
  {
   "cell_type": "code",
   "execution_count": 89,
   "id": "dee0a5d7",
   "metadata": {},
   "outputs": [],
   "source": [
    "spam_data['transformed_text'] = spam_data.text.apply(text_transformer)"
   ]
  },
  {
   "cell_type": "code",
   "execution_count": 90,
   "id": "4d7197c6",
   "metadata": {},
   "outputs": [
    {
     "data": {
      "text/html": [
       "<div>\n",
       "<style scoped>\n",
       "    .dataframe tbody tr th:only-of-type {\n",
       "        vertical-align: middle;\n",
       "    }\n",
       "\n",
       "    .dataframe tbody tr th {\n",
       "        vertical-align: top;\n",
       "    }\n",
       "\n",
       "    .dataframe thead th {\n",
       "        text-align: right;\n",
       "    }\n",
       "</style>\n",
       "<table border=\"1\" class=\"dataframe\">\n",
       "  <thead>\n",
       "    <tr style=\"text-align: right;\">\n",
       "      <th></th>\n",
       "      <th>target</th>\n",
       "      <th>text</th>\n",
       "      <th>number of character</th>\n",
       "      <th>num sentence</th>\n",
       "      <th>num word</th>\n",
       "      <th>transformed_text</th>\n",
       "    </tr>\n",
       "  </thead>\n",
       "  <tbody>\n",
       "    <tr>\n",
       "      <th>2597</th>\n",
       "      <td>0</td>\n",
       "      <td>Got fujitsu, ibm, hp, toshiba... Got a lot of ...</td>\n",
       "      <td>65</td>\n",
       "      <td>1</td>\n",
       "      <td>18</td>\n",
       "      <td>got fujitsu ibm hp toshiba got lot model say</td>\n",
       "    </tr>\n",
       "    <tr>\n",
       "      <th>4929</th>\n",
       "      <td>1</td>\n",
       "      <td>Hi, the SEXYCHAT girls are waiting for you to ...</td>\n",
       "      <td>124</td>\n",
       "      <td>3</td>\n",
       "      <td>27</td>\n",
       "      <td>hi sexychat girl wait text text great night ch...</td>\n",
       "    </tr>\n",
       "    <tr>\n",
       "      <th>1089</th>\n",
       "      <td>0</td>\n",
       "      <td>Goodmorning today i am late for  &amp;lt;DECIMAL&amp;g...</td>\n",
       "      <td>53</td>\n",
       "      <td>1</td>\n",
       "      <td>15</td>\n",
       "      <td>goodmorn today late lt decim gt min</td>\n",
       "    </tr>\n",
       "  </tbody>\n",
       "</table>\n",
       "</div>"
      ],
      "text/plain": [
       "      target                                               text  \\\n",
       "2597       0  Got fujitsu, ibm, hp, toshiba... Got a lot of ...   \n",
       "4929       1  Hi, the SEXYCHAT girls are waiting for you to ...   \n",
       "1089       0  Goodmorning today i am late for  &lt;DECIMAL&g...   \n",
       "\n",
       "      number of character  num sentence  num word  \\\n",
       "2597                   65             1        18   \n",
       "4929                  124             3        27   \n",
       "1089                   53             1        15   \n",
       "\n",
       "                                       transformed_text  \n",
       "2597       got fujitsu ibm hp toshiba got lot model say  \n",
       "4929  hi sexychat girl wait text text great night ch...  \n",
       "1089                goodmorn today late lt decim gt min  "
      ]
     },
     "execution_count": 90,
     "metadata": {},
     "output_type": "execute_result"
    }
   ],
   "source": [
    "spam_data.sample(3)"
   ]
  },
  {
   "cell_type": "code",
   "execution_count": 91,
   "id": "3f205c67",
   "metadata": {},
   "outputs": [
    {
     "name": "stdout",
     "output_type": "stream",
     "text": [
      "Requirement already satisfied: wordcloud in c:\\programdata\\anaconda3\\lib\\site-packages (1.8.2.2)\n",
      "Requirement already satisfied: pillow in c:\\programdata\\anaconda3\\lib\\site-packages (from wordcloud) (8.4.0)\n",
      "Requirement already satisfied: numpy>=1.6.1 in c:\\programdata\\anaconda3\\lib\\site-packages (from wordcloud) (1.20.3)\n",
      "Requirement already satisfied: matplotlib in c:\\programdata\\anaconda3\\lib\\site-packages (from wordcloud) (3.4.3)\n",
      "Requirement already satisfied: cycler>=0.10 in c:\\programdata\\anaconda3\\lib\\site-packages (from matplotlib->wordcloud) (0.10.0)\n",
      "Requirement already satisfied: pyparsing>=2.2.1 in c:\\programdata\\anaconda3\\lib\\site-packages (from matplotlib->wordcloud) (3.0.4)\n",
      "Requirement already satisfied: kiwisolver>=1.0.1 in c:\\programdata\\anaconda3\\lib\\site-packages (from matplotlib->wordcloud) (1.3.1)\n",
      "Requirement already satisfied: python-dateutil>=2.7 in c:\\programdata\\anaconda3\\lib\\site-packages (from matplotlib->wordcloud) (2.8.2)\n",
      "Requirement already satisfied: six in c:\\programdata\\anaconda3\\lib\\site-packages (from cycler>=0.10->matplotlib->wordcloud) (1.16.0)\n"
     ]
    }
   ],
   "source": [
    "! pip install wordcloud"
   ]
  },
  {
   "cell_type": "code",
   "execution_count": 92,
   "id": "944d2ccc",
   "metadata": {},
   "outputs": [],
   "source": [
    "import wordcloud"
   ]
  },
  {
   "cell_type": "code",
   "execution_count": 93,
   "id": "37a3aeb0",
   "metadata": {},
   "outputs": [],
   "source": [
    "from wordcloud import WordCloud"
   ]
  },
  {
   "cell_type": "code",
   "execution_count": 94,
   "id": "9b177882",
   "metadata": {},
   "outputs": [],
   "source": [
    "wc = WordCloud(width=800, height=400, min_font_size=10, background_color='black')"
   ]
  },
  {
   "cell_type": "code",
   "execution_count": 95,
   "id": "9967ea80",
   "metadata": {},
   "outputs": [],
   "source": [
    "spam_word_cloud = wc.generate(spam_data[spam_data['target']==1]['transformed_text'].str.cat(sep=' '))"
   ]
  },
  {
   "cell_type": "code",
   "execution_count": 96,
   "id": "c478d3d8",
   "metadata": {},
   "outputs": [
    {
     "data": {
      "text/plain": [
       "<matplotlib.image.AxesImage at 0x29118fd4790>"
      ]
     },
     "execution_count": 96,
     "metadata": {},
     "output_type": "execute_result"
    },
    {
     "data": {
      "image/png": "[encoded data removed]",
      "text/plain": [
       "<Figure size 1008x720 with 1 Axes>"
      ]
     },
     "metadata": {
      "needs_background": "light"
     },
     "output_type": "display_data"
    }
   ],
   "source": [
    "plt.figure(figsize=(14, 10))\n",
    "plt.imshow(spam_word_cloud)"
   ]
  },
  {
   "cell_type": "markdown",
   "id": "11ebea12",
   "metadata": {},
   "source": [
    "# Corpus:\n",
    "\n",
    "- A collection of authentic text or audio organized into datasets.\n",
    "- We need to make corpus\n"
   ]
  },
  {
   "cell_type": "code",
   "execution_count": 97,
   "id": "dab23cbf",
   "metadata": {},
   "outputs": [],
   "source": [
    "spam_corpus = []"
   ]
  },
  {
   "cell_type": "code",
   "execution_count": 98,
   "id": "753ccd89",
   "metadata": {},
   "outputs": [],
   "source": [
    "for message_text in spam_data[spam_data.target == 1]['transformed_text'].to_list():\n",
    "    for i in message_text.split():\n",
    "        spam_corpus.append(i)"
   ]
  },
  {
   "cell_type": "code",
   "execution_count": 99,
   "id": "4969ab42",
   "metadata": {},
   "outputs": [
    {
     "data": {
      "text/plain": [
       "9939"
      ]
     },
     "execution_count": 99,
     "metadata": {},
     "output_type": "execute_result"
    }
   ],
   "source": [
    "len(spam_corpus)"
   ]
  },
  {
   "cell_type": "code",
   "execution_count": 100,
   "id": "6f6f19bc",
   "metadata": {},
   "outputs": [],
   "source": [
    "from collections import Counter"
   ]
  },
  {
   "cell_type": "code",
   "execution_count": 101,
   "id": "d03ab544",
   "metadata": {},
   "outputs": [
    {
     "data": {
      "text/plain": [
       "Counter({'free': 191,\n",
       "         'entri': 21,\n",
       "         '2': 155,\n",
       "         'wkli': 9,\n",
       "         'comp': 8,\n",
       "         'win': 48,\n",
       "         'fa': 2,\n",
       "         'cup': 3,\n",
       "         'final': 14,\n",
       "         'tkt': 2,\n",
       "         '21st': 1,\n",
       "         'may': 6,\n",
       "         'text': 122,\n",
       "         '87121': 2,\n",
       "         'receiv': 31,\n",
       "         'question': 9,\n",
       "         'std': 6,\n",
       "         'txt': 141,\n",
       "         'rate': 26,\n",
       "         'c': 45,\n",
       "         'appli': 24,\n",
       "         '08452810075over18': 1,\n",
       "         'freemsg': 14,\n",
       "         'hey': 5,\n",
       "         'darl': 2,\n",
       "         '3': 20,\n",
       "         'week': 49,\n",
       "         'word': 21,\n",
       "         'back': 20,\n",
       "         'like': 12,\n",
       "         'fun': 8,\n",
       "         'still': 5,\n",
       "         'tb': 1,\n",
       "         'ok': 5,\n",
       "         'xxx': 10,\n",
       "         'chg': 2,\n",
       "         'send': 60,\n",
       "         'rcv': 2,\n",
       "         'winner': 13,\n",
       "         'valu': 8,\n",
       "         'network': 26,\n",
       "         'custom': 42,\n",
       "         'select': 26,\n",
       "         'receivea': 1,\n",
       "         'prize': 82,\n",
       "         'reward': 9,\n",
       "         'claim': 98,\n",
       "         'call': 320,\n",
       "         'code': 27,\n",
       "         'kl341': 1,\n",
       "         'valid': 21,\n",
       "         '12': 3,\n",
       "         'hour': 4,\n",
       "         'mobil': 114,\n",
       "         '11': 3,\n",
       "         'month': 5,\n",
       "         'u': 119,\n",
       "         'r': 24,\n",
       "         'entitl': 6,\n",
       "         'updat': 14,\n",
       "         'latest': 30,\n",
       "         'colour': 14,\n",
       "         'camera': 23,\n",
       "         'co': 3,\n",
       "         '08002986030': 1,\n",
       "         'six': 2,\n",
       "         'chanc': 22,\n",
       "         'cash': 51,\n",
       "         '100': 14,\n",
       "         'pound': 19,\n",
       "         'csh11': 1,\n",
       "         'cost': 24,\n",
       "         '6day': 1,\n",
       "         'tsandc': 1,\n",
       "         'repli': 103,\n",
       "         'hl': 3,\n",
       "         '4': 97,\n",
       "         'info': 11,\n",
       "         'urgent': 57,\n",
       "         '1': 28,\n",
       "         'membership': 1,\n",
       "         'jackpot': 1,\n",
       "         '81010': 1,\n",
       "         'lccltd': 1,\n",
       "         'pobox': 11,\n",
       "         '4403ldnw1a7rw18': 1,\n",
       "         'xxxmobilemovieclub': 1,\n",
       "         'use': 12,\n",
       "         'credit': 18,\n",
       "         'click': 5,\n",
       "         'wap': 9,\n",
       "         'link': 6,\n",
       "         'next': 16,\n",
       "         'messag': 42,\n",
       "         'http': 18,\n",
       "         'england': 7,\n",
       "         'v': 4,\n",
       "         'macedonia': 1,\n",
       "         'dont': 9,\n",
       "         'miss': 8,\n",
       "         'news': 8,\n",
       "         'ur': 119,\n",
       "         'nation': 11,\n",
       "         'team': 2,\n",
       "         '87077': 8,\n",
       "         'eg': 11,\n",
       "         'tri': 37,\n",
       "         'wale': 1,\n",
       "         'scotland': 1,\n",
       "         'poboxox36504w45wq': 1,\n",
       "         'thank': 16,\n",
       "         'subscript': 5,\n",
       "         'rington': 30,\n",
       "         'uk': 20,\n",
       "         'charg': 22,\n",
       "         'pleas': 51,\n",
       "         'confirm': 1,\n",
       "         'ye': 12,\n",
       "         '07732584351': 1,\n",
       "         'rodger': 1,\n",
       "         'burn': 1,\n",
       "         'msg': 35,\n",
       "         'sm': 22,\n",
       "         'nokia': 57,\n",
       "         'camcord': 15,\n",
       "         '08000930705': 16,\n",
       "         'deliveri': 18,\n",
       "         'tomorrow': 10,\n",
       "         'ac': 4,\n",
       "         'sptv': 2,\n",
       "         'new': 64,\n",
       "         'jersey': 1,\n",
       "         'devil': 1,\n",
       "         'detroit': 1,\n",
       "         'red': 1,\n",
       "         'wing': 1,\n",
       "         'play': 14,\n",
       "         'ice': 1,\n",
       "         'hockey': 1,\n",
       "         'correct': 4,\n",
       "         'incorrect': 1,\n",
       "         'end': 24,\n",
       "         'congrat': 6,\n",
       "         'year': 9,\n",
       "         'special': 16,\n",
       "         'cinema': 2,\n",
       "         'pass': 5,\n",
       "         '09061209465': 2,\n",
       "         'suprman': 2,\n",
       "         'matrix3': 2,\n",
       "         'starwars3': 2,\n",
       "         'etc': 6,\n",
       "         '150pm': 4,\n",
       "         'advis': 2,\n",
       "         'follow': 10,\n",
       "         'recent': 4,\n",
       "         'review': 3,\n",
       "         'mob': 20,\n",
       "         'award': 55,\n",
       "         'bonu': 17,\n",
       "         '09066364589': 1,\n",
       "         'complimentari': 11,\n",
       "         'trip': 3,\n",
       "         'eurodisinc': 1,\n",
       "         'trav': 1,\n",
       "         'aco': 1,\n",
       "         'entry41': 1,\n",
       "         'di': 1,\n",
       "         'morefrmmob': 1,\n",
       "         'shracomorsglsuplt': 1,\n",
       "         '10': 7,\n",
       "         'ls1': 1,\n",
       "         '3aj': 1,\n",
       "         'hear': 3,\n",
       "         'come': 5,\n",
       "         'ken': 1,\n",
       "         'stuff': 1,\n",
       "         'servic': 64,\n",
       "         'repres': 6,\n",
       "         '0800': 9,\n",
       "         '169': 1,\n",
       "         '6031': 1,\n",
       "         'guarante': 42,\n",
       "         'wait': 17,\n",
       "         'collect': 45,\n",
       "         'simpli': 2,\n",
       "         'password': 2,\n",
       "         '85069': 1,\n",
       "         'verifi': 2,\n",
       "         'get': 74,\n",
       "         'usher': 1,\n",
       "         'britney': 1,\n",
       "         'fml': 1,\n",
       "         'gent': 2,\n",
       "         'contact': 56,\n",
       "         'last': 12,\n",
       "         'weekend': 13,\n",
       "         'draw': 35,\n",
       "         'show': 33,\n",
       "         'k52': 3,\n",
       "         '12hr': 16,\n",
       "         '150ppm': 29,\n",
       "         'holiday': 27,\n",
       "         'flight': 6,\n",
       "         'inc': 7,\n",
       "         'speak': 7,\n",
       "         'live': 22,\n",
       "         'oper': 11,\n",
       "         'privat': 16,\n",
       "         '2004': 7,\n",
       "         'account': 18,\n",
       "         'statement': 15,\n",
       "         '07742676969': 1,\n",
       "         '786': 3,\n",
       "         'unredeem': 3,\n",
       "         'point': 15,\n",
       "         '08719180248': 1,\n",
       "         'identifi': 15,\n",
       "         '45239': 2,\n",
       "         'expir': 17,\n",
       "         'caller': 12,\n",
       "         'landlin': 30,\n",
       "         '09064019788': 1,\n",
       "         'box42wr29c': 1,\n",
       "         'today': 33,\n",
       "         'voda': 5,\n",
       "         'number': 35,\n",
       "         '7548': 1,\n",
       "         '350': 2,\n",
       "         'match': 14,\n",
       "         '08712300220': 6,\n",
       "         'quot': 6,\n",
       "         '4041': 1,\n",
       "         'standard': 6,\n",
       "         'app': 4,\n",
       "         'sunshin': 5,\n",
       "         'quiz': 9,\n",
       "         'q': 2,\n",
       "         'top': 14,\n",
       "         'soni': 5,\n",
       "         'dvd': 5,\n",
       "         'player': 10,\n",
       "         'know': 19,\n",
       "         'countri': 2,\n",
       "         'algarv': 1,\n",
       "         'ansr': 2,\n",
       "         'sp': 6,\n",
       "         'tyron': 2,\n",
       "         'want': 31,\n",
       "         'laid': 4,\n",
       "         'tonight': 3,\n",
       "         'real': 12,\n",
       "         'dog': 12,\n",
       "         'locat': 5,\n",
       "         'sent': 10,\n",
       "         'direct': 10,\n",
       "         'join': 18,\n",
       "         'largest': 4,\n",
       "         'bt': 5,\n",
       "         'txting': 7,\n",
       "         'gravel': 1,\n",
       "         '69888': 2,\n",
       "         'nt': 1,\n",
       "         'ec2a': 4,\n",
       "         '150p': 26,\n",
       "         'chat': 38,\n",
       "         'svc': 1,\n",
       "         'hardcor': 2,\n",
       "         'go': 32,\n",
       "         '69988': 1,\n",
       "         'noth': 4,\n",
       "         'must': 5,\n",
       "         'age': 9,\n",
       "         'yr': 14,\n",
       "         'randi': 2,\n",
       "         'sexi': 14,\n",
       "         'femal': 1,\n",
       "         'local': 5,\n",
       "         'luv': 5,\n",
       "         'netcollex': 4,\n",
       "         'ltd': 11,\n",
       "         '08700621170150p': 2,\n",
       "         'per': 41,\n",
       "         'stop': 104,\n",
       "         'annonc': 1,\n",
       "         '07046744435': 1,\n",
       "         'arrang': 2,\n",
       "         '0871277810810': 1,\n",
       "         'bootydeli': 1,\n",
       "         'invit': 10,\n",
       "         'friend': 13,\n",
       "         'see': 16,\n",
       "         'frnd': 5,\n",
       "         '62468': 5,\n",
       "         'bangbab': 1,\n",
       "         'order': 17,\n",
       "         'way': 1,\n",
       "         'download': 7,\n",
       "         'content': 14,\n",
       "         'goto': 5,\n",
       "         'bangb': 1,\n",
       "         'tv': 3,\n",
       "         'menu': 1,\n",
       "         's89': 1,\n",
       "         'freephon': 4,\n",
       "         '0808': 1,\n",
       "         '145': 1,\n",
       "         '4742': 1,\n",
       "         'uniqu': 2,\n",
       "         'enough': 2,\n",
       "         'find': 21,\n",
       "         '30th': 1,\n",
       "         'august': 2,\n",
       "         '500': 19,\n",
       "         '89545': 3,\n",
       "         '2optout': 4,\n",
       "         'meet': 5,\n",
       "         'dream': 2,\n",
       "         'partner': 5,\n",
       "         'soon': 2,\n",
       "         'career': 1,\n",
       "         'flyng': 1,\n",
       "         'start': 12,\n",
       "         'horo': 2,\n",
       "         'star': 3,\n",
       "         'sign': 2,\n",
       "         'ari': 1,\n",
       "         'someon': 13,\n",
       "         'date': 26,\n",
       "         'even': 7,\n",
       "         'flirt': 5,\n",
       "         '10p': 13,\n",
       "         'name': 15,\n",
       "         'sam': 2,\n",
       "         '25': 3,\n",
       "         '18': 20,\n",
       "         'recd': 3,\n",
       "         'thirtyeight': 1,\n",
       "         'penc': 3,\n",
       "         '447801259231': 1,\n",
       "         'secret': 7,\n",
       "         'admir': 7,\n",
       "         'look': 9,\n",
       "         'make': 11,\n",
       "         'reveal': 12,\n",
       "         'think': 11,\n",
       "         '09058094597': 1,\n",
       "         'congratul': 12,\n",
       "         'cd': 11,\n",
       "         'voucher': 28,\n",
       "         '125gift': 2,\n",
       "         'music': 15,\n",
       "         '87066': 10,\n",
       "         'tnc': 7,\n",
       "         'offer': 33,\n",
       "         'video': 29,\n",
       "         'handset': 6,\n",
       "         '750': 17,\n",
       "         'anytim': 12,\n",
       "         'min': 45,\n",
       "         'unlimit': 10,\n",
       "         'realli': 1,\n",
       "         'horni': 7,\n",
       "         'nake': 1,\n",
       "         'hot': 13,\n",
       "         '69698': 2,\n",
       "         'unsubscrib': 17,\n",
       "         'chang': 1,\n",
       "         'choos': 9,\n",
       "         'club': 19,\n",
       "         '87070': 1,\n",
       "         'club4': 1,\n",
       "         'po': 24,\n",
       "         'box1146': 1,\n",
       "         'mk45': 1,\n",
       "         '2wt': 1,\n",
       "         'singl': 5,\n",
       "         'chart': 3,\n",
       "         'qualiti': 2,\n",
       "         'hmv': 4,\n",
       "         'genuin': 1,\n",
       "         'answer': 6,\n",
       "         'easi': 10,\n",
       "         '86688': 14,\n",
       "         'phone': 52,\n",
       "         'upgrad': 4,\n",
       "         'pay': 2,\n",
       "         'sim': 2,\n",
       "         'card': 4,\n",
       "         'loyalti': 6,\n",
       "         '0845': 3,\n",
       "         '021': 2,\n",
       "         'blind': 2,\n",
       "         '4u': 4,\n",
       "         'rodds1': 1,\n",
       "         'aberdeen': 1,\n",
       "         'unit': 1,\n",
       "         'kingdom': 1,\n",
       "         'check': 4,\n",
       "         'hide': 1,\n",
       "         'themob': 5,\n",
       "         'newest': 3,\n",
       "         'game': 20,\n",
       "         'tone': 63,\n",
       "         'gossip': 1,\n",
       "         'babe': 10,\n",
       "         'sport': 7,\n",
       "         'keep': 5,\n",
       "         'fit': 1,\n",
       "         'funki': 1,\n",
       "         '82468': 2,\n",
       "         'smart': 2,\n",
       "         'weekli': 20,\n",
       "         '85222': 1,\n",
       "         'cs': 35,\n",
       "         'winnersclub': 1,\n",
       "         'box': 26,\n",
       "         '84': 1,\n",
       "         'm26': 3,\n",
       "         '3uz': 3,\n",
       "         'decemb': 4,\n",
       "         '08002986906': 3,\n",
       "         'germani': 3,\n",
       "         'minut': 12,\n",
       "         'fix': 2,\n",
       "         'line': 33,\n",
       "         'via': 3,\n",
       "         'access': 8,\n",
       "         '0844': 2,\n",
       "         '861': 2,\n",
       "         '85': 2,\n",
       "         'prepay': 2,\n",
       "         'valentin': 3,\n",
       "         'day': 26,\n",
       "         'take': 16,\n",
       "         'lifetim': 2,\n",
       "         '83600': 3,\n",
       "         'rcvd': 5,\n",
       "         'fanci': 12,\n",
       "         'shag': 2,\n",
       "         'xxuk': 1,\n",
       "         'suzi': 1,\n",
       "         'websit': 1,\n",
       "         'x': 8,\n",
       "         'current': 11,\n",
       "         'maxim': 7,\n",
       "         'cc': 6,\n",
       "         '08708800282': 1,\n",
       "         'xma': 15,\n",
       "         'motorola': 10,\n",
       "         'sonyericsson': 5,\n",
       "         'bluetooth': 7,\n",
       "         'doubl': 13,\n",
       "         '1000': 9,\n",
       "         'orang': 24,\n",
       "         'mobileupd8': 13,\n",
       "         '08000839402': 12,\n",
       "         'discount': 6,\n",
       "         'rp176781': 1,\n",
       "         '08717205546': 1,\n",
       "         'refer': 4,\n",
       "         't91': 1,\n",
       "         'gbp': 1,\n",
       "         '09057039994': 1,\n",
       "         '6month': 1,\n",
       "         'avail': 2,\n",
       "         '4mth': 2,\n",
       "         'half': 12,\n",
       "         'price': 15,\n",
       "         'rental': 11,\n",
       "         '11mth': 3,\n",
       "         'mobilesdirect': 2,\n",
       "         '08000938767': 2,\n",
       "         'or2stoptxt': 2,\n",
       "         'first': 6,\n",
       "         '87131': 3,\n",
       "         'poli': 22,\n",
       "         'true': 2,\n",
       "         'help': 12,\n",
       "         '2814032': 1,\n",
       "         '16': 18,\n",
       "         '1st': 19,\n",
       "         'cal': 1,\n",
       "         'l': 1,\n",
       "         '09064012103': 1,\n",
       "         'box334sk38ch': 2,\n",
       "         'competit': 2,\n",
       "         '80086': 2,\n",
       "         'logo': 6,\n",
       "         'lover': 2,\n",
       "         'heart': 3,\n",
       "         'love': 10,\n",
       "         'name1': 2,\n",
       "         'name2': 2,\n",
       "         'mobno': 2,\n",
       "         'adam': 2,\n",
       "         'eve': 5,\n",
       "         '07123456789': 2,\n",
       "         'yahoo': 2,\n",
       "         'pobox36504w45wq': 5,\n",
       "         'txtno': 2,\n",
       "         'ad': 4,\n",
       "         'enter': 15,\n",
       "         '09111032124': 1,\n",
       "         'pobox12n146tf150p': 1,\n",
       "         '09058094455': 1,\n",
       "         'land': 16,\n",
       "         '3650': 1,\n",
       "         '09066382422': 1,\n",
       "         'ave': 2,\n",
       "         '3min': 3,\n",
       "         'vari': 4,\n",
       "         'close': 3,\n",
       "         '300603': 1,\n",
       "         'post': 4,\n",
       "         'bcm4284': 1,\n",
       "         'ldn': 7,\n",
       "         'wc1n3xx': 3,\n",
       "         'loan': 3,\n",
       "         'purpos': 2,\n",
       "         'homeown': 1,\n",
       "         'tenant': 2,\n",
       "         'welcom': 8,\n",
       "         'previous': 1,\n",
       "         'refus': 2,\n",
       "         '1956669': 1,\n",
       "         'upgrdcentr': 1,\n",
       "         '0207': 2,\n",
       "         '153': 2,\n",
       "         '26th': 1,\n",
       "         'juli': 2,\n",
       "         'okmail': 1,\n",
       "         'dear': 16,\n",
       "         'dave': 2,\n",
       "         'notic': 3,\n",
       "         'tenerif': 7,\n",
       "         '5000': 4,\n",
       "         '09061743806': 2,\n",
       "         'tc': 7,\n",
       "         'sae': 18,\n",
       "         'box326': 2,\n",
       "         'cw25wx': 4,\n",
       "         'moan': 1,\n",
       "         '69888nyt': 1,\n",
       "         'activ': 5,\n",
       "         'term': 8,\n",
       "         'condit': 4,\n",
       "         'visit': 5,\n",
       "         '09050002311': 1,\n",
       "         'b4280703': 1,\n",
       "         '40gb': 6,\n",
       "         'ipod': 10,\n",
       "         'mp3': 5,\n",
       "         '83355': 4,\n",
       "         'ibhltd': 3,\n",
       "         'ldnw15h': 3,\n",
       "         'boltblu': 1,\n",
       "         'mono': 4,\n",
       "         'poly3': 1,\n",
       "         'cha': 2,\n",
       "         'slide': 1,\n",
       "         'yeah': 1,\n",
       "         'slow': 1,\n",
       "         'jamz': 1,\n",
       "         'toxic': 1,\n",
       "         'renew': 3,\n",
       "         'pin': 1,\n",
       "         'tgxxrz': 1,\n",
       "         '2nd': 19,\n",
       "         'attempt': 22,\n",
       "         'box95qu': 3,\n",
       "         'worth': 8,\n",
       "         '85023': 4,\n",
       "         'savamob': 8,\n",
       "         'member': 6,\n",
       "         'sub': 5,\n",
       "         'unsub': 3,\n",
       "         'reciev': 1,\n",
       "         'within': 4,\n",
       "         '24hr': 2,\n",
       "         'channel': 1,\n",
       "         'teletext': 1,\n",
       "         'pg': 1,\n",
       "         '2003': 13,\n",
       "         '07815296484': 1,\n",
       "         '800': 13,\n",
       "         '08718738001': 2,\n",
       "         '41782': 1,\n",
       "         'monthlysubscript': 1,\n",
       "         'csc': 1,\n",
       "         'web': 2,\n",
       "         'age16': 6,\n",
       "         '2stop': 1,\n",
       "         'call09050000327': 2,\n",
       "         'us': 7,\n",
       "         'ring': 5,\n",
       "         '09050005321': 1,\n",
       "         '150': 9,\n",
       "         'textand': 1,\n",
       "         '08002988890': 1,\n",
       "         'shop': 10,\n",
       "         'spree': 6,\n",
       "         'custcar': 7,\n",
       "         '08715705022': 3,\n",
       "         '2000': 2,\n",
       "         '08712402050': 2,\n",
       "         '10ppm': 2,\n",
       "         'ag': 2,\n",
       "         'promo': 2,\n",
       "         '07753741225': 1,\n",
       "         '08715203677': 1,\n",
       "         '42478': 1,\n",
       "         'import': 11,\n",
       "         'announc': 5,\n",
       "         '542': 3,\n",
       "         '0825': 1,\n",
       "         'xclusiv': 1,\n",
       "         'clubsaisai': 1,\n",
       "         '2morow': 1,\n",
       "         'soire': 1,\n",
       "         'zouk': 1,\n",
       "         'nichol': 1,\n",
       "         'rose': 1,\n",
       "         'ladi': 3,\n",
       "         '22': 1,\n",
       "         'kick': 3,\n",
       "         'euro2004': 3,\n",
       "         'kept': 2,\n",
       "         'result': 2,\n",
       "         'daili': 3,\n",
       "         'remov': 7,\n",
       "         '83222': 2,\n",
       "         'textbuddi': 2,\n",
       "         'guy': 5,\n",
       "         'area': 8,\n",
       "         '25p': 7,\n",
       "         'search': 2,\n",
       "         'postcod': 3,\n",
       "         'one': 10,\n",
       "         '89693': 2,\n",
       "         'vodafon': 5,\n",
       "         '4882': 1,\n",
       "         '09064019014': 1,\n",
       "         'holder': 6,\n",
       "         'pc': 6,\n",
       "         'ts': 9,\n",
       "         '80062': 5,\n",
       "         '08715203694': 1,\n",
       "         '40533': 2,\n",
       "         'rstm': 2,\n",
       "         'sw7': 2,\n",
       "         '3ss': 2,\n",
       "         '88800': 1,\n",
       "         '89034': 1,\n",
       "         'premium': 2,\n",
       "         '08718711108': 1,\n",
       "         'sun0819': 1,\n",
       "         'hello': 4,\n",
       "         'seem': 1,\n",
       "         'cool': 1,\n",
       "         'gr8': 7,\n",
       "         '20': 3,\n",
       "         'everi': 26,\n",
       "         'wk': 17,\n",
       "         'opt': 10,\n",
       "         '08452810071': 1,\n",
       "         'hi': 15,\n",
       "         'sue': 2,\n",
       "         'old': 2,\n",
       "         'work': 3,\n",
       "         'lapdanc': 1,\n",
       "         'sex': 10,\n",
       "         'bedroom': 1,\n",
       "         'textoper': 3,\n",
       "         'g2': 1,\n",
       "         '1da': 1,\n",
       "         '150ppmsg': 1,\n",
       "         'forward': 4,\n",
       "         '448712404000': 1,\n",
       "         '08712404000': 1,\n",
       "         'immedi': 5,\n",
       "         'fantast': 7,\n",
       "         'deck': 1,\n",
       "         'alert': 5,\n",
       "         '08714712388': 1,\n",
       "         '09071512433': 2,\n",
       "         'b4': 6,\n",
       "         '050703': 2,\n",
       "         'csbcm4235wc1n3xx': 2,\n",
       "         'callcost': 2,\n",
       "         'mobilesvari': 2,\n",
       "         '50': 3,\n",
       "         '08714712394': 1,\n",
       "         'email': 2,\n",
       "         'alertfrom': 1,\n",
       "         'jeri': 1,\n",
       "         'stewarts': 1,\n",
       "         '2kbsubject': 1,\n",
       "         'prescripiton': 1,\n",
       "         'drvgsto': 1,\n",
       "         'listen': 3,\n",
       "         '123': 1,\n",
       "         'nokia6650': 2,\n",
       "         'txtauction': 5,\n",
       "         '81151': 2,\n",
       "         '4t': 3,\n",
       "         'ctxt': 2,\n",
       "         'subscrib': 9,\n",
       "         'best': 7,\n",
       "         'helplin': 2,\n",
       "         '08706091795': 2,\n",
       "         'realiz': 1,\n",
       "         '40': 2,\n",
       "         'thousand': 1,\n",
       "         'run': 1,\n",
       "         'around': 2,\n",
       "         'tattoo': 1,\n",
       "         'premier': 2,\n",
       "         'romant': 1,\n",
       "         'pari': 3,\n",
       "         'night': 7,\n",
       "         'book': 6,\n",
       "         '08704439680t': 1,\n",
       "         'unclaim': 1,\n",
       "         '09066368327': 1,\n",
       "         'claimcod': 1,\n",
       "         'm39m51': 1,\n",
       "         'citi': 3,\n",
       "         'break': 5,\n",
       "         'could': 7,\n",
       "         'summer': 7,\n",
       "         'store': 7,\n",
       "         '88039': 2,\n",
       "         'skilgm': 3,\n",
       "         'tscs087147403231winawk': 2,\n",
       "         '0578': 2,\n",
       "         'ever': 3,\n",
       "         'thought': 1,\n",
       "         'good': 12,\n",
       "         'life': 3,\n",
       "         'perfect': 1,\n",
       "         'commun': 2,\n",
       "         '5': 8,\n",
       "         'polyphon': 4,\n",
       "         '087018728737': 1,\n",
       "         'toppoli': 1,\n",
       "         'tune': 1,\n",
       "         'subpoli': 2,\n",
       "         '81618': 1,\n",
       "         'pole': 1,\n",
       "         '08718727870': 2,\n",
       "         '14thmarch': 1,\n",
       "         'availa': 1,\n",
       "         'pobox84': 4,\n",
       "         'm263uz': 2,\n",
       "         'no1': 5,\n",
       "         '8077': 1,\n",
       "         'tell': 13,\n",
       "         'mate': 8,\n",
       "         '36504': 4,\n",
       "         'w45wq': 3,\n",
       "         'cashto': 2,\n",
       "         '08000407165': 2,\n",
       "         'getstop': 2,\n",
       "         '88222': 2,\n",
       "         'php': 2,\n",
       "         'rg21': 1,\n",
       "         '4jx': 1,\n",
       "         'either': 8,\n",
       "         'gift': 16,\n",
       "         'outbid': 1,\n",
       "         'simonwatson5120': 1,\n",
       "         'shinco': 1,\n",
       "         'plyr': 1,\n",
       "         'bid': 8,\n",
       "         'notif': 1,\n",
       "         'smsservic': 1,\n",
       "         'yourinclus': 1,\n",
       "         'pl': 8,\n",
       "         '3qxj9': 3,\n",
       "         'extra': 6,\n",
       "         '9ae': 3,\n",
       "         'alfi': 3,\n",
       "         'moon': 3,\n",
       "         'children': 3,\n",
       "         'need': 11,\n",
       "         'song': 3,\n",
       "         'm8': 4,\n",
       "         'chariti': 9,\n",
       "         '8007': 19,\n",
       "         'zed': 6,\n",
       "         '08701417012': 3,\n",
       "         'profit': 3,\n",
       "         'cust': 3,\n",
       "         'care': 6,\n",
       "         '07821230901': 1,\n",
       "         'five': 3,\n",
       "         '08002888812': 2,\n",
       "         'wed': 2,\n",
       "         '09066350750': 2,\n",
       "         'ibiza': 4,\n",
       "         'await': 24,\n",
       "         '434': 3,\n",
       "         'sk3': 3,\n",
       "         '8wp': 3,\n",
       "         'ppm': 4,\n",
       "         'talk': 5,\n",
       "         'fall': 1,\n",
       "         'world': 2,\n",
       "         'discreet': 2,\n",
       "         'vip': 4,\n",
       "         '83110': 1,\n",
       "         'suppli': 2,\n",
       "         'virgin': 2,\n",
       "         'record': 6,\n",
       "         'mysteri': 1,\n",
       "         '09061104283': 1,\n",
       "         'approx': 1,\n",
       "         '07808': 1,\n",
       "         'xxxxxx': 1,\n",
       "         '08719899217': 1,\n",
       "         '41685': 2,\n",
       "         'posh': 1,\n",
       "         'bird': 1,\n",
       "         'chap': 1,\n",
       "         'user': 8,\n",
       "         'trial': 1,\n",
       "         'prod': 1,\n",
       "         'champney': 1,\n",
       "         'put': 1,\n",
       "         'address': 3,\n",
       "         'dob': 1,\n",
       "         'asap': 6,\n",
       "         'ta': 1,\n",
       "         '0721072': 1,\n",
       "         'till': 2,\n",
       "         'drop': 1,\n",
       "         '10k': 2,\n",
       "         '5k': 1,\n",
       "         'travel': 1,\n",
       "         'ntt': 7,\n",
       "         'cr01327bt': 1,\n",
       "         'fixedlin': 1,\n",
       "         'liverpool': 2,\n",
       "         'mid': 1,\n",
       "         '09058094565': 2,\n",
       "         'remind': 2,\n",
       "         'alreadi': 1,\n",
       "         'paid': 1,\n",
       "         'mymobi': 1,\n",
       "         'lastest': 1,\n",
       "         'stereophon': 1,\n",
       "         'marley': 1,\n",
       "         'dizze': 1,\n",
       "         'racal': 1,\n",
       "         'libertin': 1,\n",
       "         'stroke': 1,\n",
       "         'nookii': 1,\n",
       "         'bookmark': 1,\n",
       "         'januari': 1,\n",
       "         'male': 3,\n",
       "         'sale': 4,\n",
       "         'gay': 6,\n",
       "         'cheaper': 2,\n",
       "         'cheap': 3,\n",
       "         'peak': 2,\n",
       "         '08712460324': 8,\n",
       "         'money': 4,\n",
       "         'lucki': 8,\n",
       "         '88600': 2,\n",
       "         'give': 8,\n",
       "         'away': 4,\n",
       "         'box403': 1,\n",
       "         'w1t1ji': 1,\n",
       "         'matthew': 1,\n",
       "         '09063440451': 1,\n",
       "         'lux': 2,\n",
       "         'ppm150': 1,\n",
       "         'box334': 1,\n",
       "         'sk38xh': 4,\n",
       "         '09061749602': 1,\n",
       "         '528': 1,\n",
       "         'hp20': 1,\n",
       "         '1yf': 1,\n",
       "         'touch': 1,\n",
       "         'folk': 1,\n",
       "         'compani': 3,\n",
       "         'enjoy': 12,\n",
       "         '08718720201': 5,\n",
       "         'filthi': 2,\n",
       "         'stori': 1,\n",
       "         'girl': 9,\n",
       "         '09050001808': 1,\n",
       "         'm95': 1,\n",
       "         'valid12hr': 2,\n",
       "         '3g': 3,\n",
       "         'videophon': 3,\n",
       "         '09063458130': 2,\n",
       "         'videochat': 3,\n",
       "         'wid': 3,\n",
       "         'java': 3,\n",
       "         'dload': 3,\n",
       "         'polyph': 2,\n",
       "         'nolin': 3,\n",
       "         'rentl': 3,\n",
       "         'panason': 1,\n",
       "         'bluetoothhdset': 1,\n",
       "         'doublemin': 1,\n",
       "         'doubletxt': 1,\n",
       "         'contract': 4,\n",
       "         'guess': 6,\n",
       "         'somebodi': 2,\n",
       "         'secretli': 2,\n",
       "         'wan': 11,\n",
       "         'na': 10,\n",
       "         '09065394514': 1,\n",
       "         'datebox1282essexcm61xn': 2,\n",
       "         '09058097218': 1,\n",
       "         '6': 5,\n",
       "         'ls15hb': 2,\n",
       "         'bloke': 1,\n",
       "         'zoe': 1,\n",
       "         'kickoff': 1,\n",
       "         'inform': 9,\n",
       "         'euro': 2,\n",
       "         'eastend': 1,\n",
       "         'flower': 2,\n",
       "         'dot': 1,\n",
       "         'compar': 1,\n",
       "         'violet': 1,\n",
       "         'tulip': 1,\n",
       "         'lili': 1,\n",
       "         'e': 1,\n",
       "         'f': 3,\n",
       "         '84025': 2,\n",
       "         'lot': 2,\n",
       "         'peopl': 3,\n",
       "         'regist': 5,\n",
       "         'replys150': 1,\n",
       "         'ask': 5,\n",
       "         'cant': 3,\n",
       "         '09058091854': 1,\n",
       "         'box385': 1,\n",
       "         'm6': 1,\n",
       "         '6wu': 1,\n",
       "         '09050003091': 2,\n",
       "         'c52': 2,\n",
       "         'xchat': 5,\n",
       "         'sipix': 3,\n",
       "         'digit': 6,\n",
       "         '09061221061': 1,\n",
       "         '28day': 1,\n",
       "         'box177': 1,\n",
       "         'm221bp': 1,\n",
       "         '2yr': 1,\n",
       "         'warranti': 1,\n",
       "         'p': 2,\n",
       "         '09061790121': 2,\n",
       "         '3030': 1,\n",
       "         'b': 10,\n",
       "         'receipt': 3,\n",
       "         'an': 6,\n",
       "         'elvi': 1,\n",
       "         'presley': 1,\n",
       "         'birthday': 1,\n",
       "         'o2': 5,\n",
       "         'log': 7,\n",
       "         'onto': 7,\n",
       "         'surpris': 5,\n",
       "         '449050000301': 1,\n",
       "         '09050000301': 1,\n",
       "         'bore': 3,\n",
       "         'speed': 1,\n",
       "         'speedchat': 2,\n",
       "         '80155': 1,\n",
       "         'em': 1,\n",
       "         'swap': 1,\n",
       "         'chatter': 1,\n",
       "         'chat80155': 1,\n",
       "         'rcd': 1,\n",
       "         '08000776320': 2,\n",
       "         'part': 8,\n",
       "         'survey': 1,\n",
       "         'yesterday': 3,\n",
       "         'howev': 1,\n",
       "         'wish': 2,\n",
       "         '80160': 1,\n",
       "         'hmv1': 1,\n",
       "         'forget': 2,\n",
       "         'place': 4,\n",
       "         'mani': 3,\n",
       "         'request': 2,\n",
       "         '08707808226': 1,\n",
       "         'let': 3,\n",
       "         'notifi': 1,\n",
       "         'luck': 6,\n",
       "         'futur': 3,\n",
       "         'market': 1,\n",
       "         '84122': 1,\n",
       "         '08450542832': 1,\n",
       "         ...})"
      ]
     },
     "execution_count": 101,
     "metadata": {},
     "output_type": "execute_result"
    }
   ],
   "source": [
    "Counter(spam_corpus)"
   ]
  },
  {
   "cell_type": "code",
   "execution_count": 102,
   "id": "ae9fb19d",
   "metadata": {},
   "outputs": [
    {
     "data": {
      "text/plain": [
       "[('call', 320),\n",
       " ('free', 191),\n",
       " ('2', 155),\n",
       " ('txt', 141),\n",
       " ('text', 122),\n",
       " ('u', 119),\n",
       " ('ur', 119),\n",
       " ('mobil', 114),\n",
       " ('stop', 104),\n",
       " ('repli', 103),\n",
       " ('claim', 98),\n",
       " ('4', 97),\n",
       " ('prize', 82),\n",
       " ('get', 74),\n",
       " ('new', 64),\n",
       " ('servic', 64),\n",
       " ('tone', 63),\n",
       " ('send', 60),\n",
       " ('urgent', 57),\n",
       " ('nokia', 57),\n",
       " ('contact', 56),\n",
       " ('award', 55),\n",
       " ('phone', 52),\n",
       " ('cash', 51),\n",
       " ('pleas', 51),\n",
       " ('week', 49),\n",
       " ('win', 48),\n",
       " ('c', 45),\n",
       " ('collect', 45),\n",
       " ('min', 45),\n",
       " ('custom', 42),\n",
       " ('messag', 42),\n",
       " ('guarante', 42),\n",
       " ('per', 41),\n",
       " ('chat', 38),\n",
       " ('tri', 37),\n",
       " ('msg', 35),\n",
       " ('draw', 35),\n",
       " ('number', 35),\n",
       " ('cs', 35),\n",
       " ('show', 33),\n",
       " ('today', 33),\n",
       " ('offer', 33),\n",
       " ('line', 33),\n",
       " ('go', 32),\n",
       " ('receiv', 31),\n",
       " ('want', 31),\n",
       " ('latest', 30),\n",
       " ('rington', 30),\n",
       " ('landlin', 30)]"
      ]
     },
     "execution_count": 102,
     "metadata": {},
     "output_type": "execute_result"
    }
   ],
   "source": [
    "Counter(spam_corpus).most_common(50)"
   ]
  },
  {
   "cell_type": "code",
   "execution_count": 103,
   "id": "6718ff07",
   "metadata": {},
   "outputs": [],
   "source": [
    "top_50_Frequency = pd.DataFrame(Counter(spam_corpus).most_common(50))"
   ]
  },
  {
   "cell_type": "code",
   "execution_count": 104,
   "id": "7669e1a4",
   "metadata": {},
   "outputs": [
    {
     "data": {
      "text/html": [
       "<div>\n",
       "<style scoped>\n",
       "    .dataframe tbody tr th:only-of-type {\n",
       "        vertical-align: middle;\n",
       "    }\n",
       "\n",
       "    .dataframe tbody tr th {\n",
       "        vertical-align: top;\n",
       "    }\n",
       "\n",
       "    .dataframe thead th {\n",
       "        text-align: right;\n",
       "    }\n",
       "</style>\n",
       "<table border=\"1\" class=\"dataframe\">\n",
       "  <thead>\n",
       "    <tr style=\"text-align: right;\">\n",
       "      <th></th>\n",
       "      <th>0</th>\n",
       "      <th>1</th>\n",
       "    </tr>\n",
       "  </thead>\n",
       "  <tbody>\n",
       "    <tr>\n",
       "      <th>3</th>\n",
       "      <td>txt</td>\n",
       "      <td>141</td>\n",
       "    </tr>\n",
       "    <tr>\n",
       "      <th>49</th>\n",
       "      <td>landlin</td>\n",
       "      <td>30</td>\n",
       "    </tr>\n",
       "    <tr>\n",
       "      <th>21</th>\n",
       "      <td>award</td>\n",
       "      <td>55</td>\n",
       "    </tr>\n",
       "    <tr>\n",
       "      <th>28</th>\n",
       "      <td>collect</td>\n",
       "      <td>45</td>\n",
       "    </tr>\n",
       "    <tr>\n",
       "      <th>44</th>\n",
       "      <td>go</td>\n",
       "      <td>32</td>\n",
       "    </tr>\n",
       "  </tbody>\n",
       "</table>\n",
       "</div>"
      ],
      "text/plain": [
       "          0    1\n",
       "3       txt  141\n",
       "49  landlin   30\n",
       "21    award   55\n",
       "28  collect   45\n",
       "44       go   32"
      ]
     },
     "execution_count": 104,
     "metadata": {},
     "output_type": "execute_result"
    }
   ],
   "source": [
    "top_50_Frequency.sample(5)"
   ]
  },
  {
   "cell_type": "code",
   "execution_count": 105,
   "id": "850c1284",
   "metadata": {},
   "outputs": [
    {
     "name": "stderr",
     "output_type": "stream",
     "text": [
      "C:\\ProgramData\\Anaconda3\\lib\\site-packages\\seaborn\\_decorators.py:36: FutureWarning: Pass the following variables as keyword args: x, y. From version 0.12, the only valid positional argument will be `data`, and passing other arguments without an explicit keyword will result in an error or misinterpretation.\n",
      "  warnings.warn(\n"
     ]
    },
    {
     "data": {
      "image/png": "[encoded data removed]",
      "text/plain": [
       "<Figure size 1008x864 with 1 Axes>"
      ]
     },
     "metadata": {
      "needs_background": "light"
     },
     "output_type": "display_data"
    }
   ],
   "source": [
    "plt.figure(figsize=(14,12))\n",
    "sns.barplot(top_50_Frequency[0], top_50_Frequency[1])\n",
    "plt.title('Top 50 Frequent occurred in our data: ')\n",
    "plt.xticks(rotation='vertical')\n",
    "plt.xlabel('Words')\n",
    "plt.ylabel('Count')\n",
    "plt.show()"
   ]
  },
  {
   "cell_type": "code",
   "execution_count": 106,
   "id": "ee5c907d",
   "metadata": {},
   "outputs": [],
   "source": [
    "spam_corpus_0 = []\n",
    "for message_text in spam_data[spam_data.target == 0]['transformed_text'].to_list():\n",
    "    for i in message_text.split():\n",
    "        spam_corpus_0.append(i)"
   ]
  },
  {
   "cell_type": "code",
   "execution_count": 107,
   "id": "5e6cefad",
   "metadata": {},
   "outputs": [
    {
     "data": {
      "text/plain": [
       "[('u', 883),\n",
       " ('go', 404),\n",
       " ('get', 349),\n",
       " ('gt', 288),\n",
       " ('lt', 287),\n",
       " ('2', 284),\n",
       " ('come', 275),\n",
       " ('got', 236),\n",
       " ('know', 236),\n",
       " ('like', 234),\n",
       " ('call', 233),\n",
       " ('time', 219),\n",
       " ('love', 216),\n",
       " ('ok', 215),\n",
       " ('good', 213),\n",
       " ('want', 208),\n",
       " ('ur', 197),\n",
       " ('day', 190),\n",
       " ('need', 170),\n",
       " ('one', 165),\n",
       " ('lor', 159),\n",
       " ('4', 156),\n",
       " ('home', 152),\n",
       " ('think', 149),\n",
       " ('see', 147),\n",
       " ('take', 143),\n",
       " ('still', 143),\n",
       " ('da', 142),\n",
       " ('tell', 133),\n",
       " ('make', 129),\n",
       " ('say', 127),\n",
       " ('back', 127),\n",
       " ('today', 123),\n",
       " ('hope', 122),\n",
       " ('ask', 121),\n",
       " ('sorri', 121),\n",
       " ('n', 120),\n",
       " ('send', 120),\n",
       " ('r', 120),\n",
       " ('work', 118),\n",
       " ('dont', 118),\n",
       " ('meet', 112),\n",
       " ('hi', 111),\n",
       " ('well', 109),\n",
       " ('thing', 109),\n",
       " ('wat', 108),\n",
       " ('k', 107),\n",
       " ('much', 107),\n",
       " ('night', 107),\n",
       " ('oh', 106)]"
      ]
     },
     "execution_count": 107,
     "metadata": {},
     "output_type": "execute_result"
    }
   ],
   "source": [
    "Counter(spam_corpus_0).most_common(50)"
   ]
  },
  {
   "cell_type": "code",
   "execution_count": 108,
   "id": "b24ffd36",
   "metadata": {},
   "outputs": [],
   "source": [
    "top_50_Frequency_0 = pd.DataFrame(Counter(spam_corpus_0).most_common(50))"
   ]
  },
  {
   "cell_type": "code",
   "execution_count": 109,
   "id": "9a1b682d",
   "metadata": {},
   "outputs": [
    {
     "name": "stderr",
     "output_type": "stream",
     "text": [
      "C:\\ProgramData\\Anaconda3\\lib\\site-packages\\seaborn\\_decorators.py:36: FutureWarning: Pass the following variables as keyword args: x, y. From version 0.12, the only valid positional argument will be `data`, and passing other arguments without an explicit keyword will result in an error or misinterpretation.\n",
      "  warnings.warn(\n"
     ]
    },
    {
     "data": {
      "image/png": "[encoded data removed]",
      "text/plain": [
       "<Figure size 1008x864 with 1 Axes>"
      ]
     },
     "metadata": {
      "needs_background": "light"
     },
     "output_type": "display_data"
    }
   ],
   "source": [
    "plt.figure(figsize=(14,12))\n",
    "sns.barplot(top_50_Frequency_0[0], top_50_Frequency_0[1])\n",
    "plt.title('Top 50 Frequent occurred in our data: ')\n",
    "plt.xticks(rotation='vertical')\n",
    "plt.xlabel('Words')\n",
    "plt.ylabel('Count')\n",
    "plt.show()"
   ]
  },
  {
   "cell_type": "markdown",
   "id": "e2450948",
   "metadata": {},
   "source": [
    "<a href='https://www.kaggle.com/datasets/tmdb/tmdb-movie-metadata?resource=download'>\n",
    "\n",
    "# TMDB 5000 Movie Dataset:\n",
    "\n",
    "## Download this dataset:\n",
    "\n",
    "</a>"
   ]
  },
  {
   "cell_type": "code",
   "execution_count": 110,
   "id": "f76f860e",
   "metadata": {},
   "outputs": [],
   "source": [
    "tmdb_credits = pd.read_csv('tmdb_5000_credits.csv')\n",
    "tmdb_movies = pd.read_csv('tmdb_5000_movies.csv')"
   ]
  },
  {
   "cell_type": "code",
   "execution_count": 111,
   "id": "8ce6c8ee",
   "metadata": {},
   "outputs": [
    {
     "data": {
      "text/html": [
       "<div>\n",
       "<style scoped>\n",
       "    .dataframe tbody tr th:only-of-type {\n",
       "        vertical-align: middle;\n",
       "    }\n",
       "\n",
       "    .dataframe tbody tr th {\n",
       "        vertical-align: top;\n",
       "    }\n",
       "\n",
       "    .dataframe thead th {\n",
       "        text-align: right;\n",
       "    }\n",
       "</style>\n",
       "<table border=\"1\" class=\"dataframe\">\n",
       "  <thead>\n",
       "    <tr style=\"text-align: right;\">\n",
       "      <th></th>\n",
       "      <th>movie_id</th>\n",
       "      <th>title</th>\n",
       "      <th>cast</th>\n",
       "      <th>crew</th>\n",
       "    </tr>\n",
       "  </thead>\n",
       "  <tbody>\n",
       "    <tr>\n",
       "      <th>0</th>\n",
       "      <td>19995</td>\n",
       "      <td>Avatar</td>\n",
       "      <td>[{\"cast_id\": 242, \"character\": \"Jake Sully\", \"...</td>\n",
       "      <td>[{\"credit_id\": \"52fe48009251416c750aca23\", \"de...</td>\n",
       "    </tr>\n",
       "    <tr>\n",
       "      <th>1</th>\n",
       "      <td>285</td>\n",
       "      <td>Pirates of the Caribbean: At World's End</td>\n",
       "      <td>[{\"cast_id\": 4, \"character\": \"Captain Jack Spa...</td>\n",
       "      <td>[{\"credit_id\": \"52fe4232c3a36847f800b579\", \"de...</td>\n",
       "    </tr>\n",
       "  </tbody>\n",
       "</table>\n",
       "</div>"
      ],
      "text/plain": [
       "   movie_id                                     title  \\\n",
       "0     19995                                    Avatar   \n",
       "1       285  Pirates of the Caribbean: At World's End   \n",
       "\n",
       "                                                cast  \\\n",
       "0  [{\"cast_id\": 242, \"character\": \"Jake Sully\", \"...   \n",
       "1  [{\"cast_id\": 4, \"character\": \"Captain Jack Spa...   \n",
       "\n",
       "                                                crew  \n",
       "0  [{\"credit_id\": \"52fe48009251416c750aca23\", \"de...  \n",
       "1  [{\"credit_id\": \"52fe4232c3a36847f800b579\", \"de...  "
      ]
     },
     "execution_count": 111,
     "metadata": {},
     "output_type": "execute_result"
    }
   ],
   "source": [
    "tmdb_credits.head(2)"
   ]
  },
  {
   "cell_type": "code",
   "execution_count": 112,
   "id": "bfbab170",
   "metadata": {},
   "outputs": [
    {
     "data": {
      "text/html": [
       "<div>\n",
       "<style scoped>\n",
       "    .dataframe tbody tr th:only-of-type {\n",
       "        vertical-align: middle;\n",
       "    }\n",
       "\n",
       "    .dataframe tbody tr th {\n",
       "        vertical-align: top;\n",
       "    }\n",
       "\n",
       "    .dataframe thead th {\n",
       "        text-align: right;\n",
       "    }\n",
       "</style>\n",
       "<table border=\"1\" class=\"dataframe\">\n",
       "  <thead>\n",
       "    <tr style=\"text-align: right;\">\n",
       "      <th></th>\n",
       "      <th>budget</th>\n",
       "      <th>genres</th>\n",
       "      <th>homepage</th>\n",
       "      <th>id</th>\n",
       "      <th>keywords</th>\n",
       "      <th>original_language</th>\n",
       "      <th>original_title</th>\n",
       "      <th>overview</th>\n",
       "      <th>popularity</th>\n",
       "      <th>production_companies</th>\n",
       "      <th>production_countries</th>\n",
       "      <th>release_date</th>\n",
       "      <th>revenue</th>\n",
       "      <th>runtime</th>\n",
       "      <th>spoken_languages</th>\n",
       "      <th>status</th>\n",
       "      <th>tagline</th>\n",
       "      <th>title</th>\n",
       "      <th>vote_average</th>\n",
       "      <th>vote_count</th>\n",
       "    </tr>\n",
       "  </thead>\n",
       "  <tbody>\n",
       "    <tr>\n",
       "      <th>0</th>\n",
       "      <td>237000000</td>\n",
       "      <td>[{\"id\": 28, \"name\": \"Action\"}, {\"id\": 12, \"nam...</td>\n",
       "      <td>http://www.avatarmovie.com/</td>\n",
       "      <td>19995</td>\n",
       "      <td>[{\"id\": 1463, \"name\": \"culture clash\"}, {\"id\":...</td>\n",
       "      <td>en</td>\n",
       "      <td>Avatar</td>\n",
       "      <td>In the 22nd century, a paraplegic Marine is di...</td>\n",
       "      <td>150.437577</td>\n",
       "      <td>[{\"name\": \"Ingenious Film Partners\", \"id\": 289...</td>\n",
       "      <td>[{\"iso_3166_1\": \"US\", \"name\": \"United States o...</td>\n",
       "      <td>2009-12-10</td>\n",
       "      <td>2787965087</td>\n",
       "      <td>162.0</td>\n",
       "      <td>[{\"iso_639_1\": \"en\", \"name\": \"English\"}, {\"iso...</td>\n",
       "      <td>Released</td>\n",
       "      <td>Enter the World of Pandora.</td>\n",
       "      <td>Avatar</td>\n",
       "      <td>7.2</td>\n",
       "      <td>11800</td>\n",
       "    </tr>\n",
       "    <tr>\n",
       "      <th>1</th>\n",
       "      <td>300000000</td>\n",
       "      <td>[{\"id\": 12, \"name\": \"Adventure\"}, {\"id\": 14, \"...</td>\n",
       "      <td>http://disney.go.com/disneypictures/pirates/</td>\n",
       "      <td>285</td>\n",
       "      <td>[{\"id\": 270, \"name\": \"ocean\"}, {\"id\": 726, \"na...</td>\n",
       "      <td>en</td>\n",
       "      <td>Pirates of the Caribbean: At World's End</td>\n",
       "      <td>Captain Barbossa, long believed to be dead, ha...</td>\n",
       "      <td>139.082615</td>\n",
       "      <td>[{\"name\": \"Walt Disney Pictures\", \"id\": 2}, {\"...</td>\n",
       "      <td>[{\"iso_3166_1\": \"US\", \"name\": \"United States o...</td>\n",
       "      <td>2007-05-19</td>\n",
       "      <td>961000000</td>\n",
       "      <td>169.0</td>\n",
       "      <td>[{\"iso_639_1\": \"en\", \"name\": \"English\"}]</td>\n",
       "      <td>Released</td>\n",
       "      <td>At the end of the world, the adventure begins.</td>\n",
       "      <td>Pirates of the Caribbean: At World's End</td>\n",
       "      <td>6.9</td>\n",
       "      <td>4500</td>\n",
       "    </tr>\n",
       "  </tbody>\n",
       "</table>\n",
       "</div>"
      ],
      "text/plain": [
       "      budget                                             genres  \\\n",
       "0  237000000  [{\"id\": 28, \"name\": \"Action\"}, {\"id\": 12, \"nam...   \n",
       "1  300000000  [{\"id\": 12, \"name\": \"Adventure\"}, {\"id\": 14, \"...   \n",
       "\n",
       "                                       homepage     id  \\\n",
       "0                   http://www.avatarmovie.com/  19995   \n",
       "1  http://disney.go.com/disneypictures/pirates/    285   \n",
       "\n",
       "                                            keywords original_language  \\\n",
       "0  [{\"id\": 1463, \"name\": \"culture clash\"}, {\"id\":...                en   \n",
       "1  [{\"id\": 270, \"name\": \"ocean\"}, {\"id\": 726, \"na...                en   \n",
       "\n",
       "                             original_title  \\\n",
       "0                                    Avatar   \n",
       "1  Pirates of the Caribbean: At World's End   \n",
       "\n",
       "                                            overview  popularity  \\\n",
       "0  In the 22nd century, a paraplegic Marine is di...  150.437577   \n",
       "1  Captain Barbossa, long believed to be dead, ha...  139.082615   \n",
       "\n",
       "                                production_companies  \\\n",
       "0  [{\"name\": \"Ingenious Film Partners\", \"id\": 289...   \n",
       "1  [{\"name\": \"Walt Disney Pictures\", \"id\": 2}, {\"...   \n",
       "\n",
       "                                production_countries release_date     revenue  \\\n",
       "0  [{\"iso_3166_1\": \"US\", \"name\": \"United States o...   2009-12-10  2787965087   \n",
       "1  [{\"iso_3166_1\": \"US\", \"name\": \"United States o...   2007-05-19   961000000   \n",
       "\n",
       "   runtime                                   spoken_languages    status  \\\n",
       "0    162.0  [{\"iso_639_1\": \"en\", \"name\": \"English\"}, {\"iso...  Released   \n",
       "1    169.0           [{\"iso_639_1\": \"en\", \"name\": \"English\"}]  Released   \n",
       "\n",
       "                                          tagline  \\\n",
       "0                     Enter the World of Pandora.   \n",
       "1  At the end of the world, the adventure begins.   \n",
       "\n",
       "                                      title  vote_average  vote_count  \n",
       "0                                    Avatar           7.2       11800  \n",
       "1  Pirates of the Caribbean: At World's End           6.9        4500  "
      ]
     },
     "execution_count": 112,
     "metadata": {},
     "output_type": "execute_result"
    }
   ],
   "source": [
    "tmdb_movies.head(2)"
   ]
  },
  {
   "cell_type": "markdown",
   "id": "adeb3fcb",
   "metadata": {},
   "source": [
    "# Data Wrangling:"
   ]
  },
  {
   "cell_type": "markdown",
   "id": "379b2d8e",
   "metadata": {},
   "source": [
    "- Collecting data from different resources and merging it together."
   ]
  },
  {
   "cell_type": "code",
   "execution_count": 113,
   "id": "d56017c4",
   "metadata": {},
   "outputs": [],
   "source": [
    "#Example:"
   ]
  },
  {
   "cell_type": "code",
   "execution_count": 114,
   "id": "5b2952a5",
   "metadata": {},
   "outputs": [],
   "source": [
    "df1 = pd.DataFrame({'name': ['Noah', 'Haroon','Ezra'], 'id' : [11, 12, 13]})"
   ]
  },
  {
   "cell_type": "code",
   "execution_count": 115,
   "id": "9332da1c",
   "metadata": {},
   "outputs": [
    {
     "data": {
      "text/html": [
       "<div>\n",
       "<style scoped>\n",
       "    .dataframe tbody tr th:only-of-type {\n",
       "        vertical-align: middle;\n",
       "    }\n",
       "\n",
       "    .dataframe tbody tr th {\n",
       "        vertical-align: top;\n",
       "    }\n",
       "\n",
       "    .dataframe thead th {\n",
       "        text-align: right;\n",
       "    }\n",
       "</style>\n",
       "<table border=\"1\" class=\"dataframe\">\n",
       "  <thead>\n",
       "    <tr style=\"text-align: right;\">\n",
       "      <th></th>\n",
       "      <th>name</th>\n",
       "      <th>id</th>\n",
       "    </tr>\n",
       "  </thead>\n",
       "  <tbody>\n",
       "    <tr>\n",
       "      <th>0</th>\n",
       "      <td>Noah</td>\n",
       "      <td>11</td>\n",
       "    </tr>\n",
       "    <tr>\n",
       "      <th>1</th>\n",
       "      <td>Haroon</td>\n",
       "      <td>12</td>\n",
       "    </tr>\n",
       "    <tr>\n",
       "      <th>2</th>\n",
       "      <td>Ezra</td>\n",
       "      <td>13</td>\n",
       "    </tr>\n",
       "  </tbody>\n",
       "</table>\n",
       "</div>"
      ],
      "text/plain": [
       "     name  id\n",
       "0    Noah  11\n",
       "1  Haroon  12\n",
       "2    Ezra  13"
      ]
     },
     "execution_count": 115,
     "metadata": {},
     "output_type": "execute_result"
    }
   ],
   "source": [
    "df1"
   ]
  },
  {
   "cell_type": "code",
   "execution_count": 116,
   "id": "4a55f0fc",
   "metadata": {},
   "outputs": [],
   "source": [
    "df2 = pd.DataFrame({'father_name': ['Umair', 'Ahsan','Abdullah'], 'id' : [11, 12, 13]})"
   ]
  },
  {
   "cell_type": "code",
   "execution_count": 117,
   "id": "436f633b",
   "metadata": {},
   "outputs": [
    {
     "data": {
      "text/html": [
       "<div>\n",
       "<style scoped>\n",
       "    .dataframe tbody tr th:only-of-type {\n",
       "        vertical-align: middle;\n",
       "    }\n",
       "\n",
       "    .dataframe tbody tr th {\n",
       "        vertical-align: top;\n",
       "    }\n",
       "\n",
       "    .dataframe thead th {\n",
       "        text-align: right;\n",
       "    }\n",
       "</style>\n",
       "<table border=\"1\" class=\"dataframe\">\n",
       "  <thead>\n",
       "    <tr style=\"text-align: right;\">\n",
       "      <th></th>\n",
       "      <th>name</th>\n",
       "      <th>id</th>\n",
       "      <th>father_name</th>\n",
       "    </tr>\n",
       "  </thead>\n",
       "  <tbody>\n",
       "    <tr>\n",
       "      <th>0</th>\n",
       "      <td>Noah</td>\n",
       "      <td>11</td>\n",
       "      <td>Umair</td>\n",
       "    </tr>\n",
       "    <tr>\n",
       "      <th>1</th>\n",
       "      <td>Haroon</td>\n",
       "      <td>12</td>\n",
       "      <td>Ahsan</td>\n",
       "    </tr>\n",
       "    <tr>\n",
       "      <th>2</th>\n",
       "      <td>Ezra</td>\n",
       "      <td>13</td>\n",
       "      <td>Abdullah</td>\n",
       "    </tr>\n",
       "  </tbody>\n",
       "</table>\n",
       "</div>"
      ],
      "text/plain": [
       "     name  id father_name\n",
       "0    Noah  11       Umair\n",
       "1  Haroon  12       Ahsan\n",
       "2    Ezra  13    Abdullah"
      ]
     },
     "execution_count": 117,
     "metadata": {},
     "output_type": "execute_result"
    }
   ],
   "source": [
    "df1.merge(df2, on='id')"
   ]
  },
  {
   "cell_type": "code",
   "execution_count": 118,
   "id": "c1a43a64",
   "metadata": {},
   "outputs": [],
   "source": [
    "# Back to Dataset:"
   ]
  },
  {
   "cell_type": "code",
   "execution_count": 119,
   "id": "d58e96fb",
   "metadata": {},
   "outputs": [],
   "source": [
    "tmdb_movies = tmdb_movies.merge(tmdb_credits, on='title')"
   ]
  },
  {
   "cell_type": "code",
   "execution_count": 120,
   "id": "2e4df1a4",
   "metadata": {},
   "outputs": [],
   "source": [
    "moviedf = tmdb_movies.copy()"
   ]
  },
  {
   "cell_type": "code",
   "execution_count": 121,
   "id": "d1854a1d",
   "metadata": {},
   "outputs": [
    {
     "data": {
      "text/html": [
       "<div>\n",
       "<style scoped>\n",
       "    .dataframe tbody tr th:only-of-type {\n",
       "        vertical-align: middle;\n",
       "    }\n",
       "\n",
       "    .dataframe tbody tr th {\n",
       "        vertical-align: top;\n",
       "    }\n",
       "\n",
       "    .dataframe thead th {\n",
       "        text-align: right;\n",
       "    }\n",
       "</style>\n",
       "<table border=\"1\" class=\"dataframe\">\n",
       "  <thead>\n",
       "    <tr style=\"text-align: right;\">\n",
       "      <th></th>\n",
       "      <th>budget</th>\n",
       "      <th>genres</th>\n",
       "      <th>homepage</th>\n",
       "      <th>id</th>\n",
       "      <th>keywords</th>\n",
       "      <th>original_language</th>\n",
       "      <th>original_title</th>\n",
       "      <th>overview</th>\n",
       "      <th>popularity</th>\n",
       "      <th>production_companies</th>\n",
       "      <th>...</th>\n",
       "      <th>runtime</th>\n",
       "      <th>spoken_languages</th>\n",
       "      <th>status</th>\n",
       "      <th>tagline</th>\n",
       "      <th>title</th>\n",
       "      <th>vote_average</th>\n",
       "      <th>vote_count</th>\n",
       "      <th>movie_id</th>\n",
       "      <th>cast</th>\n",
       "      <th>crew</th>\n",
       "    </tr>\n",
       "  </thead>\n",
       "  <tbody>\n",
       "    <tr>\n",
       "      <th>0</th>\n",
       "      <td>237000000</td>\n",
       "      <td>[{\"id\": 28, \"name\": \"Action\"}, {\"id\": 12, \"nam...</td>\n",
       "      <td>http://www.avatarmovie.com/</td>\n",
       "      <td>19995</td>\n",
       "      <td>[{\"id\": 1463, \"name\": \"culture clash\"}, {\"id\":...</td>\n",
       "      <td>en</td>\n",
       "      <td>Avatar</td>\n",
       "      <td>In the 22nd century, a paraplegic Marine is di...</td>\n",
       "      <td>150.437577</td>\n",
       "      <td>[{\"name\": \"Ingenious Film Partners\", \"id\": 289...</td>\n",
       "      <td>...</td>\n",
       "      <td>162.0</td>\n",
       "      <td>[{\"iso_639_1\": \"en\", \"name\": \"English\"}, {\"iso...</td>\n",
       "      <td>Released</td>\n",
       "      <td>Enter the World of Pandora.</td>\n",
       "      <td>Avatar</td>\n",
       "      <td>7.2</td>\n",
       "      <td>11800</td>\n",
       "      <td>19995</td>\n",
       "      <td>[{\"cast_id\": 242, \"character\": \"Jake Sully\", \"...</td>\n",
       "      <td>[{\"credit_id\": \"52fe48009251416c750aca23\", \"de...</td>\n",
       "    </tr>\n",
       "    <tr>\n",
       "      <th>1</th>\n",
       "      <td>300000000</td>\n",
       "      <td>[{\"id\": 12, \"name\": \"Adventure\"}, {\"id\": 14, \"...</td>\n",
       "      <td>http://disney.go.com/disneypictures/pirates/</td>\n",
       "      <td>285</td>\n",
       "      <td>[{\"id\": 270, \"name\": \"ocean\"}, {\"id\": 726, \"na...</td>\n",
       "      <td>en</td>\n",
       "      <td>Pirates of the Caribbean: At World's End</td>\n",
       "      <td>Captain Barbossa, long believed to be dead, ha...</td>\n",
       "      <td>139.082615</td>\n",
       "      <td>[{\"name\": \"Walt Disney Pictures\", \"id\": 2}, {\"...</td>\n",
       "      <td>...</td>\n",
       "      <td>169.0</td>\n",
       "      <td>[{\"iso_639_1\": \"en\", \"name\": \"English\"}]</td>\n",
       "      <td>Released</td>\n",
       "      <td>At the end of the world, the adventure begins.</td>\n",
       "      <td>Pirates of the Caribbean: At World's End</td>\n",
       "      <td>6.9</td>\n",
       "      <td>4500</td>\n",
       "      <td>285</td>\n",
       "      <td>[{\"cast_id\": 4, \"character\": \"Captain Jack Spa...</td>\n",
       "      <td>[{\"credit_id\": \"52fe4232c3a36847f800b579\", \"de...</td>\n",
       "    </tr>\n",
       "    <tr>\n",
       "      <th>2</th>\n",
       "      <td>245000000</td>\n",
       "      <td>[{\"id\": 28, \"name\": \"Action\"}, {\"id\": 12, \"nam...</td>\n",
       "      <td>http://www.sonypictures.com/movies/spectre/</td>\n",
       "      <td>206647</td>\n",
       "      <td>[{\"id\": 470, \"name\": \"spy\"}, {\"id\": 818, \"name...</td>\n",
       "      <td>en</td>\n",
       "      <td>Spectre</td>\n",
       "      <td>A cryptic message from Bond’s past sends him o...</td>\n",
       "      <td>107.376788</td>\n",
       "      <td>[{\"name\": \"Columbia Pictures\", \"id\": 5}, {\"nam...</td>\n",
       "      <td>...</td>\n",
       "      <td>148.0</td>\n",
       "      <td>[{\"iso_639_1\": \"fr\", \"name\": \"Fran\\u00e7ais\"},...</td>\n",
       "      <td>Released</td>\n",
       "      <td>A Plan No One Escapes</td>\n",
       "      <td>Spectre</td>\n",
       "      <td>6.3</td>\n",
       "      <td>4466</td>\n",
       "      <td>206647</td>\n",
       "      <td>[{\"cast_id\": 1, \"character\": \"James Bond\", \"cr...</td>\n",
       "      <td>[{\"credit_id\": \"54805967c3a36829b5002c41\", \"de...</td>\n",
       "    </tr>\n",
       "  </tbody>\n",
       "</table>\n",
       "<p>3 rows × 23 columns</p>\n",
       "</div>"
      ],
      "text/plain": [
       "      budget                                             genres  \\\n",
       "0  237000000  [{\"id\": 28, \"name\": \"Action\"}, {\"id\": 12, \"nam...   \n",
       "1  300000000  [{\"id\": 12, \"name\": \"Adventure\"}, {\"id\": 14, \"...   \n",
       "2  245000000  [{\"id\": 28, \"name\": \"Action\"}, {\"id\": 12, \"nam...   \n",
       "\n",
       "                                       homepage      id  \\\n",
       "0                   http://www.avatarmovie.com/   19995   \n",
       "1  http://disney.go.com/disneypictures/pirates/     285   \n",
       "2   http://www.sonypictures.com/movies/spectre/  206647   \n",
       "\n",
       "                                            keywords original_language  \\\n",
       "0  [{\"id\": 1463, \"name\": \"culture clash\"}, {\"id\":...                en   \n",
       "1  [{\"id\": 270, \"name\": \"ocean\"}, {\"id\": 726, \"na...                en   \n",
       "2  [{\"id\": 470, \"name\": \"spy\"}, {\"id\": 818, \"name...                en   \n",
       "\n",
       "                             original_title  \\\n",
       "0                                    Avatar   \n",
       "1  Pirates of the Caribbean: At World's End   \n",
       "2                                   Spectre   \n",
       "\n",
       "                                            overview  popularity  \\\n",
       "0  In the 22nd century, a paraplegic Marine is di...  150.437577   \n",
       "1  Captain Barbossa, long believed to be dead, ha...  139.082615   \n",
       "2  A cryptic message from Bond’s past sends him o...  107.376788   \n",
       "\n",
       "                                production_companies  ... runtime  \\\n",
       "0  [{\"name\": \"Ingenious Film Partners\", \"id\": 289...  ...   162.0   \n",
       "1  [{\"name\": \"Walt Disney Pictures\", \"id\": 2}, {\"...  ...   169.0   \n",
       "2  [{\"name\": \"Columbia Pictures\", \"id\": 5}, {\"nam...  ...   148.0   \n",
       "\n",
       "                                    spoken_languages    status  \\\n",
       "0  [{\"iso_639_1\": \"en\", \"name\": \"English\"}, {\"iso...  Released   \n",
       "1           [{\"iso_639_1\": \"en\", \"name\": \"English\"}]  Released   \n",
       "2  [{\"iso_639_1\": \"fr\", \"name\": \"Fran\\u00e7ais\"},...  Released   \n",
       "\n",
       "                                          tagline  \\\n",
       "0                     Enter the World of Pandora.   \n",
       "1  At the end of the world, the adventure begins.   \n",
       "2                           A Plan No One Escapes   \n",
       "\n",
       "                                      title vote_average vote_count movie_id  \\\n",
       "0                                    Avatar          7.2      11800    19995   \n",
       "1  Pirates of the Caribbean: At World's End          6.9       4500      285   \n",
       "2                                   Spectre          6.3       4466   206647   \n",
       "\n",
       "                                                cast  \\\n",
       "0  [{\"cast_id\": 242, \"character\": \"Jake Sully\", \"...   \n",
       "1  [{\"cast_id\": 4, \"character\": \"Captain Jack Spa...   \n",
       "2  [{\"cast_id\": 1, \"character\": \"James Bond\", \"cr...   \n",
       "\n",
       "                                                crew  \n",
       "0  [{\"credit_id\": \"52fe48009251416c750aca23\", \"de...  \n",
       "1  [{\"credit_id\": \"52fe4232c3a36847f800b579\", \"de...  \n",
       "2  [{\"credit_id\": \"54805967c3a36829b5002c41\", \"de...  \n",
       "\n",
       "[3 rows x 23 columns]"
      ]
     },
     "execution_count": 121,
     "metadata": {},
     "output_type": "execute_result"
    }
   ],
   "source": [
    "moviedf.head(3)"
   ]
  },
  {
   "cell_type": "code",
   "execution_count": 122,
   "id": "1244f9b4",
   "metadata": {},
   "outputs": [
    {
     "data": {
      "text/html": [
       "<div>\n",
       "<style scoped>\n",
       "    .dataframe tbody tr th:only-of-type {\n",
       "        vertical-align: middle;\n",
       "    }\n",
       "\n",
       "    .dataframe tbody tr th {\n",
       "        vertical-align: top;\n",
       "    }\n",
       "\n",
       "    .dataframe thead th {\n",
       "        text-align: right;\n",
       "    }\n",
       "</style>\n",
       "<table border=\"1\" class=\"dataframe\">\n",
       "  <thead>\n",
       "    <tr style=\"text-align: right;\">\n",
       "      <th></th>\n",
       "      <th>movie_id</th>\n",
       "      <th>title</th>\n",
       "      <th>overview</th>\n",
       "      <th>genres</th>\n",
       "      <th>cast</th>\n",
       "      <th>crew</th>\n",
       "    </tr>\n",
       "  </thead>\n",
       "  <tbody>\n",
       "    <tr>\n",
       "      <th>0</th>\n",
       "      <td>19995</td>\n",
       "      <td>Avatar</td>\n",
       "      <td>In the 22nd century, a paraplegic Marine is di...</td>\n",
       "      <td>[{\"id\": 28, \"name\": \"Action\"}, {\"id\": 12, \"nam...</td>\n",
       "      <td>[{\"cast_id\": 242, \"character\": \"Jake Sully\", \"...</td>\n",
       "      <td>[{\"credit_id\": \"52fe48009251416c750aca23\", \"de...</td>\n",
       "    </tr>\n",
       "    <tr>\n",
       "      <th>1</th>\n",
       "      <td>285</td>\n",
       "      <td>Pirates of the Caribbean: At World's End</td>\n",
       "      <td>Captain Barbossa, long believed to be dead, ha...</td>\n",
       "      <td>[{\"id\": 12, \"name\": \"Adventure\"}, {\"id\": 14, \"...</td>\n",
       "      <td>[{\"cast_id\": 4, \"character\": \"Captain Jack Spa...</td>\n",
       "      <td>[{\"credit_id\": \"52fe4232c3a36847f800b579\", \"de...</td>\n",
       "    </tr>\n",
       "    <tr>\n",
       "      <th>2</th>\n",
       "      <td>206647</td>\n",
       "      <td>Spectre</td>\n",
       "      <td>A cryptic message from Bond’s past sends him o...</td>\n",
       "      <td>[{\"id\": 28, \"name\": \"Action\"}, {\"id\": 12, \"nam...</td>\n",
       "      <td>[{\"cast_id\": 1, \"character\": \"James Bond\", \"cr...</td>\n",
       "      <td>[{\"credit_id\": \"54805967c3a36829b5002c41\", \"de...</td>\n",
       "    </tr>\n",
       "  </tbody>\n",
       "</table>\n",
       "</div>"
      ],
      "text/plain": [
       "   movie_id                                     title  \\\n",
       "0     19995                                    Avatar   \n",
       "1       285  Pirates of the Caribbean: At World's End   \n",
       "2    206647                                   Spectre   \n",
       "\n",
       "                                            overview  \\\n",
       "0  In the 22nd century, a paraplegic Marine is di...   \n",
       "1  Captain Barbossa, long believed to be dead, ha...   \n",
       "2  A cryptic message from Bond’s past sends him o...   \n",
       "\n",
       "                                              genres  \\\n",
       "0  [{\"id\": 28, \"name\": \"Action\"}, {\"id\": 12, \"nam...   \n",
       "1  [{\"id\": 12, \"name\": \"Adventure\"}, {\"id\": 14, \"...   \n",
       "2  [{\"id\": 28, \"name\": \"Action\"}, {\"id\": 12, \"nam...   \n",
       "\n",
       "                                                cast  \\\n",
       "0  [{\"cast_id\": 242, \"character\": \"Jake Sully\", \"...   \n",
       "1  [{\"cast_id\": 4, \"character\": \"Captain Jack Spa...   \n",
       "2  [{\"cast_id\": 1, \"character\": \"James Bond\", \"cr...   \n",
       "\n",
       "                                                crew  \n",
       "0  [{\"credit_id\": \"52fe48009251416c750aca23\", \"de...  \n",
       "1  [{\"credit_id\": \"52fe4232c3a36847f800b579\", \"de...  \n",
       "2  [{\"credit_id\": \"54805967c3a36829b5002c41\", \"de...  "
      ]
     },
     "execution_count": 122,
     "metadata": {},
     "output_type": "execute_result"
    }
   ],
   "source": [
    "moviedf = moviedf[['movie_id', 'title', 'overview','genres','cast','crew' ]]\n",
    "moviedf.head(3)"
   ]
  },
  {
   "cell_type": "markdown",
   "id": "34915a21",
   "metadata": {},
   "source": [
    "# Preprocessing:"
   ]
  },
  {
   "cell_type": "code",
   "execution_count": 123,
   "id": "4e82b54c",
   "metadata": {},
   "outputs": [
    {
     "data": {
      "text/plain": [
       "movie_id    0\n",
       "title       0\n",
       "overview    3\n",
       "genres      0\n",
       "cast        0\n",
       "crew        0\n",
       "dtype: int64"
      ]
     },
     "execution_count": 123,
     "metadata": {},
     "output_type": "execute_result"
    }
   ],
   "source": [
    "moviedf.isnull().sum()"
   ]
  },
  {
   "cell_type": "code",
   "execution_count": 124,
   "id": "ad3989b6",
   "metadata": {},
   "outputs": [
    {
     "data": {
      "text/plain": [
       "0"
      ]
     },
     "execution_count": 124,
     "metadata": {},
     "output_type": "execute_result"
    }
   ],
   "source": [
    "moviedf.duplicated().sum()"
   ]
  },
  {
   "cell_type": "code",
   "execution_count": 125,
   "id": "2d92ea14",
   "metadata": {},
   "outputs": [],
   "source": [
    "moviedf.dropna(inplace=True)"
   ]
  },
  {
   "cell_type": "code",
   "execution_count": 126,
   "id": "8bbe2886",
   "metadata": {},
   "outputs": [
    {
     "data": {
      "text/plain": [
       "movie_id    0\n",
       "title       0\n",
       "overview    0\n",
       "genres      0\n",
       "cast        0\n",
       "crew        0\n",
       "dtype: int64"
      ]
     },
     "execution_count": 126,
     "metadata": {},
     "output_type": "execute_result"
    }
   ],
   "source": [
    "moviedf.isnull().sum()"
   ]
  },
  {
   "cell_type": "code",
   "execution_count": 127,
   "id": "1b1089cd",
   "metadata": {},
   "outputs": [
    {
     "data": {
      "text/plain": [
       "movie_id                                                19995\n",
       "title                                                  Avatar\n",
       "overview    In the 22nd century, a paraplegic Marine is di...\n",
       "genres      [{\"id\": 28, \"name\": \"Action\"}, {\"id\": 12, \"nam...\n",
       "cast        [{\"cast_id\": 242, \"character\": \"Jake Sully\", \"...\n",
       "crew        [{\"credit_id\": \"52fe48009251416c750aca23\", \"de...\n",
       "Name: 0, dtype: object"
      ]
     },
     "execution_count": 127,
     "metadata": {},
     "output_type": "execute_result"
    }
   ],
   "source": [
    "moviedf.iloc[0]"
   ]
  },
  {
   "cell_type": "code",
   "execution_count": 128,
   "id": "5c05193e",
   "metadata": {},
   "outputs": [
    {
     "data": {
      "text/plain": [
       "'[{\"id\": 28, \"name\": \"Action\"}, {\"id\": 12, \"name\": \"Adventure\"}, {\"id\": 14, \"name\": \"Fantasy\"}, {\"id\": 878, \"name\": \"Science Fiction\"}]'"
      ]
     },
     "execution_count": 128,
     "metadata": {},
     "output_type": "execute_result"
    }
   ],
   "source": [
    "moviedf.iloc[0]['genres']"
   ]
  },
  {
   "cell_type": "code",
   "execution_count": 129,
   "id": "ae202cee",
   "metadata": {},
   "outputs": [],
   "source": [
    "import ast"
   ]
  },
  {
   "cell_type": "code",
   "execution_count": 130,
   "id": "7bddf531",
   "metadata": {},
   "outputs": [],
   "source": [
    "def convert(obj):\n",
    "    genre_list = []\n",
    "    for i in ast.literal_eval(obj):\n",
    "        genre_list.append(i['name'])\n",
    "    return genre_list"
   ]
  },
  {
   "cell_type": "code",
   "execution_count": 131,
   "id": "6a7db84b",
   "metadata": {},
   "outputs": [],
   "source": [
    "moviedf.genres = moviedf.genres.apply(convert)"
   ]
  },
  {
   "cell_type": "code",
   "execution_count": 132,
   "id": "4d4e3bb6",
   "metadata": {},
   "outputs": [
    {
     "data": {
      "text/html": [
       "<div>\n",
       "<style scoped>\n",
       "    .dataframe tbody tr th:only-of-type {\n",
       "        vertical-align: middle;\n",
       "    }\n",
       "\n",
       "    .dataframe tbody tr th {\n",
       "        vertical-align: top;\n",
       "    }\n",
       "\n",
       "    .dataframe thead th {\n",
       "        text-align: right;\n",
       "    }\n",
       "</style>\n",
       "<table border=\"1\" class=\"dataframe\">\n",
       "  <thead>\n",
       "    <tr style=\"text-align: right;\">\n",
       "      <th></th>\n",
       "      <th>movie_id</th>\n",
       "      <th>title</th>\n",
       "      <th>overview</th>\n",
       "      <th>genres</th>\n",
       "      <th>cast</th>\n",
       "      <th>crew</th>\n",
       "    </tr>\n",
       "  </thead>\n",
       "  <tbody>\n",
       "    <tr>\n",
       "      <th>0</th>\n",
       "      <td>19995</td>\n",
       "      <td>Avatar</td>\n",
       "      <td>In the 22nd century, a paraplegic Marine is di...</td>\n",
       "      <td>[Action, Adventure, Fantasy, Science Fiction]</td>\n",
       "      <td>[{\"cast_id\": 242, \"character\": \"Jake Sully\", \"...</td>\n",
       "      <td>[{\"credit_id\": \"52fe48009251416c750aca23\", \"de...</td>\n",
       "    </tr>\n",
       "    <tr>\n",
       "      <th>1</th>\n",
       "      <td>285</td>\n",
       "      <td>Pirates of the Caribbean: At World's End</td>\n",
       "      <td>Captain Barbossa, long believed to be dead, ha...</td>\n",
       "      <td>[Adventure, Fantasy, Action]</td>\n",
       "      <td>[{\"cast_id\": 4, \"character\": \"Captain Jack Spa...</td>\n",
       "      <td>[{\"credit_id\": \"52fe4232c3a36847f800b579\", \"de...</td>\n",
       "    </tr>\n",
       "    <tr>\n",
       "      <th>2</th>\n",
       "      <td>206647</td>\n",
       "      <td>Spectre</td>\n",
       "      <td>A cryptic message from Bond’s past sends him o...</td>\n",
       "      <td>[Action, Adventure, Crime]</td>\n",
       "      <td>[{\"cast_id\": 1, \"character\": \"James Bond\", \"cr...</td>\n",
       "      <td>[{\"credit_id\": \"54805967c3a36829b5002c41\", \"de...</td>\n",
       "    </tr>\n",
       "    <tr>\n",
       "      <th>3</th>\n",
       "      <td>49026</td>\n",
       "      <td>The Dark Knight Rises</td>\n",
       "      <td>Following the death of District Attorney Harve...</td>\n",
       "      <td>[Action, Crime, Drama, Thriller]</td>\n",
       "      <td>[{\"cast_id\": 2, \"character\": \"Bruce Wayne / Ba...</td>\n",
       "      <td>[{\"credit_id\": \"52fe4781c3a36847f81398c3\", \"de...</td>\n",
       "    </tr>\n",
       "    <tr>\n",
       "      <th>4</th>\n",
       "      <td>49529</td>\n",
       "      <td>John Carter</td>\n",
       "      <td>John Carter is a war-weary, former military ca...</td>\n",
       "      <td>[Action, Adventure, Science Fiction]</td>\n",
       "      <td>[{\"cast_id\": 5, \"character\": \"John Carter\", \"c...</td>\n",
       "      <td>[{\"credit_id\": \"52fe479ac3a36847f813eaa3\", \"de...</td>\n",
       "    </tr>\n",
       "  </tbody>\n",
       "</table>\n",
       "</div>"
      ],
      "text/plain": [
       "   movie_id                                     title  \\\n",
       "0     19995                                    Avatar   \n",
       "1       285  Pirates of the Caribbean: At World's End   \n",
       "2    206647                                   Spectre   \n",
       "3     49026                     The Dark Knight Rises   \n",
       "4     49529                               John Carter   \n",
       "\n",
       "                                            overview  \\\n",
       "0  In the 22nd century, a paraplegic Marine is di...   \n",
       "1  Captain Barbossa, long believed to be dead, ha...   \n",
       "2  A cryptic message from Bond’s past sends him o...   \n",
       "3  Following the death of District Attorney Harve...   \n",
       "4  John Carter is a war-weary, former military ca...   \n",
       "\n",
       "                                          genres  \\\n",
       "0  [Action, Adventure, Fantasy, Science Fiction]   \n",
       "1                   [Adventure, Fantasy, Action]   \n",
       "2                     [Action, Adventure, Crime]   \n",
       "3               [Action, Crime, Drama, Thriller]   \n",
       "4           [Action, Adventure, Science Fiction]   \n",
       "\n",
       "                                                cast  \\\n",
       "0  [{\"cast_id\": 242, \"character\": \"Jake Sully\", \"...   \n",
       "1  [{\"cast_id\": 4, \"character\": \"Captain Jack Spa...   \n",
       "2  [{\"cast_id\": 1, \"character\": \"James Bond\", \"cr...   \n",
       "3  [{\"cast_id\": 2, \"character\": \"Bruce Wayne / Ba...   \n",
       "4  [{\"cast_id\": 5, \"character\": \"John Carter\", \"c...   \n",
       "\n",
       "                                                crew  \n",
       "0  [{\"credit_id\": \"52fe48009251416c750aca23\", \"de...  \n",
       "1  [{\"credit_id\": \"52fe4232c3a36847f800b579\", \"de...  \n",
       "2  [{\"credit_id\": \"54805967c3a36829b5002c41\", \"de...  \n",
       "3  [{\"credit_id\": \"52fe4781c3a36847f81398c3\", \"de...  \n",
       "4  [{\"credit_id\": \"52fe479ac3a36847f813eaa3\", \"de...  "
      ]
     },
     "execution_count": 132,
     "metadata": {},
     "output_type": "execute_result"
    }
   ],
   "source": [
    "moviedf.head()"
   ]
  },
  {
   "cell_type": "code",
   "execution_count": 133,
   "id": "b424b449",
   "metadata": {},
   "outputs": [],
   "source": [
    "# Done"
   ]
  }
 ],
 "metadata": {
  "kernelspec": {
   "display_name": "Python 3 (ipykernel)",
   "language": "python",
   "name": "python3"
  },
  "language_info": {
   "codemirror_mode": {
    "name": "ipython",
    "version": 3
   },
   "file_extension": ".py",
   "mimetype": "text/x-python",
   "name": "python",
   "nbconvert_exporter": "python",
   "pygments_lexer": "ipython3",
   "version": "3.9.7"
  }
 },
 "nbformat": 4,
 "nbformat_minor": 5
}
