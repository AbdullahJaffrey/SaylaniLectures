{
 "cells": [
  {
   "cell_type": "markdown",
   "id": "68f4efd0",
   "metadata": {},
   "source": [
    "* (01/08/2022)"
   ]
  },
  {
   "cell_type": "markdown",
   "id": "bf6e36a7",
   "metadata": {},
   "source": [
    "# Let's Explore:\n",
    "\n",
    "<img src='https://www.bing.com/th?id=ABT700121C13C4AEF84FE0D775AE28188294152DF29A07BBABD526C0FA465006769&w=608&h=200&c=2&rs=1&o=6&pid=SANGAM'>\n",
    "\n",
    "##### Hawaii Volcanoes National Park\n",
    "\n",
    "The orange glow of lava, like pictured here, is a frequent site on Hawaii’s Kilauea, the youngest volcano on one of the youngest islands on Earth. In near constant eruption for the last 40 years, Kilauea is widely considered the most active volcano in the world and is the main attraction at Hawaii Volcanoes National Park, which was created in 1916. The park, which was designated an International Biosphere Reserve and a World Heritage site, also includes another active volcano, Mauna Loa, the world’s most massive shield volcano. Together, they are among the most studied volcanoes in the world.\n",
    "\n",
    "The volcanoes of the Big Island of Hawaii offer a glimpse into the ongoing creation of the entire Hawaiian island chain, a process that has been underway for tens of millions of years. Hawaii owes its existence to a volcanic hotspot on the seafloor, which seeps magma that turns to solid rock, which eventually reaches the surface of the sea and becomes an island. The island continues to grow until the Pacific tectonic plate moves the island off the hotspot. The hotspot remains stationary, constantly creating new islands. In fact, the next Hawaiian island, named Loihi, is more than 30 kilometres from Hawaii and 900 metres below the surface of the ocean. In less than 100,000 years, it is expected to replace the Big Island as the youngest island in the chain.\n",
    "\n",
    "Hawaiian religion credits the creation of Hawaii to Pele, the goddess of fire and volcanoes. Possessing a temper and a passionate nature, she is said to make her home in the Halema’uma’u caldera here on Kilauea. From her volcano home she controls the flow of lava and frequency of eruptions. According to modern legend, she sometimes wanders near the park as an old woman wearing a red muumuu, with a white dog, as a warning that a new eruption is soon to come."
   ]
  },
  {
   "cell_type": "code",
   "execution_count": 1,
   "id": "375dfcab",
   "metadata": {},
   "outputs": [],
   "source": [
    "#Class starts at 7.45pm"
   ]
  },
  {
   "cell_type": "markdown",
   "id": "eb3ff8ff",
   "metadata": {},
   "source": [
    "## Instance as Attribute:"
   ]
  },
  {
   "cell_type": "markdown",
   "id": "cfa8fee9",
   "metadata": {},
   "source": [
    "If we created a mutliple functionalities in a single class along with the same name functions, we'll end up ourself in a big trouble."
   ]
  },
  {
   "cell_type": "markdown",
   "id": "e6a8f6dc",
   "metadata": {},
   "source": [
    "<img src='https://camo.githubusercontent.com/14e481d92e9d75e14db129d872788981015cf5a8d36b4f75692a18997d670d4a/68747470733a2f2f636f6d70696c65726763632e66696c65732e776f726470726573732e636f6d2f323032302f30362f6d617872657364656661756c742e6a7067'>"
   ]
  },
  {
   "cell_type": "markdown",
   "id": "2bf7ccf5",
   "metadata": {},
   "source": [
    "### I.e:"
   ]
  },
  {
   "cell_type": "markdown",
   "id": "44e64d00",
   "metadata": {},
   "source": [
    "if a car company start building everything including battery on it's own, this will create trouble for the car company!"
   ]
  },
  {
   "cell_type": "markdown",
   "id": "d687a4cf",
   "metadata": {},
   "source": [
    "It's better for the company to distribute the tender to different companies, so the company itself reduces its burden and manufacturing cost"
   ]
  },
  {
   "cell_type": "code",
   "execution_count": 2,
   "id": "bdc48d72",
   "metadata": {},
   "outputs": [],
   "source": [
    "class Car():\n",
    " \n",
    "    def __init__(self, make, model, year):\n",
    "        self.make = make\n",
    "        self.model = model\n",
    "        self.year = year\n",
    "        self.odometer_reading = 0\n",
    "\n",
    "    def get_descriptive_name(self):\n",
    "        long_name = str(self.year) + ' ' + self.make + ' ' + self.model\n",
    "        return long_name.title()\n",
    "\n",
    "    def read_odometer(self):\n",
    "        print(\"This car has \" + str(self.odometer_reading) + \" miles on it.\")\n",
    "\n",
    "    def update_odometer(self, mileage):\n",
    "        if mileage >= self.odometer_reading:\n",
    "            self.odometer_reading = mileage\n",
    "        else:\n",
    "            print(\"You can't roll back an odometer!\")\n",
    "\n",
    "    def increment_odometer(self, miles):\n",
    "        self.odometer_reading += miles\n",
    "    \n",
    "    def fill_gas_tank(self):\n",
    "        print(\"Gas tank is being filled\")"
   ]
  },
  {
   "cell_type": "markdown",
   "id": "e61f2818",
   "metadata": {},
   "source": [
    "<img src = 'https://afdc.energy.gov/files/vehicles/electric-high-res.jpg' width=700px>"
   ]
  },
  {
   "cell_type": "code",
   "execution_count": 3,
   "id": "0032784d",
   "metadata": {},
   "outputs": [],
   "source": [
    "class ElectricCar(Car):\n",
    "    \n",
    "    def __init__(self, make, model, year):\n",
    " \n",
    "        super().__init__(make, model, year)\n",
    "        #super()takes you to the parent class initializer\n",
    "        self.battery = Battery('Exide', 27, 200)\n",
    "        #Exide Chalti Jaye!!\n",
    "        self.tyre = Tyre('Bridgestone', 205, 15, 8.4, 84)\n",
    "        #Solutions for your journey !!\n",
    "        \n",
    "    def batterysize(self):\n",
    "        return f'This Car has a {self.battery_size} kwh-sized battery!'\n",
    "    \n",
    "    def fill_gas_tank(self):\n",
    "        return \"This car doesn't need a tank!\"\n",
    "    "
   ]
  },
  {
   "cell_type": "markdown",
   "id": "bd7a7566",
   "metadata": {},
   "source": [
    "<img src='http://www.ielectriccarconversion.com/wp-content/uploads/2014/02/image-tesla-electric-car-specs.jpg' width=700px>"
   ]
  },
  {
   "cell_type": "code",
   "execution_count": 4,
   "id": "f46d14d9",
   "metadata": {},
   "outputs": [],
   "source": [
    "class Battery():\n",
    "    def __init__(self, manufacture, cell, power_amp):\n",
    "        self.manufacture = manufacture\n",
    "        self.cell = cell\n",
    "        self.power_amp = power_amp\n",
    "        \n",
    "    def battery_power(self):\n",
    "        print(f\"{self.power_amp}\")\n",
    "    \n",
    "    def Battery_description(self):\n",
    "        \n",
    "        print(f\"\"\"\n",
    "        Manufacturer: {self.manufacture}\n",
    "        Number of Cells: {self.cell}\n",
    "        \"\"\")"
   ]
  },
  {
   "cell_type": "markdown",
   "id": "373e22fd",
   "metadata": {},
   "source": [
    "<img src='https://5.imimg.com/data5/MA/OK/KL/SELLER-28973585/46-250x250.jpg'>"
   ]
  },
  {
   "cell_type": "code",
   "execution_count": 5,
   "id": "c7060055",
   "metadata": {},
   "outputs": [],
   "source": [
    "#Tyre Specifiation:"
   ]
  },
  {
   "cell_type": "markdown",
   "id": "91ec4b18",
   "metadata": {},
   "source": [
    "<img src = 'https://www.tyremarket.com/tyremantra/wp-content/uploads/2016/03/What-Is-Tyre-Aspect-Ratio.jpg' width = 500px>"
   ]
  },
  {
   "cell_type": "code",
   "execution_count": 6,
   "id": "843fee8b",
   "metadata": {},
   "outputs": [],
   "source": [
    "class Tyre():\n",
    "     \n",
    "    def __init__(self, manufacturer, width, rim_diameter, grip_score, load):\n",
    "        self.width = width\n",
    "        self.rim_diameter = rim_diameter\n",
    "        self.grip_score = grip_score\n",
    "        self.load = load\n",
    "        self.manufacturer = manufacturer\n",
    "        \n",
    "    def tyre_load(self):\n",
    "        print(f\"This tyre can pick upto {self.load} tons of load in a single time! \")\n",
    "    \n",
    "    def tyre_description(self):\n",
    "        print(f\"\"\"\n",
    "        Manufacturer: {self.manufacturer}\n",
    "        Grip Score of Tyre: {self.grip_score}\n",
    "        Width of Tyre : {self.width}\n",
    "        Rim Diameter of Tyre: {self.rim_diameter}\n",
    "        \"\"\")\n",
    "    "
   ]
  },
  {
   "cell_type": "code",
   "execution_count": 7,
   "id": "baff84ec",
   "metadata": {},
   "outputs": [],
   "source": [
    "from car import Car"
   ]
  },
  {
   "cell_type": "code",
   "execution_count": 8,
   "id": "c7a7f497",
   "metadata": {},
   "outputs": [],
   "source": [
    "car1 = Car('Toyota', 'Corolla XLI', 2012)"
   ]
  },
  {
   "cell_type": "code",
   "execution_count": 9,
   "id": "c8f14108",
   "metadata": {},
   "outputs": [
    {
     "name": "stdout",
     "output_type": "stream",
     "text": [
      "Gas tank is being filled\n"
     ]
    }
   ],
   "source": [
    "car1.fill_gas_tank()"
   ]
  },
  {
   "cell_type": "code",
   "execution_count": 10,
   "id": "85233c1d",
   "metadata": {},
   "outputs": [],
   "source": [
    "from car import ElectricCar"
   ]
  },
  {
   "cell_type": "code",
   "execution_count": 11,
   "id": "01dd74b0",
   "metadata": {},
   "outputs": [],
   "source": [
    "ecar1 = ElectricCar('Tesla', 'Model S', 2021)"
   ]
  },
  {
   "cell_type": "code",
   "execution_count": 12,
   "id": "bdba94c0",
   "metadata": {},
   "outputs": [
    {
     "data": {
      "text/plain": [
       "\"This car doesn't need a tank!\""
      ]
     },
     "execution_count": 12,
     "metadata": {},
     "output_type": "execute_result"
    }
   ],
   "source": [
    "ecar1.fill_gas_tank()"
   ]
  },
  {
   "cell_type": "code",
   "execution_count": 13,
   "id": "6d56c47c",
   "metadata": {},
   "outputs": [],
   "source": [
    "# %load car.py"
   ]
  },
  {
   "cell_type": "code",
   "execution_count": 14,
   "id": "3efdd83f",
   "metadata": {},
   "outputs": [],
   "source": [
    "# %load car"
   ]
  },
  {
   "cell_type": "code",
   "execution_count": 15,
   "id": "f4c93cca",
   "metadata": {},
   "outputs": [],
   "source": [
    "#Done"
   ]
  }
 ],
 "metadata": {
  "kernelspec": {
   "display_name": "Python 3 (ipykernel)",
   "language": "python",
   "name": "python3"
  },
  "language_info": {
   "codemirror_mode": {
    "name": "ipython",
    "version": 3
   },
   "file_extension": ".py",
   "mimetype": "text/x-python",
   "name": "python",
   "nbconvert_exporter": "python",
   "pygments_lexer": "ipython3",
   "version": "3.9.7"
  }
 },
 "nbformat": 4,
 "nbformat_minor": 5
}
