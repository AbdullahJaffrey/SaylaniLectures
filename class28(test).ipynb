{
 "cells": [
  {
   "cell_type": "code",
   "execution_count": 1,
   "id": "691fa958",
   "metadata": {},
   "outputs": [],
   "source": [
    "# 25-08-2022 Thursday"
   ]
  },
  {
   "cell_type": "markdown",
   "id": "591123ae",
   "metadata": {},
   "source": [
    "# Task1: \n",
    "\n",
    "Write a function that finds the max of the inputted array\n",
    "\n",
    "If the user passes an argument:\n",
    "\n",
    "arr = [8,5,2,3,7,0,1]\n",
    "\n",
    "The function should return the max value from the array:\n",
    "\n",
    "Note: We need to write our own max algorithm. Use of python function is not acceptable.\n"
   ]
  },
  {
   "cell_type": "code",
   "execution_count": 2,
   "id": "1d3a1aa1",
   "metadata": {},
   "outputs": [],
   "source": [
    "def findmax(arr):\n",
    "    maximum = 0\n",
    "    for i in arr:\n",
    "        if i > maximum:\n",
    "            maximum = i\n",
    "    return maximum"
   ]
  },
  {
   "cell_type": "code",
   "execution_count": 3,
   "id": "fc7a3551",
   "metadata": {},
   "outputs": [
    {
     "data": {
      "text/plain": [
       "897"
      ]
     },
     "execution_count": 3,
     "metadata": {},
     "output_type": "execute_result"
    }
   ],
   "source": [
    "findmax([8,5,2,3,897,7,0,1,87])"
   ]
  },
  {
   "cell_type": "code",
   "execution_count": 4,
   "id": "8a286ac0",
   "metadata": {},
   "outputs": [],
   "source": [
    "def findmin(arr):\n",
    "    maximum = 0\n",
    "    for i in arr:\n",
    "        if i < maximum:\n",
    "            maximum = i\n",
    "    return maximum"
   ]
  },
  {
   "cell_type": "code",
   "execution_count": 5,
   "id": "6c2d7117",
   "metadata": {},
   "outputs": [
    {
     "data": {
      "text/plain": [
       "0"
      ]
     },
     "execution_count": 5,
     "metadata": {},
     "output_type": "execute_result"
    }
   ],
   "source": [
    "findmin([8,5,2,3,897,7,0,1,87])"
   ]
  },
  {
   "cell_type": "markdown",
   "id": "62faeff5",
   "metadata": {},
   "source": [
    "# Task2:\n",
    "    \n",
    "Write a function that count the number of digits and characters in a text supplied to it.\n",
    "\n",
    "Suppose the following argument is supplied to the program:\n",
    "\n",
    "hello world! 123\n",
    "\n",
    "Then, the function should return:\n",
    "\n",
    "LETTERS 10\n",
    "\n",
    "DIGITS 3"
   ]
  },
  {
   "cell_type": "code",
   "execution_count": 6,
   "id": "0cf16daf",
   "metadata": {},
   "outputs": [],
   "source": [
    "def count(text):\n",
    "    d = 0\n",
    "    c = 0\n",
    "    for i in text:\n",
    "        if i.isdigit():\n",
    "            d = d + 1\n",
    "        elif i.isalpha():\n",
    "            c = c + 1\n",
    "    return f'Numeric Value: {d}, letters Value: {c}'"
   ]
  },
  {
   "cell_type": "code",
   "execution_count": 7,
   "id": "5a8f9b5a",
   "metadata": {},
   "outputs": [
    {
     "data": {
      "text/plain": [
       "'Numeric Value: 6, letters Value: 14'"
      ]
     },
     "execution_count": 7,
     "metadata": {},
     "output_type": "execute_result"
    }
   ],
   "source": [
    "count(' This is Abdullah 23 3435 ')"
   ]
  },
  {
   "cell_type": "markdown",
   "id": "d83e4d16",
   "metadata": {},
   "source": [
    "# TASK4:\n",
    "    \n",
    "Write a function that accepts a text argument and return the longest word in the test supplied."
   ]
  },
  {
   "cell_type": "code",
   "execution_count": 8,
   "id": "355d3e6e",
   "metadata": {},
   "outputs": [],
   "source": [
    "def wordcount(text):\n",
    "    maxlength = 0\n",
    "    my_word = \"\"\n",
    "    text = text.split(\" \")\n",
    "    for i in text:\n",
    "        if len(i) > maxlength:\n",
    "            my_word = i\n",
    "            maxlength = len(i)\n",
    "    return my_word"
   ]
  },
  {
   "cell_type": "code",
   "execution_count": 9,
   "id": "4e7e9bff",
   "metadata": {},
   "outputs": [
    {
     "data": {
      "text/plain": [
       "'Abdullah'"
      ]
     },
     "execution_count": 9,
     "metadata": {},
     "output_type": "execute_result"
    }
   ],
   "source": [
    "wordcount('This is Abdullah Jafri')"
   ]
  },
  {
   "cell_type": "markdown",
   "id": "ec04377c",
   "metadata": {},
   "source": [
    "# Task3: \n",
    "\n",
    "You need to write a class “Line” \n",
    "\n",
    "that has two properties coord1 and coord2 \n",
    "\n",
    "\n",
    "Where: \n",
    "\n",
    "coord1 =(x1, y1)\n",
    "\t      \n",
    "          \n",
    "coord2=(x2,y2)\n",
    "          \n",
    "Create two lines by passing coordinates of line. \n",
    "\n",
    "Like (x1,y1) and (x2,y2). A line class has following methods:\n",
    "Function Name\tParameters\tReturn \n",
    "isLine\tco-ord1, co-rod2\tStr “Line”\n",
    "\n",
    "Length_of_line\tco-ord1, co-rod2\tNumeric length\n",
    "Slope_of_line\tco-ord1, co-rod2\tNumeric slope\n",
    "\n",
    "Parallel\tlineObj1,lineObj2\tStr status “parallel”/ “not parallel”\n",
    "\n",
    "Perpendicular\tlineObj2,lineObj2\tStr status “perpenduclar” / “Not perpendicular”\n"
   ]
  },
  {
   "cell_type": "code",
   "execution_count": 10,
   "id": "c52a27af",
   "metadata": {},
   "outputs": [],
   "source": [
    "import math\n",
    "class Line():\n",
    "    \n",
    "    def __init__(self, x1, x2, y1, y2):\n",
    "        self.point1 = x1, y1\n",
    "        self.point2 = x2, y2\n",
    "    \n",
    "    def isLine(self):\n",
    "        if self.point1 == self.point2:\n",
    "            return 'No Line'\n",
    "        else:\n",
    "            return 'Line'\n",
    "\n",
    "    def length_of_line(self):\n",
    "        l =  (((self.point2[0]-self.point1[0])**2 + (self.point2[0]-self.point1[0])**2))**1/2\n",
    "        return l\n",
    "    \n",
    "    def slope_of_line(self):\n",
    "        m =self.point2[1]- self.point1[1]/self.point2[0]-self.point1[0]\n",
    "        return m\n",
    "    \n",
    "    def linestatus(self,m1,m2):\n",
    "        \n",
    "        self.m1 = m1\n",
    "        \n",
    "        self.m2 = m2\n",
    "        \n",
    "        if self.m1 == self.m2:\n",
    "            print('Parallel')\n",
    "        elif self.m1**self.m2 == -1:\n",
    "            print('Perpendicular')\n",
    "        else:\n",
    "            return 'lies in between.'"
   ]
  },
  {
   "cell_type": "code",
   "execution_count": 11,
   "id": "caee2760",
   "metadata": {},
   "outputs": [],
   "source": [
    "line1 = Line(2,3,4,5)"
   ]
  },
  {
   "cell_type": "code",
   "execution_count": 12,
   "id": "5858f719",
   "metadata": {},
   "outputs": [
    {
     "data": {
      "text/plain": [
       "'Line'"
      ]
     },
     "execution_count": 12,
     "metadata": {},
     "output_type": "execute_result"
    }
   ],
   "source": [
    "line1.isLine()"
   ]
  },
  {
   "cell_type": "code",
   "execution_count": 13,
   "id": "a03ba220",
   "metadata": {},
   "outputs": [
    {
     "data": {
      "text/plain": [
       "1.0"
      ]
     },
     "execution_count": 13,
     "metadata": {},
     "output_type": "execute_result"
    }
   ],
   "source": [
    "line1.length_of_line()"
   ]
  },
  {
   "cell_type": "code",
   "execution_count": 14,
   "id": "a5a97fbe",
   "metadata": {},
   "outputs": [
    {
     "data": {
      "text/plain": [
       "1.666666666666667"
      ]
     },
     "execution_count": 14,
     "metadata": {},
     "output_type": "execute_result"
    }
   ],
   "source": [
    "line1.slope_of_line()"
   ]
  },
  {
   "cell_type": "code",
   "execution_count": 15,
   "id": "b569cb36",
   "metadata": {},
   "outputs": [],
   "source": [
    "line2 = Line(2,1,3,6)"
   ]
  },
  {
   "cell_type": "code",
   "execution_count": 16,
   "id": "577c5459",
   "metadata": {},
   "outputs": [
    {
     "data": {
      "text/plain": [
       "1.0"
      ]
     },
     "execution_count": 16,
     "metadata": {},
     "output_type": "execute_result"
    }
   ],
   "source": [
    "line2.slope_of_line()"
   ]
  },
  {
   "cell_type": "code",
   "execution_count": 17,
   "id": "b19743d8",
   "metadata": {},
   "outputs": [
    {
     "data": {
      "text/plain": [
       "'lies in between.'"
      ]
     },
     "execution_count": 17,
     "metadata": {},
     "output_type": "execute_result"
    }
   ],
   "source": [
    "line2.linestatus(1.666,1.0)"
   ]
  },
  {
   "cell_type": "code",
   "execution_count": 18,
   "id": "235d6642",
   "metadata": {},
   "outputs": [],
   "source": [
    "#done"
   ]
  }
 ],
 "metadata": {
  "kernelspec": {
   "display_name": "Python 3 (ipykernel)",
   "language": "python",
   "name": "python3"
  },
  "language_info": {
   "codemirror_mode": {
    "name": "ipython",
    "version": 3
   },
   "file_extension": ".py",
   "mimetype": "text/x-python",
   "name": "python",
   "nbconvert_exporter": "python",
   "pygments_lexer": "ipython3",
   "version": "3.9.7"
  }
 },
 "nbformat": 4,
 "nbformat_minor": 5
}
