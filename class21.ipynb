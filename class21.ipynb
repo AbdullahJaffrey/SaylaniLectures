{
 "cells": [
  {
   "cell_type": "code",
   "execution_count": 1,
   "metadata": {},
   "outputs": [],
   "source": [
    "# (25-JULY-2022) Monday (Online class). Due to Rain."
   ]
  },
  {
   "cell_type": "code",
   "execution_count": 2,
   "metadata": {},
   "outputs": [],
   "source": [
    "# Revision of class 20:"
   ]
  },
  {
   "cell_type": "markdown",
   "metadata": {},
   "source": [
    "# Class 21 :"
   ]
  },
  {
   "cell_type": "markdown",
   "metadata": {},
   "source": [
    "## Encapsulation:\n",
    "\n",
    "Encapsulation is the packing of data and functions that work on that data within a single object.\n",
    "\n",
    "<img src = 'https://media.geeksforgeeks.org/wp-content/uploads/20191013164254/encapsulation-in-python.png'>"
   ]
  },
  {
   "cell_type": "markdown",
   "metadata": {},
   "source": [
    "<img src = 'https://pynative.com/wp-content/uploads/2021/08/encapsulation_in_python.jpg' width=800px>"
   ]
  },
  {
   "cell_type": "code",
   "execution_count": 3,
   "metadata": {
    "id": "K9u0nJotDLez"
   },
   "outputs": [],
   "source": [
    "class User(): #merger of both (data members and method is known as 'Encapsulation')\n",
    "    \n",
    "#    ----- data members -----\n",
    "    def __init__(self, first_name, last_name,gender,age,login=0):\n",
    "        self.first_name = first_name\n",
    "        self.last_name = last_name\n",
    "        self.gender = gender\n",
    "        self.age = age\n",
    "        self.login = login\n",
    "        self.login += 1\n",
    "#    ----- data members -----\n",
    "\n",
    "\n",
    "\n",
    "#    ----- Method -----\n",
    "\n",
    "    def describe_user(self):\n",
    "        return f\"Hello {self.first_name} {self.last_name}! You're our {self.gender} user and your age is {self.age}\"\n",
    "    def greet_user(self):\n",
    "        print(f'Welcome back, Mr {self.last_name}!')\n",
    "\n",
    "        \n",
    "#    ----- Getter and setter (Encapsulation, not Abstraction) -----\n",
    "\n",
    "# g&s also helps us to hide data from annoying users.\n",
    " \n",
    "    \n",
    "    def set_users_login(self):\n",
    "        self.new_login = 1\n",
    "        self.login += self.new_login\n",
    "\n",
    "    def get_users_login(self):\n",
    "        return self.login\n",
    "\n",
    "# Make more g&s functions to add for more action functions.\n",
    "\n",
    "#    ----- Getter and setter (Encapsulation, not Abstraction) -----\n",
    "\n",
    "    def reset_login(self):\n",
    "        if self.login > 0:\n",
    "            self.login = 0\n",
    "            return self.login\n",
    "        else:\n",
    "            return f\"cann't reset your {login}\"\n",
    "\n",
    "#    ----- Method -----"
   ]
  },
  {
   "cell_type": "code",
   "execution_count": 4,
   "metadata": {
    "id": "Y7NeSOJNGJmk"
   },
   "outputs": [],
   "source": [
    "user1 = User(\"Abdullah\", \"Jafri\", \"Male\", 22)"
   ]
  },
  {
   "cell_type": "markdown",
   "metadata": {},
   "source": [
    "<img src='https://qph.cf2.quoracdn.net/main-qimg-5bb4a179bac7a94cccaead8442ff0349' width=500px>"
   ]
  },
  {
   "cell_type": "code",
   "execution_count": 5,
   "metadata": {
    "colab": {
     "base_uri": "https://localhost:8080/"
    },
    "id": "ZdhAfhXgGpVL",
    "outputId": "9188c8fe-31d2-4e57-a189-4b9ad68615fb"
   },
   "outputs": [
    {
     "data": {
      "text/plain": [
       "1"
      ]
     },
     "execution_count": 5,
     "metadata": {},
     "output_type": "execute_result"
    }
   ],
   "source": [
    "user1.login"
   ]
  },
  {
   "cell_type": "code",
   "execution_count": 6,
   "metadata": {},
   "outputs": [
    {
     "data": {
      "text/plain": [
       "1"
      ]
     },
     "execution_count": 6,
     "metadata": {},
     "output_type": "execute_result"
    }
   ],
   "source": [
    "user1.get_users_login()"
   ]
  },
  {
   "cell_type": "code",
   "execution_count": 7,
   "metadata": {
    "id": "Nj2O0bL-HhVT"
   },
   "outputs": [],
   "source": [
    "user1.set_users_login()"
   ]
  },
  {
   "cell_type": "code",
   "execution_count": 8,
   "metadata": {
    "colab": {
     "base_uri": "https://localhost:8080/"
    },
    "id": "YBsPtTloIi4C",
    "outputId": "f69bd69f-6241-4336-bb37-611bbe92a7fb"
   },
   "outputs": [
    {
     "data": {
      "text/plain": [
       "2"
      ]
     },
     "execution_count": 8,
     "metadata": {},
     "output_type": "execute_result"
    }
   ],
   "source": [
    "user1.get_users_login()"
   ]
  },
  {
   "cell_type": "code",
   "execution_count": 9,
   "metadata": {
    "colab": {
     "base_uri": "https://localhost:8080/"
    },
    "id": "Y_pEh-ONIteB",
    "outputId": "77329c5b-4fec-4a53-9ae4-3ab0a57a7c74"
   },
   "outputs": [
    {
     "data": {
      "text/plain": [
       "0"
      ]
     },
     "execution_count": 9,
     "metadata": {},
     "output_type": "execute_result"
    }
   ],
   "source": [
    "user1.reset_login()"
   ]
  },
  {
   "cell_type": "markdown",
   "metadata": {},
   "source": [
    "<img src='https://miro.medium.com/max/1400/1*GIrrx2XR6p3SPecLej4nWw.png' width=600px>"
   ]
  },
  {
   "cell_type": "code",
   "execution_count": 10,
   "metadata": {},
   "outputs": [],
   "source": [
    "#Done"
   ]
  }
 ],
 "metadata": {
  "colab": {
   "name": "Untitled2.ipynb",
   "provenance": []
  },
  "kernelspec": {
   "display_name": "Python 3 (ipykernel)",
   "language": "python",
   "name": "python3"
  },
  "language_info": {
   "codemirror_mode": {
    "name": "ipython",
    "version": 3
   },
   "file_extension": ".py",
   "mimetype": "text/x-python",
   "name": "python",
   "nbconvert_exporter": "python",
   "pygments_lexer": "ipython3",
   "version": "3.9.7"
  }
 },
 "nbformat": 4,
 "nbformat_minor": 1
}
