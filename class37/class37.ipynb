{
 "cells": [
  {
   "cell_type": "code",
   "execution_count": 1,
   "id": "60997950",
   "metadata": {},
   "outputs": [],
   "source": [
    "# (26/09/2022) Monday"
   ]
  },
  {
   "cell_type": "markdown",
   "id": "e737f415",
   "metadata": {},
   "source": [
    "# Lets Explore: \n",
    "\n",
    "\n",
    "<img src='https://www.bing.com/th?id=ABT76C9E4526930286E949FA92A82D30BE0A7C97090D0614DB3B54107A30BC8BC1C&w=608&h=200&c=2&rs=1&o=6&pid=SANGAM'>\n",
    "\n",
    "**Caribou, Alaska:**\n",
    "\n",
    "In today’s photo we’re looking at some reindeer, known as caribou here in the US state of Alaska, crossing the Susitna River. Alaska has 32 distinct caribou herds. It’s likely the caribou in today’s image are members of the Nelchina herd, which roams across about 50,000 square kilometres in the high basin surrounded by the Talkeetna, Chugach, Wrangell and Alaska ranges.\n",
    "\n",
    "The Nelchina herd is among the most studied and recognised of Alaskan caribou partly because their range is relatively close to the major human population centres of the state. The herd has provided food for Alaskans for hundreds of years and its population is maintained through carefully monitored hunting regulations. But caribou populations can fluctuate from one year to the next depending on the availability of food and severity of the weather.\n",
    "\n",
    "Around this time of year, from late September until early November, caribou males compete for the attention of females in hopes of furthering the species. Successful males will mate with 15-20 females a season. After the rutting season males will shed their antlers while females keep theirs until spring."
   ]
  },
  {
   "cell_type": "code",
   "execution_count": 2,
   "id": "6151be70",
   "metadata": {},
   "outputs": [],
   "source": [
    "# Class Starts from here:"
   ]
  },
  {
   "cell_type": "markdown",
   "id": "96b4df9a",
   "metadata": {},
   "source": [
    "<img src='https://images.squarespace-cdn.com/content/v1/54905286e4b050812345644c/1626903060862-728KRV29LJC2R1HBUAH9/MMMR_TNAIL.jpg'>"
   ]
  },
  {
   "cell_type": "markdown",
   "id": "6caf717b",
   "metadata": {},
   "source": [
    "<img src='https://cdn1.byjus.com/wp-content/uploads/2021/12/Types-of-Data-in-Statistics.png'>"
   ]
  },
  {
   "cell_type": "markdown",
   "id": "ca4b13dd",
   "metadata": {},
   "source": [
    "<img src='https://pharmacygyan.com/wp-content/uploads/2021/10/types-of-data-min.png'>"
   ]
  },
  {
   "cell_type": "markdown",
   "id": "d36ae918",
   "metadata": {},
   "source": [
    "<img src='http://intellspot.com/wp-content/uploads/2018/08/Types-of-Data-Infographic.png'>"
   ]
  },
  {
   "cell_type": "markdown",
   "id": "559bc3ab",
   "metadata": {},
   "source": [
    "<img src='https://d1whtlypfis84e.cloudfront.net/guides/wp-content/uploads/2018/02/25170246/Statistics_Part_01-1-672x1024.jpg'>"
   ]
  },
  {
   "cell_type": "markdown",
   "id": "3e21c14b",
   "metadata": {},
   "source": [
    "<img src='https://www.investopedia.com/thmb/j6Xz8PE2cv8u60b8rGaQUVYt0QI=/500x0/filters:no_upscale():max_bytes(150000):strip_icc():gifv():format(webp)/degrees-of-freedom-4197957-01-final-1-ead1ba302888439d853ed97c4a300d86.png'>"
   ]
  },
  {
   "cell_type": "markdown",
   "id": "4bf225f1",
   "metadata": {},
   "source": [
    "Must Read blogs !! \n",
    "\n",
    "<a href ='https://www.investopedia.com/terms/d/degrees-of-freedom.asp#:~:text=Key%20Takeaways-,Degrees%20of%20freedom%20refers%20to%20the%20maximum%20number%20of%20logically,items%20within%20the%20data%20sample.' > <b> Degree Of Freedom! </b> </a> \n",
    "\n",
    "    by Investopedia\n",
    "\n",
    "!---------------------------------------!"
   ]
  },
  {
   "cell_type": "markdown",
   "id": "17342dcd",
   "metadata": {},
   "source": [
    "Variance and Standard Deviation:\n",
    "\n",
    "\n",
    "<a href='https://byjus.com/maths/variance-and-standard-deviation/'> Variance and Standard Deviation Formula </a>\n",
    "\n",
    "    by Byjus"
   ]
  },
  {
   "cell_type": "markdown",
   "id": "58120b51",
   "metadata": {},
   "source": [
    "<a href = 'https://www.calculatorsoup.com/'> Learn by Using this! </a> Calculator Categories"
   ]
  },
  {
   "cell_type": "markdown",
   "id": "d5f0381a",
   "metadata": {},
   "source": [
    "<img src='https://i.stack.imgur.com/jkMDV.png'>"
   ]
  },
  {
   "cell_type": "markdown",
   "id": "c2d22517",
   "metadata": {},
   "source": [
    "<img src='https://web.cortland.edu/andersmd/STATS/curve.jpg'>"
   ]
  },
  {
   "cell_type": "markdown",
   "id": "80833b34",
   "metadata": {},
   "source": [
    "<a src='https://www.desmos.com/calculator/ush6rej2i6'>Click here! </a>"
   ]
  },
  {
   "cell_type": "markdown",
   "id": "08983e69",
   "metadata": {},
   "source": [
    "<img src='https://www.investopedia.com/thmb/eKHKawtaPACKXe8a5x8fmxb72qU=/660x0/filters:no_upscale():max_bytes(150000):strip_icc():format(webp)/LognormalandNormalDistribution1-7ffee664ca9444a4b2c85c2eac982a0d.png'>"
   ]
  },
  {
   "cell_type": "markdown",
   "id": "43134682",
   "metadata": {},
   "source": [
    "<img src='https://soc.utah.edu/sociology3112/_resources/images/normal.png'>"
   ]
  },
  {
   "cell_type": "markdown",
   "id": "d8a91216",
   "metadata": {},
   "source": [
    "<img src='https://i2.wp.com/i.pinimg.com/originals/63/3d/f8/633df8ee468b9860bfb9d8fc01d5fc5d.jpg'>"
   ]
  },
  {
   "cell_type": "code",
   "execution_count": 3,
   "id": "40c80db3",
   "metadata": {},
   "outputs": [],
   "source": [
    "# Z Score or Standard Normal distribution or Standard score"
   ]
  },
  {
   "cell_type": "markdown",
   "id": "e02ea025",
   "metadata": {},
   "source": [
    "<img src='https://cds.climate.copernicus.eu/toolbox/doc/_images/54_box_plots.png'>"
   ]
  },
  {
   "cell_type": "markdown",
   "id": "734700cd",
   "metadata": {},
   "source": [
    "<img src='https://www.researchgate.net/publication/303779929/figure/fig6/AS:372438601879567@1465807690659/The-main-components-of-a-boxplot-median-quartiles-whiskers-fences-and-outliers.png'>"
   ]
  },
  {
   "cell_type": "markdown",
   "id": "de06d7cb",
   "metadata": {},
   "source": [
    "<img src='http://www.statisticsfromatoz.com/uploads/7/3/2/1/73216723/boxplot_orig.png'>"
   ]
  },
  {
   "cell_type": "markdown",
   "id": "0980c4a0",
   "metadata": {},
   "source": [
    "<img src='https://i.stack.imgur.com/FAwSv.png'>"
   ]
  },
  {
   "cell_type": "markdown",
   "id": "ee18c190",
   "metadata": {},
   "source": [
    "<img src='https://i.stack.imgur.com/RdctR.png'>"
   ]
  },
  {
   "cell_type": "markdown",
   "id": "849f4963",
   "metadata": {},
   "source": [
    "<img src='data:image/png;base64,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'>"
   ]
  },
  {
   "cell_type": "markdown",
   "id": "e766f695",
   "metadata": {},
   "source": [
    "<img src='https://cdn1.byjus.com/wp-content/uploads/2020/10/Box-Plot-and-Whisker-Plot-1.png'>"
   ]
  },
  {
   "cell_type": "markdown",
   "id": "8939b29e",
   "metadata": {},
   "source": [
    "<a href='https://courses.lumenlearning.com/introstats1/chapter/box-plots/'> Must Learn"
   ]
  },
  {
   "cell_type": "code",
   "execution_count": 4,
   "id": "3db649bb",
   "metadata": {},
   "outputs": [],
   "source": [
    "#Done"
   ]
  }
 ],
 "metadata": {
  "kernelspec": {
   "display_name": "Python 3 (ipykernel)",
   "language": "python",
   "name": "python3"
  },
  "language_info": {
   "codemirror_mode": {
    "name": "ipython",
    "version": 3
   },
   "file_extension": ".py",
   "mimetype": "text/x-python",
   "name": "python",
   "nbconvert_exporter": "python",
   "pygments_lexer": "ipython3",
   "version": "3.9.7"
  }
 },
 "nbformat": 4,
 "nbformat_minor": 5
}
