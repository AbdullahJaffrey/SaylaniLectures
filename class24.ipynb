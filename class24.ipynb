{
 "cells": [
  {
   "cell_type": "code",
   "execution_count": 1,
   "id": "95a8c092",
   "metadata": {},
   "outputs": [],
   "source": [
    "# 04-08-2022 Thursday"
   ]
  },
  {
   "cell_type": "markdown",
   "id": "45688234",
   "metadata": {},
   "source": [
    "<img src='https://c8.alamy.com/zooms/9/6a935a373d4b4b50ad2a1b90be6fa182/w9k869.jpg' width=700px>\n",
    "\n",
    "### Sugarloaf Mountain\n",
    "\n",
    "Perhaps one of the most internationally recognised parts of Brazil, Sugarloaf Mountain overlooks the surrounding waters of Guanabara Bay and the bustling city of Rio de Janeiro. A famous cable car connects Urca – the first hill at 215 metres – with the Sugarloaf Mountain, and together they form the Sugarloaf Mountain and Urca Hill Natural Monument. Along with the Christ the Redeemer statue, they are the city's most famous postcard images. The vehicle, which also connects the two hills to Praia Vermelha, was conceived in 1908 and opened in 1912. It was the first cable car in the country and the third in the world.\n",
    "\n",
    "In today's image, the impressive mountain scenery and docked yachts are reflected in the waters of Marina da Glória. Nestled between Sugarloaf and Corcovado Mountains, Marina da Glória is one of the city’s most popular waterfront destinations. The venue hosted sailing competitions at the Rio 2016 Olympic and Paralympic Games, and now receives around 1.3 million visitors a year. The marina is one of South America’s premier charter destinations and can accommodate yachts measuring up to 60 metres in length. From here you can explore Flamengo Park, the largest public park and recreation area within the city, as well as enjoy some of the best views of Sugarloaf Mountain."
   ]
  },
  {
   "cell_type": "markdown",
   "id": "e36e954c",
   "metadata": {},
   "source": [
    "<img src='https://play-lh.googleusercontent.com/2FcIA-_oDAgXoLcj0_3OTip8BXVysoBSAzY_i1vK_BuEQjxugQd-SD9n8Q9jUj_Nooo' width=300px>"
   ]
  },
  {
   "cell_type": "markdown",
   "id": "7818d3f8",
   "metadata": {},
   "source": [
    "### The Python Standard Library:\n",
    "\n",
    "The Python Standard Library is a collection of script modules accessible to a Python program to simplify the programming process and removing the need to rewrite commonly used commands. They can be used by 'calling/importing' them at the beginning of a script."
   ]
  },
  {
   "cell_type": "markdown",
   "id": "1f47c37e",
   "metadata": {},
   "source": [
    "-------------------------------"
   ]
  },
  {
   "cell_type": "markdown",
   "id": "963739c9",
   "metadata": {},
   "source": [
    "from Module import Class"
   ]
  },
  {
   "cell_type": "markdown",
   "id": "2b9e7096",
   "metadata": {},
   "source": [
    "from car import ElectricCar"
   ]
  },
  {
   "cell_type": "markdown",
   "id": "3b42722b",
   "metadata": {},
   "source": [
    "-------------------------------"
   ]
  },
  {
   "cell_type": "markdown",
   "id": "1e855eb1",
   "metadata": {},
   "source": [
    "variable = Object(values....)"
   ]
  },
  {
   "cell_type": "markdown",
   "id": "91971297",
   "metadata": {},
   "source": [
    "Ordered_Dictionary: Orderise the dictionary output upon given input while processing for loop!"
   ]
  },
  {
   "cell_type": "markdown",
   "id": "386ae8ac",
   "metadata": {},
   "source": [
    "Name spacing : Neither in python, nor have to be imported. (modules that we created)."
   ]
  },
  {
   "cell_type": "markdown",
   "id": "6fa5ae8d",
   "metadata": {},
   "source": [
    "# Files and Exception"
   ]
  },
  {
   "cell_type": "markdown",
   "id": "f36410ff",
   "metadata": {},
   "source": [
    "## Files:"
   ]
  },
  {
   "cell_type": "markdown",
   "id": "2f4aea03",
   "metadata": {},
   "source": [
    "To save the generated data, we save the file with formats other than python. \n",
    "\n",
    "#### OR\n",
    "\n",
    "A file is some information or data which stays in the computer storage devices. You already know about different kinds of file , like your music files, video files, text files. Python gives you easy ways to manipulate these files. Generally we divide files in two categories, text file and binary file."
   ]
  },
  {
   "cell_type": "markdown",
   "id": "12e3e27c",
   "metadata": {},
   "source": [
    "### Exception:\n",
    "\n",
    "An exception is an event, which occurs during the execution of a program that disrupts the normal flow of the program's instructions. In general, when a Python script encounters a situation that it cannot cope with, it raises an exception. An exception is a Python object that represents an error."
   ]
  },
  {
   "cell_type": "markdown",
   "id": "225b5ad2",
   "metadata": {},
   "source": [
    "Despite the correct syntax, we stopped a variable from generating the output. except at a certain event, we allow it to get executed \n",
    "\n",
    "#Something divided by zero\n",
    "\n",
    "(5/0 or 10/0) Both are integers but we stop 0 from getting divide. It will throws an error when zero occurs."
   ]
  },
  {
   "cell_type": "code",
   "execution_count": 2,
   "id": "440cfe1e",
   "metadata": {},
   "outputs": [
    {
     "data": {
      "text/plain": [
       "(0.5, 2.0)"
      ]
     },
     "execution_count": 2,
     "metadata": {},
     "output_type": "execute_result"
    }
   ],
   "source": [
    "5/10 , 10/5"
   ]
  },
  {
   "cell_type": "code",
   "execution_count": 3,
   "id": "513384dc",
   "metadata": {},
   "outputs": [
    {
     "ename": "ZeroDivisionError",
     "evalue": "division by zero",
     "output_type": "error",
     "traceback": [
      "\u001b[1;31m---------------------------------------------------------------------------\u001b[0m",
      "\u001b[1;31mZeroDivisionError\u001b[0m                         Traceback (most recent call last)",
      "\u001b[1;32mC:\\Users\\LAB02R~1\\AppData\\Local\\Temp/ipykernel_1956/1321348395.py\u001b[0m in \u001b[0;36m<module>\u001b[1;34m\u001b[0m\n\u001b[1;32m----> 1\u001b[1;33m \u001b[1;36m5\u001b[0m\u001b[1;33m/\u001b[0m\u001b[1;36m0\u001b[0m \u001b[1;33m,\u001b[0m \u001b[1;36m10\u001b[0m\u001b[1;33m/\u001b[0m\u001b[1;36m0\u001b[0m \u001b[1;31m#That's the example of Exception\u001b[0m\u001b[1;33m\u001b[0m\u001b[1;33m\u001b[0m\u001b[0m\n\u001b[0m",
      "\u001b[1;31mZeroDivisionError\u001b[0m: division by zero"
     ]
    }
   ],
   "source": [
    "5/0 , 10/0 #That's the example of Exception"
   ]
  },
  {
   "cell_type": "markdown",
   "id": "4f79ba98",
   "metadata": {},
   "source": [
    "### Exception Handling:\n",
    "\n",
    "Exception handling means handling the error to save our website/app/program from crashing.\n",
    "\n",
    "#### OR\n",
    "\n",
    "Exception handling is the process of responding to unwanted or unexpected events when a computer program runs. Exception handling deals with these events to avoid the program or system crashing, and without this process, exceptions would disrupt the normal operation of a program."
   ]
  },
  {
   "cell_type": "code",
   "execution_count": 4,
   "id": "13388e74",
   "metadata": {},
   "outputs": [
    {
     "ename": "ZeroDivisionError",
     "evalue": "division by zero",
     "output_type": "error",
     "traceback": [
      "\u001b[1;31m---------------------------------------------------------------------------\u001b[0m",
      "\u001b[1;31mZeroDivisionError\u001b[0m                         Traceback (most recent call last)",
      "\u001b[1;32mC:\\Users\\LAB02R~1\\AppData\\Local\\Temp/ipykernel_1956/1321348395.py\u001b[0m in \u001b[0;36m<module>\u001b[1;34m\u001b[0m\n\u001b[1;32m----> 1\u001b[1;33m \u001b[1;36m5\u001b[0m\u001b[1;33m/\u001b[0m\u001b[1;36m0\u001b[0m \u001b[1;33m,\u001b[0m \u001b[1;36m10\u001b[0m\u001b[1;33m/\u001b[0m\u001b[1;36m0\u001b[0m \u001b[1;31m#That's the example of Exception\u001b[0m\u001b[1;33m\u001b[0m\u001b[1;33m\u001b[0m\u001b[0m\n\u001b[0m",
      "\u001b[1;31mZeroDivisionError\u001b[0m: division by zero"
     ]
    }
   ],
   "source": [
    "5/0 , 10/0 #That's the example of Exception"
   ]
  },
  {
   "cell_type": "code",
   "execution_count": 5,
   "id": "3f1dac6d",
   "metadata": {},
   "outputs": [
    {
     "name": "stdout",
     "output_type": "stream",
     "text": [
      "Enter a number: 3\n",
      "Enter a number: 0\n",
      "Can't be divisible by Zero(0) \n"
     ]
    }
   ],
   "source": [
    "num1 = int(input('Enter a number: '))\n",
    "num2 = int(input('Enter a number: '))\n",
    "ans = None\n",
    "\n",
    "try:\n",
    "    ans = num1/num2\n",
    "except ZeroDivisionError:\n",
    "    print(\"Can't be divisible by Zero(0) \")"
   ]
  },
  {
   "cell_type": "code",
   "execution_count": 6,
   "id": "b2d956d9",
   "metadata": {},
   "outputs": [
    {
     "name": "stdout",
     "output_type": "stream",
     "text": [
      "None\n"
     ]
    }
   ],
   "source": [
    "print(ans) #That's the example of Exception handling. save us from error!"
   ]
  },
  {
   "cell_type": "code",
   "execution_count": 7,
   "id": "7227a690",
   "metadata": {},
   "outputs": [],
   "source": [
    "# 1 try, 2 except and 0 else:"
   ]
  },
  {
   "cell_type": "code",
   "execution_count": 8,
   "id": "4c686bf8",
   "metadata": {},
   "outputs": [
    {
     "name": "stdout",
     "output_type": "stream",
     "text": [
      "Enter a number: 4\n",
      "Enter a number: A\n",
      "Please! an integer value. \n"
     ]
    }
   ],
   "source": [
    "try:\n",
    "    num1 = int(input('Enter a number: '))\n",
    "    num2 = int(input('Enter a number: '))\n",
    "    ans = num1/num2\n",
    "    \n",
    "except ValueError:\n",
    "    print('Please! an integer value. ')\n",
    "except ZeroDivisionError:\n",
    "    print(\"Can't be divisible by Zero(0) \")"
   ]
  },
  {
   "cell_type": "code",
   "execution_count": 9,
   "id": "06b75afd",
   "metadata": {},
   "outputs": [],
   "source": [
    "# 2 try, 2 except and 0 else:"
   ]
  },
  {
   "cell_type": "code",
   "execution_count": 10,
   "id": "d27dde40",
   "metadata": {},
   "outputs": [
    {
     "name": "stdout",
     "output_type": "stream",
     "text": [
      "Enter a number: 1\n",
      "Enter a number: B\n",
      "Please! an integer value. \n",
      "Can't be divisible by Zero(0) \n"
     ]
    }
   ],
   "source": [
    "try:\n",
    "    num1 = int(input('Enter a number: '))\n",
    "    num2 = int(input('Enter a number: '))\n",
    "    ans = num1/num2\n",
    "except ValueError:\n",
    "    print('Please! an integer value. ')\n",
    "\n",
    "try:\n",
    "    ans = num1/num2\n",
    "    print(ans)\n",
    "except ZeroDivisionError:\n",
    "    print(\"Can't be divisible by Zero(0) \")"
   ]
  },
  {
   "cell_type": "code",
   "execution_count": 11,
   "id": "ca1b73ea",
   "metadata": {},
   "outputs": [],
   "source": [
    "#1 try, 2 except and 1 else:"
   ]
  },
  {
   "cell_type": "code",
   "execution_count": 12,
   "id": "a0aae968",
   "metadata": {},
   "outputs": [
    {
     "name": "stdout",
     "output_type": "stream",
     "text": [
      "Enter a number: 45\n",
      "Enter a number: 4\n",
      "11.25\n"
     ]
    }
   ],
   "source": [
    "try:\n",
    "    num1 = int(input('Enter a number: '))\n",
    "    num2 = int(input('Enter a number: '))\n",
    "    ans = num1/num2\n",
    "except ValueError:\n",
    "    print('Please! an integer value. ')\n",
    "except ZeroDivisionError:\n",
    "    print(\"Can't be divisible by Zero(0) \")\n",
    "else:\n",
    "    print(ans)"
   ]
  },
  {
   "cell_type": "code",
   "execution_count": 13,
   "id": "45eba7d4",
   "metadata": {},
   "outputs": [
    {
     "name": "stdout",
     "output_type": "stream",
     "text": [
      "Enter a number: 43\n",
      "Enter a number: 3\n",
      "14.333333333333334\n"
     ]
    }
   ],
   "source": [
    "try:\n",
    "    num1 = int(input('Enter a number: '))\n",
    "    num2 = int(input('Enter a number: '))\n",
    "    ans = num1/num2\n",
    "except ValueError:\n",
    "    print('Please! an integer value. ')\n",
    "except ZeroDivisionError:\n",
    "    print(\"Can't be divisible by Zero(0) \")\n",
    "else:\n",
    "    print(ans)"
   ]
  },
  {
   "cell_type": "code",
   "execution_count": 14,
   "id": "ca7019fe",
   "metadata": {},
   "outputs": [],
   "source": [
    "#1 try, 3 except and 1 else:"
   ]
  },
  {
   "cell_type": "code",
   "execution_count": 15,
   "id": "e03fc860",
   "metadata": {},
   "outputs": [
    {
     "name": "stdout",
     "output_type": "stream",
     "text": [
      "Enter a number: 32\n",
      "Enter a number: B\n",
      "Please! enter an integer value. \n"
     ]
    }
   ],
   "source": [
    "try:\n",
    "    num1 = int(input('Enter a number: '))\n",
    "    num2 = int(input('Enter a number: '))\n",
    "    ans = num1/num2\n",
    "except SyntaxError:\n",
    "    print('Please! enter a valid syntax')\n",
    "except ValueError:\n",
    "    print('Please! enter an integer value. ')\n",
    "except ZeroDivisionError:\n",
    "    print(\"Can't be divisible by Zero(0) \")\n",
    "else:\n",
    "    print(ans)"
   ]
  },
  {
   "cell_type": "code",
   "execution_count": 16,
   "id": "6cf0f48d",
   "metadata": {},
   "outputs": [],
   "source": [
    "#1 try, 3 except and 1 else:"
   ]
  },
  {
   "cell_type": "code",
   "execution_count": 17,
   "id": "3e0f34c9",
   "metadata": {},
   "outputs": [
    {
     "name": "stdout",
     "output_type": "stream",
     "text": [
      "Enter a number: 3\n",
      "Enter a number: 4\n",
      "Please! enter a valid index value\n"
     ]
    }
   ],
   "source": [
    "list1 = []\n",
    "try:\n",
    "    num1 = int(input('Enter a number: '))\n",
    "    num2 = int(input('Enter a number: '))\n",
    "    ans = num1/num2\n",
    "    list1.append(ans)\n",
    "    list1[2]\n",
    "except IndexError:\n",
    "    print('Please! enter a valid index value')\n",
    "except SyntaxError:\n",
    "    print('Please! enter a valid syntax')\n",
    "except ValueError:\n",
    "    print('Please! enter an integer value. ')\n",
    "except ZeroDivisionError:\n",
    "    print(\"Can't be divisible by Zero(0) \")\n",
    "else:\n",
    "    print(ans)"
   ]
  },
  {
   "cell_type": "code",
   "execution_count": 18,
   "id": "b09765a5",
   "metadata": {},
   "outputs": [
    {
     "name": "stdout",
     "output_type": "stream",
     "text": [
      "Enter a number: 3\n",
      "Enter a number: A\n",
      "Error caused: invalid literal for int() with base 10: 'A'\n"
     ]
    }
   ],
   "source": [
    "list1 = []\n",
    "try:\n",
    "    num1 = int(input('Enter a number: '))\n",
    "    num2 = int(input('Enter a number: '))\n",
    "    ans = num1/num2\n",
    "#   list1.append(ans)\n",
    "    list1[2]\n",
    "except Exception as e:\n",
    "    print('Error caused: ' + str(e))\n",
    "else:\n",
    "    print(ans)"
   ]
  },
  {
   "cell_type": "code",
   "execution_count": 19,
   "id": "7ce76c60",
   "metadata": {},
   "outputs": [
    {
     "data": {
      "text/plain": [
       "[]"
      ]
     },
     "execution_count": 19,
     "metadata": {},
     "output_type": "execute_result"
    }
   ],
   "source": [
    "list1"
   ]
  },
  {
   "cell_type": "markdown",
   "id": "9fdbd40d",
   "metadata": {},
   "source": [
    "## Finally: \n",
    "\n",
    "either you catch an error or not! Finally block will be executed"
   ]
  },
  {
   "cell_type": "code",
   "execution_count": 20,
   "id": "deaf939b",
   "metadata": {},
   "outputs": [],
   "source": [
    "#1 try, 1 except, 0 else, 1 Finally"
   ]
  },
  {
   "cell_type": "code",
   "execution_count": 21,
   "id": "209014a5",
   "metadata": {},
   "outputs": [
    {
     "name": "stdout",
     "output_type": "stream",
     "text": [
      "Enter a number: 4\n",
      "Enter a number: 5\n",
      "Finally! despite error,You got an answer. That's : 0.8\n"
     ]
    },
    {
     "ename": "IndexError",
     "evalue": "list index out of range",
     "output_type": "error",
     "traceback": [
      "\u001b[1;31m---------------------------------------------------------------------------\u001b[0m",
      "\u001b[1;31mIndexError\u001b[0m                                Traceback (most recent call last)",
      "\u001b[1;32mC:\\Users\\LAB02R~1\\AppData\\Local\\Temp/ipykernel_1956/1701329879.py\u001b[0m in \u001b[0;36m<module>\u001b[1;34m\u001b[0m\n\u001b[0;32m      6\u001b[0m     \u001b[0mans\u001b[0m \u001b[1;33m=\u001b[0m \u001b[0mnum1\u001b[0m\u001b[1;33m/\u001b[0m\u001b[0mnum2\u001b[0m\u001b[1;33m\u001b[0m\u001b[1;33m\u001b[0m\u001b[0m\n\u001b[0;32m      7\u001b[0m     \u001b[0mlist1\u001b[0m\u001b[1;33m.\u001b[0m\u001b[0mappend\u001b[0m\u001b[1;33m(\u001b[0m\u001b[0mans\u001b[0m\u001b[1;33m)\u001b[0m\u001b[1;33m\u001b[0m\u001b[1;33m\u001b[0m\u001b[0m\n\u001b[1;32m----> 8\u001b[1;33m     \u001b[0mlist1\u001b[0m\u001b[1;33m[\u001b[0m\u001b[1;36m2\u001b[0m\u001b[1;33m]\u001b[0m\u001b[1;33m\u001b[0m\u001b[1;33m\u001b[0m\u001b[0m\n\u001b[0m\u001b[0;32m      9\u001b[0m \u001b[1;33m\u001b[0m\u001b[0m\n\u001b[0;32m     10\u001b[0m \u001b[1;32mexcept\u001b[0m \u001b[0mZeroDivisionError\u001b[0m\u001b[1;33m:\u001b[0m\u001b[1;33m\u001b[0m\u001b[1;33m\u001b[0m\u001b[0m\n",
      "\u001b[1;31mIndexError\u001b[0m: list index out of range"
     ]
    }
   ],
   "source": [
    "ans = None\n",
    "list1 = []\n",
    "try:\n",
    "    num1 = int(input('Enter a number: '))\n",
    "    num2 = int(input('Enter a number: '))\n",
    "    ans = num1/num2\n",
    "    list1.append(ans)\n",
    "    list1[2]\n",
    "\n",
    "except ZeroDivisionError:\n",
    "    print(\"Can't be divisible by Zero(0) \")\n",
    "\n",
    "finally:\n",
    "    print(f\"Finally! despite error,You got an answer. That's : {ans}\")"
   ]
  },
  {
   "cell_type": "code",
   "execution_count": 22,
   "id": "9fcd4c31",
   "metadata": {},
   "outputs": [],
   "source": [
    "#1 try, 1 except, 0 else, 1 Finally"
   ]
  },
  {
   "cell_type": "code",
   "execution_count": 23,
   "id": "ae4d2693",
   "metadata": {},
   "outputs": [
    {
     "name": "stdout",
     "output_type": "stream",
     "text": [
      "Enter a number: 5\n",
      "Enter a number: 7\n",
      "Error caused: list index out of range\n",
      "Finally! despite error,You got an answer. That's : 0.7142857142857143\n"
     ]
    }
   ],
   "source": [
    "list1 = []\n",
    "try:\n",
    "    num1 = int(input('Enter a number: '))\n",
    "    num2 = int(input('Enter a number: '))\n",
    "    ans = num1/num2\n",
    "#   list1.append(ans)\n",
    "    list1[2]\n",
    "except Exception as e:\n",
    "    print('Error caused: ' + str(e))\n",
    "finally:\n",
    "    print(f\"Finally! despite error,You got an answer. That's : {ans}\")"
   ]
  },
  {
   "cell_type": "code",
   "execution_count": null,
   "id": "d650c742",
   "metadata": {},
   "outputs": [],
   "source": [
    "class Student():\n",
    "    \n",
    "    def __init__(self,name,age):\n",
    "        if  age <= 3 or age >= 80:\n",
    "            raise Exception ('Enter an age ranged between 3 to 80')\n",
    "        self.name = name\n",
    "        self.age = age"
   ]
  },
  {
   "cell_type": "code",
   "execution_count": null,
   "id": "f6c69692",
   "metadata": {},
   "outputs": [],
   "source": [
    "age = int(input('Enter an age: '))"
   ]
  },
  {
   "cell_type": "code",
   "execution_count": null,
   "id": "eacb48c0",
   "metadata": {},
   "outputs": [],
   "source": [
    "s1 = Student('Noah', age)\n",
    "print(s1.age)"
   ]
  },
  {
   "cell_type": "code",
   "execution_count": null,
   "id": "67e9ee45",
   "metadata": {},
   "outputs": [],
   "source": [
    "#2nd and the most preffered method:\n",
    "\n",
    "try:\n",
    "    age = int(input('Enter an age: '))\n",
    "    s1 = Student('Noah', age)\n",
    "except Exception as e:\n",
    "    print('Error caused: ' + str(e))\n",
    "else:\n",
    "    print(s1.age)"
   ]
  },
  {
   "cell_type": "code",
   "execution_count": null,
   "id": "818cd229",
   "metadata": {},
   "outputs": [],
   "source": [
    "class StudentAgeException(Exception):\n",
    "    pass\n",
    "\n",
    "try:\n",
    "    age = int(input('Enter an age: '))\n",
    "    s2 = Student('Abdullah', age)\n",
    "except StudentAgeException as e:\n",
    "    print('Error caused: ' + str(e))\n",
    "else:\n",
    "    print(s2.age)"
   ]
  },
  {
   "cell_type": "code",
   "execution_count": null,
   "id": "8546ee95",
   "metadata": {},
   "outputs": [],
   "source": []
  }
 ],
 "metadata": {
  "kernelspec": {
   "display_name": "Python 3 (ipykernel)",
   "language": "python",
   "name": "python3"
  },
  "language_info": {
   "codemirror_mode": {
    "name": "ipython",
    "version": 3
   },
   "file_extension": ".py",
   "mimetype": "text/x-python",
   "name": "python",
   "nbconvert_exporter": "python",
   "pygments_lexer": "ipython3",
   "version": "3.9.7"
  }
 },
 "nbformat": 4,
 "nbformat_minor": 5
}
