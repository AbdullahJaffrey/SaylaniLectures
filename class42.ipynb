{
 "cells": [
  {
   "cell_type": "code",
   "execution_count": 1,
   "id": "f1c0b25b",
   "metadata": {},
   "outputs": [],
   "source": [
    "#(17/10/2022) Monday"
   ]
  },
  {
   "cell_type": "markdown",
   "id": "a7661a1d",
   "metadata": {},
   "source": [
    "# Let's Explore:\n",
    "\n",
    "<img src='https://www.bing.com/th?id=ABT686A0832E3116FA026CE838B6B2F22D2CB64D5262D232BA5C9B9149FFFD685A2&w=608&h=200&c=2&rs=1&o=6&pid=SANGAM' width=90%>\n",
    "\n",
    "**Long-eared owl :**\n",
    "\n",
    "Sometimes called the lesser horned owl or cat owl, long-eared owls are one of the most numerous owl species in the world with an estimated population between 2 and 5.5 million widely distributed across the Northern Hemisphere. Our featured friend today was found in the Czech Republic, but they’ll adapt to several kinds of habitats, including those near the Arctic.\n",
    "\n",
    "Maybe that adaptability is why they’re unusually social for owls. They’ll often roost together in large groups, with anywhere from 20 to 100 of them staying together for the winter. You might think it would be easy to see such a large group of owls, but long-eared owls are sneaky. They’ll hide in thick cover which makes them harder to find, especially when their feathers blend in with the surrounding branches and foliage. Early spring, before the leaves have fully returned, is the most likely time you’d catch a glimpse of a “parliament”, or group, of long-eared owls."
   ]
  },
  {
   "cell_type": "code",
   "execution_count": 2,
   "id": "d9268eec",
   "metadata": {},
   "outputs": [],
   "source": [
    "# Last Class Revision:"
   ]
  },
  {
   "cell_type": "code",
   "execution_count": 3,
   "id": "38729445",
   "metadata": {},
   "outputs": [],
   "source": [
    "import pandas as pd"
   ]
  },
  {
   "cell_type": "code",
   "execution_count": 4,
   "id": "18e338cb",
   "metadata": {},
   "outputs": [],
   "source": [
    "air_data = pd.read_csv('AirBnb_NYC_2019.csv')"
   ]
  },
  {
   "cell_type": "code",
   "execution_count": 5,
   "id": "4c22adcb",
   "metadata": {},
   "outputs": [
    {
     "data": {
      "text/html": [
       "<div>\n",
       "<style scoped>\n",
       "    .dataframe tbody tr th:only-of-type {\n",
       "        vertical-align: middle;\n",
       "    }\n",
       "\n",
       "    .dataframe tbody tr th {\n",
       "        vertical-align: top;\n",
       "    }\n",
       "\n",
       "    .dataframe thead th {\n",
       "        text-align: right;\n",
       "    }\n",
       "</style>\n",
       "<table border=\"1\" class=\"dataframe\">\n",
       "  <thead>\n",
       "    <tr style=\"text-align: right;\">\n",
       "      <th></th>\n",
       "      <th>id</th>\n",
       "      <th>name</th>\n",
       "      <th>host_id</th>\n",
       "      <th>host_name</th>\n",
       "      <th>neighbourhood_group</th>\n",
       "      <th>neighbourhood</th>\n",
       "      <th>latitude</th>\n",
       "      <th>longitude</th>\n",
       "      <th>room_type</th>\n",
       "      <th>price</th>\n",
       "      <th>minimum_nights</th>\n",
       "      <th>number_of_reviews</th>\n",
       "      <th>last_review</th>\n",
       "      <th>reviews_per_month</th>\n",
       "      <th>calculated_host_listings_count</th>\n",
       "      <th>availability_365</th>\n",
       "    </tr>\n",
       "  </thead>\n",
       "  <tbody>\n",
       "    <tr>\n",
       "      <th>0</th>\n",
       "      <td>2539</td>\n",
       "      <td>Clean &amp; quiet apt home by the park</td>\n",
       "      <td>2787</td>\n",
       "      <td>John</td>\n",
       "      <td>Brooklyn</td>\n",
       "      <td>Kensington</td>\n",
       "      <td>40.64749</td>\n",
       "      <td>-73.97237</td>\n",
       "      <td>Private room</td>\n",
       "      <td>149</td>\n",
       "      <td>1</td>\n",
       "      <td>9</td>\n",
       "      <td>2018-10-19</td>\n",
       "      <td>0.21</td>\n",
       "      <td>6</td>\n",
       "      <td>365</td>\n",
       "    </tr>\n",
       "    <tr>\n",
       "      <th>1</th>\n",
       "      <td>2595</td>\n",
       "      <td>Skylit Midtown Castle</td>\n",
       "      <td>2845</td>\n",
       "      <td>Jennifer</td>\n",
       "      <td>Manhattan</td>\n",
       "      <td>Midtown</td>\n",
       "      <td>40.75362</td>\n",
       "      <td>-73.98377</td>\n",
       "      <td>Entire home/apt</td>\n",
       "      <td>225</td>\n",
       "      <td>1</td>\n",
       "      <td>45</td>\n",
       "      <td>2019-05-21</td>\n",
       "      <td>0.38</td>\n",
       "      <td>2</td>\n",
       "      <td>355</td>\n",
       "    </tr>\n",
       "  </tbody>\n",
       "</table>\n",
       "</div>"
      ],
      "text/plain": [
       "     id                                name  host_id host_name  \\\n",
       "0  2539  Clean & quiet apt home by the park     2787      John   \n",
       "1  2595               Skylit Midtown Castle     2845  Jennifer   \n",
       "\n",
       "  neighbourhood_group neighbourhood  latitude  longitude        room_type  \\\n",
       "0            Brooklyn    Kensington  40.64749  -73.97237     Private room   \n",
       "1           Manhattan       Midtown  40.75362  -73.98377  Entire home/apt   \n",
       "\n",
       "   price  minimum_nights  number_of_reviews last_review  reviews_per_month  \\\n",
       "0    149               1                  9  2018-10-19               0.21   \n",
       "1    225               1                 45  2019-05-21               0.38   \n",
       "\n",
       "   calculated_host_listings_count  availability_365  \n",
       "0                               6               365  \n",
       "1                               2               355  "
      ]
     },
     "execution_count": 5,
     "metadata": {},
     "output_type": "execute_result"
    }
   ],
   "source": [
    "air_data.head(2)"
   ]
  },
  {
   "cell_type": "code",
   "execution_count": 6,
   "id": "764d4daf",
   "metadata": {},
   "outputs": [],
   "source": [
    "df = air_data.copy()"
   ]
  },
  {
   "cell_type": "code",
   "execution_count": 7,
   "id": "a4ade88c",
   "metadata": {},
   "outputs": [
    {
     "data": {
      "text/html": [
       "<div>\n",
       "<style scoped>\n",
       "    .dataframe tbody tr th:only-of-type {\n",
       "        vertical-align: middle;\n",
       "    }\n",
       "\n",
       "    .dataframe tbody tr th {\n",
       "        vertical-align: top;\n",
       "    }\n",
       "\n",
       "    .dataframe thead th {\n",
       "        text-align: right;\n",
       "    }\n",
       "</style>\n",
       "<table border=\"1\" class=\"dataframe\">\n",
       "  <thead>\n",
       "    <tr style=\"text-align: right;\">\n",
       "      <th></th>\n",
       "      <th>id</th>\n",
       "      <th>name</th>\n",
       "      <th>host_id</th>\n",
       "      <th>host_name</th>\n",
       "      <th>neighbourhood_group</th>\n",
       "      <th>neighbourhood</th>\n",
       "      <th>latitude</th>\n",
       "      <th>longitude</th>\n",
       "      <th>room_type</th>\n",
       "      <th>price</th>\n",
       "      <th>minimum_nights</th>\n",
       "      <th>number_of_reviews</th>\n",
       "      <th>last_review</th>\n",
       "      <th>reviews_per_month</th>\n",
       "      <th>calculated_host_listings_count</th>\n",
       "      <th>availability_365</th>\n",
       "    </tr>\n",
       "  </thead>\n",
       "  <tbody>\n",
       "    <tr>\n",
       "      <th>9457</th>\n",
       "      <td>7256741</td>\n",
       "      <td>1BR @ East Village - better than a luxury hotel</td>\n",
       "      <td>1468231</td>\n",
       "      <td>Alan</td>\n",
       "      <td>Manhattan</td>\n",
       "      <td>East Village</td>\n",
       "      <td>40.73330</td>\n",
       "      <td>-73.98943</td>\n",
       "      <td>Entire home/apt</td>\n",
       "      <td>219</td>\n",
       "      <td>2</td>\n",
       "      <td>30</td>\n",
       "      <td>2019-06-10</td>\n",
       "      <td>0.62</td>\n",
       "      <td>1</td>\n",
       "      <td>2</td>\n",
       "    </tr>\n",
       "    <tr>\n",
       "      <th>25120</th>\n",
       "      <td>20131833</td>\n",
       "      <td>Designer Chelsea Loft: 2 bedrooms, 2 bathrooms</td>\n",
       "      <td>24050287</td>\n",
       "      <td>Daniel</td>\n",
       "      <td>Manhattan</td>\n",
       "      <td>Chelsea</td>\n",
       "      <td>40.74707</td>\n",
       "      <td>-74.00332</td>\n",
       "      <td>Entire home/apt</td>\n",
       "      <td>500</td>\n",
       "      <td>7</td>\n",
       "      <td>26</td>\n",
       "      <td>2019-05-23</td>\n",
       "      <td>1.25</td>\n",
       "      <td>1</td>\n",
       "      <td>214</td>\n",
       "    </tr>\n",
       "    <tr>\n",
       "      <th>21363</th>\n",
       "      <td>17025831</td>\n",
       "      <td>Large 2Br on W71st &amp; Columbus Feb 19-28</td>\n",
       "      <td>26754726</td>\n",
       "      <td>Julie</td>\n",
       "      <td>Manhattan</td>\n",
       "      <td>Upper West Side</td>\n",
       "      <td>40.77673</td>\n",
       "      <td>-73.98011</td>\n",
       "      <td>Entire home/apt</td>\n",
       "      <td>200</td>\n",
       "      <td>5</td>\n",
       "      <td>0</td>\n",
       "      <td>NaN</td>\n",
       "      <td>NaN</td>\n",
       "      <td>1</td>\n",
       "      <td>0</td>\n",
       "    </tr>\n",
       "  </tbody>\n",
       "</table>\n",
       "</div>"
      ],
      "text/plain": [
       "             id                                             name   host_id  \\\n",
       "9457    7256741  1BR @ East Village - better than a luxury hotel   1468231   \n",
       "25120  20131833   Designer Chelsea Loft: 2 bedrooms, 2 bathrooms  24050287   \n",
       "21363  17025831          Large 2Br on W71st & Columbus Feb 19-28  26754726   \n",
       "\n",
       "      host_name neighbourhood_group    neighbourhood  latitude  longitude  \\\n",
       "9457       Alan           Manhattan     East Village  40.73330  -73.98943   \n",
       "25120    Daniel           Manhattan          Chelsea  40.74707  -74.00332   \n",
       "21363     Julie           Manhattan  Upper West Side  40.77673  -73.98011   \n",
       "\n",
       "             room_type  price  minimum_nights  number_of_reviews last_review  \\\n",
       "9457   Entire home/apt    219               2                 30  2019-06-10   \n",
       "25120  Entire home/apt    500               7                 26  2019-05-23   \n",
       "21363  Entire home/apt    200               5                  0         NaN   \n",
       "\n",
       "       reviews_per_month  calculated_host_listings_count  availability_365  \n",
       "9457                0.62                               1                 2  \n",
       "25120               1.25                               1               214  \n",
       "21363                NaN                               1                 0  "
      ]
     },
     "execution_count": 7,
     "metadata": {},
     "output_type": "execute_result"
    }
   ],
   "source": [
    "df.sample(3)"
   ]
  },
  {
   "cell_type": "code",
   "execution_count": 8,
   "id": "ba37eaef",
   "metadata": {},
   "outputs": [
    {
     "name": "stdout",
     "output_type": "stream",
     "text": [
      "<class 'pandas.core.frame.DataFrame'>\n",
      "RangeIndex: 48895 entries, 0 to 48894\n",
      "Data columns (total 16 columns):\n",
      " #   Column                          Non-Null Count  Dtype  \n",
      "---  ------                          --------------  -----  \n",
      " 0   id                              48895 non-null  int64  \n",
      " 1   name                            48879 non-null  object \n",
      " 2   host_id                         48895 non-null  int64  \n",
      " 3   host_name                       48874 non-null  object \n",
      " 4   neighbourhood_group             48895 non-null  object \n",
      " 5   neighbourhood                   48895 non-null  object \n",
      " 6   latitude                        48895 non-null  float64\n",
      " 7   longitude                       48895 non-null  float64\n",
      " 8   room_type                       48895 non-null  object \n",
      " 9   price                           48895 non-null  int64  \n",
      " 10  minimum_nights                  48895 non-null  int64  \n",
      " 11  number_of_reviews               48895 non-null  int64  \n",
      " 12  last_review                     38843 non-null  object \n",
      " 13  reviews_per_month               38843 non-null  float64\n",
      " 14  calculated_host_listings_count  48895 non-null  int64  \n",
      " 15  availability_365                48895 non-null  int64  \n",
      "dtypes: float64(3), int64(7), object(6)\n",
      "memory usage: 6.0+ MB\n"
     ]
    }
   ],
   "source": [
    "df.info()"
   ]
  },
  {
   "cell_type": "code",
   "execution_count": 9,
   "id": "221fd66e",
   "metadata": {},
   "outputs": [
    {
     "data": {
      "text/plain": [
       "id                                    0\n",
       "name                                 16\n",
       "host_id                               0\n",
       "host_name                            21\n",
       "neighbourhood_group                   0\n",
       "neighbourhood                         0\n",
       "latitude                              0\n",
       "longitude                             0\n",
       "room_type                             0\n",
       "price                                 0\n",
       "minimum_nights                        0\n",
       "number_of_reviews                     0\n",
       "last_review                       10052\n",
       "reviews_per_month                 10052\n",
       "calculated_host_listings_count        0\n",
       "availability_365                      0\n",
       "dtype: int64"
      ]
     },
     "execution_count": 9,
     "metadata": {},
     "output_type": "execute_result"
    }
   ],
   "source": [
    "df.isnull().sum()"
   ]
  },
  {
   "cell_type": "code",
   "execution_count": 10,
   "id": "338e79cf",
   "metadata": {},
   "outputs": [
    {
     "data": {
      "text/plain": [
       "Entire home/apt    25409\n",
       "Private room       22326\n",
       "Shared room         1160\n",
       "Name: room_type, dtype: int64"
      ]
     },
     "execution_count": 10,
     "metadata": {},
     "output_type": "execute_result"
    }
   ],
   "source": [
    "df['room_type'].value_counts()"
   ]
  },
  {
   "cell_type": "code",
   "execution_count": 11,
   "id": "dec5e20b",
   "metadata": {},
   "outputs": [],
   "source": [
    "df_groupby = df.groupby('room_type')"
   ]
  },
  {
   "cell_type": "code",
   "execution_count": 12,
   "id": "f07b074c",
   "metadata": {},
   "outputs": [
    {
     "data": {
      "text/html": [
       "<div>\n",
       "<style scoped>\n",
       "    .dataframe tbody tr th:only-of-type {\n",
       "        vertical-align: middle;\n",
       "    }\n",
       "\n",
       "    .dataframe tbody tr th {\n",
       "        vertical-align: top;\n",
       "    }\n",
       "\n",
       "    .dataframe thead th {\n",
       "        text-align: right;\n",
       "    }\n",
       "</style>\n",
       "<table border=\"1\" class=\"dataframe\">\n",
       "  <thead>\n",
       "    <tr style=\"text-align: right;\">\n",
       "      <th></th>\n",
       "      <th>id</th>\n",
       "      <th>name</th>\n",
       "      <th>host_id</th>\n",
       "      <th>host_name</th>\n",
       "      <th>neighbourhood_group</th>\n",
       "      <th>neighbourhood</th>\n",
       "      <th>latitude</th>\n",
       "      <th>longitude</th>\n",
       "      <th>room_type</th>\n",
       "      <th>price</th>\n",
       "      <th>minimum_nights</th>\n",
       "      <th>number_of_reviews</th>\n",
       "      <th>last_review</th>\n",
       "      <th>reviews_per_month</th>\n",
       "      <th>calculated_host_listings_count</th>\n",
       "      <th>availability_365</th>\n",
       "    </tr>\n",
       "  </thead>\n",
       "  <tbody>\n",
       "    <tr>\n",
       "      <th>1510</th>\n",
       "      <td>683084</td>\n",
       "      <td>Midtown West- A COZY ONE bedroom.</td>\n",
       "      <td>3480879</td>\n",
       "      <td>Danny</td>\n",
       "      <td>Manhattan</td>\n",
       "      <td>Chelsea</td>\n",
       "      <td>40.75286</td>\n",
       "      <td>-74.00162</td>\n",
       "      <td>Entire home/apt</td>\n",
       "      <td>199</td>\n",
       "      <td>6</td>\n",
       "      <td>40</td>\n",
       "      <td>2017-10-15</td>\n",
       "      <td>0.50</td>\n",
       "      <td>1</td>\n",
       "      <td>0</td>\n",
       "    </tr>\n",
       "    <tr>\n",
       "      <th>28679</th>\n",
       "      <td>22191121</td>\n",
       "      <td>Cute 2-BR in Greenpoint/Williamsburg</td>\n",
       "      <td>6963310</td>\n",
       "      <td>Kenneth</td>\n",
       "      <td>Brooklyn</td>\n",
       "      <td>Greenpoint</td>\n",
       "      <td>40.72074</td>\n",
       "      <td>-73.94613</td>\n",
       "      <td>Entire home/apt</td>\n",
       "      <td>150</td>\n",
       "      <td>3</td>\n",
       "      <td>1</td>\n",
       "      <td>2017-12-27</td>\n",
       "      <td>0.05</td>\n",
       "      <td>1</td>\n",
       "      <td>0</td>\n",
       "    </tr>\n",
       "    <tr>\n",
       "      <th>1958</th>\n",
       "      <td>855919</td>\n",
       "      <td>Lovely Apt. in the heart of Harlem</td>\n",
       "      <td>4473860</td>\n",
       "      <td>Marina</td>\n",
       "      <td>Manhattan</td>\n",
       "      <td>Harlem</td>\n",
       "      <td>40.80845</td>\n",
       "      <td>-73.94435</td>\n",
       "      <td>Entire home/apt</td>\n",
       "      <td>125</td>\n",
       "      <td>1</td>\n",
       "      <td>64</td>\n",
       "      <td>2019-07-01</td>\n",
       "      <td>1.37</td>\n",
       "      <td>1</td>\n",
       "      <td>135</td>\n",
       "    </tr>\n",
       "    <tr>\n",
       "      <th>995</th>\n",
       "      <td>402037</td>\n",
       "      <td>Stay with a Jazz Singer in Harlem!</td>\n",
       "      <td>2006712</td>\n",
       "      <td>Amanda</td>\n",
       "      <td>Manhattan</td>\n",
       "      <td>Harlem</td>\n",
       "      <td>40.80192</td>\n",
       "      <td>-73.95827</td>\n",
       "      <td>Private room</td>\n",
       "      <td>125</td>\n",
       "      <td>1</td>\n",
       "      <td>0</td>\n",
       "      <td>NaN</td>\n",
       "      <td>NaN</td>\n",
       "      <td>1</td>\n",
       "      <td>365</td>\n",
       "    </tr>\n",
       "    <tr>\n",
       "      <th>35580</th>\n",
       "      <td>28250228</td>\n",
       "      <td>Private room in shared lovely apartment</td>\n",
       "      <td>70640922</td>\n",
       "      <td>Enzo</td>\n",
       "      <td>Manhattan</td>\n",
       "      <td>Gramercy</td>\n",
       "      <td>40.73314</td>\n",
       "      <td>-73.98380</td>\n",
       "      <td>Private room</td>\n",
       "      <td>115</td>\n",
       "      <td>3</td>\n",
       "      <td>6</td>\n",
       "      <td>2018-12-16</td>\n",
       "      <td>0.59</td>\n",
       "      <td>1</td>\n",
       "      <td>0</td>\n",
       "    </tr>\n",
       "    <tr>\n",
       "      <th>7129</th>\n",
       "      <td>5181720</td>\n",
       "      <td>Bushwick Live/Work</td>\n",
       "      <td>5399418</td>\n",
       "      <td>Jennifer</td>\n",
       "      <td>Brooklyn</td>\n",
       "      <td>Bushwick</td>\n",
       "      <td>40.69092</td>\n",
       "      <td>-73.90443</td>\n",
       "      <td>Private room</td>\n",
       "      <td>30</td>\n",
       "      <td>1</td>\n",
       "      <td>0</td>\n",
       "      <td>NaN</td>\n",
       "      <td>NaN</td>\n",
       "      <td>1</td>\n",
       "      <td>0</td>\n",
       "    </tr>\n",
       "    <tr>\n",
       "      <th>1949</th>\n",
       "      <td>852632</td>\n",
       "      <td>Gowanis Urban Oasis</td>\n",
       "      <td>4451246</td>\n",
       "      <td>Raymond</td>\n",
       "      <td>Brooklyn</td>\n",
       "      <td>Gowanus</td>\n",
       "      <td>40.66893</td>\n",
       "      <td>-73.99404</td>\n",
       "      <td>Shared room</td>\n",
       "      <td>44</td>\n",
       "      <td>2</td>\n",
       "      <td>155</td>\n",
       "      <td>2019-07-01</td>\n",
       "      <td>2.11</td>\n",
       "      <td>1</td>\n",
       "      <td>325</td>\n",
       "    </tr>\n",
       "    <tr>\n",
       "      <th>42381</th>\n",
       "      <td>32890647</td>\n",
       "      <td>Comfy Sofa Bed in Living Room</td>\n",
       "      <td>17827404</td>\n",
       "      <td>Erdi</td>\n",
       "      <td>Queens</td>\n",
       "      <td>Astoria</td>\n",
       "      <td>40.76449</td>\n",
       "      <td>-73.91996</td>\n",
       "      <td>Shared room</td>\n",
       "      <td>30</td>\n",
       "      <td>1</td>\n",
       "      <td>7</td>\n",
       "      <td>2019-06-28</td>\n",
       "      <td>4.12</td>\n",
       "      <td>1</td>\n",
       "      <td>320</td>\n",
       "    </tr>\n",
       "    <tr>\n",
       "      <th>13189</th>\n",
       "      <td>9953403</td>\n",
       "      <td>Marc Alfred</td>\n",
       "      <td>2361525</td>\n",
       "      <td>Marc</td>\n",
       "      <td>Brooklyn</td>\n",
       "      <td>Crown Heights</td>\n",
       "      <td>40.67565</td>\n",
       "      <td>-73.91582</td>\n",
       "      <td>Shared room</td>\n",
       "      <td>75</td>\n",
       "      <td>1</td>\n",
       "      <td>2</td>\n",
       "      <td>2019-04-06</td>\n",
       "      <td>0.19</td>\n",
       "      <td>1</td>\n",
       "      <td>318</td>\n",
       "    </tr>\n",
       "  </tbody>\n",
       "</table>\n",
       "</div>"
      ],
      "text/plain": [
       "             id                                     name   host_id host_name  \\\n",
       "1510     683084        Midtown West- A COZY ONE bedroom.   3480879     Danny   \n",
       "28679  22191121     Cute 2-BR in Greenpoint/Williamsburg   6963310   Kenneth   \n",
       "1958     855919       Lovely Apt. in the heart of Harlem   4473860    Marina   \n",
       "995      402037       Stay with a Jazz Singer in Harlem!   2006712    Amanda   \n",
       "35580  28250228  Private room in shared lovely apartment  70640922      Enzo   \n",
       "7129    5181720                       Bushwick Live/Work   5399418  Jennifer   \n",
       "1949     852632                      Gowanis Urban Oasis   4451246   Raymond   \n",
       "42381  32890647            Comfy Sofa Bed in Living Room  17827404      Erdi   \n",
       "13189   9953403                              Marc Alfred   2361525      Marc   \n",
       "\n",
       "      neighbourhood_group  neighbourhood  latitude  longitude  \\\n",
       "1510            Manhattan        Chelsea  40.75286  -74.00162   \n",
       "28679            Brooklyn     Greenpoint  40.72074  -73.94613   \n",
       "1958            Manhattan         Harlem  40.80845  -73.94435   \n",
       "995             Manhattan         Harlem  40.80192  -73.95827   \n",
       "35580           Manhattan       Gramercy  40.73314  -73.98380   \n",
       "7129             Brooklyn       Bushwick  40.69092  -73.90443   \n",
       "1949             Brooklyn        Gowanus  40.66893  -73.99404   \n",
       "42381              Queens        Astoria  40.76449  -73.91996   \n",
       "13189            Brooklyn  Crown Heights  40.67565  -73.91582   \n",
       "\n",
       "             room_type  price  minimum_nights  number_of_reviews last_review  \\\n",
       "1510   Entire home/apt    199               6                 40  2017-10-15   \n",
       "28679  Entire home/apt    150               3                  1  2017-12-27   \n",
       "1958   Entire home/apt    125               1                 64  2019-07-01   \n",
       "995       Private room    125               1                  0         NaN   \n",
       "35580     Private room    115               3                  6  2018-12-16   \n",
       "7129      Private room     30               1                  0         NaN   \n",
       "1949       Shared room     44               2                155  2019-07-01   \n",
       "42381      Shared room     30               1                  7  2019-06-28   \n",
       "13189      Shared room     75               1                  2  2019-04-06   \n",
       "\n",
       "       reviews_per_month  calculated_host_listings_count  availability_365  \n",
       "1510                0.50                               1                 0  \n",
       "28679               0.05                               1                 0  \n",
       "1958                1.37                               1               135  \n",
       "995                  NaN                               1               365  \n",
       "35580               0.59                               1                 0  \n",
       "7129                 NaN                               1                 0  \n",
       "1949                2.11                               1               325  \n",
       "42381               4.12                               1               320  \n",
       "13189               0.19                               1               318  "
      ]
     },
     "execution_count": 12,
     "metadata": {},
     "output_type": "execute_result"
    }
   ],
   "source": [
    "df_groupby.sample(3)"
   ]
  },
  {
   "cell_type": "markdown",
   "id": "a7b57741",
   "metadata": {},
   "source": [
    "## Aggregate: \n",
    "    \n",
    "   * Grouping (clustering) the data to apply statistics in it!"
   ]
  },
  {
   "cell_type": "code",
   "execution_count": 13,
   "id": "5fb1449e",
   "metadata": {},
   "outputs": [
    {
     "data": {
      "text/html": [
       "<div>\n",
       "<style scoped>\n",
       "    .dataframe tbody tr th:only-of-type {\n",
       "        vertical-align: middle;\n",
       "    }\n",
       "\n",
       "    .dataframe tbody tr th {\n",
       "        vertical-align: top;\n",
       "    }\n",
       "\n",
       "    .dataframe thead th {\n",
       "        text-align: right;\n",
       "    }\n",
       "</style>\n",
       "<table border=\"1\" class=\"dataframe\">\n",
       "  <thead>\n",
       "    <tr style=\"text-align: right;\">\n",
       "      <th></th>\n",
       "      <th>id</th>\n",
       "      <th>host_id</th>\n",
       "      <th>latitude</th>\n",
       "      <th>longitude</th>\n",
       "      <th>price</th>\n",
       "      <th>minimum_nights</th>\n",
       "      <th>number_of_reviews</th>\n",
       "      <th>reviews_per_month</th>\n",
       "      <th>calculated_host_listings_count</th>\n",
       "      <th>availability_365</th>\n",
       "    </tr>\n",
       "    <tr>\n",
       "      <th>room_type</th>\n",
       "      <th></th>\n",
       "      <th></th>\n",
       "      <th></th>\n",
       "      <th></th>\n",
       "      <th></th>\n",
       "      <th></th>\n",
       "      <th></th>\n",
       "      <th></th>\n",
       "      <th></th>\n",
       "      <th></th>\n",
       "    </tr>\n",
       "  </thead>\n",
       "  <tbody>\n",
       "    <tr>\n",
       "      <th>Entire home/apt</th>\n",
       "      <td>1.843818e+07</td>\n",
       "      <td>6.175593e+07</td>\n",
       "      <td>40.728649</td>\n",
       "      <td>-73.960696</td>\n",
       "      <td>211.794246</td>\n",
       "      <td>8.506907</td>\n",
       "      <td>22.842418</td>\n",
       "      <td>1.306578</td>\n",
       "      <td>10.698335</td>\n",
       "      <td>111.920304</td>\n",
       "    </tr>\n",
       "    <tr>\n",
       "      <th>Private room</th>\n",
       "      <td>1.946893e+07</td>\n",
       "      <td>7.247514e+07</td>\n",
       "      <td>40.729208</td>\n",
       "      <td>-73.942924</td>\n",
       "      <td>89.780973</td>\n",
       "      <td>5.377900</td>\n",
       "      <td>24.112962</td>\n",
       "      <td>1.445209</td>\n",
       "      <td>3.227717</td>\n",
       "      <td>111.203933</td>\n",
       "    </tr>\n",
       "    <tr>\n",
       "      <th>Shared room</th>\n",
       "      <td>2.300378e+07</td>\n",
       "      <td>1.026241e+08</td>\n",
       "      <td>40.730514</td>\n",
       "      <td>-73.943343</td>\n",
       "      <td>70.127586</td>\n",
       "      <td>6.475000</td>\n",
       "      <td>16.600000</td>\n",
       "      <td>1.471726</td>\n",
       "      <td>4.662931</td>\n",
       "      <td>162.000862</td>\n",
       "    </tr>\n",
       "  </tbody>\n",
       "</table>\n",
       "</div>"
      ],
      "text/plain": [
       "                           id       host_id   latitude  longitude       price  \\\n",
       "room_type                                                                       \n",
       "Entire home/apt  1.843818e+07  6.175593e+07  40.728649 -73.960696  211.794246   \n",
       "Private room     1.946893e+07  7.247514e+07  40.729208 -73.942924   89.780973   \n",
       "Shared room      2.300378e+07  1.026241e+08  40.730514 -73.943343   70.127586   \n",
       "\n",
       "                 minimum_nights  number_of_reviews  reviews_per_month  \\\n",
       "room_type                                                               \n",
       "Entire home/apt        8.506907          22.842418           1.306578   \n",
       "Private room           5.377900          24.112962           1.445209   \n",
       "Shared room            6.475000          16.600000           1.471726   \n",
       "\n",
       "                 calculated_host_listings_count  availability_365  \n",
       "room_type                                                          \n",
       "Entire home/apt                       10.698335        111.920304  \n",
       "Private room                           3.227717        111.203933  \n",
       "Shared room                            4.662931        162.000862  "
      ]
     },
     "execution_count": 13,
     "metadata": {},
     "output_type": "execute_result"
    }
   ],
   "source": [
    "df_groupby.mean()"
   ]
  },
  {
   "cell_type": "code",
   "execution_count": 14,
   "id": "305d21de",
   "metadata": {},
   "outputs": [],
   "source": [
    "df_mean = df.groupby('room_type')[['price','availability_365']].mean()"
   ]
  },
  {
   "cell_type": "code",
   "execution_count": 15,
   "id": "a7181984",
   "metadata": {},
   "outputs": [
    {
     "data": {
      "text/html": [
       "<div>\n",
       "<style scoped>\n",
       "    .dataframe tbody tr th:only-of-type {\n",
       "        vertical-align: middle;\n",
       "    }\n",
       "\n",
       "    .dataframe tbody tr th {\n",
       "        vertical-align: top;\n",
       "    }\n",
       "\n",
       "    .dataframe thead th {\n",
       "        text-align: right;\n",
       "    }\n",
       "</style>\n",
       "<table border=\"1\" class=\"dataframe\">\n",
       "  <thead>\n",
       "    <tr style=\"text-align: right;\">\n",
       "      <th></th>\n",
       "      <th>price</th>\n",
       "      <th>availability_365</th>\n",
       "    </tr>\n",
       "    <tr>\n",
       "      <th>room_type</th>\n",
       "      <th></th>\n",
       "      <th></th>\n",
       "    </tr>\n",
       "  </thead>\n",
       "  <tbody>\n",
       "    <tr>\n",
       "      <th>Entire home/apt</th>\n",
       "      <td>211.794246</td>\n",
       "      <td>111.920304</td>\n",
       "    </tr>\n",
       "    <tr>\n",
       "      <th>Private room</th>\n",
       "      <td>89.780973</td>\n",
       "      <td>111.203933</td>\n",
       "    </tr>\n",
       "    <tr>\n",
       "      <th>Shared room</th>\n",
       "      <td>70.127586</td>\n",
       "      <td>162.000862</td>\n",
       "    </tr>\n",
       "  </tbody>\n",
       "</table>\n",
       "</div>"
      ],
      "text/plain": [
       "                      price  availability_365\n",
       "room_type                                    \n",
       "Entire home/apt  211.794246        111.920304\n",
       "Private room      89.780973        111.203933\n",
       "Shared room       70.127586        162.000862"
      ]
     },
     "execution_count": 15,
     "metadata": {},
     "output_type": "execute_result"
    }
   ],
   "source": [
    "df_mean.head()"
   ]
  },
  {
   "cell_type": "code",
   "execution_count": 16,
   "id": "76f3d0c0",
   "metadata": {},
   "outputs": [],
   "source": [
    "#Class Starts from here:"
   ]
  },
  {
   "cell_type": "code",
   "execution_count": 17,
   "id": "ac0ec4a0",
   "metadata": {},
   "outputs": [
    {
     "data": {
      "text/html": [
       "<div>\n",
       "<style scoped>\n",
       "    .dataframe tbody tr th:only-of-type {\n",
       "        vertical-align: middle;\n",
       "    }\n",
       "\n",
       "    .dataframe tbody tr th {\n",
       "        vertical-align: top;\n",
       "    }\n",
       "\n",
       "    .dataframe thead th {\n",
       "        text-align: right;\n",
       "    }\n",
       "</style>\n",
       "<table border=\"1\" class=\"dataframe\">\n",
       "  <thead>\n",
       "    <tr style=\"text-align: right;\">\n",
       "      <th></th>\n",
       "      <th>name</th>\n",
       "      <th>host_id</th>\n",
       "      <th>host_name</th>\n",
       "      <th>neighbourhood_group</th>\n",
       "      <th>neighbourhood</th>\n",
       "      <th>latitude</th>\n",
       "      <th>longitude</th>\n",
       "      <th>room_type</th>\n",
       "      <th>price</th>\n",
       "      <th>minimum_nights</th>\n",
       "      <th>number_of_reviews</th>\n",
       "      <th>last_review</th>\n",
       "      <th>reviews_per_month</th>\n",
       "      <th>calculated_host_listings_count</th>\n",
       "      <th>availability_365</th>\n",
       "    </tr>\n",
       "    <tr>\n",
       "      <th>id</th>\n",
       "      <th></th>\n",
       "      <th></th>\n",
       "      <th></th>\n",
       "      <th></th>\n",
       "      <th></th>\n",
       "      <th></th>\n",
       "      <th></th>\n",
       "      <th></th>\n",
       "      <th></th>\n",
       "      <th></th>\n",
       "      <th></th>\n",
       "      <th></th>\n",
       "      <th></th>\n",
       "      <th></th>\n",
       "      <th></th>\n",
       "    </tr>\n",
       "  </thead>\n",
       "  <tbody>\n",
       "    <tr>\n",
       "      <th>2539</th>\n",
       "      <td>Clean &amp; quiet apt home by the park</td>\n",
       "      <td>2787</td>\n",
       "      <td>John</td>\n",
       "      <td>Brooklyn</td>\n",
       "      <td>Kensington</td>\n",
       "      <td>40.64749</td>\n",
       "      <td>-73.97237</td>\n",
       "      <td>Private room</td>\n",
       "      <td>149</td>\n",
       "      <td>1</td>\n",
       "      <td>9</td>\n",
       "      <td>2018-10-19</td>\n",
       "      <td>0.21</td>\n",
       "      <td>6</td>\n",
       "      <td>365</td>\n",
       "    </tr>\n",
       "    <tr>\n",
       "      <th>2595</th>\n",
       "      <td>Skylit Midtown Castle</td>\n",
       "      <td>2845</td>\n",
       "      <td>Jennifer</td>\n",
       "      <td>Manhattan</td>\n",
       "      <td>Midtown</td>\n",
       "      <td>40.75362</td>\n",
       "      <td>-73.98377</td>\n",
       "      <td>Entire home/apt</td>\n",
       "      <td>225</td>\n",
       "      <td>1</td>\n",
       "      <td>45</td>\n",
       "      <td>2019-05-21</td>\n",
       "      <td>0.38</td>\n",
       "      <td>2</td>\n",
       "      <td>355</td>\n",
       "    </tr>\n",
       "    <tr>\n",
       "      <th>3647</th>\n",
       "      <td>THE VILLAGE OF HARLEM....NEW YORK !</td>\n",
       "      <td>4632</td>\n",
       "      <td>Elisabeth</td>\n",
       "      <td>Manhattan</td>\n",
       "      <td>Harlem</td>\n",
       "      <td>40.80902</td>\n",
       "      <td>-73.94190</td>\n",
       "      <td>Private room</td>\n",
       "      <td>150</td>\n",
       "      <td>3</td>\n",
       "      <td>0</td>\n",
       "      <td>NaN</td>\n",
       "      <td>NaN</td>\n",
       "      <td>1</td>\n",
       "      <td>365</td>\n",
       "    </tr>\n",
       "    <tr>\n",
       "      <th>3831</th>\n",
       "      <td>Cozy Entire Floor of Brownstone</td>\n",
       "      <td>4869</td>\n",
       "      <td>LisaRoxanne</td>\n",
       "      <td>Brooklyn</td>\n",
       "      <td>Clinton Hill</td>\n",
       "      <td>40.68514</td>\n",
       "      <td>-73.95976</td>\n",
       "      <td>Entire home/apt</td>\n",
       "      <td>89</td>\n",
       "      <td>1</td>\n",
       "      <td>270</td>\n",
       "      <td>2019-07-05</td>\n",
       "      <td>4.64</td>\n",
       "      <td>1</td>\n",
       "      <td>194</td>\n",
       "    </tr>\n",
       "    <tr>\n",
       "      <th>5022</th>\n",
       "      <td>Entire Apt: Spacious Studio/Loft by central park</td>\n",
       "      <td>7192</td>\n",
       "      <td>Laura</td>\n",
       "      <td>Manhattan</td>\n",
       "      <td>East Harlem</td>\n",
       "      <td>40.79851</td>\n",
       "      <td>-73.94399</td>\n",
       "      <td>Entire home/apt</td>\n",
       "      <td>80</td>\n",
       "      <td>10</td>\n",
       "      <td>9</td>\n",
       "      <td>2018-11-19</td>\n",
       "      <td>0.10</td>\n",
       "      <td>1</td>\n",
       "      <td>0</td>\n",
       "    </tr>\n",
       "    <tr>\n",
       "      <th>...</th>\n",
       "      <td>...</td>\n",
       "      <td>...</td>\n",
       "      <td>...</td>\n",
       "      <td>...</td>\n",
       "      <td>...</td>\n",
       "      <td>...</td>\n",
       "      <td>...</td>\n",
       "      <td>...</td>\n",
       "      <td>...</td>\n",
       "      <td>...</td>\n",
       "      <td>...</td>\n",
       "      <td>...</td>\n",
       "      <td>...</td>\n",
       "      <td>...</td>\n",
       "      <td>...</td>\n",
       "    </tr>\n",
       "    <tr>\n",
       "      <th>36484665</th>\n",
       "      <td>Charming one bedroom - newly renovated rowhouse</td>\n",
       "      <td>8232441</td>\n",
       "      <td>Sabrina</td>\n",
       "      <td>Brooklyn</td>\n",
       "      <td>Bedford-Stuyvesant</td>\n",
       "      <td>40.67853</td>\n",
       "      <td>-73.94995</td>\n",
       "      <td>Private room</td>\n",
       "      <td>70</td>\n",
       "      <td>2</td>\n",
       "      <td>0</td>\n",
       "      <td>NaN</td>\n",
       "      <td>NaN</td>\n",
       "      <td>2</td>\n",
       "      <td>9</td>\n",
       "    </tr>\n",
       "    <tr>\n",
       "      <th>36485057</th>\n",
       "      <td>Affordable room in Bushwick/East Williamsburg</td>\n",
       "      <td>6570630</td>\n",
       "      <td>Marisol</td>\n",
       "      <td>Brooklyn</td>\n",
       "      <td>Bushwick</td>\n",
       "      <td>40.70184</td>\n",
       "      <td>-73.93317</td>\n",
       "      <td>Private room</td>\n",
       "      <td>40</td>\n",
       "      <td>4</td>\n",
       "      <td>0</td>\n",
       "      <td>NaN</td>\n",
       "      <td>NaN</td>\n",
       "      <td>2</td>\n",
       "      <td>36</td>\n",
       "    </tr>\n",
       "    <tr>\n",
       "      <th>36485431</th>\n",
       "      <td>Sunny Studio at Historical Neighborhood</td>\n",
       "      <td>23492952</td>\n",
       "      <td>Ilgar &amp; Aysel</td>\n",
       "      <td>Manhattan</td>\n",
       "      <td>Harlem</td>\n",
       "      <td>40.81475</td>\n",
       "      <td>-73.94867</td>\n",
       "      <td>Entire home/apt</td>\n",
       "      <td>115</td>\n",
       "      <td>10</td>\n",
       "      <td>0</td>\n",
       "      <td>NaN</td>\n",
       "      <td>NaN</td>\n",
       "      <td>1</td>\n",
       "      <td>27</td>\n",
       "    </tr>\n",
       "    <tr>\n",
       "      <th>36485609</th>\n",
       "      <td>43rd St. Time Square-cozy single bed</td>\n",
       "      <td>30985759</td>\n",
       "      <td>Taz</td>\n",
       "      <td>Manhattan</td>\n",
       "      <td>Hell's Kitchen</td>\n",
       "      <td>40.75751</td>\n",
       "      <td>-73.99112</td>\n",
       "      <td>Shared room</td>\n",
       "      <td>55</td>\n",
       "      <td>1</td>\n",
       "      <td>0</td>\n",
       "      <td>NaN</td>\n",
       "      <td>NaN</td>\n",
       "      <td>6</td>\n",
       "      <td>2</td>\n",
       "    </tr>\n",
       "    <tr>\n",
       "      <th>36487245</th>\n",
       "      <td>Trendy duplex in the very heart of Hell's Kitchen</td>\n",
       "      <td>68119814</td>\n",
       "      <td>Christophe</td>\n",
       "      <td>Manhattan</td>\n",
       "      <td>Hell's Kitchen</td>\n",
       "      <td>40.76404</td>\n",
       "      <td>-73.98933</td>\n",
       "      <td>Private room</td>\n",
       "      <td>90</td>\n",
       "      <td>7</td>\n",
       "      <td>0</td>\n",
       "      <td>NaN</td>\n",
       "      <td>NaN</td>\n",
       "      <td>1</td>\n",
       "      <td>23</td>\n",
       "    </tr>\n",
       "  </tbody>\n",
       "</table>\n",
       "<p>48895 rows × 15 columns</p>\n",
       "</div>"
      ],
      "text/plain": [
       "                                                       name   host_id  \\\n",
       "id                                                                      \n",
       "2539                     Clean & quiet apt home by the park      2787   \n",
       "2595                                  Skylit Midtown Castle      2845   \n",
       "3647                    THE VILLAGE OF HARLEM....NEW YORK !      4632   \n",
       "3831                        Cozy Entire Floor of Brownstone      4869   \n",
       "5022       Entire Apt: Spacious Studio/Loft by central park      7192   \n",
       "...                                                     ...       ...   \n",
       "36484665    Charming one bedroom - newly renovated rowhouse   8232441   \n",
       "36485057      Affordable room in Bushwick/East Williamsburg   6570630   \n",
       "36485431            Sunny Studio at Historical Neighborhood  23492952   \n",
       "36485609               43rd St. Time Square-cozy single bed  30985759   \n",
       "36487245  Trendy duplex in the very heart of Hell's Kitchen  68119814   \n",
       "\n",
       "              host_name neighbourhood_group       neighbourhood  latitude  \\\n",
       "id                                                                          \n",
       "2539               John            Brooklyn          Kensington  40.64749   \n",
       "2595           Jennifer           Manhattan             Midtown  40.75362   \n",
       "3647          Elisabeth           Manhattan              Harlem  40.80902   \n",
       "3831        LisaRoxanne            Brooklyn        Clinton Hill  40.68514   \n",
       "5022              Laura           Manhattan         East Harlem  40.79851   \n",
       "...                 ...                 ...                 ...       ...   \n",
       "36484665        Sabrina            Brooklyn  Bedford-Stuyvesant  40.67853   \n",
       "36485057        Marisol            Brooklyn            Bushwick  40.70184   \n",
       "36485431  Ilgar & Aysel           Manhattan              Harlem  40.81475   \n",
       "36485609            Taz           Manhattan      Hell's Kitchen  40.75751   \n",
       "36487245     Christophe           Manhattan      Hell's Kitchen  40.76404   \n",
       "\n",
       "          longitude        room_type  price  minimum_nights  \\\n",
       "id                                                            \n",
       "2539      -73.97237     Private room    149               1   \n",
       "2595      -73.98377  Entire home/apt    225               1   \n",
       "3647      -73.94190     Private room    150               3   \n",
       "3831      -73.95976  Entire home/apt     89               1   \n",
       "5022      -73.94399  Entire home/apt     80              10   \n",
       "...             ...              ...    ...             ...   \n",
       "36484665  -73.94995     Private room     70               2   \n",
       "36485057  -73.93317     Private room     40               4   \n",
       "36485431  -73.94867  Entire home/apt    115              10   \n",
       "36485609  -73.99112      Shared room     55               1   \n",
       "36487245  -73.98933     Private room     90               7   \n",
       "\n",
       "          number_of_reviews last_review  reviews_per_month  \\\n",
       "id                                                           \n",
       "2539                      9  2018-10-19               0.21   \n",
       "2595                     45  2019-05-21               0.38   \n",
       "3647                      0         NaN                NaN   \n",
       "3831                    270  2019-07-05               4.64   \n",
       "5022                      9  2018-11-19               0.10   \n",
       "...                     ...         ...                ...   \n",
       "36484665                  0         NaN                NaN   \n",
       "36485057                  0         NaN                NaN   \n",
       "36485431                  0         NaN                NaN   \n",
       "36485609                  0         NaN                NaN   \n",
       "36487245                  0         NaN                NaN   \n",
       "\n",
       "          calculated_host_listings_count  availability_365  \n",
       "id                                                          \n",
       "2539                                   6               365  \n",
       "2595                                   2               355  \n",
       "3647                                   1               365  \n",
       "3831                                   1               194  \n",
       "5022                                   1                 0  \n",
       "...                                  ...               ...  \n",
       "36484665                               2                 9  \n",
       "36485057                               2                36  \n",
       "36485431                               1                27  \n",
       "36485609                               6                 2  \n",
       "36487245                               1                23  \n",
       "\n",
       "[48895 rows x 15 columns]"
      ]
     },
     "execution_count": 17,
     "metadata": {},
     "output_type": "execute_result"
    }
   ],
   "source": [
    "df.sort_index(ascending=True)\n",
    "df.set_index('id')"
   ]
  },
  {
   "cell_type": "code",
   "execution_count": 18,
   "id": "bb1d9137",
   "metadata": {},
   "outputs": [
    {
     "data": {
      "text/plain": [
       "<AxesSubplot:>"
      ]
     },
     "execution_count": 18,
     "metadata": {},
     "output_type": "execute_result"
    },
    {
     "data": {
      "image/png": "[encoded data removed]",
      "text/plain": [
       "<Figure size 432x288 with 1 Axes>"
      ]
     },
     "metadata": {
      "needs_background": "light"
     },
     "output_type": "display_data"
    }
   ],
   "source": [
    "df['price'].plot()"
   ]
  },
  {
   "cell_type": "code",
   "execution_count": 19,
   "id": "6a5c7eeb",
   "metadata": {},
   "outputs": [],
   "source": [
    "room_type_val = df['room_type'].value_counts()"
   ]
  },
  {
   "cell_type": "code",
   "execution_count": 20,
   "id": "71db806a",
   "metadata": {},
   "outputs": [
    {
     "data": {
      "text/plain": [
       "Entire home/apt    25409\n",
       "Private room       22326\n",
       "Shared room         1160\n",
       "Name: room_type, dtype: int64"
      ]
     },
     "execution_count": 20,
     "metadata": {},
     "output_type": "execute_result"
    }
   ],
   "source": [
    "room_type_val"
   ]
  },
  {
   "cell_type": "code",
   "execution_count": 21,
   "id": "805972b0",
   "metadata": {},
   "outputs": [],
   "source": [
    "import matplotlib.pyplot as plt"
   ]
  },
  {
   "cell_type": "code",
   "execution_count": 22,
   "id": "70a4422b",
   "metadata": {},
   "outputs": [
    {
     "data": {
      "text/plain": [
       "<BarContainer object of 3 artists>"
      ]
     },
     "execution_count": 22,
     "metadata": {},
     "output_type": "execute_result"
    },
    {
     "data": {
      "image/png": "[encoded data removed]",
      "text/plain": [
       "<Figure size 432x288 with 1 Axes>"
      ]
     },
     "metadata": {
      "needs_background": "light"
     },
     "output_type": "display_data"
    }
   ],
   "source": [
    "plt.bar(\n",
    "    x = df['room_type'].unique(), \n",
    "        height=room_type_val)"
   ]
  },
  {
   "cell_type": "code",
   "execution_count": 23,
   "id": "9583ba66",
   "metadata": {},
   "outputs": [
    {
     "data": {
      "text/plain": [
       "Index(['id', 'name', 'host_id', 'host_name', 'neighbourhood_group',\n",
       "       'neighbourhood', 'latitude', 'longitude', 'room_type', 'price',\n",
       "       'minimum_nights', 'number_of_reviews', 'last_review',\n",
       "       'reviews_per_month', 'calculated_host_listings_count',\n",
       "       'availability_365'],\n",
       "      dtype='object')"
      ]
     },
     "execution_count": 23,
     "metadata": {},
     "output_type": "execute_result"
    }
   ],
   "source": [
    "df.columns"
   ]
  },
  {
   "cell_type": "code",
   "execution_count": 24,
   "id": "048463c7",
   "metadata": {},
   "outputs": [],
   "source": [
    "neighbourhood_group_val = df.neighbourhood_group.value_counts()\n",
    "\n",
    "neighbourhood_group_groupyby = df.groupby('neighbourhood_group')[['price',\n",
    "       'minimum_nights','availability_365']].mean()"
   ]
  },
  {
   "cell_type": "code",
   "execution_count": 25,
   "id": "57366b0a",
   "metadata": {},
   "outputs": [
    {
     "data": {
      "text/html": [
       "<div>\n",
       "<style scoped>\n",
       "    .dataframe tbody tr th:only-of-type {\n",
       "        vertical-align: middle;\n",
       "    }\n",
       "\n",
       "    .dataframe tbody tr th {\n",
       "        vertical-align: top;\n",
       "    }\n",
       "\n",
       "    .dataframe thead th {\n",
       "        text-align: right;\n",
       "    }\n",
       "</style>\n",
       "<table border=\"1\" class=\"dataframe\">\n",
       "  <thead>\n",
       "    <tr style=\"text-align: right;\">\n",
       "      <th></th>\n",
       "      <th>price</th>\n",
       "      <th>minimum_nights</th>\n",
       "      <th>availability_365</th>\n",
       "    </tr>\n",
       "    <tr>\n",
       "      <th>neighbourhood_group</th>\n",
       "      <th></th>\n",
       "      <th></th>\n",
       "      <th></th>\n",
       "    </tr>\n",
       "  </thead>\n",
       "  <tbody>\n",
       "    <tr>\n",
       "      <th>Bronx</th>\n",
       "      <td>87.496792</td>\n",
       "      <td>4.560953</td>\n",
       "      <td>165.758937</td>\n",
       "    </tr>\n",
       "    <tr>\n",
       "      <th>Brooklyn</th>\n",
       "      <td>124.383207</td>\n",
       "      <td>6.056556</td>\n",
       "      <td>100.232292</td>\n",
       "    </tr>\n",
       "    <tr>\n",
       "      <th>Manhattan</th>\n",
       "      <td>196.875814</td>\n",
       "      <td>8.579151</td>\n",
       "      <td>111.979410</td>\n",
       "    </tr>\n",
       "    <tr>\n",
       "      <th>Queens</th>\n",
       "      <td>99.517649</td>\n",
       "      <td>5.181433</td>\n",
       "      <td>144.451818</td>\n",
       "    </tr>\n",
       "    <tr>\n",
       "      <th>Staten Island</th>\n",
       "      <td>114.812332</td>\n",
       "      <td>4.831099</td>\n",
       "      <td>199.678284</td>\n",
       "    </tr>\n",
       "  </tbody>\n",
       "</table>\n",
       "</div>"
      ],
      "text/plain": [
       "                          price  minimum_nights  availability_365\n",
       "neighbourhood_group                                              \n",
       "Bronx                 87.496792        4.560953        165.758937\n",
       "Brooklyn             124.383207        6.056556        100.232292\n",
       "Manhattan            196.875814        8.579151        111.979410\n",
       "Queens                99.517649        5.181433        144.451818\n",
       "Staten Island        114.812332        4.831099        199.678284"
      ]
     },
     "execution_count": 25,
     "metadata": {},
     "output_type": "execute_result"
    }
   ],
   "source": [
    "neighbourhood_group_groupyby"
   ]
  },
  {
   "cell_type": "code",
   "execution_count": 26,
   "id": "a1405abd",
   "metadata": {},
   "outputs": [
    {
     "data": {
      "text/plain": [
       "<AxesSubplot:xlabel='neighbourhood_group'>"
      ]
     },
     "execution_count": 26,
     "metadata": {},
     "output_type": "execute_result"
    },
    {
     "data": {
      "image/png": "[encoded data removed]",
      "text/plain": [
       "<Figure size 432x288 with 1 Axes>"
      ]
     },
     "metadata": {
      "needs_background": "light"
     },
     "output_type": "display_data"
    }
   ],
   "source": [
    "neighbourhood_group_groupyby.plot()"
   ]
  },
  {
   "cell_type": "code",
   "execution_count": 27,
   "id": "7210ba7f",
   "metadata": {},
   "outputs": [
    {
     "data": {
      "text/plain": [
       "<BarContainer object of 5 artists>"
      ]
     },
     "execution_count": 27,
     "metadata": {},
     "output_type": "execute_result"
    },
    {
     "data": {
      "image/png": "[encoded data removed]",
      "text/plain": [
       "<Figure size 432x288 with 1 Axes>"
      ]
     },
     "metadata": {
      "needs_background": "light"
     },
     "output_type": "display_data"
    }
   ],
   "source": [
    "plt.bar(x = df['neighbourhood_group'].unique(), height=neighbourhood_group_val)"
   ]
  },
  {
   "cell_type": "code",
   "execution_count": 28,
   "id": "85ee3ecb",
   "metadata": {},
   "outputs": [
    {
     "data": {
      "text/plain": [
       "<matplotlib.collections.PathCollection at 0x1d84daabee0>"
      ]
     },
     "execution_count": 28,
     "metadata": {},
     "output_type": "execute_result"
    },
    {
     "data": {
      "image/png": "[encoded data removed]",
      "text/plain": [
       "<Figure size 432x288 with 1 Axes>"
      ]
     },
     "metadata": {
      "needs_background": "light"
     },
     "output_type": "display_data"
    }
   ],
   "source": [
    "plt.bar(x = df['neighbourhood_group'].unique(), height=neighbourhood_group_val, color=['brown','orange','yellow','green','pink'])\n",
    "plt.scatter(x = df['neighbourhood_group'].unique(), y=neighbourhood_group_val, alpha=0.5, marker='*', edgecolors='r', linewidths=5, cmap=0.6)"
   ]
  },
  {
   "cell_type": "markdown",
   "id": "cb9cc0eb",
   "metadata": {},
   "source": [
    "<img src='NYC_neighbourhood.jpg' width=50%>"
   ]
  },
  {
   "cell_type": "code",
   "execution_count": 29,
   "id": "d061cb32",
   "metadata": {},
   "outputs": [
    {
     "data": {
      "text/html": [
       "<div>\n",
       "<style scoped>\n",
       "    .dataframe tbody tr th:only-of-type {\n",
       "        vertical-align: middle;\n",
       "    }\n",
       "\n",
       "    .dataframe tbody tr th {\n",
       "        vertical-align: top;\n",
       "    }\n",
       "\n",
       "    .dataframe thead th {\n",
       "        text-align: right;\n",
       "    }\n",
       "</style>\n",
       "<table border=\"1\" class=\"dataframe\">\n",
       "  <thead>\n",
       "    <tr style=\"text-align: right;\">\n",
       "      <th></th>\n",
       "      <th>v1</th>\n",
       "      <th>v2</th>\n",
       "      <th>Unnamed: 2</th>\n",
       "      <th>Unnamed: 3</th>\n",
       "      <th>Unnamed: 4</th>\n",
       "    </tr>\n",
       "  </thead>\n",
       "  <tbody>\n",
       "    <tr>\n",
       "      <th>0</th>\n",
       "      <td>ham</td>\n",
       "      <td>Go until jurong point, crazy.. Available only ...</td>\n",
       "      <td>NaN</td>\n",
       "      <td>NaN</td>\n",
       "      <td>NaN</td>\n",
       "    </tr>\n",
       "    <tr>\n",
       "      <th>1</th>\n",
       "      <td>ham</td>\n",
       "      <td>Ok lar... Joking wif u oni...</td>\n",
       "      <td>NaN</td>\n",
       "      <td>NaN</td>\n",
       "      <td>NaN</td>\n",
       "    </tr>\n",
       "    <tr>\n",
       "      <th>2</th>\n",
       "      <td>spam</td>\n",
       "      <td>Free entry in 2 a wkly comp to win FA Cup fina...</td>\n",
       "      <td>NaN</td>\n",
       "      <td>NaN</td>\n",
       "      <td>NaN</td>\n",
       "    </tr>\n",
       "    <tr>\n",
       "      <th>3</th>\n",
       "      <td>ham</td>\n",
       "      <td>U dun say so early hor... U c already then say...</td>\n",
       "      <td>NaN</td>\n",
       "      <td>NaN</td>\n",
       "      <td>NaN</td>\n",
       "    </tr>\n",
       "    <tr>\n",
       "      <th>4</th>\n",
       "      <td>ham</td>\n",
       "      <td>Nah I don't think he goes to usf, he lives aro...</td>\n",
       "      <td>NaN</td>\n",
       "      <td>NaN</td>\n",
       "      <td>NaN</td>\n",
       "    </tr>\n",
       "  </tbody>\n",
       "</table>\n",
       "</div>"
      ],
      "text/plain": [
       "     v1                                                 v2 Unnamed: 2  \\\n",
       "0   ham  Go until jurong point, crazy.. Available only ...        NaN   \n",
       "1   ham                      Ok lar... Joking wif u oni...        NaN   \n",
       "2  spam  Free entry in 2 a wkly comp to win FA Cup fina...        NaN   \n",
       "3   ham  U dun say so early hor... U c already then say...        NaN   \n",
       "4   ham  Nah I don't think he goes to usf, he lives aro...        NaN   \n",
       "\n",
       "  Unnamed: 3 Unnamed: 4  \n",
       "0        NaN        NaN  \n",
       "1        NaN        NaN  \n",
       "2        NaN        NaN  \n",
       "3        NaN        NaN  \n",
       "4        NaN        NaN  "
      ]
     },
     "execution_count": 29,
     "metadata": {},
     "output_type": "execute_result"
    }
   ],
   "source": [
    "spam_data = pd.read_csv('spam_mail.csv', encoding='ISO-8859-1')\n",
    "spam_data.head()"
   ]
  },
  {
   "cell_type": "code",
   "execution_count": 30,
   "id": "4aa559a9",
   "metadata": {},
   "outputs": [
    {
     "data": {
      "text/html": [
       "<div>\n",
       "<style scoped>\n",
       "    .dataframe tbody tr th:only-of-type {\n",
       "        vertical-align: middle;\n",
       "    }\n",
       "\n",
       "    .dataframe tbody tr th {\n",
       "        vertical-align: top;\n",
       "    }\n",
       "\n",
       "    .dataframe thead th {\n",
       "        text-align: right;\n",
       "    }\n",
       "</style>\n",
       "<table border=\"1\" class=\"dataframe\">\n",
       "  <thead>\n",
       "    <tr style=\"text-align: right;\">\n",
       "      <th></th>\n",
       "      <th>v1</th>\n",
       "      <th>v2</th>\n",
       "      <th>Unnamed: 2</th>\n",
       "      <th>Unnamed: 3</th>\n",
       "      <th>Unnamed: 4</th>\n",
       "    </tr>\n",
       "  </thead>\n",
       "  <tbody>\n",
       "    <tr>\n",
       "      <th>0</th>\n",
       "      <td>ham</td>\n",
       "      <td>Go until jurong point, crazy.. Available only ...</td>\n",
       "      <td>NaN</td>\n",
       "      <td>NaN</td>\n",
       "      <td>NaN</td>\n",
       "    </tr>\n",
       "    <tr>\n",
       "      <th>1</th>\n",
       "      <td>ham</td>\n",
       "      <td>Ok lar... Joking wif u oni...</td>\n",
       "      <td>NaN</td>\n",
       "      <td>NaN</td>\n",
       "      <td>NaN</td>\n",
       "    </tr>\n",
       "    <tr>\n",
       "      <th>2</th>\n",
       "      <td>spam</td>\n",
       "      <td>Free entry in 2 a wkly comp to win FA Cup fina...</td>\n",
       "      <td>NaN</td>\n",
       "      <td>NaN</td>\n",
       "      <td>NaN</td>\n",
       "    </tr>\n",
       "    <tr>\n",
       "      <th>3</th>\n",
       "      <td>ham</td>\n",
       "      <td>U dun say so early hor... U c already then say...</td>\n",
       "      <td>NaN</td>\n",
       "      <td>NaN</td>\n",
       "      <td>NaN</td>\n",
       "    </tr>\n",
       "    <tr>\n",
       "      <th>4</th>\n",
       "      <td>ham</td>\n",
       "      <td>Nah I don't think he goes to usf, he lives aro...</td>\n",
       "      <td>NaN</td>\n",
       "      <td>NaN</td>\n",
       "      <td>NaN</td>\n",
       "    </tr>\n",
       "  </tbody>\n",
       "</table>\n",
       "</div>"
      ],
      "text/plain": [
       "     v1                                                 v2 Unnamed: 2  \\\n",
       "0   ham  Go until jurong point, crazy.. Available only ...        NaN   \n",
       "1   ham                      Ok lar... Joking wif u oni...        NaN   \n",
       "2  spam  Free entry in 2 a wkly comp to win FA Cup fina...        NaN   \n",
       "3   ham  U dun say so early hor... U c already then say...        NaN   \n",
       "4   ham  Nah I don't think he goes to usf, he lives aro...        NaN   \n",
       "\n",
       "  Unnamed: 3 Unnamed: 4  \n",
       "0        NaN        NaN  \n",
       "1        NaN        NaN  \n",
       "2        NaN        NaN  \n",
       "3        NaN        NaN  \n",
       "4        NaN        NaN  "
      ]
     },
     "execution_count": 30,
     "metadata": {},
     "output_type": "execute_result"
    }
   ],
   "source": [
    "utf = 'cp1252'\n",
    "spam_data = pd.read_csv('spam_mail.csv', encoding=utf)\n",
    "spam_data.head()"
   ]
  },
  {
   "cell_type": "code",
   "execution_count": 31,
   "id": "469d4e49",
   "metadata": {},
   "outputs": [
    {
     "data": {
      "text/html": [
       "<div>\n",
       "<style scoped>\n",
       "    .dataframe tbody tr th:only-of-type {\n",
       "        vertical-align: middle;\n",
       "    }\n",
       "\n",
       "    .dataframe tbody tr th {\n",
       "        vertical-align: top;\n",
       "    }\n",
       "\n",
       "    .dataframe thead th {\n",
       "        text-align: right;\n",
       "    }\n",
       "</style>\n",
       "<table border=\"1\" class=\"dataframe\">\n",
       "  <thead>\n",
       "    <tr style=\"text-align: right;\">\n",
       "      <th></th>\n",
       "      <th>v1</th>\n",
       "      <th>v2</th>\n",
       "      <th>Unnamed: 2</th>\n",
       "      <th>Unnamed: 3</th>\n",
       "      <th>Unnamed: 4</th>\n",
       "    </tr>\n",
       "  </thead>\n",
       "  <tbody>\n",
       "    <tr>\n",
       "      <th>1734</th>\n",
       "      <td>ham</td>\n",
       "      <td>I think we're going to finn's now, come</td>\n",
       "      <td>NaN</td>\n",
       "      <td>NaN</td>\n",
       "      <td>NaN</td>\n",
       "    </tr>\n",
       "    <tr>\n",
       "      <th>5552</th>\n",
       "      <td>ham</td>\n",
       "      <td>Have a safe trip to Nigeria. Wish you happines...</td>\n",
       "      <td>NaN</td>\n",
       "      <td>NaN</td>\n",
       "      <td>NaN</td>\n",
       "    </tr>\n",
       "    <tr>\n",
       "      <th>2483</th>\n",
       "      <td>ham</td>\n",
       "      <td>Mm have some kanji dont eat anything heavy ok</td>\n",
       "      <td>NaN</td>\n",
       "      <td>NaN</td>\n",
       "      <td>NaN</td>\n",
       "    </tr>\n",
       "  </tbody>\n",
       "</table>\n",
       "</div>"
      ],
      "text/plain": [
       "       v1                                                 v2 Unnamed: 2  \\\n",
       "1734  ham            I think we're going to finn's now, come        NaN   \n",
       "5552  ham  Have a safe trip to Nigeria. Wish you happines...        NaN   \n",
       "2483  ham      Mm have some kanji dont eat anything heavy ok        NaN   \n",
       "\n",
       "     Unnamed: 3 Unnamed: 4  \n",
       "1734        NaN        NaN  \n",
       "5552        NaN        NaN  \n",
       "2483        NaN        NaN  "
      ]
     },
     "execution_count": 31,
     "metadata": {},
     "output_type": "execute_result"
    }
   ],
   "source": [
    "spam_data.sample(3)"
   ]
  },
  {
   "cell_type": "code",
   "execution_count": 32,
   "id": "ed993293",
   "metadata": {},
   "outputs": [
    {
     "data": {
      "text/plain": [
       "(5572, 5)"
      ]
     },
     "execution_count": 32,
     "metadata": {},
     "output_type": "execute_result"
    }
   ],
   "source": [
    "spam_data.shape"
   ]
  },
  {
   "cell_type": "markdown",
   "id": "a797f1ee",
   "metadata": {},
   "source": [
    "# Data Preprocessing:\n",
    "\n",
    "     1. Data Cleaning\n",
    "     2. EDA\n",
    "     3. Text Preprocessing\n"
   ]
  },
  {
   "cell_type": "markdown",
   "id": "b42c6f58",
   "metadata": {},
   "source": [
    "# 1. Data Cleaning: "
   ]
  },
  {
   "cell_type": "markdown",
   "id": "3cd449d6",
   "metadata": {},
   "source": [
    "##### Dropping unwanted columns:"
   ]
  },
  {
   "cell_type": "code",
   "execution_count": 33,
   "id": "a2779c49",
   "metadata": {},
   "outputs": [],
   "source": [
    "spam_data.drop(['Unnamed: 2','Unnamed: 3','Unnamed: 4'], inplace=True, axis = 1)"
   ]
  },
  {
   "cell_type": "code",
   "execution_count": 34,
   "id": "924b57e7",
   "metadata": {},
   "outputs": [
    {
     "data": {
      "text/html": [
       "<div>\n",
       "<style scoped>\n",
       "    .dataframe tbody tr th:only-of-type {\n",
       "        vertical-align: middle;\n",
       "    }\n",
       "\n",
       "    .dataframe tbody tr th {\n",
       "        vertical-align: top;\n",
       "    }\n",
       "\n",
       "    .dataframe thead th {\n",
       "        text-align: right;\n",
       "    }\n",
       "</style>\n",
       "<table border=\"1\" class=\"dataframe\">\n",
       "  <thead>\n",
       "    <tr style=\"text-align: right;\">\n",
       "      <th></th>\n",
       "      <th>v1</th>\n",
       "      <th>v2</th>\n",
       "    </tr>\n",
       "  </thead>\n",
       "  <tbody>\n",
       "    <tr>\n",
       "      <th>0</th>\n",
       "      <td>ham</td>\n",
       "      <td>Go until jurong point, crazy.. Available only ...</td>\n",
       "    </tr>\n",
       "    <tr>\n",
       "      <th>1</th>\n",
       "      <td>ham</td>\n",
       "      <td>Ok lar... Joking wif u oni...</td>\n",
       "    </tr>\n",
       "    <tr>\n",
       "      <th>2</th>\n",
       "      <td>spam</td>\n",
       "      <td>Free entry in 2 a wkly comp to win FA Cup fina...</td>\n",
       "    </tr>\n",
       "    <tr>\n",
       "      <th>3</th>\n",
       "      <td>ham</td>\n",
       "      <td>U dun say so early hor... U c already then say...</td>\n",
       "    </tr>\n",
       "    <tr>\n",
       "      <th>4</th>\n",
       "      <td>ham</td>\n",
       "      <td>Nah I don't think he goes to usf, he lives aro...</td>\n",
       "    </tr>\n",
       "    <tr>\n",
       "      <th>...</th>\n",
       "      <td>...</td>\n",
       "      <td>...</td>\n",
       "    </tr>\n",
       "    <tr>\n",
       "      <th>5567</th>\n",
       "      <td>spam</td>\n",
       "      <td>This is the 2nd time we have tried 2 contact u...</td>\n",
       "    </tr>\n",
       "    <tr>\n",
       "      <th>5568</th>\n",
       "      <td>ham</td>\n",
       "      <td>Will Ì_ b going to esplanade fr home?</td>\n",
       "    </tr>\n",
       "    <tr>\n",
       "      <th>5569</th>\n",
       "      <td>ham</td>\n",
       "      <td>Pity, * was in mood for that. So...any other s...</td>\n",
       "    </tr>\n",
       "    <tr>\n",
       "      <th>5570</th>\n",
       "      <td>ham</td>\n",
       "      <td>The guy did some bitching but I acted like i'd...</td>\n",
       "    </tr>\n",
       "    <tr>\n",
       "      <th>5571</th>\n",
       "      <td>ham</td>\n",
       "      <td>Rofl. Its true to its name</td>\n",
       "    </tr>\n",
       "  </tbody>\n",
       "</table>\n",
       "<p>5572 rows × 2 columns</p>\n",
       "</div>"
      ],
      "text/plain": [
       "        v1                                                 v2\n",
       "0      ham  Go until jurong point, crazy.. Available only ...\n",
       "1      ham                      Ok lar... Joking wif u oni...\n",
       "2     spam  Free entry in 2 a wkly comp to win FA Cup fina...\n",
       "3      ham  U dun say so early hor... U c already then say...\n",
       "4      ham  Nah I don't think he goes to usf, he lives aro...\n",
       "...    ...                                                ...\n",
       "5567  spam  This is the 2nd time we have tried 2 contact u...\n",
       "5568   ham              Will Ì_ b going to esplanade fr home?\n",
       "5569   ham  Pity, * was in mood for that. So...any other s...\n",
       "5570   ham  The guy did some bitching but I acted like i'd...\n",
       "5571   ham                         Rofl. Its true to its name\n",
       "\n",
       "[5572 rows x 2 columns]"
      ]
     },
     "execution_count": 34,
     "metadata": {},
     "output_type": "execute_result"
    }
   ],
   "source": [
    "spam_data"
   ]
  },
  {
   "cell_type": "markdown",
   "id": "bc9254f6",
   "metadata": {},
   "source": [
    "##### Renaming columns name:"
   ]
  },
  {
   "cell_type": "code",
   "execution_count": 35,
   "id": "d9bd7b6d",
   "metadata": {},
   "outputs": [],
   "source": [
    "spam_data = spam_data.rename(columns={'v1':'target', 'v2':'text',})"
   ]
  },
  {
   "cell_type": "code",
   "execution_count": 36,
   "id": "6d73f9fd",
   "metadata": {},
   "outputs": [
    {
     "data": {
      "text/html": [
       "<div>\n",
       "<style scoped>\n",
       "    .dataframe tbody tr th:only-of-type {\n",
       "        vertical-align: middle;\n",
       "    }\n",
       "\n",
       "    .dataframe tbody tr th {\n",
       "        vertical-align: top;\n",
       "    }\n",
       "\n",
       "    .dataframe thead th {\n",
       "        text-align: right;\n",
       "    }\n",
       "</style>\n",
       "<table border=\"1\" class=\"dataframe\">\n",
       "  <thead>\n",
       "    <tr style=\"text-align: right;\">\n",
       "      <th></th>\n",
       "      <th>target</th>\n",
       "      <th>text</th>\n",
       "    </tr>\n",
       "  </thead>\n",
       "  <tbody>\n",
       "    <tr>\n",
       "      <th>4802</th>\n",
       "      <td>ham</td>\n",
       "      <td>How do you plan to manage that</td>\n",
       "    </tr>\n",
       "    <tr>\n",
       "      <th>354</th>\n",
       "      <td>ham</td>\n",
       "      <td>&amp;lt;#&amp;gt; ISH MINUTES WAS 5 MINUTES AGO. WTF.</td>\n",
       "    </tr>\n",
       "    <tr>\n",
       "      <th>3926</th>\n",
       "      <td>ham</td>\n",
       "      <td>Lol ... I really need to remember to eat when ...</td>\n",
       "    </tr>\n",
       "  </tbody>\n",
       "</table>\n",
       "</div>"
      ],
      "text/plain": [
       "     target                                               text\n",
       "4802    ham                     How do you plan to manage that\n",
       "354     ham      &lt;#&gt; ISH MINUTES WAS 5 MINUTES AGO. WTF.\n",
       "3926    ham  Lol ... I really need to remember to eat when ..."
      ]
     },
     "execution_count": 36,
     "metadata": {},
     "output_type": "execute_result"
    }
   ],
   "source": [
    "spam_data.sample(3)"
   ]
  },
  {
   "cell_type": "markdown",
   "id": "0aa02232",
   "metadata": {},
   "source": [
    "Target = Label which we are going to predict."
   ]
  },
  {
   "cell_type": "code",
   "execution_count": 37,
   "id": "fb9546da",
   "metadata": {},
   "outputs": [
    {
     "data": {
      "text/plain": [
       "array(['ham', 'spam'], dtype=object)"
      ]
     },
     "execution_count": 37,
     "metadata": {},
     "output_type": "execute_result"
    }
   ],
   "source": [
    "spam_data['target'].unique()"
   ]
  },
  {
   "cell_type": "markdown",
   "id": "b5e67051",
   "metadata": {},
   "source": [
    "# Classification:\n",
    "\n",
    "\n",
    "   * Binary Classification: If we have 2 classes.\n",
    "        \n",
    "   * Multi-Classification: If we have more than 2 classes."
   ]
  },
  {
   "cell_type": "markdown",
   "id": "4c57d6e7",
   "metadata": {},
   "source": [
    "# Categorical \n",
    "  \n",
    "  >> Words (Quanlitative)\n",
    "  \n",
    "  "
   ]
  },
  {
   "cell_type": "markdown",
   "id": "ad701db7",
   "metadata": {},
   "source": [
    "# Numerical \n",
    "  \n",
    "  >> Numeric (Quantitative)\n",
    "  \n",
    "  "
   ]
  },
  {
   "cell_type": "code",
   "execution_count": 38,
   "id": "9c8bfd13",
   "metadata": {},
   "outputs": [],
   "source": [
    "# When we tried to change the categorical data into integer data, will becomes ordinal."
   ]
  },
  {
   "cell_type": "markdown",
   "id": "41ebeb65",
   "metadata": {},
   "source": [
    "# One hot encoding:\n",
    "\n",
    "code in a such way, to maintain its type.\n",
    "  \n",
    "<img src='https://github.com/AbdullahJaffrey/SaylaniLectures/blob/master/class41/OneHotEncoder.png?raw=true'>\n",
    "    "
   ]
  },
  {
   "cell_type": "code",
   "execution_count": 39,
   "id": "7e43efe7",
   "metadata": {},
   "outputs": [],
   "source": [
    "from sklearn.preprocessing import LabelEncoder"
   ]
  },
  {
   "cell_type": "code",
   "execution_count": 40,
   "id": "26093f96",
   "metadata": {},
   "outputs": [],
   "source": [
    "encoder = LabelEncoder()"
   ]
  },
  {
   "cell_type": "code",
   "execution_count": 41,
   "id": "c0b1c098",
   "metadata": {},
   "outputs": [],
   "source": [
    "spam_data['target'] = encoder.fit_transform(spam_data['target'])"
   ]
  },
  {
   "cell_type": "code",
   "execution_count": 42,
   "id": "5c9453ba",
   "metadata": {},
   "outputs": [
    {
     "data": {
      "text/html": [
       "<div>\n",
       "<style scoped>\n",
       "    .dataframe tbody tr th:only-of-type {\n",
       "        vertical-align: middle;\n",
       "    }\n",
       "\n",
       "    .dataframe tbody tr th {\n",
       "        vertical-align: top;\n",
       "    }\n",
       "\n",
       "    .dataframe thead th {\n",
       "        text-align: right;\n",
       "    }\n",
       "</style>\n",
       "<table border=\"1\" class=\"dataframe\">\n",
       "  <thead>\n",
       "    <tr style=\"text-align: right;\">\n",
       "      <th></th>\n",
       "      <th>target</th>\n",
       "      <th>text</th>\n",
       "    </tr>\n",
       "  </thead>\n",
       "  <tbody>\n",
       "    <tr>\n",
       "      <th>0</th>\n",
       "      <td>0</td>\n",
       "      <td>Go until jurong point, crazy.. Available only ...</td>\n",
       "    </tr>\n",
       "    <tr>\n",
       "      <th>1</th>\n",
       "      <td>0</td>\n",
       "      <td>Ok lar... Joking wif u oni...</td>\n",
       "    </tr>\n",
       "    <tr>\n",
       "      <th>2</th>\n",
       "      <td>1</td>\n",
       "      <td>Free entry in 2 a wkly comp to win FA Cup fina...</td>\n",
       "    </tr>\n",
       "    <tr>\n",
       "      <th>3</th>\n",
       "      <td>0</td>\n",
       "      <td>U dun say so early hor... U c already then say...</td>\n",
       "    </tr>\n",
       "    <tr>\n",
       "      <th>4</th>\n",
       "      <td>0</td>\n",
       "      <td>Nah I don't think he goes to usf, he lives aro...</td>\n",
       "    </tr>\n",
       "    <tr>\n",
       "      <th>...</th>\n",
       "      <td>...</td>\n",
       "      <td>...</td>\n",
       "    </tr>\n",
       "    <tr>\n",
       "      <th>5567</th>\n",
       "      <td>1</td>\n",
       "      <td>This is the 2nd time we have tried 2 contact u...</td>\n",
       "    </tr>\n",
       "    <tr>\n",
       "      <th>5568</th>\n",
       "      <td>0</td>\n",
       "      <td>Will Ì_ b going to esplanade fr home?</td>\n",
       "    </tr>\n",
       "    <tr>\n",
       "      <th>5569</th>\n",
       "      <td>0</td>\n",
       "      <td>Pity, * was in mood for that. So...any other s...</td>\n",
       "    </tr>\n",
       "    <tr>\n",
       "      <th>5570</th>\n",
       "      <td>0</td>\n",
       "      <td>The guy did some bitching but I acted like i'd...</td>\n",
       "    </tr>\n",
       "    <tr>\n",
       "      <th>5571</th>\n",
       "      <td>0</td>\n",
       "      <td>Rofl. Its true to its name</td>\n",
       "    </tr>\n",
       "  </tbody>\n",
       "</table>\n",
       "<p>5572 rows × 2 columns</p>\n",
       "</div>"
      ],
      "text/plain": [
       "      target                                               text\n",
       "0          0  Go until jurong point, crazy.. Available only ...\n",
       "1          0                      Ok lar... Joking wif u oni...\n",
       "2          1  Free entry in 2 a wkly comp to win FA Cup fina...\n",
       "3          0  U dun say so early hor... U c already then say...\n",
       "4          0  Nah I don't think he goes to usf, he lives aro...\n",
       "...      ...                                                ...\n",
       "5567       1  This is the 2nd time we have tried 2 contact u...\n",
       "5568       0              Will Ì_ b going to esplanade fr home?\n",
       "5569       0  Pity, * was in mood for that. So...any other s...\n",
       "5570       0  The guy did some bitching but I acted like i'd...\n",
       "5571       0                         Rofl. Its true to its name\n",
       "\n",
       "[5572 rows x 2 columns]"
      ]
     },
     "execution_count": 42,
     "metadata": {},
     "output_type": "execute_result"
    }
   ],
   "source": [
    "spam_data"
   ]
  },
  {
   "cell_type": "code",
   "execution_count": 43,
   "id": "2edfb749",
   "metadata": {},
   "outputs": [
    {
     "data": {
      "text/plain": [
       "target    0\n",
       "text      0\n",
       "dtype: int64"
      ]
     },
     "execution_count": 43,
     "metadata": {},
     "output_type": "execute_result"
    }
   ],
   "source": [
    "spam_data.isnull().sum()"
   ]
  },
  {
   "cell_type": "markdown",
   "id": "a6d03ad8",
   "metadata": {},
   "source": [
    "### Checking if there is an duplicate value exist or not!"
   ]
  },
  {
   "cell_type": "code",
   "execution_count": 44,
   "id": "8df98484",
   "metadata": {},
   "outputs": [
    {
     "data": {
      "text/plain": [
       "403"
      ]
     },
     "execution_count": 44,
     "metadata": {},
     "output_type": "execute_result"
    }
   ],
   "source": [
    "spam_data.duplicated().sum()"
   ]
  },
  {
   "cell_type": "markdown",
   "id": "c6c6b3db",
   "metadata": {},
   "source": [
    "#### Dropping all the duplicate values from the data:"
   ]
  },
  {
   "cell_type": "code",
   "execution_count": 45,
   "id": "46c4f65a",
   "metadata": {},
   "outputs": [],
   "source": [
    "spam_data.drop_duplicates(keep='first',inplace=True)"
   ]
  },
  {
   "cell_type": "code",
   "execution_count": 46,
   "id": "9e5c6833",
   "metadata": {},
   "outputs": [
    {
     "data": {
      "text/plain": [
       "(5169, 2)"
      ]
     },
     "execution_count": 46,
     "metadata": {},
     "output_type": "execute_result"
    }
   ],
   "source": [
    "spam_data.shape"
   ]
  },
  {
   "cell_type": "code",
   "execution_count": 47,
   "id": "f7e7090c",
   "metadata": {},
   "outputs": [
    {
     "data": {
      "text/plain": [
       "0"
      ]
     },
     "execution_count": 47,
     "metadata": {},
     "output_type": "execute_result"
    }
   ],
   "source": [
    "spam_data.duplicated().sum()"
   ]
  },
  {
   "cell_type": "markdown",
   "id": "d2dc6518",
   "metadata": {},
   "source": [
    "# 2. Exploratory Data Analysis (EDA) : "
   ]
  },
  {
   "cell_type": "code",
   "execution_count": 48,
   "id": "e05408aa",
   "metadata": {},
   "outputs": [
    {
     "data": {
      "text/plain": [
       "0    4516\n",
       "1     653\n",
       "Name: target, dtype: int64"
      ]
     },
     "execution_count": 48,
     "metadata": {},
     "output_type": "execute_result"
    }
   ],
   "source": [
    "label_count = spam_data.target.value_counts()\n",
    "label_count"
   ]
  },
  {
   "cell_type": "markdown",
   "id": "a064616e",
   "metadata": {},
   "source": [
    "# Imbalanced data: \n",
    "\n",
    "     This topic will be covered in our Machine Learning session."
   ]
  },
  {
   "cell_type": "code",
   "execution_count": 49,
   "id": "b3778f62",
   "metadata": {},
   "outputs": [
    {
     "data": {
      "image/png": "[encoded data removed]",
      "text/plain": [
       "<Figure size 432x288 with 1 Axes>"
      ]
     },
     "metadata": {},
     "output_type": "display_data"
    }
   ],
   "source": [
    "plt.pie(label_count, labels=['ham','spam'], autopct='%.02f') # 02f = 2 decimal plotting point\n",
    "plt.show()"
   ]
  },
  {
   "cell_type": "code",
   "execution_count": 50,
   "id": "18ca938e",
   "metadata": {},
   "outputs": [
    {
     "data": {
      "image/png": "[encoded data removed]",
      "text/plain": [
       "<Figure size 432x288 with 1 Axes>"
      ]
     },
     "metadata": {},
     "output_type": "display_data"
    }
   ],
   "source": [
    "plt.pie(label_count, labels=['ham','spam'], autopct='%.02f',explode=[0,0.6], shadow=True, colors=['r','g'] ) # 02f = 2 decimal plotting point\n",
    "plt.show()"
   ]
  },
  {
   "cell_type": "code",
   "execution_count": 51,
   "id": "97cd3245",
   "metadata": {},
   "outputs": [],
   "source": [
    "spam_data['number of character'] = spam_data['text'].apply(len)"
   ]
  },
  {
   "cell_type": "code",
   "execution_count": 52,
   "id": "a0c01121",
   "metadata": {},
   "outputs": [
    {
     "data": {
      "text/html": [
       "<div>\n",
       "<style scoped>\n",
       "    .dataframe tbody tr th:only-of-type {\n",
       "        vertical-align: middle;\n",
       "    }\n",
       "\n",
       "    .dataframe tbody tr th {\n",
       "        vertical-align: top;\n",
       "    }\n",
       "\n",
       "    .dataframe thead th {\n",
       "        text-align: right;\n",
       "    }\n",
       "</style>\n",
       "<table border=\"1\" class=\"dataframe\">\n",
       "  <thead>\n",
       "    <tr style=\"text-align: right;\">\n",
       "      <th></th>\n",
       "      <th>target</th>\n",
       "      <th>text</th>\n",
       "      <th>number of character</th>\n",
       "    </tr>\n",
       "  </thead>\n",
       "  <tbody>\n",
       "    <tr>\n",
       "      <th>0</th>\n",
       "      <td>0</td>\n",
       "      <td>Go until jurong point, crazy.. Available only ...</td>\n",
       "      <td>111</td>\n",
       "    </tr>\n",
       "    <tr>\n",
       "      <th>1</th>\n",
       "      <td>0</td>\n",
       "      <td>Ok lar... Joking wif u oni...</td>\n",
       "      <td>29</td>\n",
       "    </tr>\n",
       "    <tr>\n",
       "      <th>2</th>\n",
       "      <td>1</td>\n",
       "      <td>Free entry in 2 a wkly comp to win FA Cup fina...</td>\n",
       "      <td>155</td>\n",
       "    </tr>\n",
       "    <tr>\n",
       "      <th>3</th>\n",
       "      <td>0</td>\n",
       "      <td>U dun say so early hor... U c already then say...</td>\n",
       "      <td>49</td>\n",
       "    </tr>\n",
       "    <tr>\n",
       "      <th>4</th>\n",
       "      <td>0</td>\n",
       "      <td>Nah I don't think he goes to usf, he lives aro...</td>\n",
       "      <td>61</td>\n",
       "    </tr>\n",
       "  </tbody>\n",
       "</table>\n",
       "</div>"
      ],
      "text/plain": [
       "   target                                               text  \\\n",
       "0       0  Go until jurong point, crazy.. Available only ...   \n",
       "1       0                      Ok lar... Joking wif u oni...   \n",
       "2       1  Free entry in 2 a wkly comp to win FA Cup fina...   \n",
       "3       0  U dun say so early hor... U c already then say...   \n",
       "4       0  Nah I don't think he goes to usf, he lives aro...   \n",
       "\n",
       "   number of character  \n",
       "0                  111  \n",
       "1                   29  \n",
       "2                  155  \n",
       "3                   49  \n",
       "4                   61  "
      ]
     },
     "execution_count": 52,
     "metadata": {},
     "output_type": "execute_result"
    }
   ],
   "source": [
    "spam_data.head()"
   ]
  },
  {
   "cell_type": "markdown",
   "id": "d9b7a384",
   "metadata": {},
   "source": [
    "###### Counting number of words using List Comprehension:"
   ]
  },
  {
   "cell_type": "code",
   "execution_count": 53,
   "id": "9ab2e02d",
   "metadata": {},
   "outputs": [],
   "source": [
    "spam_data['number of words'] =  [len(x.split(' ')) for x in spam_data['text']]"
   ]
  },
  {
   "cell_type": "markdown",
   "id": "d10bf0e7",
   "metadata": {},
   "source": [
    "###### Counting number of words using Lambda Function:"
   ]
  },
  {
   "cell_type": "code",
   "execution_count": 54,
   "id": "1f089320",
   "metadata": {},
   "outputs": [],
   "source": [
    "# spam_data['number of words'] =  spam_data['text'].apply(lambda x: x.split(' '))"
   ]
  },
  {
   "cell_type": "markdown",
   "id": "583ef229",
   "metadata": {},
   "source": [
    "###### Counting number of sentence using Lambda Function:"
   ]
  },
  {
   "cell_type": "code",
   "execution_count": 55,
   "id": "1dce1a6f",
   "metadata": {},
   "outputs": [],
   "source": [
    "spam_data['number of sentence'] =  spam_data['text'].apply(lambda x: len(x.split('.')))"
   ]
  },
  {
   "cell_type": "code",
   "execution_count": 56,
   "id": "f2c8b3ba",
   "metadata": {},
   "outputs": [
    {
     "data": {
      "text/html": [
       "<div>\n",
       "<style scoped>\n",
       "    .dataframe tbody tr th:only-of-type {\n",
       "        vertical-align: middle;\n",
       "    }\n",
       "\n",
       "    .dataframe tbody tr th {\n",
       "        vertical-align: top;\n",
       "    }\n",
       "\n",
       "    .dataframe thead th {\n",
       "        text-align: right;\n",
       "    }\n",
       "</style>\n",
       "<table border=\"1\" class=\"dataframe\">\n",
       "  <thead>\n",
       "    <tr style=\"text-align: right;\">\n",
       "      <th></th>\n",
       "      <th>target</th>\n",
       "      <th>text</th>\n",
       "      <th>number of character</th>\n",
       "      <th>number of words</th>\n",
       "      <th>number of sentence</th>\n",
       "    </tr>\n",
       "  </thead>\n",
       "  <tbody>\n",
       "    <tr>\n",
       "      <th>0</th>\n",
       "      <td>0</td>\n",
       "      <td>Go until jurong point, crazy.. Available only ...</td>\n",
       "      <td>111</td>\n",
       "      <td>20</td>\n",
       "      <td>9</td>\n",
       "    </tr>\n",
       "    <tr>\n",
       "      <th>1</th>\n",
       "      <td>0</td>\n",
       "      <td>Ok lar... Joking wif u oni...</td>\n",
       "      <td>29</td>\n",
       "      <td>6</td>\n",
       "      <td>7</td>\n",
       "    </tr>\n",
       "    <tr>\n",
       "      <th>2</th>\n",
       "      <td>1</td>\n",
       "      <td>Free entry in 2 a wkly comp to win FA Cup fina...</td>\n",
       "      <td>155</td>\n",
       "      <td>28</td>\n",
       "      <td>2</td>\n",
       "    </tr>\n",
       "    <tr>\n",
       "      <th>3</th>\n",
       "      <td>0</td>\n",
       "      <td>U dun say so early hor... U c already then say...</td>\n",
       "      <td>49</td>\n",
       "      <td>11</td>\n",
       "      <td>7</td>\n",
       "    </tr>\n",
       "    <tr>\n",
       "      <th>4</th>\n",
       "      <td>0</td>\n",
       "      <td>Nah I don't think he goes to usf, he lives aro...</td>\n",
       "      <td>61</td>\n",
       "      <td>13</td>\n",
       "      <td>1</td>\n",
       "    </tr>\n",
       "    <tr>\n",
       "      <th>...</th>\n",
       "      <td>...</td>\n",
       "      <td>...</td>\n",
       "      <td>...</td>\n",
       "      <td>...</td>\n",
       "      <td>...</td>\n",
       "    </tr>\n",
       "    <tr>\n",
       "      <th>5567</th>\n",
       "      <td>1</td>\n",
       "      <td>This is the 2nd time we have tried 2 contact u...</td>\n",
       "      <td>161</td>\n",
       "      <td>30</td>\n",
       "      <td>5</td>\n",
       "    </tr>\n",
       "    <tr>\n",
       "      <th>5568</th>\n",
       "      <td>0</td>\n",
       "      <td>Will Ì_ b going to esplanade fr home?</td>\n",
       "      <td>37</td>\n",
       "      <td>8</td>\n",
       "      <td>1</td>\n",
       "    </tr>\n",
       "    <tr>\n",
       "      <th>5569</th>\n",
       "      <td>0</td>\n",
       "      <td>Pity, * was in mood for that. So...any other s...</td>\n",
       "      <td>57</td>\n",
       "      <td>10</td>\n",
       "      <td>5</td>\n",
       "    </tr>\n",
       "    <tr>\n",
       "      <th>5570</th>\n",
       "      <td>0</td>\n",
       "      <td>The guy did some bitching but I acted like i'd...</td>\n",
       "      <td>125</td>\n",
       "      <td>26</td>\n",
       "      <td>1</td>\n",
       "    </tr>\n",
       "    <tr>\n",
       "      <th>5571</th>\n",
       "      <td>0</td>\n",
       "      <td>Rofl. Its true to its name</td>\n",
       "      <td>26</td>\n",
       "      <td>6</td>\n",
       "      <td>2</td>\n",
       "    </tr>\n",
       "  </tbody>\n",
       "</table>\n",
       "<p>5169 rows × 5 columns</p>\n",
       "</div>"
      ],
      "text/plain": [
       "      target                                               text  \\\n",
       "0          0  Go until jurong point, crazy.. Available only ...   \n",
       "1          0                      Ok lar... Joking wif u oni...   \n",
       "2          1  Free entry in 2 a wkly comp to win FA Cup fina...   \n",
       "3          0  U dun say so early hor... U c already then say...   \n",
       "4          0  Nah I don't think he goes to usf, he lives aro...   \n",
       "...      ...                                                ...   \n",
       "5567       1  This is the 2nd time we have tried 2 contact u...   \n",
       "5568       0              Will Ì_ b going to esplanade fr home?   \n",
       "5569       0  Pity, * was in mood for that. So...any other s...   \n",
       "5570       0  The guy did some bitching but I acted like i'd...   \n",
       "5571       0                         Rofl. Its true to its name   \n",
       "\n",
       "      number of character  number of words  number of sentence  \n",
       "0                     111               20                   9  \n",
       "1                      29                6                   7  \n",
       "2                     155               28                   2  \n",
       "3                      49               11                   7  \n",
       "4                      61               13                   1  \n",
       "...                   ...              ...                 ...  \n",
       "5567                  161               30                   5  \n",
       "5568                   37                8                   1  \n",
       "5569                   57               10                   5  \n",
       "5570                  125               26                   1  \n",
       "5571                   26                6                   2  \n",
       "\n",
       "[5169 rows x 5 columns]"
      ]
     },
     "execution_count": 56,
     "metadata": {},
     "output_type": "execute_result"
    }
   ],
   "source": [
    "spam_data"
   ]
  },
  {
   "cell_type": "markdown",
   "id": "c372d5c4",
   "metadata": {},
   "source": [
    "<td width=\"100%\" height=\"auto-fit\">\n",
    "<img src='https://confusedcoders.com/wp-content/uploads/2019/07/Python-Data-Science_Watermarked.2789459dd138.jpg' width='700px' height='400px'>\n",
    "</td>"
   ]
  },
  {
   "cell_type": "code",
   "execution_count": 57,
   "id": "45103c98",
   "metadata": {},
   "outputs": [
    {
     "name": "stderr",
     "output_type": "stream",
     "text": [
      "[nltk_data] Downloading package punkt to\n",
      "[nltk_data]     C:\\Users\\Lab02R03Pc19\\AppData\\Roaming\\nltk_data...\n",
      "[nltk_data]   Package punkt is already up-to-date!\n"
     ]
    },
    {
     "data": {
      "text/plain": [
       "True"
      ]
     },
     "execution_count": 57,
     "metadata": {},
     "output_type": "execute_result"
    }
   ],
   "source": [
    "import nltk as nl #Natural Language Toolkit\n",
    "\n",
    "nl.download('punkt')"
   ]
  },
  {
   "cell_type": "markdown",
   "id": "a09cf8aa",
   "metadata": {},
   "source": [
    "<td width=\"33%\">\n",
    "<img src='https://files.realpython.com/media/UPDATE-First-Steps-With-Python_Watermarked.256721df5607.jpg'>\n",
    "</td>\n",
    "\n",
    "<td width=\"33%\">\n",
    "<img src='https://files.realpython.com/media/NLP-for-Beginners-Pythons-Natural-Language-Toolkit-NLTK_Watermarked.16a787c1e9c6.jpg'>\n",
    "</td>\n",
    "\n",
    "<td width=\"33%\">\n",
    "<img src='https://files.realpython.com/media/How-to-use-NLTK-for-Sentiment-Analysis-in-Python_Watermarked.05ff07ca7ec7.jpg'>\n",
    "</td>"
   ]
  },
  {
   "cell_type": "markdown",
   "id": "a56ca91d",
   "metadata": {},
   "source": [
    "### Counting number of words using tokenization function:"
   ]
  },
  {
   "cell_type": "code",
   "execution_count": 58,
   "id": "182179b6",
   "metadata": {},
   "outputs": [],
   "source": [
    "spam_data['num sentence'] =  spam_data['text'].apply(lambda x: len(nl.sent_tokenize(x)))"
   ]
  },
  {
   "cell_type": "code",
   "execution_count": 59,
   "id": "af2b6db7",
   "metadata": {},
   "outputs": [],
   "source": [
    "spam_data['num word'] =  spam_data['text'].apply(lambda x: len(nl.word_tokenize(x)))"
   ]
  },
  {
   "cell_type": "code",
   "execution_count": 60,
   "id": "518d8233",
   "metadata": {},
   "outputs": [],
   "source": [
    "spam_data.drop(['number of words','number of sentence'], axis=1, inplace=True)"
   ]
  },
  {
   "cell_type": "code",
   "execution_count": 61,
   "id": "04f0c12f",
   "metadata": {},
   "outputs": [
    {
     "data": {
      "text/html": [
       "<div>\n",
       "<style scoped>\n",
       "    .dataframe tbody tr th:only-of-type {\n",
       "        vertical-align: middle;\n",
       "    }\n",
       "\n",
       "    .dataframe tbody tr th {\n",
       "        vertical-align: top;\n",
       "    }\n",
       "\n",
       "    .dataframe thead th {\n",
       "        text-align: right;\n",
       "    }\n",
       "</style>\n",
       "<table border=\"1\" class=\"dataframe\">\n",
       "  <thead>\n",
       "    <tr style=\"text-align: right;\">\n",
       "      <th></th>\n",
       "      <th>target</th>\n",
       "      <th>text</th>\n",
       "      <th>number of character</th>\n",
       "      <th>num sentence</th>\n",
       "      <th>num word</th>\n",
       "    </tr>\n",
       "  </thead>\n",
       "  <tbody>\n",
       "    <tr>\n",
       "      <th>0</th>\n",
       "      <td>0</td>\n",
       "      <td>Go until jurong point, crazy.. Available only ...</td>\n",
       "      <td>111</td>\n",
       "      <td>2</td>\n",
       "      <td>24</td>\n",
       "    </tr>\n",
       "    <tr>\n",
       "      <th>1</th>\n",
       "      <td>0</td>\n",
       "      <td>Ok lar... Joking wif u oni...</td>\n",
       "      <td>29</td>\n",
       "      <td>2</td>\n",
       "      <td>8</td>\n",
       "    </tr>\n",
       "    <tr>\n",
       "      <th>2</th>\n",
       "      <td>1</td>\n",
       "      <td>Free entry in 2 a wkly comp to win FA Cup fina...</td>\n",
       "      <td>155</td>\n",
       "      <td>2</td>\n",
       "      <td>37</td>\n",
       "    </tr>\n",
       "  </tbody>\n",
       "</table>\n",
       "</div>"
      ],
      "text/plain": [
       "   target                                               text  \\\n",
       "0       0  Go until jurong point, crazy.. Available only ...   \n",
       "1       0                      Ok lar... Joking wif u oni...   \n",
       "2       1  Free entry in 2 a wkly comp to win FA Cup fina...   \n",
       "\n",
       "   number of character  num sentence  num word  \n",
       "0                  111             2        24  \n",
       "1                   29             2         8  \n",
       "2                  155             2        37  "
      ]
     },
     "execution_count": 61,
     "metadata": {},
     "output_type": "execute_result"
    }
   ],
   "source": [
    "spam_data.head(3)"
   ]
  },
  {
   "cell_type": "code",
   "execution_count": 62,
   "id": "692ff316",
   "metadata": {},
   "outputs": [
    {
     "data": {
      "text/html": [
       "<div>\n",
       "<style scoped>\n",
       "    .dataframe tbody tr th:only-of-type {\n",
       "        vertical-align: middle;\n",
       "    }\n",
       "\n",
       "    .dataframe tbody tr th {\n",
       "        vertical-align: top;\n",
       "    }\n",
       "\n",
       "    .dataframe thead th {\n",
       "        text-align: right;\n",
       "    }\n",
       "</style>\n",
       "<table border=\"1\" class=\"dataframe\">\n",
       "  <thead>\n",
       "    <tr style=\"text-align: right;\">\n",
       "      <th></th>\n",
       "      <th>number of character</th>\n",
       "      <th>num sentence</th>\n",
       "      <th>num word</th>\n",
       "    </tr>\n",
       "  </thead>\n",
       "  <tbody>\n",
       "    <tr>\n",
       "      <th>count</th>\n",
       "      <td>5169.000000</td>\n",
       "      <td>5169.000000</td>\n",
       "      <td>5169.000000</td>\n",
       "    </tr>\n",
       "    <tr>\n",
       "      <th>mean</th>\n",
       "      <td>78.977945</td>\n",
       "      <td>1.961308</td>\n",
       "      <td>18.455407</td>\n",
       "    </tr>\n",
       "    <tr>\n",
       "      <th>std</th>\n",
       "      <td>58.236293</td>\n",
       "      <td>1.432583</td>\n",
       "      <td>13.322448</td>\n",
       "    </tr>\n",
       "    <tr>\n",
       "      <th>min</th>\n",
       "      <td>2.000000</td>\n",
       "      <td>1.000000</td>\n",
       "      <td>1.000000</td>\n",
       "    </tr>\n",
       "    <tr>\n",
       "      <th>25%</th>\n",
       "      <td>36.000000</td>\n",
       "      <td>1.000000</td>\n",
       "      <td>9.000000</td>\n",
       "    </tr>\n",
       "    <tr>\n",
       "      <th>50%</th>\n",
       "      <td>60.000000</td>\n",
       "      <td>1.000000</td>\n",
       "      <td>15.000000</td>\n",
       "    </tr>\n",
       "    <tr>\n",
       "      <th>75%</th>\n",
       "      <td>117.000000</td>\n",
       "      <td>2.000000</td>\n",
       "      <td>26.000000</td>\n",
       "    </tr>\n",
       "    <tr>\n",
       "      <th>max</th>\n",
       "      <td>910.000000</td>\n",
       "      <td>38.000000</td>\n",
       "      <td>220.000000</td>\n",
       "    </tr>\n",
       "  </tbody>\n",
       "</table>\n",
       "</div>"
      ],
      "text/plain": [
       "       number of character  num sentence     num word\n",
       "count          5169.000000   5169.000000  5169.000000\n",
       "mean             78.977945      1.961308    18.455407\n",
       "std              58.236293      1.432583    13.322448\n",
       "min               2.000000      1.000000     1.000000\n",
       "25%              36.000000      1.000000     9.000000\n",
       "50%              60.000000      1.000000    15.000000\n",
       "75%             117.000000      2.000000    26.000000\n",
       "max             910.000000     38.000000   220.000000"
      ]
     },
     "execution_count": 62,
     "metadata": {},
     "output_type": "execute_result"
    }
   ],
   "source": [
    "# stats behind all new added columns.\n",
    "\n",
    "spam_data[['number of character','num sentence','num word']].describe()"
   ]
  },
  {
   "cell_type": "code",
   "execution_count": 63,
   "id": "5169b02b",
   "metadata": {},
   "outputs": [
    {
     "data": {
      "text/html": [
       "<div>\n",
       "<style scoped>\n",
       "    .dataframe tbody tr th:only-of-type {\n",
       "        vertical-align: middle;\n",
       "    }\n",
       "\n",
       "    .dataframe tbody tr th {\n",
       "        vertical-align: top;\n",
       "    }\n",
       "\n",
       "    .dataframe thead th {\n",
       "        text-align: right;\n",
       "    }\n",
       "</style>\n",
       "<table border=\"1\" class=\"dataframe\">\n",
       "  <thead>\n",
       "    <tr style=\"text-align: right;\">\n",
       "      <th></th>\n",
       "      <th>number of character</th>\n",
       "      <th>num sentence</th>\n",
       "      <th>num word</th>\n",
       "    </tr>\n",
       "  </thead>\n",
       "  <tbody>\n",
       "    <tr>\n",
       "      <th>count</th>\n",
       "      <td>653.000000</td>\n",
       "      <td>653.000000</td>\n",
       "      <td>653.000000</td>\n",
       "    </tr>\n",
       "    <tr>\n",
       "      <th>mean</th>\n",
       "      <td>137.891271</td>\n",
       "      <td>2.969372</td>\n",
       "      <td>27.667688</td>\n",
       "    </tr>\n",
       "    <tr>\n",
       "      <th>std</th>\n",
       "      <td>30.137753</td>\n",
       "      <td>1.488910</td>\n",
       "      <td>7.008418</td>\n",
       "    </tr>\n",
       "    <tr>\n",
       "      <th>min</th>\n",
       "      <td>13.000000</td>\n",
       "      <td>1.000000</td>\n",
       "      <td>2.000000</td>\n",
       "    </tr>\n",
       "    <tr>\n",
       "      <th>25%</th>\n",
       "      <td>132.000000</td>\n",
       "      <td>2.000000</td>\n",
       "      <td>25.000000</td>\n",
       "    </tr>\n",
       "    <tr>\n",
       "      <th>50%</th>\n",
       "      <td>149.000000</td>\n",
       "      <td>3.000000</td>\n",
       "      <td>29.000000</td>\n",
       "    </tr>\n",
       "    <tr>\n",
       "      <th>75%</th>\n",
       "      <td>157.000000</td>\n",
       "      <td>4.000000</td>\n",
       "      <td>32.000000</td>\n",
       "    </tr>\n",
       "    <tr>\n",
       "      <th>max</th>\n",
       "      <td>224.000000</td>\n",
       "      <td>9.000000</td>\n",
       "      <td>46.000000</td>\n",
       "    </tr>\n",
       "  </tbody>\n",
       "</table>\n",
       "</div>"
      ],
      "text/plain": [
       "       number of character  num sentence    num word\n",
       "count           653.000000    653.000000  653.000000\n",
       "mean            137.891271      2.969372   27.667688\n",
       "std              30.137753      1.488910    7.008418\n",
       "min              13.000000      1.000000    2.000000\n",
       "25%             132.000000      2.000000   25.000000\n",
       "50%             149.000000      3.000000   29.000000\n",
       "75%             157.000000      4.000000   32.000000\n",
       "max             224.000000      9.000000   46.000000"
      ]
     },
     "execution_count": 63,
     "metadata": {},
     "output_type": "execute_result"
    }
   ],
   "source": [
    "# stats behind all new added columns in spam category.\n",
    "\n",
    "spam_data[spam_data['target'] == 1][['number of character','num sentence','num word']].describe()"
   ]
  },
  {
   "cell_type": "code",
   "execution_count": 64,
   "id": "fa746915",
   "metadata": {},
   "outputs": [
    {
     "data": {
      "text/html": [
       "<div>\n",
       "<style scoped>\n",
       "    .dataframe tbody tr th:only-of-type {\n",
       "        vertical-align: middle;\n",
       "    }\n",
       "\n",
       "    .dataframe tbody tr th {\n",
       "        vertical-align: top;\n",
       "    }\n",
       "\n",
       "    .dataframe thead th {\n",
       "        text-align: right;\n",
       "    }\n",
       "</style>\n",
       "<table border=\"1\" class=\"dataframe\">\n",
       "  <thead>\n",
       "    <tr style=\"text-align: right;\">\n",
       "      <th></th>\n",
       "      <th>number of character</th>\n",
       "      <th>num sentence</th>\n",
       "      <th>num word</th>\n",
       "    </tr>\n",
       "  </thead>\n",
       "  <tbody>\n",
       "    <tr>\n",
       "      <th>count</th>\n",
       "      <td>4516.000000</td>\n",
       "      <td>4516.000000</td>\n",
       "      <td>4516.000000</td>\n",
       "    </tr>\n",
       "    <tr>\n",
       "      <th>mean</th>\n",
       "      <td>70.459256</td>\n",
       "      <td>1.815545</td>\n",
       "      <td>17.123339</td>\n",
       "    </tr>\n",
       "    <tr>\n",
       "      <th>std</th>\n",
       "      <td>56.358207</td>\n",
       "      <td>1.364098</td>\n",
       "      <td>13.491315</td>\n",
       "    </tr>\n",
       "    <tr>\n",
       "      <th>min</th>\n",
       "      <td>2.000000</td>\n",
       "      <td>1.000000</td>\n",
       "      <td>1.000000</td>\n",
       "    </tr>\n",
       "    <tr>\n",
       "      <th>25%</th>\n",
       "      <td>34.000000</td>\n",
       "      <td>1.000000</td>\n",
       "      <td>8.000000</td>\n",
       "    </tr>\n",
       "    <tr>\n",
       "      <th>50%</th>\n",
       "      <td>52.000000</td>\n",
       "      <td>1.000000</td>\n",
       "      <td>13.000000</td>\n",
       "    </tr>\n",
       "    <tr>\n",
       "      <th>75%</th>\n",
       "      <td>90.000000</td>\n",
       "      <td>2.000000</td>\n",
       "      <td>22.000000</td>\n",
       "    </tr>\n",
       "    <tr>\n",
       "      <th>max</th>\n",
       "      <td>910.000000</td>\n",
       "      <td>38.000000</td>\n",
       "      <td>220.000000</td>\n",
       "    </tr>\n",
       "  </tbody>\n",
       "</table>\n",
       "</div>"
      ],
      "text/plain": [
       "       number of character  num sentence     num word\n",
       "count          4516.000000   4516.000000  4516.000000\n",
       "mean             70.459256      1.815545    17.123339\n",
       "std              56.358207      1.364098    13.491315\n",
       "min               2.000000      1.000000     1.000000\n",
       "25%              34.000000      1.000000     8.000000\n",
       "50%              52.000000      1.000000    13.000000\n",
       "75%              90.000000      2.000000    22.000000\n",
       "max             910.000000     38.000000   220.000000"
      ]
     },
     "execution_count": 64,
     "metadata": {},
     "output_type": "execute_result"
    }
   ],
   "source": [
    "# stats behind all new added columns in ham category.\n",
    "\n",
    "spam_data[spam_data['target'] == 0][['number of character','num sentence','num word']].describe()"
   ]
  },
  {
   "cell_type": "code",
   "execution_count": 65,
   "id": "82f5fb6a",
   "metadata": {},
   "outputs": [],
   "source": [
    "# Class Starts from here: "
   ]
  },
  {
   "cell_type": "code",
   "execution_count": 66,
   "id": "0e90b9f1",
   "metadata": {},
   "outputs": [
    {
     "data": {
      "text/html": [
       "<div>\n",
       "<style scoped>\n",
       "    .dataframe tbody tr th:only-of-type {\n",
       "        vertical-align: middle;\n",
       "    }\n",
       "\n",
       "    .dataframe tbody tr th {\n",
       "        vertical-align: top;\n",
       "    }\n",
       "\n",
       "    .dataframe thead th {\n",
       "        text-align: right;\n",
       "    }\n",
       "</style>\n",
       "<table border=\"1\" class=\"dataframe\">\n",
       "  <thead>\n",
       "    <tr style=\"text-align: right;\">\n",
       "      <th></th>\n",
       "      <th>target</th>\n",
       "      <th>text</th>\n",
       "      <th>number of character</th>\n",
       "      <th>num sentence</th>\n",
       "      <th>num word</th>\n",
       "    </tr>\n",
       "  </thead>\n",
       "  <tbody>\n",
       "    <tr>\n",
       "      <th>0</th>\n",
       "      <td>0</td>\n",
       "      <td>Go until jurong point, crazy.. Available only ...</td>\n",
       "      <td>111</td>\n",
       "      <td>2</td>\n",
       "      <td>24</td>\n",
       "    </tr>\n",
       "    <tr>\n",
       "      <th>1</th>\n",
       "      <td>0</td>\n",
       "      <td>Ok lar... Joking wif u oni...</td>\n",
       "      <td>29</td>\n",
       "      <td>2</td>\n",
       "      <td>8</td>\n",
       "    </tr>\n",
       "    <tr>\n",
       "      <th>2</th>\n",
       "      <td>1</td>\n",
       "      <td>Free entry in 2 a wkly comp to win FA Cup fina...</td>\n",
       "      <td>155</td>\n",
       "      <td>2</td>\n",
       "      <td>37</td>\n",
       "    </tr>\n",
       "    <tr>\n",
       "      <th>3</th>\n",
       "      <td>0</td>\n",
       "      <td>U dun say so early hor... U c already then say...</td>\n",
       "      <td>49</td>\n",
       "      <td>1</td>\n",
       "      <td>13</td>\n",
       "    </tr>\n",
       "    <tr>\n",
       "      <th>4</th>\n",
       "      <td>0</td>\n",
       "      <td>Nah I don't think he goes to usf, he lives aro...</td>\n",
       "      <td>61</td>\n",
       "      <td>1</td>\n",
       "      <td>15</td>\n",
       "    </tr>\n",
       "  </tbody>\n",
       "</table>\n",
       "</div>"
      ],
      "text/plain": [
       "   target                                               text  \\\n",
       "0       0  Go until jurong point, crazy.. Available only ...   \n",
       "1       0                      Ok lar... Joking wif u oni...   \n",
       "2       1  Free entry in 2 a wkly comp to win FA Cup fina...   \n",
       "3       0  U dun say so early hor... U c already then say...   \n",
       "4       0  Nah I don't think he goes to usf, he lives aro...   \n",
       "\n",
       "   number of character  num sentence  num word  \n",
       "0                  111             2        24  \n",
       "1                   29             2         8  \n",
       "2                  155             2        37  \n",
       "3                   49             1        13  \n",
       "4                   61             1        15  "
      ]
     },
     "execution_count": 66,
     "metadata": {},
     "output_type": "execute_result"
    }
   ],
   "source": [
    "spam_data.head(5)"
   ]
  },
  {
   "cell_type": "code",
   "execution_count": 67,
   "id": "669a447c",
   "metadata": {},
   "outputs": [
    {
     "data": {
      "text/plain": [
       "'U dun say so early hor... U c already then say...'"
      ]
     },
     "execution_count": 67,
     "metadata": {},
     "output_type": "execute_result"
    }
   ],
   "source": [
    "spam_data.loc[3, 'text']"
   ]
  },
  {
   "cell_type": "markdown",
   "id": "6ef7e758",
   "metadata": {},
   "source": [
    "### Plotting the number of character in both ham and spam:"
   ]
  },
  {
   "cell_type": "code",
   "execution_count": 68,
   "id": "27901135",
   "metadata": {},
   "outputs": [],
   "source": [
    "import seaborn as sns"
   ]
  },
  {
   "cell_type": "code",
   "execution_count": 69,
   "id": "c459565b",
   "metadata": {
    "scrolled": true
   },
   "outputs": [
    {
     "data": {
      "text/plain": [
       "<AxesSubplot:xlabel='number of character', ylabel='Count'>"
      ]
     },
     "execution_count": 69,
     "metadata": {},
     "output_type": "execute_result"
    },
    {
     "data": {
      "image/png": "[encoded data removed]",
      "text/plain": [
       "<Figure size 720x360 with 1 Axes>"
      ]
     },
     "metadata": {
      "needs_background": "light"
     },
     "output_type": "display_data"
    }
   ],
   "source": [
    "plt.figure(figsize=(10,5))\n",
    "ham = spam_data[spam_data['target']==0]['number of character']\n",
    "spam = spam_data[spam_data['target']==1]['number of character']\n",
    "sns.histplot(ham)\n",
    "sns.histplot(spam,color='r')"
   ]
  },
  {
   "cell_type": "code",
   "execution_count": 70,
   "id": "19a3642c",
   "metadata": {
    "scrolled": true
   },
   "outputs": [
    {
     "data": {
      "text/plain": [
       "<AxesSubplot:xlabel='num word', ylabel='Count'>"
      ]
     },
     "execution_count": 70,
     "metadata": {},
     "output_type": "execute_result"
    },
    {
     "data": {
      "image/png": "[encoded data removed]",
      "text/plain": [
       "<Figure size 720x360 with 1 Axes>"
      ]
     },
     "metadata": {
      "needs_background": "light"
     },
     "output_type": "display_data"
    }
   ],
   "source": [
    "plt.figure(figsize=(10,5))\n",
    "ham = spam_data[spam_data['target']==0]['num word']\n",
    "spam = spam_data[spam_data['target']==1]['num word']\n",
    "sns.histplot(ham,kde=True,)\n",
    "sns.histplot(spam,color='r')"
   ]
  },
  {
   "cell_type": "code",
   "execution_count": 71,
   "id": "2753359c",
   "metadata": {},
   "outputs": [
    {
     "data": {
      "text/plain": [
       "<AxesSubplot:xlabel='num sentence', ylabel='Count'>"
      ]
     },
     "execution_count": 71,
     "metadata": {},
     "output_type": "execute_result"
    },
    {
     "data": {
      "image/png": "[encoded data removed]",
      "text/plain": [
       "<Figure size 720x360 with 1 Axes>"
      ]
     },
     "metadata": {
      "needs_background": "light"
     },
     "output_type": "display_data"
    }
   ],
   "source": [
    "plt.figure(figsize=(10,5))\n",
    "ham = spam_data[spam_data['target']==0]['num sentence']\n",
    "spam = spam_data[spam_data['target']==1]['num sentence']\n",
    "sns.histplot(ham,kde=True,)\n",
    "sns.histplot(spam,color='r')"
   ]
  },
  {
   "cell_type": "code",
   "execution_count": 72,
   "id": "cdcb45b7",
   "metadata": {},
   "outputs": [
    {
     "data": {
      "text/plain": [
       "<seaborn.axisgrid.PairGrid at 0x1d8512cfa00>"
      ]
     },
     "execution_count": 72,
     "metadata": {},
     "output_type": "execute_result"
    },
    {
     "data": {
      "image/png": "[encoded data removed]",
      "text/plain": [
       "<Figure size 582.375x540 with 12 Axes>"
      ]
     },
     "metadata": {
      "needs_background": "light"
     },
     "output_type": "display_data"
    }
   ],
   "source": [
    "sns.pairplot(data=spam_data, hue='target')"
   ]
  },
  {
   "cell_type": "markdown",
   "id": "9f14bb96",
   "metadata": {},
   "source": [
    " ### Correlation:\n",
    "        \n",
    "   * Correlation is a statistical measure that indicates the extent to which two or more variables fluctuate in relation to each other.\n",
    "      \n",
    "   OR\n",
    "   <br />\n",
    "   \n",
    "   * If a change occurred in one value, another value would change as well.\n",
    "  "
   ]
  },
  {
   "cell_type": "markdown",
   "id": "f2f24439",
   "metadata": {},
   "source": [
    "<td width=\"25%\">\n",
    "<img src='https://miro.medium.com/max/320/0*abk24QJL8-9JKFEz.png'>\n",
    "</td>\n",
    "\n",
    "<td width=\"25%\">\n",
    "<img src='https://sphweb.bumc.bu.edu/otlt/MPH-Modules/PH717-QuantCore/PH717-Module9-Correlation-Regression/Correlation%20Coefficient%20examples.png'>\n",
    "</td>\n",
    "\n",
    "<td width=\"25%\">\n",
    "<img src='https://efinancemanagement.com/wp-content/uploads/2020/01/Correlation-vs-Covariance.png'>\n",
    "</td>\n",
    "\n",
    "<td width=\"25%\">\n",
    "<img src='https://www.investopedia.com/thmb/f3tU1WRE8f7scy1fRr6y6EteuB4=/735x0/Covariance_Final_4198606-cc69f3559d794548b74b04765a557e45.png'>\n",
    "</td>"
   ]
  },
  {
   "cell_type": "markdown",
   "id": "6635d258",
   "metadata": {},
   "source": [
    "<td width='50%'>\n",
    "<img src='https://statisticsguruonline.com/wp-content/uploads/2019/02/positive-and-negative-correlation-definition.png'>\n",
    "</td>\n",
    "\n",
    "<td width='50%'>\n",
    "<img src='https://www.mbaskool.com/2013_images/stories/dec_images/pearson-coeff-bcon.jpg'>\n",
    "</td>"
   ]
  },
  {
   "cell_type": "markdown",
   "id": "0403c810",
   "metadata": {},
   "source": [
    " ### Covariance:\n",
    "        \n",
    "   * Covariance measures the direction of the relationship between two variables."
   ]
  },
  {
   "cell_type": "code",
   "execution_count": 73,
   "id": "d444a7fb",
   "metadata": {},
   "outputs": [
    {
     "data": {
      "text/html": [
       "<div>\n",
       "<style scoped>\n",
       "    .dataframe tbody tr th:only-of-type {\n",
       "        vertical-align: middle;\n",
       "    }\n",
       "\n",
       "    .dataframe tbody tr th {\n",
       "        vertical-align: top;\n",
       "    }\n",
       "\n",
       "    .dataframe thead th {\n",
       "        text-align: right;\n",
       "    }\n",
       "</style>\n",
       "<table border=\"1\" class=\"dataframe\">\n",
       "  <thead>\n",
       "    <tr style=\"text-align: right;\">\n",
       "      <th></th>\n",
       "      <th>target</th>\n",
       "      <th>number of character</th>\n",
       "      <th>num sentence</th>\n",
       "      <th>num word</th>\n",
       "    </tr>\n",
       "  </thead>\n",
       "  <tbody>\n",
       "    <tr>\n",
       "      <th>target</th>\n",
       "      <td>1.000000</td>\n",
       "      <td>0.384717</td>\n",
       "      <td>0.267602</td>\n",
       "      <td>0.262969</td>\n",
       "    </tr>\n",
       "    <tr>\n",
       "      <th>number of character</th>\n",
       "      <td>0.384717</td>\n",
       "      <td>1.000000</td>\n",
       "      <td>0.626118</td>\n",
       "      <td>0.965784</td>\n",
       "    </tr>\n",
       "    <tr>\n",
       "      <th>num sentence</th>\n",
       "      <td>0.267602</td>\n",
       "      <td>0.626118</td>\n",
       "      <td>1.000000</td>\n",
       "      <td>0.680882</td>\n",
       "    </tr>\n",
       "    <tr>\n",
       "      <th>num word</th>\n",
       "      <td>0.262969</td>\n",
       "      <td>0.965784</td>\n",
       "      <td>0.680882</td>\n",
       "      <td>1.000000</td>\n",
       "    </tr>\n",
       "  </tbody>\n",
       "</table>\n",
       "</div>"
      ],
      "text/plain": [
       "                       target  number of character  num sentence  num word\n",
       "target               1.000000             0.384717      0.267602  0.262969\n",
       "number of character  0.384717             1.000000      0.626118  0.965784\n",
       "num sentence         0.267602             0.626118      1.000000  0.680882\n",
       "num word             0.262969             0.965784      0.680882  1.000000"
      ]
     },
     "execution_count": 73,
     "metadata": {},
     "output_type": "execute_result"
    }
   ],
   "source": [
    "spam_data.corr()"
   ]
  },
  {
   "cell_type": "code",
   "execution_count": 74,
   "id": "11801920",
   "metadata": {},
   "outputs": [
    {
     "data": {
      "text/plain": [
       "0.2629691258780235"
      ]
     },
     "execution_count": 74,
     "metadata": {},
     "output_type": "execute_result"
    }
   ],
   "source": [
    "spam_data['target'].corr(spam_data['num word'])"
   ]
  },
  {
   "cell_type": "code",
   "execution_count": 75,
   "id": "5643de6a",
   "metadata": {},
   "outputs": [
    {
     "data": {
      "text/plain": [
       "<AxesSubplot:>"
      ]
     },
     "execution_count": 75,
     "metadata": {},
     "output_type": "execute_result"
    },
    {
     "data": {
      "image/png": "[encoded data removed]",
      "text/plain": [
       "<Figure size 432x288 with 2 Axes>"
      ]
     },
     "metadata": {
      "needs_background": "light"
     },
     "output_type": "display_data"
    }
   ],
   "source": [
    "sns.heatmap(spam_data.corr(), annot=True)"
   ]
  },
  {
   "cell_type": "markdown",
   "id": "5af855af",
   "metadata": {},
   "source": [
    "# Data shouldn't have Multi-collinearity:"
   ]
  },
  {
   "cell_type": "markdown",
   "id": "1bf302d8",
   "metadata": {},
   "source": [
    "<td width='50%'>\n",
    "<img src='https://cdn.wallstreetmojo.com/wp-content/uploads/2019/08/Multicollinearity.jpg'>\n",
    "</td>\n",
    "\n",
    "<td width='50%'>\n",
    "<img src='https://miro.medium.com/max/574/1*IjOfE2673aO55FD5x88OFQ.png'>\n",
    "</td>"
   ]
  },
  {
   "cell_type": "markdown",
   "id": "dcb15edf",
   "metadata": {},
   "source": [
    "<td width='50%'>\n",
    "<img src='https://cdn.wallstreetmojo.com/wp-content/uploads/2019/08/what-is-Multicollinearity.png'>\n",
    "</td>\n",
    "\n",
    "<td width='50%'>\n",
    "<img src='https://datatab.net/assets/tutorial/Multicollinearity.png'>\n",
    "</td>"
   ]
  },
  {
   "cell_type": "markdown",
   "id": "70ea037f",
   "metadata": {},
   "source": [
    "# Data Preprocessing:\n",
    "\n",
    "   * Converting all text in lower case!\n",
    "   * Using the concept of Tokenization!\n",
    "   * Removing all special characters!\n",
    "   * Removing all stop-words punctuation!\n",
    "   * Applying stemming on it!\n"
   ]
  },
  {
   "cell_type": "markdown",
   "id": "37ddb964",
   "metadata": {},
   "source": [
    "### What are examples of stop words?\n",
    "\n",
    "<img src='https://kavita-ganesan.com/wp-content/uploads/Understanding-Stop-Words-1.png'>\n",
    "\n",
    "Stop words are a set of commonly used words in a language. Examples of stop words in English are “a”, “the”, “is”, “are” and etc. Stop words are commonly used in Text Mining and Natural Language Processing (NLP) to eliminate words that are so commonly used that they carry very little useful information."
   ]
  },
  {
   "cell_type": "code",
   "execution_count": 76,
   "id": "856b1c21",
   "metadata": {},
   "outputs": [
    {
     "name": "stderr",
     "output_type": "stream",
     "text": [
      "[nltk_data] Downloading package stopwords to\n",
      "[nltk_data]     C:\\Users\\Lab02R03Pc19\\AppData\\Roaming\\nltk_data...\n",
      "[nltk_data]   Package stopwords is already up-to-date!\n"
     ]
    }
   ],
   "source": [
    "import nltk\n",
    "nltk.download('stopwords')\n",
    "from nltk.corpus import stopwords"
   ]
  },
  {
   "cell_type": "code",
   "execution_count": 77,
   "id": "2b28daaa",
   "metadata": {},
   "outputs": [],
   "source": [
    "stopwords = stopwords.words('english')"
   ]
  },
  {
   "cell_type": "code",
   "execution_count": 78,
   "id": "213811ee",
   "metadata": {},
   "outputs": [
    {
     "data": {
      "text/plain": [
       "['i',\n",
       " 'me',\n",
       " 'my',\n",
       " 'myself',\n",
       " 'we',\n",
       " 'our',\n",
       " 'ours',\n",
       " 'ourselves',\n",
       " 'you',\n",
       " \"you're\",\n",
       " \"you've\",\n",
       " \"you'll\",\n",
       " \"you'd\",\n",
       " 'your',\n",
       " 'yours',\n",
       " 'yourself',\n",
       " 'yourselves',\n",
       " 'he',\n",
       " 'him',\n",
       " 'his',\n",
       " 'himself',\n",
       " 'she',\n",
       " \"she's\",\n",
       " 'her',\n",
       " 'hers',\n",
       " 'herself',\n",
       " 'it',\n",
       " \"it's\",\n",
       " 'its',\n",
       " 'itself',\n",
       " 'they',\n",
       " 'them',\n",
       " 'their',\n",
       " 'theirs',\n",
       " 'themselves',\n",
       " 'what',\n",
       " 'which',\n",
       " 'who',\n",
       " 'whom',\n",
       " 'this',\n",
       " 'that',\n",
       " \"that'll\",\n",
       " 'these',\n",
       " 'those',\n",
       " 'am',\n",
       " 'is',\n",
       " 'are',\n",
       " 'was',\n",
       " 'were',\n",
       " 'be',\n",
       " 'been',\n",
       " 'being',\n",
       " 'have',\n",
       " 'has',\n",
       " 'had',\n",
       " 'having',\n",
       " 'do',\n",
       " 'does',\n",
       " 'did',\n",
       " 'doing',\n",
       " 'a',\n",
       " 'an',\n",
       " 'the',\n",
       " 'and',\n",
       " 'but',\n",
       " 'if',\n",
       " 'or',\n",
       " 'because',\n",
       " 'as',\n",
       " 'until',\n",
       " 'while',\n",
       " 'of',\n",
       " 'at',\n",
       " 'by',\n",
       " 'for',\n",
       " 'with',\n",
       " 'about',\n",
       " 'against',\n",
       " 'between',\n",
       " 'into',\n",
       " 'through',\n",
       " 'during',\n",
       " 'before',\n",
       " 'after',\n",
       " 'above',\n",
       " 'below',\n",
       " 'to',\n",
       " 'from',\n",
       " 'up',\n",
       " 'down',\n",
       " 'in',\n",
       " 'out',\n",
       " 'on',\n",
       " 'off',\n",
       " 'over',\n",
       " 'under',\n",
       " 'again',\n",
       " 'further',\n",
       " 'then',\n",
       " 'once',\n",
       " 'here',\n",
       " 'there',\n",
       " 'when',\n",
       " 'where',\n",
       " 'why',\n",
       " 'how',\n",
       " 'all',\n",
       " 'any',\n",
       " 'both',\n",
       " 'each',\n",
       " 'few',\n",
       " 'more',\n",
       " 'most',\n",
       " 'other',\n",
       " 'some',\n",
       " 'such',\n",
       " 'no',\n",
       " 'nor',\n",
       " 'not',\n",
       " 'only',\n",
       " 'own',\n",
       " 'same',\n",
       " 'so',\n",
       " 'than',\n",
       " 'too',\n",
       " 'very',\n",
       " 's',\n",
       " 't',\n",
       " 'can',\n",
       " 'will',\n",
       " 'just',\n",
       " 'don',\n",
       " \"don't\",\n",
       " 'should',\n",
       " \"should've\",\n",
       " 'now',\n",
       " 'd',\n",
       " 'll',\n",
       " 'm',\n",
       " 'o',\n",
       " 're',\n",
       " 've',\n",
       " 'y',\n",
       " 'ain',\n",
       " 'aren',\n",
       " \"aren't\",\n",
       " 'couldn',\n",
       " \"couldn't\",\n",
       " 'didn',\n",
       " \"didn't\",\n",
       " 'doesn',\n",
       " \"doesn't\",\n",
       " 'hadn',\n",
       " \"hadn't\",\n",
       " 'hasn',\n",
       " \"hasn't\",\n",
       " 'haven',\n",
       " \"haven't\",\n",
       " 'isn',\n",
       " \"isn't\",\n",
       " 'ma',\n",
       " 'mightn',\n",
       " \"mightn't\",\n",
       " 'mustn',\n",
       " \"mustn't\",\n",
       " 'needn',\n",
       " \"needn't\",\n",
       " 'shan',\n",
       " \"shan't\",\n",
       " 'shouldn',\n",
       " \"shouldn't\",\n",
       " 'wasn',\n",
       " \"wasn't\",\n",
       " 'weren',\n",
       " \"weren't\",\n",
       " 'won',\n",
       " \"won't\",\n",
       " 'wouldn',\n",
       " \"wouldn't\"]"
      ]
     },
     "execution_count": 78,
     "metadata": {},
     "output_type": "execute_result"
    }
   ],
   "source": [
    "stopwords"
   ]
  },
  {
   "cell_type": "code",
   "execution_count": 79,
   "id": "5943ac00",
   "metadata": {},
   "outputs": [],
   "source": [
    "import string"
   ]
  },
  {
   "cell_type": "code",
   "execution_count": 80,
   "id": "a12004c0",
   "metadata": {},
   "outputs": [],
   "source": [
    "punctuation = string.punctuation"
   ]
  },
  {
   "cell_type": "code",
   "execution_count": 81,
   "id": "adf4aa78",
   "metadata": {},
   "outputs": [
    {
     "data": {
      "text/plain": [
       "'!\"#$%&\\'()*+,-./:;<=>?@[\\\\]^_`{|}~'"
      ]
     },
     "execution_count": 81,
     "metadata": {},
     "output_type": "execute_result"
    }
   ],
   "source": [
    "punctuation"
   ]
  },
  {
   "cell_type": "markdown",
   "id": "d4a22c2f",
   "metadata": {},
   "source": [
    "### Stemming:\n",
    "\n",
    "Stemming is the process of reducing a word to its word stem that affixes to suffixes and prefixes or to the roots of words known as a lemma. Stemming is important in natural language understanding (NLU) and natural language processing (NLP)."
   ]
  },
  {
   "cell_type": "markdown",
   "id": "2e943b8b",
   "metadata": {},
   "source": [
    "<td width='33%'>\n",
    "<img src='https://i.ytimg.com/vi/p1ccbR2P_xA/maxresdefault.jpg'>\n",
    "</ td>\n",
    "\n",
    "\n",
    "<td width='33%'>\n",
    "<img src='https://d2mk45aasx86xg.cloudfront.net/difference_between_Stemming_and_lemmatization_8_11zon_452539721d.webp'>\n",
    "</ td>"
   ]
  },
  {
   "cell_type": "markdown",
   "id": "48c8c9e6",
   "metadata": {},
   "source": [
    "<a href='https://www.questionpro.com/blog/pearson-correlation-coefficient/'>Pearson correlation coefficient:</a>\n",
    "\n",
    "<a href='https://daringfireball.net/projects/markdown/syntax#html'>Markdown: Syntax :</a>\n",
    "\n",
    "<a href='https://ppt-online.org/456926'> Into to NLP & NLTK PDF:</a>"
   ]
  },
  {
   "cell_type": "code",
   "execution_count": 82,
   "id": "6ee97b15",
   "metadata": {},
   "outputs": [],
   "source": [
    "# stemming:\n",
    "\n",
    "from nltk.stem.porter import PorterStemmer"
   ]
  },
  {
   "cell_type": "code",
   "execution_count": 83,
   "id": "3c98c628",
   "metadata": {},
   "outputs": [],
   "source": [
    "ps = PorterStemmer()"
   ]
  },
  {
   "cell_type": "code",
   "execution_count": 84,
   "id": "4c051e39",
   "metadata": {},
   "outputs": [
    {
     "data": {
      "text/plain": [
       "'beauti'"
      ]
     },
     "execution_count": 84,
     "metadata": {},
     "output_type": "execute_result"
    }
   ],
   "source": [
    "ps.stem('beautiful')"
   ]
  },
  {
   "cell_type": "code",
   "execution_count": 85,
   "id": "92a81698",
   "metadata": {},
   "outputs": [
    {
     "data": {
      "text/plain": [
       "'clean'"
      ]
     },
     "execution_count": 85,
     "metadata": {},
     "output_type": "execute_result"
    }
   ],
   "source": [
    "ps.stem('cleaning')"
   ]
  },
  {
   "cell_type": "code",
   "execution_count": 86,
   "id": "bdd480aa",
   "metadata": {},
   "outputs": [],
   "source": [
    "def text_transformer(text):\n",
    "   # 1. Converting all text in lower case!\n",
    "    text = text.lower()\n",
    "   # 2.  Using the concept of Tokenization!\n",
    "    y  = []\n",
    "    text = nltk.word_tokenize(text)\n",
    "    for i in text:\n",
    "        if i.isalnum():\n",
    "            y.append(i)\n",
    "    text = y[:]\n",
    "    y.clear()\n",
    "\n",
    "   # 3.  Removing all special characters!\n",
    "   # 4. Removing all stop-words punctuation!\n",
    "    \n",
    "    for i in text:\n",
    "        if (i not in punctuation) & (i not in stopwords):\n",
    "            y.append(i)\n",
    "    text = y[:]\n",
    "    y.clear()\n",
    "    \n",
    "    # 5. Apply stemming!\n",
    "    \n",
    "    for i in text:\n",
    "        y.append(ps.stem(i))\n",
    "    return ' '.join(y)"
   ]
  },
  {
   "cell_type": "code",
   "execution_count": 87,
   "id": "6254e484",
   "metadata": {},
   "outputs": [
    {
     "data": {
      "text/plain": [
       "'hi name abdullah'"
      ]
     },
     "execution_count": 87,
     "metadata": {},
     "output_type": "execute_result"
    }
   ],
   "source": [
    "text_transformer('Hi, My name is Abdullah!')"
   ]
  },
  {
   "cell_type": "code",
   "execution_count": 88,
   "id": "dee0a5d7",
   "metadata": {},
   "outputs": [],
   "source": [
    "spam_data['transformed_text'] = spam_data.text.apply(text_transformer)"
   ]
  },
  {
   "cell_type": "code",
   "execution_count": 89,
   "id": "4d7197c6",
   "metadata": {},
   "outputs": [
    {
     "data": {
      "text/html": [
       "<div>\n",
       "<style scoped>\n",
       "    .dataframe tbody tr th:only-of-type {\n",
       "        vertical-align: middle;\n",
       "    }\n",
       "\n",
       "    .dataframe tbody tr th {\n",
       "        vertical-align: top;\n",
       "    }\n",
       "\n",
       "    .dataframe thead th {\n",
       "        text-align: right;\n",
       "    }\n",
       "</style>\n",
       "<table border=\"1\" class=\"dataframe\">\n",
       "  <thead>\n",
       "    <tr style=\"text-align: right;\">\n",
       "      <th></th>\n",
       "      <th>target</th>\n",
       "      <th>text</th>\n",
       "      <th>number of character</th>\n",
       "      <th>num sentence</th>\n",
       "      <th>num word</th>\n",
       "      <th>transformed_text</th>\n",
       "    </tr>\n",
       "  </thead>\n",
       "  <tbody>\n",
       "    <tr>\n",
       "      <th>4029</th>\n",
       "      <td>0</td>\n",
       "      <td>Cool, I'll text you in a few</td>\n",
       "      <td>28</td>\n",
       "      <td>1</td>\n",
       "      <td>9</td>\n",
       "      <td>cool text</td>\n",
       "    </tr>\n",
       "    <tr>\n",
       "      <th>3709</th>\n",
       "      <td>0</td>\n",
       "      <td>ARE YOU IN TOWN? THIS IS V. IMPORTANT</td>\n",
       "      <td>37</td>\n",
       "      <td>2</td>\n",
       "      <td>9</td>\n",
       "      <td>town import</td>\n",
       "    </tr>\n",
       "    <tr>\n",
       "      <th>4889</th>\n",
       "      <td>0</td>\n",
       "      <td>Sounds like there could be a lot of time spent...</td>\n",
       "      <td>171</td>\n",
       "      <td>2</td>\n",
       "      <td>39</td>\n",
       "      <td>sound like could lot time spent chastiti devic...</td>\n",
       "    </tr>\n",
       "  </tbody>\n",
       "</table>\n",
       "</div>"
      ],
      "text/plain": [
       "      target                                               text  \\\n",
       "4029       0                       Cool, I'll text you in a few   \n",
       "3709       0              ARE YOU IN TOWN? THIS IS V. IMPORTANT   \n",
       "4889       0  Sounds like there could be a lot of time spent...   \n",
       "\n",
       "      number of character  num sentence  num word  \\\n",
       "4029                   28             1         9   \n",
       "3709                   37             2         9   \n",
       "4889                  171             2        39   \n",
       "\n",
       "                                       transformed_text  \n",
       "4029                                          cool text  \n",
       "3709                                        town import  \n",
       "4889  sound like could lot time spent chastiti devic...  "
      ]
     },
     "execution_count": 89,
     "metadata": {},
     "output_type": "execute_result"
    }
   ],
   "source": [
    "spam_data.sample(3)"
   ]
  },
  {
   "cell_type": "code",
   "execution_count": 90,
   "id": "3f205c67",
   "metadata": {},
   "outputs": [
    {
     "name": "stdout",
     "output_type": "stream",
     "text": [
      "Requirement already satisfied: wordcloud in c:\\programdata\\anaconda3\\lib\\site-packages (1.8.2.2)\n",
      "Requirement already satisfied: matplotlib in c:\\programdata\\anaconda3\\lib\\site-packages (from wordcloud) (3.4.3)\n",
      "Requirement already satisfied: numpy>=1.6.1 in c:\\programdata\\anaconda3\\lib\\site-packages (from wordcloud) (1.20.3)\n",
      "Requirement already satisfied: pillow in c:\\programdata\\anaconda3\\lib\\site-packages (from wordcloud) (8.4.0)\n",
      "Requirement already satisfied: cycler>=0.10 in c:\\programdata\\anaconda3\\lib\\site-packages (from matplotlib->wordcloud) (0.10.0)\n",
      "Requirement already satisfied: python-dateutil>=2.7 in c:\\programdata\\anaconda3\\lib\\site-packages (from matplotlib->wordcloud) (2.8.2)\n",
      "Requirement already satisfied: kiwisolver>=1.0.1 in c:\\programdata\\anaconda3\\lib\\site-packages (from matplotlib->wordcloud) (1.3.1)\n",
      "Requirement already satisfied: pyparsing>=2.2.1 in c:\\programdata\\anaconda3\\lib\\site-packages (from matplotlib->wordcloud) (3.0.4)\n",
      "Requirement already satisfied: six in c:\\programdata\\anaconda3\\lib\\site-packages (from cycler>=0.10->matplotlib->wordcloud) (1.16.0)\n"
     ]
    }
   ],
   "source": [
    "! pip install wordcloud"
   ]
  },
  {
   "cell_type": "code",
   "execution_count": 91,
   "id": "944d2ccc",
   "metadata": {},
   "outputs": [],
   "source": [
    "import wordcloud"
   ]
  },
  {
   "cell_type": "code",
   "execution_count": 92,
   "id": "37a3aeb0",
   "metadata": {},
   "outputs": [],
   "source": [
    "from wordcloud import WordCloud"
   ]
  },
  {
   "cell_type": "code",
   "execution_count": 93,
   "id": "9b177882",
   "metadata": {},
   "outputs": [],
   "source": [
    "wc = WordCloud(width=800, height=400, min_font_size=10, background_color='black')"
   ]
  },
  {
   "cell_type": "code",
   "execution_count": 94,
   "id": "9967ea80",
   "metadata": {},
   "outputs": [],
   "source": [
    "spam_word_cloud = wc.generate(spam_data[spam_data['target']==1]['transformed_text'].str.cat(sep=' '))"
   ]
  },
  {
   "cell_type": "code",
   "execution_count": 95,
   "id": "c478d3d8",
   "metadata": {},
   "outputs": [
    {
     "data": {
      "text/plain": [
       "<matplotlib.image.AxesImage at 0x1d85383cb20>"
      ]
     },
     "execution_count": 95,
     "metadata": {},
     "output_type": "execute_result"
    },
    {
     "data": {
      "image/png": "[encoded data removed]",
      "text/plain": [
       "<Figure size 1008x720 with 1 Axes>"
      ]
     },
     "metadata": {
      "needs_background": "light"
     },
     "output_type": "display_data"
    }
   ],
   "source": [
    "plt.figure(figsize=(14, 10))\n",
    "plt.imshow(spam_word_cloud)"
   ]
  },
  {
   "cell_type": "code",
   "execution_count": 96,
   "id": "8620854e",
   "metadata": {},
   "outputs": [],
   "source": [
    "# Done"
   ]
  }
 ],
 "metadata": {
  "kernelspec": {
   "display_name": "Python 3 (ipykernel)",
   "language": "python",
   "name": "python3"
  },
  "language_info": {
   "codemirror_mode": {
    "name": "ipython",
    "version": 3
   },
   "file_extension": ".py",
   "mimetype": "text/x-python",
   "name": "python",
   "nbconvert_exporter": "python",
   "pygments_lexer": "ipython3",
   "version": "3.9.7"
  }
 },
 "nbformat": 4,
 "nbformat_minor": 5
}
