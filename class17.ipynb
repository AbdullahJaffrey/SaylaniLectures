{
 "cells": [
  {
   "cell_type": "code",
   "execution_count": 1,
   "id": "66ae263a",
   "metadata": {},
   "outputs": [],
   "source": [
    "# (13-JULY-2022) Wednesday (Make-up class) . Due to Eid-ul-Adha"
   ]
  },
  {
   "cell_type": "markdown",
   "id": "a08d9eb0",
   "metadata": {},
   "source": [
    "In the United States, a \"make-up class\" or a \"make-up session\" or a \"make-up test\" means that these are used to make-up what was missed or what one did poorly on."
   ]
  },
  {
   "cell_type": "markdown",
   "id": "d3590589",
   "metadata": {},
   "source": [
    "# List Slicing:"
   ]
  },
  {
   "cell_type": "code",
   "execution_count": 2,
   "id": "619bd3aa",
   "metadata": {},
   "outputs": [],
   "source": [
    "a = [11,22,33,44,55,66,77,222]"
   ]
  },
  {
   "cell_type": "code",
   "execution_count": 3,
   "id": "e45acce3",
   "metadata": {},
   "outputs": [
    {
     "data": {
      "text/plain": [
       "[11, 22, 33, 44, 55, 66, 77, 222]"
      ]
     },
     "execution_count": 3,
     "metadata": {},
     "output_type": "execute_result"
    }
   ],
   "source": [
    "b   = a[:]\n",
    "b"
   ]
  },
  {
   "cell_type": "markdown",
   "id": "fb988b70",
   "metadata": {},
   "source": [
    "# Overview of Functions:"
   ]
  },
  {
   "cell_type": "code",
   "execution_count": 4,
   "id": "171929fa",
   "metadata": {},
   "outputs": [],
   "source": [
    "magicians_names = [\"David\", \"Albert\", \"wilson\"]"
   ]
  },
  {
   "cell_type": "code",
   "execution_count": 5,
   "id": "120588ef",
   "metadata": {},
   "outputs": [
    {
     "name": "stdout",
     "output_type": "stream",
     "text": [
      "David\n",
      "Albert\n",
      "wilson\n"
     ]
    }
   ],
   "source": [
    "def show_magicians(magicians):\n",
    "    for names in magicians:\n",
    "        print(names)\n",
    "show_magicians(magicians_names)        "
   ]
  },
  {
   "cell_type": "code",
   "execution_count": 6,
   "id": "3d3e9411",
   "metadata": {},
   "outputs": [
    {
     "name": "stdout",
     "output_type": "stream",
     "text": [
      "Great David\n",
      "Great Albert\n",
      "Great wilson\n"
     ]
    }
   ],
   "source": [
    "def great_magicians(magicians):\n",
    "    for i in range(len(magicians)):\n",
    "        magicians_names[i] = \"Great \" + magicians_names[i]\n",
    "great_magicians(magicians_names)\n",
    "show_magicians(magicians_names)"
   ]
  },
  {
   "cell_type": "code",
   "execution_count": 7,
   "id": "baeda57f",
   "metadata": {},
   "outputs": [
    {
     "name": "stdout",
     "output_type": "stream",
     "text": [
      "Great Great David\n",
      "Great Great Albert\n",
      "Great Great wilson\n"
     ]
    },
    {
     "data": {
      "text/plain": [
       "['Great David', 'Great Albert', 'Great wilson']"
      ]
     },
     "execution_count": 7,
     "metadata": {},
     "output_type": "execute_result"
    }
   ],
   "source": [
    "def great_magicians_new(magicians):\n",
    "    for name in magicians:\n",
    "        magicians.insert(0, \"Great \" + magicians.pop())\n",
    "    return magicians\n",
    "great_magicians = great_magicians_new(magicians_names[:])\n",
    "show_magicians(great_magicians)\n",
    "magicians_names"
   ]
  },
  {
   "cell_type": "markdown",
   "id": "ae835143",
   "metadata": {},
   "source": [
    "# Passing an Arbitrary Number of Arguments"
   ]
  },
  {
   "cell_type": "code",
   "execution_count": 8,
   "id": "230e6d23",
   "metadata": {},
   "outputs": [],
   "source": [
    "def A():\n",
    "    print(\" i am function A\")"
   ]
  },
  {
   "cell_type": "code",
   "execution_count": 9,
   "id": "e7a73f63",
   "metadata": {},
   "outputs": [
    {
     "name": "stdout",
     "output_type": "stream",
     "text": [
      " i am function A\n"
     ]
    }
   ],
   "source": [
    "A()"
   ]
  },
  {
   "cell_type": "code",
   "execution_count": 10,
   "id": "5b0833fb",
   "metadata": {},
   "outputs": [],
   "source": [
    "def A(func_name=\"A\"): #defining a default value, if user didn't define an input, it will consider 'A' as a default value.\n",
    "    print(f\" i am function {func_name}\")"
   ]
  },
  {
   "cell_type": "code",
   "execution_count": 11,
   "id": "2787c1f3",
   "metadata": {},
   "outputs": [
    {
     "name": "stdout",
     "output_type": "stream",
     "text": [
      " i am function A\n"
     ]
    }
   ],
   "source": [
    "A()"
   ]
  },
  {
   "cell_type": "code",
   "execution_count": 12,
   "id": "e1a09c5a",
   "metadata": {},
   "outputs": [
    {
     "name": "stdout",
     "output_type": "stream",
     "text": [
      " i am function New Value\n"
     ]
    }
   ],
   "source": [
    "A('New Value')"
   ]
  },
  {
   "cell_type": "code",
   "execution_count": 13,
   "id": "89f27efe",
   "metadata": {},
   "outputs": [],
   "source": [
    "def make_pizza(*toppings): # These arguments (*) or (**) accepts mutliple value at a single time. \n",
    "    for top in toppings:\n",
    "        print(top)"
   ]
  },
  {
   "cell_type": "code",
   "execution_count": 14,
   "id": "061087c9",
   "metadata": {},
   "outputs": [
    {
     "name": "stdout",
     "output_type": "stream",
     "text": [
      "pepperoni\n",
      "mushrooms\n",
      "green peppers\n",
      "extra cheese\n"
     ]
    }
   ],
   "source": [
    "make_pizza('pepperoni')\n",
    "make_pizza('mushrooms', 'green peppers', 'extra cheese')"
   ]
  },
  {
   "cell_type": "code",
   "execution_count": 15,
   "id": "9b45369b",
   "metadata": {},
   "outputs": [],
   "source": [
    "def build_profile(first, last, **user_info):\n",
    "    profile = {}\n",
    "    profile['first_name'] = first\n",
    "    profile['last_name'] = last\n",
    "    for key, value in user_info.items():\n",
    "        profile[key] = value\n",
    "    return profile"
   ]
  },
  {
   "cell_type": "code",
   "execution_count": 16,
   "id": "6653afec",
   "metadata": {},
   "outputs": [],
   "source": [
    "user_profile = build_profile('albert', 'einstein', location='princeton',field='physics')\n"
   ]
  },
  {
   "cell_type": "code",
   "execution_count": 17,
   "id": "276125b0",
   "metadata": {},
   "outputs": [
    {
     "name": "stdout",
     "output_type": "stream",
     "text": [
      "{'first_name': 'albert', 'last_name': 'einstein', 'location': 'princeton', 'field': 'physics'}\n"
     ]
    }
   ],
   "source": [
    "print(user_profile)"
   ]
  },
  {
   "cell_type": "code",
   "execution_count": 18,
   "id": "387ef0ae",
   "metadata": {},
   "outputs": [],
   "source": [
    "#done"
   ]
  }
 ],
 "metadata": {
  "kernelspec": {
   "display_name": "Python 3 (ipykernel)",
   "language": "python",
   "name": "python3"
  },
  "language_info": {
   "codemirror_mode": {
    "name": "ipython",
    "version": 3
   },
   "file_extension": ".py",
   "mimetype": "text/x-python",
   "name": "python",
   "nbconvert_exporter": "python",
   "pygments_lexer": "ipython3",
   "version": "3.9.7"
  }
 },
 "nbformat": 4,
 "nbformat_minor": 5
}
