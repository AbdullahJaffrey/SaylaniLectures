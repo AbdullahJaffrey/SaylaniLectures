{
 "cells": [
  {
   "cell_type": "code",
   "execution_count": 1,
   "id": "d0b6607a",
   "metadata": {},
   "outputs": [],
   "source": [
    "#(03/10/2022) Monday"
   ]
  },
  {
   "cell_type": "markdown",
   "id": "6b644c9a",
   "metadata": {},
   "source": [
    "# Let's Explore:\n",
    "\n",
    "<img src='https://www.bing.com/th?id=ABT05C50555CB4F69333AED3F232E01E07F4D62AF79E9F314D3C87FC450E9120BC9&w=608&h=200&c=2&rs=1&o=6&pid=SANGAM' width=100%>\n",
    "\n",
    "**The Fairy Glen, Scotland:**\n",
    "\n",
    "This lush landscape in the hills above the village of Uig, on the **Isle of Skye in Scotland**, has a name to match its fantastical appearance. With its stepped, conical hills, buttes, lochans (ponds) and copses of gnarled trees, the Fairy Glen is an otherworldly valley created by a series of small landslides. Here on Trotternish, the most northerly peninsula on Skye, the whole landscape is a labyrinth of steep slopes, plateaus and dramatic rock formations, thanks to an ancient landslip which runs for more than 30 kilometres.\n",
    "\n",
    "The Fairy Glen is like a miniature version of the much larger Quiraing landslip further up the peninsula and is a popular spot with photographers. These days, the concentric circles and spirals of stones you see here are a bit controversial. They are considered a nuisance created by tourists, and locals will remove them, preferring to keep the glen as nature intended. The flat basalt-topped hill in the middle of our image is known as Castle Ewan, for reasons unknown. It is not a ruined castle, but does offer great all-round views of this magical place, sculpted by landslides, glacial movement and erosion (or as a bridge between our world and the fairy world, depending on what you believe)."
   ]
  },
  {
   "cell_type": "code",
   "execution_count": 2,
   "id": "41b22b36",
   "metadata": {},
   "outputs": [],
   "source": [
    "#Class Starts from here:"
   ]
  },
  {
   "cell_type": "markdown",
   "id": "16bc640f",
   "metadata": {},
   "source": [
    "**What Is <a href='https://www.investopedia.com/terms/h/hypothesistesting.asp'> Hypothesis Testing </a> ?** \n",
    "\n",
    "\n",
    "    Hypothesis testing is an act in statistics whereby an analyst tests an assumption regarding a population parameter. The methodology employed by the analyst depends on the nature of the data used and the reason for the analysis.\n"
   ]
  },
  {
   "cell_type": "markdown",
   "id": "a0dfc51e",
   "metadata": {},
   "source": [
    "<a href='https://www.scribbr.com/statistics/hypothesis-testing/'>  Read more about Hypothesis Testing: </a>"
   ]
  },
  {
   "cell_type": "markdown",
   "id": "59ba33bf",
   "metadata": {},
   "source": [
    "**What Is <a href='https://www.investopedia.com/terms/p/p-value.asp'> P-Value </a> ?** \n",
    "\n",
    "\n",
    "    In statistics, the p-value is the probability of obtaining results at least as extreme as the observed results of a statistical hypothesis test, assuming that the null hypothesis is correct. The p-value serves as an alternative to rejection points to provide the smallest level of significance at which the null hypothesis would be rejected. A smaller p-value means that there is stronger evidence in favor of the alternative hypothesis.\n"
   ]
  },
  {
   "cell_type": "markdown",
   "id": "628efc86",
   "metadata": {},
   "source": [
    "<a href='https://videos-cloudflare.jwpsrv.com/633b239e_c3e9fcc9d0dbf412041b3001286b4b5de0d84316/content/conversions/hmUZMORz/videos/Pig5zeSQ-27450849.mp4'> Watch the Video! </a>"
   ]
  },
  {
   "cell_type": "markdown",
   "id": "9f5a5ec7",
   "metadata": {},
   "source": [
    "<img src='https://upload.wikimedia.org/wikipedia/commons/e/e5/P-valor.gif'>"
   ]
  },
  {
   "cell_type": "markdown",
   "id": "1716e65d",
   "metadata": {},
   "source": [
    "<img src='https://upload.wikimedia.org/wikipedia/commons/5/5b/P-value_vs_SN.gif'>"
   ]
  },
  {
   "cell_type": "markdown",
   "id": "05e97179",
   "metadata": {},
   "source": [
    "<img src='https://findthepvalue.com/images/pvalue.gif' width= 50%>\n",
    "<img src='http://www.pwills.com/assets/images/p-val.gif' width= 50%>"
   ]
  },
  {
   "cell_type": "markdown",
   "id": "e445cd40",
   "metadata": {},
   "source": [
    "<img src='https://i.ytimg.com/vi/tef9eqI2SVY/maxresdefault.jpg' width= 50%>"
   ]
  },
  {
   "cell_type": "markdown",
   "id": "2028aca1",
   "metadata": {},
   "source": [
    "<a href='https://www.youtube.com/watch?v=tef9eqI2SVY'> Here's the video of above image </a>"
   ]
  },
  {
   "cell_type": "markdown",
   "id": "8c0dd236",
   "metadata": {},
   "source": [
    "<a href='https://www.statskingdom.com/z_table.html'> Z-Score table </a>"
   ]
  },
  {
   "cell_type": "code",
   "execution_count": 3,
   "id": "0dcea775",
   "metadata": {},
   "outputs": [],
   "source": [
    "#Done"
   ]
  }
 ],
 "metadata": {
  "kernelspec": {
   "display_name": "Python 3 (ipykernel)",
   "language": "python",
   "name": "python3"
  },
  "language_info": {
   "codemirror_mode": {
    "name": "ipython",
    "version": 3
   },
   "file_extension": ".py",
   "mimetype": "text/x-python",
   "name": "python",
   "nbconvert_exporter": "python",
   "pygments_lexer": "ipython3",
   "version": "3.9.7"
  }
 },
 "nbformat": 4,
 "nbformat_minor": 5
}
