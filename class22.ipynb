{
 "cells": [
  {
   "cell_type": "markdown",
   "id": "d1ce7816",
   "metadata": {},
   "source": [
    "*28/07/2022*"
   ]
  },
  {
   "cell_type": "markdown",
   "id": "edd7a973",
   "metadata": {},
   "source": [
    "## Let's Explore"
   ]
  },
  {
   "cell_type": "markdown",
   "id": "16bedf0c",
   "metadata": {},
   "source": [
    "Rocky Mountain National Park:\n",
    "\n",
    "\n",
    "Today we’re in Rocky Mountain National Park, where Longs Peak towers above all other summits at 4,346 metres high. For most of the year, Longs Peak experiences winter-like conditions, so climbing this challenging peak requires mountaineering experience and the correct equipment – and a good amount of bravery, too! Despite the obvious challenge, every year thousands of climbers attempt to reach the summit, and those that succeed are rewarded with top-of-the-world views of Rocky Mountain National Park.\n",
    "\n",
    "Once the home of the Ute and Arapaho peoples, then silver miners and mountain men, today Rocky Mountain National Park teems with outdoor enthusiasts of every stripe. Birdwatchers, bikers and hikers give way to snowshoers, skiers and snowboarders as the seasons change. The park is full of wildlife, including nearly 70 kinds of mammals and almost 300 bird species."
   ]
  },
  {
   "cell_type": "markdown",
   "id": "43c8fa3f",
   "metadata": {},
   "source": [
    "<img src='https://www.outsideonline.com/wp-content/uploads/2020/03/12/gem-lake-and-longs-peak-sunset_h.jpg'>"
   ]
  },
  {
   "cell_type": "markdown",
   "id": "699e97ba",
   "metadata": {},
   "source": [
    "                                              \n",
    "\n",
    "# Inheritance:\n",
    "\n",
    "<img src='https://cdn.programiz.com/sites/tutorial2program/files/cpp-inheritance.png' width=300px>"
   ]
  },
  {
   "cell_type": "markdown",
   "id": "efbdfe76",
   "metadata": {},
   "source": [
    "Assigning all the features of the parent class to child class!\n",
    "\n",
    "The parent class can hold reference to both the parent and child objects. If a parent class variable holds reference of the child class, and the value is present in both the classes, in general, the reference belongs to the parent class variable. "
   ]
  },
  {
   "cell_type": "markdown",
   "id": "699ef870",
   "metadata": {},
   "source": [
    "class ChildClass(ParentClass):"
   ]
  },
  {
   "cell_type": "code",
   "execution_count": 1,
   "id": "03493156",
   "metadata": {},
   "outputs": [],
   "source": [
    "# class Newcar(Car):"
   ]
  },
  {
   "cell_type": "markdown",
   "id": "aec453e6",
   "metadata": {},
   "source": [
    "Inherit Form : We cann't see the code as code automatically added itself init!"
   ]
  },
  {
   "cell_type": "markdown",
   "id": "41fe2f0d",
   "metadata": {},
   "source": [
    "<img src='https://miro.medium.com/max/1400/0*vwBlb23pWzvcArRH.jpg' width=500px>"
   ]
  },
  {
   "cell_type": "code",
   "execution_count": 2,
   "id": "b97416a4",
   "metadata": {},
   "outputs": [],
   "source": [
    "class Human():\n",
    "    \n",
    "    def __init__(self,name,gender,age,height):\n",
    "        self.name = name\n",
    "        self.gender = gender\n",
    "        self.age = age\n",
    "        self.height = height\n",
    "        \n",
    "    def walking(self):\n",
    "        return f\" He can walk way too faster !\"\n",
    "    \n",
    "    def talking(self):\n",
    "        return f\" He might talk !\"\n",
    "        \n",
    "    def ate(self):\n",
    "        return f\" He ate alot!\"\n",
    "    \n",
    "    def sleep(self):\n",
    "        return f'He always takes a nap! '"
   ]
  },
  {
   "cell_type": "code",
   "execution_count": 3,
   "id": "c1be527c",
   "metadata": {},
   "outputs": [],
   "source": [
    "human1 = Human('Noah','Male',2,3)"
   ]
  },
  {
   "cell_type": "code",
   "execution_count": 4,
   "id": "d6174d7d",
   "metadata": {},
   "outputs": [
    {
     "data": {
      "text/plain": [
       "'Noah'"
      ]
     },
     "execution_count": 4,
     "metadata": {},
     "output_type": "execute_result"
    }
   ],
   "source": [
    "human1.name"
   ]
  },
  {
   "cell_type": "code",
   "execution_count": 5,
   "id": "62bbf84b",
   "metadata": {},
   "outputs": [],
   "source": [
    "class Student(Human):\n",
    "    pass"
   ]
  },
  {
   "cell_type": "code",
   "execution_count": 6,
   "id": "cc7d0c65",
   "metadata": {},
   "outputs": [],
   "source": [
    "class Teacher(Human):\n",
    "    pass"
   ]
  },
  {
   "cell_type": "code",
   "execution_count": 7,
   "id": "386f1dd2",
   "metadata": {},
   "outputs": [],
   "source": [
    "class Boss(Human):\n",
    "    pass"
   ]
  },
  {
   "cell_type": "code",
   "execution_count": 8,
   "id": "64e6d292",
   "metadata": {},
   "outputs": [],
   "source": [
    "class Employee(Human):\n",
    "    pass"
   ]
  },
  {
   "cell_type": "markdown",
   "id": "45d1adbd",
   "metadata": {},
   "source": [
    "# IS-A: \n",
    "\n",
    "If i created a dog class, i now can inherit all features of animal, but i cann't inherit features of tree into it. Even, if the tree functions have lots of features, but it has nothing to do with the dog!"
   ]
  },
  {
   "cell_type": "code",
   "execution_count": 9,
   "id": "a1a01492",
   "metadata": {},
   "outputs": [],
   "source": [
    "employee1 = Employee('Abdullah','Male',22, 6)"
   ]
  },
  {
   "cell_type": "code",
   "execution_count": 10,
   "id": "c4790f15",
   "metadata": {},
   "outputs": [],
   "source": [
    "teacher1 = Teacher('Kashif','Male', 32, 5.7)"
   ]
  },
  {
   "cell_type": "code",
   "execution_count": 11,
   "id": "4d7c6653",
   "metadata": {},
   "outputs": [],
   "source": [
    "# Write 'employee1. ' and Press Tab to check either it has now inherited all the code or not! "
   ]
  },
  {
   "cell_type": "code",
   "execution_count": 12,
   "id": "1ee544ab",
   "metadata": {},
   "outputs": [],
   "source": [
    "class Teacher(Human):\n",
    "    def __init__(self,name,gender,age,height,qualification,rank):\n",
    "        \n",
    "        super().__init__(name,gender,age,height)   \n",
    "        self.qualification = qualification\n",
    "        self.rank = rank\n",
    "        \n",
    "    def teaching(self):\n",
    "        return f\"{self.name} is teaching!\""
   ]
  },
  {
   "cell_type": "code",
   "execution_count": 13,
   "id": "d1f9a387",
   "metadata": {},
   "outputs": [],
   "source": [
    "teacher2 = Teacher('Nasir','Male', 36, 5.8, 'PHD','Lecturer')"
   ]
  },
  {
   "cell_type": "code",
   "execution_count": 14,
   "id": "8584d98b",
   "metadata": {},
   "outputs": [
    {
     "data": {
      "text/plain": [
       "'Nasir is teaching!'"
      ]
     },
     "execution_count": 14,
     "metadata": {},
     "output_type": "execute_result"
    }
   ],
   "source": [
    "teacher2.teaching()"
   ]
  },
  {
   "cell_type": "markdown",
   "id": "f5ce6063",
   "metadata": {},
   "source": [
    "----- New One  -----"
   ]
  },
  {
   "cell_type": "markdown",
   "id": "b399f77c",
   "metadata": {},
   "source": [
    "Defining "
   ]
  },
  {
   "cell_type": "code",
   "execution_count": 15,
   "id": "ba200c3b",
   "metadata": {},
   "outputs": [],
   "source": [
    "class Car():\n",
    " \n",
    "    def __init__(self, make, model, year):\n",
    "        self.make = make\n",
    "        self.model = model\n",
    "        self.year = year\n",
    "        self.odometer_reading = 0\n",
    "\n",
    "    def get_descriptive_name(self):\n",
    "        long_name = str(self.year) + ' ' + self.make + ' ' + self.model\n",
    "        return long_name.title()\n",
    "\n",
    "    def read_odometer(self):\n",
    "        print(\"This car has \" + str(self.odometer_reading) + \" miles on it.\")\n",
    "\n",
    "    def update_odometer(self, mileage):\n",
    "        if mileage >= self.odometer_reading:\n",
    "            self.odometer_reading = mileage\n",
    "        else:\n",
    "            print(\"You can't roll back an odometer!\")\n",
    "\n",
    "    def increment_odometer(self, miles):\n",
    "        self.odometer_reading += miles"
   ]
  },
  {
   "cell_type": "markdown",
   "id": "b783cade",
   "metadata": {},
   "source": [
    "<img src='https://miro.medium.com/max/830/0*No20jN8FWxVYreVq.png' width=500px>"
   ]
  },
  {
   "cell_type": "code",
   "execution_count": 16,
   "id": "347eab98",
   "metadata": {},
   "outputs": [],
   "source": [
    "class ElectricCar(Car):\n",
    "    def __init__(self, make, model, year):\n",
    " \n",
    "        super().__init__(make, model, year)\n",
    "        #super()takes you to the parent class initializer\n",
    "        \n",
    "        self.battery_size = 70\n",
    "        \n",
    "    def batterysize(self):\n",
    "        return f'This Car has a {self.battery_size} kwh-sized battery!'"
   ]
  },
  {
   "cell_type": "code",
   "execution_count": 17,
   "id": "6c3a5e85",
   "metadata": {},
   "outputs": [],
   "source": [
    "newcar1 = ElectricCar('Tesla','New',2022)"
   ]
  },
  {
   "cell_type": "code",
   "execution_count": 18,
   "id": "2375eca0",
   "metadata": {},
   "outputs": [
    {
     "data": {
      "text/plain": [
       "'This Car has a 70 kwh-sized battery!'"
      ]
     },
     "execution_count": 18,
     "metadata": {},
     "output_type": "execute_result"
    }
   ],
   "source": [
    "newcar1.batterysize()"
   ]
  },
  {
   "cell_type": "markdown",
   "id": "957ec279",
   "metadata": {},
   "source": [
    "# Polymorphism:\n",
    "\n",
    "Different Forms!\n",
    "\n",
    "Abhi Student, Class ke baad Human\n",
    "\n",
    "\n",
    "\n",
    "\n",
    "                              Animal Sound >>> Cat Sound or Cow Sound\n",
    "\n",
    "<img src='https://www.guru99.com/images/2/062920_1112_CPolymorphi1.png'>"
   ]
  },
  {
   "cell_type": "markdown",
   "id": "9c8f2aa6",
   "metadata": {},
   "source": [
    "Override = ek hi naam ke function child aur parent mein!\n",
    "\n",
    "Overload = same function name of same class!"
   ]
  },
  {
   "cell_type": "markdown",
   "id": "0193fab8",
   "metadata": {},
   "source": [
    "# Instance as Attribute:\n",
    "    \n",
    "If we created a mutliple functionalities in a single class along with the same name functions, we'll end up ourself in a big trouble."
   ]
  },
  {
   "cell_type": "markdown",
   "id": "6467739a",
   "metadata": {},
   "source": [
    "<img src = 'https://compilergcc.files.wordpress.com/2020/06/maxresdefault.jpg' width=500px>"
   ]
  },
  {
   "cell_type": "markdown",
   "id": "547db124",
   "metadata": {},
   "source": [
    "<img src='https://miro.medium.com/max/908/1*wNhGhXHj9JBOVhGfXJcs6g.png' width=500px>"
   ]
  },
  {
   "cell_type": "code",
   "execution_count": 19,
   "id": "5dec8e76",
   "metadata": {},
   "outputs": [],
   "source": [
    "#Done"
   ]
  }
 ],
 "metadata": {
  "kernelspec": {
   "display_name": "Python 3 (ipykernel)",
   "language": "python",
   "name": "python3"
  },
  "language_info": {
   "codemirror_mode": {
    "name": "ipython",
    "version": 3
   },
   "file_extension": ".py",
   "mimetype": "text/x-python",
   "name": "python",
   "nbconvert_exporter": "python",
   "pygments_lexer": "ipython3",
   "version": "3.9.7"
  }
 },
 "nbformat": 4,
 "nbformat_minor": 5
}
