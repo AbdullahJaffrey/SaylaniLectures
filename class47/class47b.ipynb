{
 "cells": [
  {
   "cell_type": "markdown",
   "id": "16a05182",
   "metadata": {},
   "source": [
    "# Supervised learning and Unsupervised learning:\n",
    "\n",
    "<img src='https://assets-global.website-files.com/5d7b77b063a9066d83e1209c/6158dd5a5c04109f63363e0a_67KbBrP_mJMkcaOsEOlrk5eedzXJolEg5wkJX8nQLiarNAClBP0q5XncPyQM7jyoGKUGsc_onAJnBkVDfEkKVWIFNuZYZmaWq1hkP1fIQwX4nQMoDulaNYCkJvVgHr6IZOYdc5rv%3Ds0.png'>\n",
    "\n",
    "<img src=\"https://miro.medium.com/max/1400/0*p3zNp9D8YFmX32am.jpg\">"
   ]
  },
  {
   "cell_type": "markdown",
   "id": "6ac0e4f2",
   "metadata": {},
   "source": [
    "<img src='https://assets-global.website-files.com/5d7b77b063a9066d83e1209c/6158dd5a9eb8a3708b09ee09_3H_KVVErj5hhg3x-6GhSIV7bGYANnhCRyu8LIMmc1179ccxk0B2ZTohkg5o9F8sLioBfeAdVzIJ_H-gsy9jJd5kkLecm6kR6abq5PVA363yILJaF5C7ugbxH0Qye1wYm4aYK0NOR%3Ds0.png'>"
   ]
  },
  {
   "cell_type": "markdown",
   "id": "2f3b3af7",
   "metadata": {},
   "source": [
    "<img src='https://blogs.nvidia.com/wp-content/uploads/2018/07/Supervised_machine_learning_in_a_nutshell.svg_.png'>"
   ]
  },
  {
   "cell_type": "markdown",
   "id": "c021b4d3",
   "metadata": {},
   "source": [
    "<img src='https://miro.medium.com/max/1400/1*_YfYURermogYfTxYUEhXNA.jpeg'>"
   ]
  },
  {
   "cell_type": "markdown",
   "id": "577c9e35",
   "metadata": {},
   "source": [
    "<img src='ML.png'>"
   ]
  },
  {
   "cell_type": "markdown",
   "id": "b2846181",
   "metadata": {},
   "source": [
    "<img src='CrossValidation.png'>"
   ]
  },
  {
   "cell_type": "markdown",
   "id": "1138db68",
   "metadata": {},
   "source": [
    "<img src='https://i0.wp.com/analyticsarora.com/wp-content/uploads/2022/02/performance-metrics-for-machine-learning-interview-questions.png?resize=800%2C600&ssl=1'>"
   ]
  },
  {
   "cell_type": "markdown",
   "id": "69ab9c02",
   "metadata": {},
   "source": [
    "# Confusion Matrix:\n",
    "\n",
    "<a href='https://medium.com/@MohammedS/performance-metrics-for-classification-problems-in-machine-learning-part-i-b085d432082b'> Learn this </a>\n",
    "\n",
    "<img src='https://miro.medium.com/max/1380/1*0exdQRxrXQgIBZdPFIxbTw.png'>"
   ]
  },
  {
   "cell_type": "markdown",
   "id": "9cf2b753",
   "metadata": {},
   "source": [
    "$$ Accuracy = {TP + TN \\over TP+FP+FN+TN} $$\n",
    "\n",
    "-------\n",
    "$$ Precision = {TP \\over TP+FP} $$\n",
    "\n",
    "------\n",
    "\n",
    "$$ Recall = {TP \\over TP+FN} $$"
   ]
  },
  {
   "cell_type": "markdown",
   "id": "0efcfd9e",
   "metadata": {},
   "source": [
    "<img src='https://www.altexsoft.com/media/2022/06/word-image-30.png'>"
   ]
  },
  {
   "cell_type": "markdown",
   "id": "4b5e22b0",
   "metadata": {},
   "source": [
    "<img src='https://miro.medium.com/max/996/1*NqyfUulLY64ntW-mmK3SkA.png'>"
   ]
  },
  {
   "cell_type": "markdown",
   "id": "50f793e7",
   "metadata": {},
   "source": [
    "<img src='https://research.aimultiple.com/wp-content/uploads/2019/07/positive-negative-true-false-matrix.png'>"
   ]
  },
  {
   "cell_type": "markdown",
   "id": "481db0ac",
   "metadata": {},
   "source": [
    "<img src='https://pbs.twimg.com/media/Eb0_4a2WkAAG48l.jpg'>"
   ]
  },
  {
   "cell_type": "markdown",
   "id": "cc2367c5",
   "metadata": {},
   "source": [
    "<a href='https://github.com/adam-p/markdown-here/wiki/Markdown-Cheatsheet#code'>Learn Markdown Language</a>\n",
    "###### In[First]:\n",
    "```python\n",
    "print \"Done\"\n",
    "```\n",
    "\n",
    "###### Out[End]:\n",
    "    Done"
   ]
  }
 ],
 "metadata": {
  "kernelspec": {
   "display_name": "Python 3 (ipykernel)",
   "language": "python",
   "name": "python3"
  },
  "language_info": {
   "codemirror_mode": {
    "name": "ipython",
    "version": 3
   },
   "file_extension": ".py",
   "mimetype": "text/x-python",
   "name": "python",
   "nbconvert_exporter": "python",
   "pygments_lexer": "ipython3",
   "version": "3.9.7"
  }
 },
 "nbformat": 4,
 "nbformat_minor": 5
}
