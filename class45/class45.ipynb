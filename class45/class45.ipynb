{
 "cells": [
  {
   "cell_type": "code",
   "execution_count": 1,
   "id": "bb97dc3c",
   "metadata": {},
   "outputs": [],
   "source": [
    "# (31/10/2022) Monday"
   ]
  },
  {
   "cell_type": "markdown",
   "id": "6e387a12",
   "metadata": {},
   "source": [
    "# Let's Explore:\n",
    "\n",
    "<img src=\"https://i.pinimg.com/originals/39/ee/da/39eedadcaa377486eebc0ed3555dae83.jpg\">\n",
    "<img src=\"https://www.timetravelturtle.com/wp-content/uploads/2013/11/Germany-2013-41_feat.jpg\">\n",
    "\n",
    "**Hohenzollern Castle, Germany:**\n",
    "\n",
    "If you want to enjoy this wonderful panorama, you have to take a trip to Baden-Württemberg, more precisely to the Swabian Alps. Here you’ll find the imposing 855-metre-high Mount Hohenzollern, on the summit of which a castle of the same name is enthroned, one of the most beautiful and most visited fortifications in Europe.\n",
    "\n",
    "The castle is the ancestral seat of the Hohenzollerns, the once-ruling Prussian royal and German imperial house. Two medieval castles once stood on this site, before being destroyed or falling into disrepair over the centuries, but the fortress in today’s image was rebuilt between 1850 and 1867.\n",
    "\n",
    "Hohenzollern Castle is privately owned but open to the public. With over 300,000 visitors annually, it is one of the main tourist attractions of the federal state of Baden-Württemberg. Due to its exposed location, it offers a breathtaking panoramic view with up to 100 kilometres of distant landscapes in clear weather."
   ]
  },
  {
   "cell_type": "code",
   "execution_count": 2,
   "id": "90b6ebf7",
   "metadata": {},
   "outputs": [],
   "source": [
    "import numpy as np\n",
    "import pandas as pd\n",
    "import matplotlib.pyplot as plt\n",
    "%matplotlib inline\n",
    "import seaborn as sns\n",
    "# import nltk as nl\n",
    "from sklearn.preprocessing import LabelEncoder\n",
    "# nl.download('stopwords')\n",
    "# from nltk.corpus import stopwords\n",
    "# from nltk.stem.porter import PorterStemmer\n",
    "# from wordcloud import WordCloud\n",
    "# from collections import Counter\n",
    "# import ast"
   ]
  },
  {
   "cell_type": "code",
   "execution_count": 3,
   "id": "d8800dfb",
   "metadata": {},
   "outputs": [],
   "source": [
    "df = pd.read_csv('Heigth&Weight.csv')"
   ]
  },
  {
   "cell_type": "code",
   "execution_count": 4,
   "id": "fb36f1f2",
   "metadata": {},
   "outputs": [
    {
     "data": {
      "text/html": [
       "<div>\n",
       "<style scoped>\n",
       "    .dataframe tbody tr th:only-of-type {\n",
       "        vertical-align: middle;\n",
       "    }\n",
       "\n",
       "    .dataframe tbody tr th {\n",
       "        vertical-align: top;\n",
       "    }\n",
       "\n",
       "    .dataframe thead th {\n",
       "        text-align: right;\n",
       "    }\n",
       "</style>\n",
       "<table border=\"1\" class=\"dataframe\">\n",
       "  <thead>\n",
       "    <tr style=\"text-align: right;\">\n",
       "      <th></th>\n",
       "      <th>Gender</th>\n",
       "      <th>Height</th>\n",
       "      <th>Weight</th>\n",
       "    </tr>\n",
       "  </thead>\n",
       "  <tbody>\n",
       "    <tr>\n",
       "      <th>7142</th>\n",
       "      <td>Female</td>\n",
       "      <td>61.278813</td>\n",
       "      <td>135.081159</td>\n",
       "    </tr>\n",
       "    <tr>\n",
       "      <th>6100</th>\n",
       "      <td>Female</td>\n",
       "      <td>62.375418</td>\n",
       "      <td>134.870906</td>\n",
       "    </tr>\n",
       "    <tr>\n",
       "      <th>2669</th>\n",
       "      <td>Male</td>\n",
       "      <td>67.718393</td>\n",
       "      <td>182.361397</td>\n",
       "    </tr>\n",
       "  </tbody>\n",
       "</table>\n",
       "</div>"
      ],
      "text/plain": [
       "      Gender     Height      Weight\n",
       "7142  Female  61.278813  135.081159\n",
       "6100  Female  62.375418  134.870906\n",
       "2669    Male  67.718393  182.361397"
      ]
     },
     "execution_count": 4,
     "metadata": {},
     "output_type": "execute_result"
    }
   ],
   "source": [
    "df.sample(3)"
   ]
  },
  {
   "cell_type": "markdown",
   "id": "568fcffd",
   "metadata": {},
   "source": [
    "## Mean Squared Error  or Root Mean Error:\n",
    "\n",
    "The Mean Squared Error measures how close a regression line is to a set of data points.\n",
    "\n",
    "<img src='https://www.gstatic.com/education/formulas2/472522532/en/mean_squared_error.svg'>"
   ]
  },
  {
   "cell_type": "markdown",
   "id": "73d3f656",
   "metadata": {},
   "source": [
    "<a href='https://www.freecodecamp.org/news/machine-learning-mean-squared-error-regression-line-c7dde9a26b93/'> Machine learning: an introduction to mean squared error and regression lines </a>"
   ]
  },
  {
   "cell_type": "markdown",
   "id": "438ceecb",
   "metadata": {},
   "source": [
    "<img src='data:image/png;base64,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'>"
   ]
  },
  {
   "cell_type": "markdown",
   "id": "f02e784d",
   "metadata": {},
   "source": [
    "<table>\n",
    "<td width='500px'>\n",
    "<img src='https://vitalflux.com/wp-content/uploads/2020/09/Regression-terminologies-Page-3.png'>\n",
    "</td>\n",
    "<td width='500px'>\n",
    "<img src='https://images.squarespace-cdn.com/content/v1/5acbdd3a25bf024c12f4c8b4/1600368657769-5BJU5FK86VZ6UXZGRC1M/Mean+Squared+Error.png'>\n",
    "</td>\n",
    "</table>"
   ]
  },
  {
   "cell_type": "code",
   "execution_count": 5,
   "id": "67aabbe6",
   "metadata": {},
   "outputs": [],
   "source": [
    "# Making a linear model:\n",
    "\n",
    "car_data = pd.read_csv('car_data.csv')"
   ]
  },
  {
   "cell_type": "code",
   "execution_count": 6,
   "id": "4e39c830",
   "metadata": {},
   "outputs": [
    {
     "data": {
      "text/html": [
       "<div>\n",
       "<style scoped>\n",
       "    .dataframe tbody tr th:only-of-type {\n",
       "        vertical-align: middle;\n",
       "    }\n",
       "\n",
       "    .dataframe tbody tr th {\n",
       "        vertical-align: top;\n",
       "    }\n",
       "\n",
       "    .dataframe thead th {\n",
       "        text-align: right;\n",
       "    }\n",
       "</style>\n",
       "<table border=\"1\" class=\"dataframe\">\n",
       "  <thead>\n",
       "    <tr style=\"text-align: right;\">\n",
       "      <th></th>\n",
       "      <th>name</th>\n",
       "      <th>company</th>\n",
       "      <th>year</th>\n",
       "      <th>Price</th>\n",
       "      <th>kms_driven</th>\n",
       "      <th>fuel_type</th>\n",
       "    </tr>\n",
       "  </thead>\n",
       "  <tbody>\n",
       "    <tr>\n",
       "      <th>0</th>\n",
       "      <td>Hyundai Santro Xing XO eRLX Euro III</td>\n",
       "      <td>Hyundai</td>\n",
       "      <td>2007</td>\n",
       "      <td>80,000</td>\n",
       "      <td>45,000 kms</td>\n",
       "      <td>Petrol</td>\n",
       "    </tr>\n",
       "    <tr>\n",
       "      <th>1</th>\n",
       "      <td>Mahindra Jeep CL550 MDI</td>\n",
       "      <td>Mahindra</td>\n",
       "      <td>2006</td>\n",
       "      <td>4,25,000</td>\n",
       "      <td>40 kms</td>\n",
       "      <td>Diesel</td>\n",
       "    </tr>\n",
       "    <tr>\n",
       "      <th>2</th>\n",
       "      <td>Maruti Suzuki Alto 800 Vxi</td>\n",
       "      <td>Maruti</td>\n",
       "      <td>2018</td>\n",
       "      <td>Ask For Price</td>\n",
       "      <td>22,000 kms</td>\n",
       "      <td>Petrol</td>\n",
       "    </tr>\n",
       "  </tbody>\n",
       "</table>\n",
       "</div>"
      ],
      "text/plain": [
       "                                   name   company  year          Price  \\\n",
       "0  Hyundai Santro Xing XO eRLX Euro III   Hyundai  2007         80,000   \n",
       "1               Mahindra Jeep CL550 MDI  Mahindra  2006       4,25,000   \n",
       "2            Maruti Suzuki Alto 800 Vxi    Maruti  2018  Ask For Price   \n",
       "\n",
       "   kms_driven fuel_type  \n",
       "0  45,000 kms    Petrol  \n",
       "1      40 kms    Diesel  \n",
       "2  22,000 kms    Petrol  "
      ]
     },
     "execution_count": 6,
     "metadata": {},
     "output_type": "execute_result"
    }
   ],
   "source": [
    "car_data.head(3)"
   ]
  },
  {
   "cell_type": "markdown",
   "id": "03bdbf80",
   "metadata": {},
   "source": [
    "<img src='slope.png'>"
   ]
  },
  {
   "cell_type": "code",
   "execution_count": 7,
   "id": "ebebe423",
   "metadata": {},
   "outputs": [
    {
     "name": "stdout",
     "output_type": "stream",
     "text": [
      "<class 'pandas.core.frame.DataFrame'>\n",
      "RangeIndex: 892 entries, 0 to 891\n",
      "Data columns (total 6 columns):\n",
      " #   Column      Non-Null Count  Dtype \n",
      "---  ------      --------------  ----- \n",
      " 0   name        892 non-null    object\n",
      " 1   company     892 non-null    object\n",
      " 2   year        892 non-null    object\n",
      " 3   Price       892 non-null    object\n",
      " 4   kms_driven  840 non-null    object\n",
      " 5   fuel_type   837 non-null    object\n",
      "dtypes: object(6)\n",
      "memory usage: 41.9+ KB\n"
     ]
    }
   ],
   "source": [
    "car_data.info()"
   ]
  },
  {
   "cell_type": "code",
   "execution_count": 8,
   "id": "c2b06784",
   "metadata": {},
   "outputs": [
    {
     "data": {
      "text/plain": [
       "0             80,000\n",
       "1           4,25,000\n",
       "2      Ask For Price\n",
       "3           3,25,000\n",
       "4           5,75,000\n",
       "           ...      \n",
       "887         3,10,000\n",
       "888         2,60,000\n",
       "889         3,90,000\n",
       "890         1,80,000\n",
       "891         1,60,000\n",
       "Name: Price, Length: 892, dtype: object"
      ]
     },
     "execution_count": 8,
     "metadata": {},
     "output_type": "execute_result"
    }
   ],
   "source": [
    "car_data['Price']"
   ]
  },
  {
   "cell_type": "code",
   "execution_count": 9,
   "id": "229a1f75",
   "metadata": {},
   "outputs": [
    {
     "data": {
      "text/plain": [
       "array(['2007', '2006', '2018', '2014', '2015', '2012', '2013', '2016',\n",
       "       '2010', '2017', '2008', '2011', '2019', '2009', '2005', '2000',\n",
       "       '...', '150k', 'TOUR', '2003', 'r 15', '2004', 'Zest', '/-Rs',\n",
       "       'sale', '1995', 'ara)', '2002', 'SELL', '2001', 'tion', 'odel',\n",
       "       '2 bs', 'arry', 'Eon', 'o...', 'ture', 'emi', 'car', 'able', 'no.',\n",
       "       'd...', 'SALE', 'digo', 'sell', 'd Ex', 'n...', 'e...', 'D...',\n",
       "       ', Ac', 'go .', 'k...', 'o c4', 'zire', 'cent', 'Sumo', 'cab',\n",
       "       't xe', 'EV2', 'r...', 'zest'], dtype=object)"
      ]
     },
     "execution_count": 9,
     "metadata": {},
     "output_type": "execute_result"
    }
   ],
   "source": [
    "car_data.year.unique()"
   ]
  },
  {
   "cell_type": "code",
   "execution_count": 10,
   "id": "ce8ee6f1",
   "metadata": {},
   "outputs": [
    {
     "data": {
      "text/plain": [
       "array(['45,000 kms', '40 kms', '22,000 kms', '28,000 kms', '36,000 kms',\n",
       "       '59,000 kms', '41,000 kms', '25,000 kms', '24,530 kms',\n",
       "       '60,000 kms', '30,000 kms', '32,000 kms', '48,660 kms',\n",
       "       '4,000 kms', '16,934 kms', '43,000 kms', '35,550 kms',\n",
       "       '39,522 kms', '39,000 kms', '55,000 kms', '72,000 kms',\n",
       "       '15,975 kms', '70,000 kms', '23,452 kms', '35,522 kms',\n",
       "       '48,508 kms', '15,487 kms', '82,000 kms', '20,000 kms',\n",
       "       '68,000 kms', '38,000 kms', '27,000 kms', '33,000 kms',\n",
       "       '46,000 kms', '16,000 kms', '47,000 kms', '35,000 kms',\n",
       "       '30,874 kms', '15,000 kms', '29,685 kms', '1,30,000 kms',\n",
       "       '19,000 kms', nan, '54,000 kms', '13,000 kms', '38,200 kms',\n",
       "       '50,000 kms', '13,500 kms', '3,600 kms', '45,863 kms',\n",
       "       '60,500 kms', '12,500 kms', '18,000 kms', '13,349 kms',\n",
       "       '29,000 kms', '44,000 kms', '42,000 kms', '14,000 kms',\n",
       "       '49,000 kms', '36,200 kms', '51,000 kms', '1,04,000 kms',\n",
       "       '33,333 kms', '33,600 kms', '5,600 kms', '7,500 kms', '26,000 kms',\n",
       "       '24,330 kms', '65,480 kms', '28,028 kms', '2,00,000 kms',\n",
       "       '99,000 kms', '2,800 kms', '21,000 kms', '11,000 kms',\n",
       "       '66,000 kms', '3,000 kms', '7,000 kms', '38,500 kms', '37,200 kms',\n",
       "       '43,200 kms', '24,800 kms', '45,872 kms', '40,000 kms',\n",
       "       '11,400 kms', '97,200 kms', '52,000 kms', '31,000 kms',\n",
       "       '1,75,430 kms', '37,000 kms', '65,000 kms', '3,350 kms',\n",
       "       '75,000 kms', '62,000 kms', '73,000 kms', '2,200 kms',\n",
       "       '54,870 kms', '34,580 kms', '97,000 kms', '60 kms', '80,200 kms',\n",
       "       '3,200 kms', '0,000 kms', '5,000 kms', '588 kms', '71,200 kms',\n",
       "       '1,75,400 kms', '9,300 kms', '56,758 kms', '10,000 kms',\n",
       "       '56,450 kms', '56,000 kms', '32,700 kms', '9,000 kms', '73 kms',\n",
       "       '1,60,000 kms', '84,000 kms', '58,559 kms', '57,000 kms',\n",
       "       '1,70,000 kms', '80,000 kms', '6,821 kms', '23,000 kms',\n",
       "       '34,000 kms', '1,800 kms', '4,00,000 kms', '48,000 kms',\n",
       "       '90,000 kms', '12,000 kms', '69,900 kms', '1,66,000 kms',\n",
       "       '122 kms', '0 kms', '24,000 kms', '36,469 kms', '7,800 kms',\n",
       "       '24,695 kms', '15,141 kms', '59,910 kms', '1,00,000 kms',\n",
       "       '4,500 kms', '1,29,000 kms', '300 kms', '1,31,000 kms',\n",
       "       '1,11,111 kms', '59,466 kms', '25,500 kms', '44,005 kms',\n",
       "       '2,110 kms', '43,222 kms', '1,00,200 kms', '65 kms',\n",
       "       '1,40,000 kms', '1,03,553 kms', '58,000 kms', '1,20,000 kms',\n",
       "       '49,800 kms', '100 kms', '81,876 kms', '6,020 kms', '55,700 kms',\n",
       "       '18,500 kms', '1,80,000 kms', '53,000 kms', '35,500 kms',\n",
       "       '22,134 kms', '1,000 kms', '8,500 kms', '87,000 kms', '6,000 kms',\n",
       "       '15,574 kms', '8,000 kms', '55,800 kms', '56,400 kms',\n",
       "       '72,160 kms', '11,500 kms', '1,33,000 kms', '2,000 kms',\n",
       "       '88,000 kms', '65,422 kms', '1,17,000 kms', '1,50,000 kms',\n",
       "       '10,750 kms', '6,800 kms', '5 kms', '9,800 kms', '57,923 kms',\n",
       "       '30,201 kms', '6,200 kms', '37,518 kms', '24,652 kms', '383 kms',\n",
       "       '95,000 kms', '3,528 kms', '52,500 kms', '47,900 kms',\n",
       "       '52,800 kms', '1,95,000 kms', '48,008 kms', '48,247 kms',\n",
       "       '9,400 kms', '64,000 kms', '2,137 kms', '10,544 kms', '49,500 kms',\n",
       "       '1,47,000 kms', '90,001 kms', '48,006 kms', '74,000 kms',\n",
       "       '85,000 kms', '29,500 kms', '39,700 kms', '67,000 kms',\n",
       "       '19,336 kms', '60,105 kms', '45,933 kms', '1,02,563 kms',\n",
       "       '28,600 kms', '41,800 kms', '1,16,000 kms', '42,590 kms',\n",
       "       '7,400 kms', '54,500 kms', '76,000 kms', '00 kms', '11,523 kms',\n",
       "       '38,600 kms', '95,500 kms', '37,458 kms', '85,960 kms',\n",
       "       '12,516 kms', '30,600 kms', '2,550 kms', '62,500 kms',\n",
       "       '69,000 kms', '28,400 kms', '68,485 kms', '3,500 kms',\n",
       "       '85,455 kms', '63,000 kms', '1,600 kms', '77,000 kms',\n",
       "       '26,500 kms', '2,875 kms', '13,900 kms', '1,500 kms', '2,450 kms',\n",
       "       '1,625 kms', '33,400 kms', '60,123 kms', '38,900 kms',\n",
       "       '1,37,495 kms', '91,200 kms', '1,46,000 kms', '1,00,800 kms',\n",
       "       '2,100 kms', '2,500 kms', '1,32,000 kms', 'Petrol'], dtype=object)"
      ]
     },
     "execution_count": 10,
     "metadata": {},
     "output_type": "execute_result"
    }
   ],
   "source": [
    "car_data.kms_driven.unique()"
   ]
  },
  {
   "cell_type": "code",
   "execution_count": 11,
   "id": "9f8d037a",
   "metadata": {},
   "outputs": [
    {
     "data": {
      "text/plain": [
       "array(['Petrol', 'Diesel', nan, 'LPG'], dtype=object)"
      ]
     },
     "execution_count": 11,
     "metadata": {},
     "output_type": "execute_result"
    }
   ],
   "source": [
    "car_data.fuel_type.unique()"
   ]
  },
  {
   "cell_type": "code",
   "execution_count": 12,
   "id": "c1588eb4",
   "metadata": {},
   "outputs": [],
   "source": [
    "#Done"
   ]
  }
 ],
 "metadata": {
  "kernelspec": {
   "display_name": "Python 3 (ipykernel)",
   "language": "python",
   "name": "python3"
  },
  "language_info": {
   "codemirror_mode": {
    "name": "ipython",
    "version": 3
   },
   "file_extension": ".py",
   "mimetype": "text/x-python",
   "name": "python",
   "nbconvert_exporter": "python",
   "pygments_lexer": "ipython3",
   "version": "3.9.7"
  }
 },
 "nbformat": 4,
 "nbformat_minor": 5
}
