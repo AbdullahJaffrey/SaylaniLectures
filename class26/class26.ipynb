{
 "cells": [
  {
   "cell_type": "code",
   "execution_count": 1,
   "id": "bad6ac1c",
   "metadata": {},
   "outputs": [],
   "source": [
    "# Thursday (18/08/2022)."
   ]
  },
  {
   "cell_type": "markdown",
   "id": "6ae27f1a",
   "metadata": {},
   "source": [
    "# Let's Explore:\n",
    "\n",
    "<img src='https://www.bing.com/th?id=ABT79B3A0EDAE7A4890BCB78700A415BBC73DEDC2E5CE8561FC30B80F59B4E9072A&w=608&h=200&c=2&rs=1&o=6&pid=SANGAM'>\n",
    "\n",
    "Källö-Knippla, Sweden\n",
    "We’re visiting a small fishing village on the island of Källö-Knippla in Gothenburg’s northern archipelago. Källö-Knippla, which was once two separate islands before the strait that separated them filled in, is authentic Sweden. The island is small with seemingly endless sea views and traditional architecture. There’s also a great walking trail on the northern part of the island, which is the perfect way to breathe in that fresh Scandinavian air and, if you’re brave enough, take a swim in the sea.\n",
    "\n",
    "Speaking of bravery, around this time of year the Swedes enjoy their speciality, surströmming. Surströmming is Baltic herring that’s been caught in April and May, then lightly salted and allowed to ferment. People there enjoy some surströmming on top of tunnbröd flatbread. It’s common to then cover it in red onions, sour cream and dill, followed by a shot of alcohol, a beer or even milk. The taste is said to be very sharp, savoury and even acidic – some call it “the world’s worst smelling food”!\n",
    "\n",
    "If you’d rather skip the fermented herring, this remote archipelago has enough beautiful scenery and authentic architecture to keep you exploring."
   ]
  },
  {
   "cell_type": "markdown",
   "id": "01637471",
   "metadata": {},
   "source": [
    "# Class 26: \n",
    "\n",
    "Starts from here"
   ]
  },
  {
   "cell_type": "markdown",
   "id": "a88e3d60",
   "metadata": {},
   "source": [
    "'a' >> Append. Writes in new line, willn't override it!"
   ]
  },
  {
   "cell_type": "code",
   "execution_count": 2,
   "id": "10986195",
   "metadata": {},
   "outputs": [
    {
     "name": "stdout",
     "output_type": "stream",
     "text": [
      "Hello, World!\n"
     ]
    }
   ],
   "source": [
    "with open('file1.txt','w+') as file:\n",
    "    file.write('Hello, World!')\n",
    "    file.seek(0)\n",
    "    print(file.read())  "
   ]
  },
  {
   "cell_type": "code",
   "execution_count": 3,
   "id": "26653206",
   "metadata": {},
   "outputs": [
    {
     "name": "stdout",
     "output_type": "stream",
     "text": [
      "Hello, World!\n",
      "Bye, World!\n"
     ]
    }
   ],
   "source": [
    "with open('file1.txt','a+') as file:\n",
    "    file.write('\\nBye, World!')\n",
    "    file.seek(0)\n",
    "    print(file.read())  "
   ]
  },
  {
   "cell_type": "markdown",
   "id": "eee6be19",
   "metadata": {},
   "source": [
    "### Introduction to CSV:\n",
    "\n",
    "'CSV' stands for 'Comma Seperated Value!'\n",
    "\n",
    "Value 1 >> 'Nasir' -- Delimiter >> ',' -- Value 2 >> 'Hussain'  "
   ]
  },
  {
   "cell_type": "code",
   "execution_count": 4,
   "id": "eccec47a",
   "metadata": {},
   "outputs": [
    {
     "name": "stdout",
     "output_type": "stream",
     "text": [
      "Year,Event,Winner\n",
      "1995,Best-Kept Lawn,None\n",
      "1999,Gobstones,Welch National\n",
      "2006,World Cup,Burkina Faso\n",
      "2017,ICC Champions Trophy,Pakistan\n",
      "2009,ICC T20 Trophy,Pakistan\n",
      "2017,ICC Champions Trophy,Pakistan\n",
      "2009,ICC T20 Trophy,Pakistan\n",
      "2017,ICC Champions Trophy,Pakistan\n",
      "2009,ICC T20 Trophy,Pakistan\n"
     ]
    }
   ],
   "source": [
    "with open('Champion.csv','a+') as new_file:\n",
    "    new_file.write(\"\\n2017,ICC Champions Trophy,Pakistan\")\n",
    "    new_file.write(\"\\n2009,ICC T20 Trophy,Pakistan\")\n",
    "    new_file.seek(0)\n",
    "    print(new_file.read())  "
   ]
  },
  {
   "cell_type": "code",
   "execution_count": 5,
   "id": "986200e6",
   "metadata": {},
   "outputs": [
    {
     "name": "stdout",
     "output_type": "stream",
     "text": [
      "['Year', 'Event', 'Winner']\n",
      "['1995', 'Best-Kept Lawn', 'None']\n",
      "['1999', 'Gobstones', 'Welch National']\n",
      "['2006', 'World Cup', 'Burkina Faso']\n",
      "['2017', 'ICC Champions Trophy', 'Pakistan']\n",
      "['2009', 'ICC T20 Trophy', 'Pakistan']\n",
      "['2017', 'ICC Champions Trophy', 'Pakistan']\n",
      "['2009', 'ICC T20 Trophy', 'Pakistan']\n",
      "['2017', 'ICC Champions Trophy', 'Pakistan']\n",
      "['2009', 'ICC T20 Trophy', 'Pakistan']\n"
     ]
    }
   ],
   "source": [
    "import csv\n",
    "with open('Champion.csv','r+') as new_file2:\n",
    "    content = csv.reader(new_file2)\n",
    "    for filedata in content:\n",
    "        print(filedata)  "
   ]
  },
  {
   "cell_type": "code",
   "execution_count": 6,
   "id": "afc972e3",
   "metadata": {},
   "outputs": [],
   "source": [
    "with open(\"whatever.csv\", \"w\", newline=\"\") as f:\n",
    "    data_handler = csv.writer(f, delimiter=\",\")\n",
    "    data_handler.writerow([\"Year\", \"Event\", \"Winner\"])\n",
    "    data_handler.writerow([\"1995\", \"Best-Kept Lawn\", \"None\"])\n",
    "    data_handler.writerow([\"1999\", \"Gobstones\", \"Welch National\"])\n",
    "  \n",
    "    # Things to remember:\n",
    "    # It's the variable data_handler connected by a dot to the keyword= 'writerow' …"
   ]
  },
  {
   "cell_type": "code",
   "execution_count": 7,
   "id": "d6e06bed",
   "metadata": {},
   "outputs": [],
   "source": [
    "with open(\"whatever.csv\", \"a\", newline=\"\") as f:\n",
    "    data_handler = csv.writer(f, delimiter=\",\")\n",
    "    data_handler.writerow([\"1997\", \"Best-Kept Lawn2\", \"NaN\"])\n",
    "    data_handler.writerow([\"2001\", \"Gobstones4\", \"Well2\"])"
   ]
  },
  {
   "cell_type": "code",
   "execution_count": 8,
   "id": "cbdb76b2",
   "metadata": {},
   "outputs": [
    {
     "name": "stdout",
     "output_type": "stream",
     "text": [
      "['Year', 'Event', 'Winner']\n",
      "['1995', 'Best-Kept Lawn', 'None']\n",
      "['1999', 'Gobstones', 'Welch National']\n",
      "['1997', 'Best-Kept Lawn2', 'NaN']\n",
      "['2001', 'Gobstones4', 'Well2']\n"
     ]
    }
   ],
   "source": [
    "with open(\"whatever.csv\", \"r\", newline=\"\") as f:\n",
    "    content2 = csv.reader(f)\n",
    "    for filedata2 in content2:\n",
    "        print(filedata2)  "
   ]
  },
  {
   "cell_type": "markdown",
   "id": "7dcbc1f9",
   "metadata": {},
   "source": [
    "### Introduction to JSON:\n",
    "    \n",
    "'JSON' stands for 'JavaScript Object Notation'. List of dictionaries. In dict, keys can be a 'numeric' value but 'JSON' doesn't support 'numeric' value as key!. "
   ]
  },
  {
   "cell_type": "code",
   "execution_count": 9,
   "id": "a5ac9315",
   "metadata": {},
   "outputs": [],
   "source": [
    "import json"
   ]
  },
  {
   "cell_type": "code",
   "execution_count": 10,
   "id": "14d1acef",
   "metadata": {},
   "outputs": [],
   "source": [
    "alphabet_letters = [\"a\", \"b\", \"c\"]\n",
    "\n",
    "with open(\"alphabet_list.json\", \"w\") as f:\n",
    "    json.dump(alphabet_letters, f)"
   ]
  },
  {
   "cell_type": "code",
   "execution_count": 11,
   "id": "f5bb7675",
   "metadata": {},
   "outputs": [],
   "source": [
    "customer_29876 = {\n",
    "    \"first_name\": \"David\",\n",
    "    \"last_name\": \"Elliott\",\n",
    "    \"address\": \"4803 Wellesley St.\",\n",
    "}"
   ]
  },
  {
   "cell_type": "code",
   "execution_count": 12,
   "id": "1d2e0a6c",
   "metadata": {},
   "outputs": [],
   "source": [
    "with open(\"customer_29876.json\", \"w\") as f:\n",
    "    json.dump(customer_29876, f)"
   ]
  },
  {
   "cell_type": "code",
   "execution_count": 13,
   "id": "3b889e17",
   "metadata": {},
   "outputs": [
    {
     "name": "stdout",
     "output_type": "stream",
     "text": [
      "{'first_name': 'David', 'last_name': 'Elliott', 'address': '4803 Wellesley St.'}\n"
     ]
    }
   ],
   "source": [
    "with open(\"customer_29876.json\", \"r\") as f:\n",
    "    print(json.load(f))"
   ]
  },
  {
   "cell_type": "code",
   "execution_count": 14,
   "id": "8088aa42",
   "metadata": {},
   "outputs": [],
   "source": [
    "customer_29877 = {\n",
    "\n",
    "    \"first_name\": \"Noah\",\n",
    "    \"last_name\": \"Hussain\",\n",
    "    \"address\": \"503 Walter St.\",\n",
    "}"
   ]
  },
  {
   "cell_type": "code",
   "execution_count": 15,
   "id": "1dd4640a",
   "metadata": {},
   "outputs": [],
   "source": [
    "with open(\"customer_29876.json\", \"a\") as f:\n",
    "    json.dump(customer_29877, f)"
   ]
  },
  {
   "cell_type": "code",
   "execution_count": 16,
   "id": "3574ae61",
   "metadata": {},
   "outputs": [
    {
     "data": {
      "text/plain": [
       "'Noah'"
      ]
     },
     "execution_count": 16,
     "metadata": {},
     "output_type": "execute_result"
    }
   ],
   "source": [
    "customer_29877['first_name']"
   ]
  },
  {
   "cell_type": "code",
   "execution_count": 17,
   "id": "02a678d6",
   "metadata": {},
   "outputs": [
    {
     "data": {
      "text/plain": [
       "{'first_name': 'Noah', 'last_name': 'Hussain', 'address': '503 Walter St.'}"
      ]
     },
     "execution_count": 17,
     "metadata": {},
     "output_type": "execute_result"
    }
   ],
   "source": [
    "customer_29877"
   ]
  },
  {
   "cell_type": "code",
   "execution_count": 19,
   "id": "f87435e5",
   "metadata": {},
   "outputs": [],
   "source": [
    "#Done"
   ]
  }
 ],
 "metadata": {
  "kernelspec": {
   "display_name": "Python 3 (ipykernel)",
   "language": "python",
   "name": "python3"
  },
  "language_info": {
   "codemirror_mode": {
    "name": "ipython",
    "version": 3
   },
   "file_extension": ".py",
   "mimetype": "text/x-python",
   "name": "python",
   "nbconvert_exporter": "python",
   "pygments_lexer": "ipython3",
   "version": "3.9.7"
  }
 },
 "nbformat": 4,
 "nbformat_minor": 5
}
