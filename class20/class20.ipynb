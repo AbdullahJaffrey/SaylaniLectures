{
 "cells": [
  {
   "cell_type": "markdown",
   "id": "a4a3dcbc",
   "metadata": {},
   "source": [
    "*** (21/07/2022) ***"
   ]
  },
  {
   "cell_type": "markdown",
   "id": "1f2c677d",
   "metadata": {},
   "source": [
    "# Let's Explore"
   ]
  },
  {
   "cell_type": "markdown",
   "id": "58c11fbf",
   "metadata": {},
   "source": [
    "**Abbey Gardens, England**\n",
    "\n",
    "<img src='th.jpg' alt='Abbey Gardens, England>\n",
    "\n",
    "<p>\n",
    "    \n",
    "The stunning Abbey Gardens in Bury St Edmunds surround the ruins of the town’s 11th-century Benedictine monastery. Founded in 1020 by King Canute, the abbey was due to celebrate its 1,000th anniversary two years ago, but celebrations were postponed until this year because of the pandemic. The abbey was a powerhouse of medieval England until Henry VIII’s Dissolution of the Monasteries in 1539, but the remaining ruins on the site are extensive, including the 14th-century Great Gate, the Norman Tower and the west front of the church.\n",
    "\n",
    "Its gardens have evolved over time. In 1831, Nathaniel Hodson took the original gardens and designed them as a botanic garden with concentric circles, inspired by the Royal Botanic Gardens in Brussels. A century later, the park’s circular beds were replaced by 64 island beds in honour of George VI’s coronation in 1937. A water garden and rose garden added more dimensions to the park, followed by a herb garden and a sensory garden for the visually impaired. Today, gardeners plant about 20,000 plants in the spring for summer visitors, and then they do the same with 12,000 plants and 20,000 bulbs each autumn, in anticipation of a colourful display the next spring.\n",
    "</p>"
   ]
  },
  {
   "cell_type": "markdown",
   "id": "afc593e7",
   "metadata": {},
   "source": [
    "-- Overview --"
   ]
  },
  {
   "cell_type": "code",
   "execution_count": 1,
   "id": "7b96c1e6",
   "metadata": {},
   "outputs": [],
   "source": [
    "class Cat():\n",
    "    def __init__(self, sound):\n",
    "        self.sound = sound\n",
    "        def meow():\n",
    "            return sound"
   ]
  },
  {
   "cell_type": "code",
   "execution_count": 2,
   "id": "cee9254b",
   "metadata": {},
   "outputs": [],
   "source": [
    "cat1 = Cat('Meow')"
   ]
  },
  {
   "cell_type": "code",
   "execution_count": 3,
   "id": "75812d3c",
   "metadata": {},
   "outputs": [
    {
     "data": {
      "text/plain": [
       "'Meow'"
      ]
     },
     "execution_count": 3,
     "metadata": {},
     "output_type": "execute_result"
    }
   ],
   "source": [
    "cat1.sound"
   ]
  },
  {
   "cell_type": "markdown",
   "id": "8ba02af5",
   "metadata": {},
   "source": [
    "**Self = Reference of Object"
   ]
  },
  {
   "cell_type": "markdown",
   "id": "c77099d4",
   "metadata": {},
   "source": [
    "# **Class starts from here:**"
   ]
  },
  {
   "cell_type": "markdown",
   "id": "9ed1c0d0",
   "metadata": {},
   "source": [
    "For more details of Chapter 9,  <a href=\"https://ehmatthes.github.io/pcc/solutions/chapter_9.html\"> click here </a>"
   ]
  },
  {
   "cell_type": "markdown",
   "id": "688f89ba",
   "metadata": {},
   "source": [
    "# 9-1. \n",
    "\n",
    "Restaurant: Make a class called Restaurant. \n",
    "\n",
    "The __init__() method for\n",
    "Restaurant should store two attributes: a restaurant_name and a cuisine_type.\n",
    "\n",
    "Make a method called describe_restaurant() that prints these two pieces of information, and a method called open_restaurant() that prints a message indicating that the restaurant is open.\n",
    "\n",
    "Make an instance called restaurant from your class. Print the two attributes individually, and then call both methods."
   ]
  },
  {
   "cell_type": "code",
   "execution_count": 4,
   "id": "6823072f",
   "metadata": {},
   "outputs": [],
   "source": [
    "class Restaurant():\n",
    "    def __init__(self,restaurant_name,cuisine_type):\n",
    "        self.restaurant_name = restaurant_name\n",
    "        self.cuisine_type = cuisine_type\n",
    "        \n",
    "    def describe_restaurant(self):\n",
    "        print(f\"Would you like to go this '{self.restaurant_name}' restaurant which serves {self.cuisine_type} dish\")\n",
    "    def open_restaurant(self,res):\n",
    "        self.res = res\n",
    "        if res == \"ChinaTown\":\n",
    "            print( \"Open Now!\")\n",
    "        elif res == 'Fujiama':\n",
    "            print('Just Closed!')\n",
    "        else:\n",
    "            print(\"No Restaurant Found\")\n",
    "    "
   ]
  },
  {
   "cell_type": "code",
   "execution_count": 5,
   "id": "3eed453d",
   "metadata": {},
   "outputs": [],
   "source": [
    "restaurant1 = Restaurant('ChinaTown','Chinese')"
   ]
  },
  {
   "cell_type": "code",
   "execution_count": 6,
   "id": "d2af9dfb",
   "metadata": {},
   "outputs": [
    {
     "data": {
      "text/plain": [
       "'ChinaTown'"
      ]
     },
     "execution_count": 6,
     "metadata": {},
     "output_type": "execute_result"
    }
   ],
   "source": [
    "restaurant1.restaurant_name"
   ]
  },
  {
   "cell_type": "code",
   "execution_count": 7,
   "id": "330ae325",
   "metadata": {},
   "outputs": [
    {
     "name": "stdout",
     "output_type": "stream",
     "text": [
      "Would you like to go this 'ChinaTown' restaurant which serves Chinese dish\n"
     ]
    }
   ],
   "source": [
    "restaurant1.describe_restaurant()"
   ]
  },
  {
   "cell_type": "code",
   "execution_count": 8,
   "id": "0ae026b2",
   "metadata": {},
   "outputs": [
    {
     "name": "stdout",
     "output_type": "stream",
     "text": [
      "Open Now!\n"
     ]
    }
   ],
   "source": [
    "restaurant1.open_restaurant('ChinaTown')"
   ]
  },
  {
   "cell_type": "code",
   "execution_count": 9,
   "id": "35aa31b7",
   "metadata": {},
   "outputs": [],
   "source": [
    "restaurant2 = Restaurant('Fujiama','Japanese')"
   ]
  },
  {
   "cell_type": "code",
   "execution_count": 10,
   "id": "79950698",
   "metadata": {},
   "outputs": [
    {
     "name": "stdout",
     "output_type": "stream",
     "text": [
      "Just Closed!\n"
     ]
    }
   ],
   "source": [
    "restaurant2.open_restaurant('Fujiama')"
   ]
  },
  {
   "cell_type": "code",
   "execution_count": 11,
   "id": "9c03dd0c",
   "metadata": {},
   "outputs": [],
   "source": [
    "restaurant3 = Restaurant('Shangrilla','Mixed')"
   ]
  },
  {
   "cell_type": "code",
   "execution_count": 12,
   "id": "3b888d95",
   "metadata": {},
   "outputs": [
    {
     "name": "stdout",
     "output_type": "stream",
     "text": [
      "Would you like to go this 'Shangrilla' restaurant which serves Mixed dish\n"
     ]
    }
   ],
   "source": [
    "restaurant3.describe_restaurant()"
   ]
  },
  {
   "cell_type": "code",
   "execution_count": 13,
   "id": "9c91a228",
   "metadata": {},
   "outputs": [
    {
     "name": "stdout",
     "output_type": "stream",
     "text": [
      "['ChinaTown', 'Fujiama', 'Shangrilla']\n",
      "['Chinese', 'Japanese', 'Mixed']\n"
     ]
    }
   ],
   "source": [
    "print([restaurant1.restaurant_name,restaurant2.restaurant_name,restaurant3.restaurant_name])\n",
    "print([restaurant1.cuisine_type,restaurant2.cuisine_type,restaurant3.cuisine_type])"
   ]
  },
  {
   "cell_type": "markdown",
   "id": "35ce738f",
   "metadata": {},
   "source": [
    "# 9-3. Users: \n",
    "\n",
    "Make a class called User. Create two attributes called first_name and last_name, \n",
    "\n",
    "and then create several other attributes that are typically stored in a user profile. \n",
    "\n",
    "Make a method called describe_user() that prints a summary of the user’s information. \n",
    "\n",
    "Make another method called greet_user() that prints a personalized greeting to the user.\n",
    "\n",
    "Create several instances representing different users, and call both methods for each user."
   ]
  },
  {
   "cell_type": "code",
   "execution_count": 14,
   "id": "76cf0a57",
   "metadata": {},
   "outputs": [],
   "source": [
    "class User():\n",
    "    def __init__(self, first_name, last_name,gender,age):\n",
    "        self.first_name = first_name\n",
    "        self.last_name = last_name\n",
    "        self.gender = gender\n",
    "        self.age = age\n",
    "        \n",
    "    def describe_user(self):\n",
    "        return f\"Hello {self.first_name} {self.last_name}! You're our {self.gender} user and your age is {self.age}\"\n",
    "    def greet_user(self):\n",
    "        print(f'Welcome back, Mr {self.last_name}!')"
   ]
  },
  {
   "cell_type": "code",
   "execution_count": 15,
   "id": "1c2507d5",
   "metadata": {},
   "outputs": [],
   "source": [
    "user1 = User('Noah','Hussein','Male',2)"
   ]
  },
  {
   "cell_type": "code",
   "execution_count": 16,
   "id": "cb1a4093",
   "metadata": {},
   "outputs": [
    {
     "data": {
      "text/plain": [
       "'Noah'"
      ]
     },
     "execution_count": 16,
     "metadata": {},
     "output_type": "execute_result"
    }
   ],
   "source": [
    "user1.first_name"
   ]
  },
  {
   "cell_type": "code",
   "execution_count": 17,
   "id": "219678ee",
   "metadata": {},
   "outputs": [
    {
     "data": {
      "text/plain": [
       "\"Hello Noah Hussein! You're our Male user and your age is 2\""
      ]
     },
     "execution_count": 17,
     "metadata": {},
     "output_type": "execute_result"
    }
   ],
   "source": [
    "user1.describe_user()"
   ]
  },
  {
   "cell_type": "code",
   "execution_count": 18,
   "id": "35ccede6",
   "metadata": {},
   "outputs": [
    {
     "name": "stdout",
     "output_type": "stream",
     "text": [
      "Welcome back, Mr Hussein!\n"
     ]
    }
   ],
   "source": [
    "user1. greet_user()"
   ]
  },
  {
   "cell_type": "code",
   "execution_count": 19,
   "id": "938e6eb2",
   "metadata": {},
   "outputs": [],
   "source": [
    "class Car():\n",
    "    def __init__(self, make, model, year, color='Black'):\n",
    "        self.make = make\n",
    "        self.model = model\n",
    "        self.year = year\n",
    "        self.usage = 'New(Zero Meter)'\n",
    "        self.color = color\n",
    "    def descriptive_name(self):\n",
    "        long_name = str(self.year) + ' ' + self.make + ' ' + self.model + ' ' + self.color + ' ' + self.usage\n",
    "        return long_name.title()\n",
    "    \n",
    "    def sale_price(self,price='Not for sale (undefined)'):\n",
    "        return self.make, self.model, price\n",
    "        "
   ]
  },
  {
   "cell_type": "code",
   "execution_count": 20,
   "id": "67b3639e",
   "metadata": {},
   "outputs": [],
   "source": [
    "my_new_car = Car('Audi', 'A4', 2016)"
   ]
  },
  {
   "cell_type": "code",
   "execution_count": 21,
   "id": "7057a734",
   "metadata": {},
   "outputs": [
    {
     "name": "stdout",
     "output_type": "stream",
     "text": [
      "2018 Mahindra Scorpio Brown New(Zero Meter)\n"
     ]
    }
   ],
   "source": [
    "my_new_car2 = Car('Mahindra', 'Scorpio', 2018, 'Brown')\n",
    "print(my_new_car2.descriptive_name())"
   ]
  },
  {
   "cell_type": "code",
   "execution_count": 22,
   "id": "a16e7566",
   "metadata": {},
   "outputs": [
    {
     "data": {
      "text/plain": [
       "('Mahindra', 'Scorpio', '12000')"
      ]
     },
     "execution_count": 22,
     "metadata": {},
     "output_type": "execute_result"
    }
   ],
   "source": [
    "my_new_car2.sale_price('12000')"
   ]
  },
  {
   "cell_type": "code",
   "execution_count": 23,
   "id": "19261434",
   "metadata": {},
   "outputs": [
    {
     "data": {
      "text/plain": [
       "('Audi', 'A4', 'Not for sale (undefined)')"
      ]
     },
     "execution_count": 23,
     "metadata": {},
     "output_type": "execute_result"
    }
   ],
   "source": [
    "my_new_car.sale_price()"
   ]
  },
  {
   "cell_type": "code",
   "execution_count": 24,
   "id": "775fea8c",
   "metadata": {},
   "outputs": [],
   "source": [
    "class Mobile():\n",
    "    def __init__(self, model, brand, memory ,color=\"black\"):\n",
    "        self.model= model\n",
    "        self.brand= brand\n",
    "        self.memory = memory\n",
    "        self.color= color\n",
    "        self.usage= \"Packed\"\n",
    "    def call(self, contact_number):\n",
    "        return f' From {self.brand} {self.model} call {contact_number}'\n",
    "    def description(self):\n",
    "        print(f\"{self.model}, {self.brand}, {self.memory}, {self.usage}\")"
   ]
  },
  {
   "cell_type": "code",
   "execution_count": 25,
   "id": "50674eb9",
   "metadata": {},
   "outputs": [],
   "source": [
    "mobile1 = Mobile('N-101', 'Nokia', '2GB')"
   ]
  },
  {
   "cell_type": "code",
   "execution_count": 26,
   "id": "a2f6746a",
   "metadata": {},
   "outputs": [
    {
     "data": {
      "text/plain": [
       "' From Nokia N-101 call 15'"
      ]
     },
     "execution_count": 26,
     "metadata": {},
     "output_type": "execute_result"
    }
   ],
   "source": [
    "mobile1.call('15')"
   ]
  },
  {
   "cell_type": "code",
   "execution_count": 27,
   "id": "a235b8e1",
   "metadata": {},
   "outputs": [
    {
     "name": "stdout",
     "output_type": "stream",
     "text": [
      "N-101, Nokia, 2GB, Packed\n"
     ]
    }
   ],
   "source": [
    "mobile1.description()"
   ]
  },
  {
   "cell_type": "code",
   "execution_count": 28,
   "id": "17152fad",
   "metadata": {},
   "outputs": [
    {
     "name": "stdout",
     "output_type": "stream",
     "text": [
      "101\n"
     ]
    }
   ],
   "source": [
    "# not a good practice\n",
    "\n",
    "mobile1.model = 101\n",
    "\n",
    "print(mobile1.model)"
   ]
  },
  {
   "cell_type": "code",
   "execution_count": 29,
   "id": "5b000436",
   "metadata": {},
   "outputs": [
    {
     "name": "stdout",
     "output_type": "stream",
     "text": [
      "101, Nokia, 2GB, Packed\n"
     ]
    }
   ],
   "source": [
    "mobile1.description()"
   ]
  },
  {
   "cell_type": "code",
   "execution_count": 30,
   "id": "a9ed7744",
   "metadata": {},
   "outputs": [],
   "source": [
    "# It's better not to reveal your back end, never ever share it with your user."
   ]
  },
  {
   "cell_type": "markdown",
   "id": "d57862da",
   "metadata": {},
   "source": [
    "To avoid this(exposing your database to your user), use these method: **Getter and Setter**"
   ]
  },
  {
   "cell_type": "markdown",
   "id": "680ca5e5",
   "metadata": {},
   "source": [
    "The whole process is called 'Abstraction'"
   ]
  },
  {
   "cell_type": "code",
   "execution_count": 31,
   "id": "57072615",
   "metadata": {},
   "outputs": [],
   "source": [
    "class Car2(): \n",
    "    def __init__(self, make, model, year):\n",
    "        self.make = make\n",
    "        self.model = model\n",
    "        self.year = year\n",
    "        self.odometer_reading = 0 \n",
    "    def get_descriptive_name(self): \n",
    "        long_name = str(self.year) + ' ' + self.make + ' ' + self.model\n",
    "        return long_name.title()    \n",
    "    def get_odometer_reading(self): \n",
    "        return self.odometer_reading    \n",
    "    def set_odometer_reading(self,new_reading):\n",
    "        self.odometer_reading = new_reading"
   ]
  },
  {
   "cell_type": "code",
   "execution_count": 32,
   "id": "f179f9e4",
   "metadata": {},
   "outputs": [],
   "source": [
    "car1 = Car2('Audi', 'A4', 2016)"
   ]
  },
  {
   "cell_type": "code",
   "execution_count": 33,
   "id": "6db4ea30",
   "metadata": {},
   "outputs": [
    {
     "data": {
      "text/plain": [
       "'Audi'"
      ]
     },
     "execution_count": 33,
     "metadata": {},
     "output_type": "execute_result"
    }
   ],
   "source": [
    "car1.make"
   ]
  },
  {
   "cell_type": "code",
   "execution_count": 34,
   "id": "2c8883e6",
   "metadata": {},
   "outputs": [],
   "source": [
    "#Done"
   ]
  }
 ],
 "metadata": {
  "kernelspec": {
   "display_name": "Python 3 (ipykernel)",
   "language": "python",
   "name": "python3"
  },
  "language_info": {
   "codemirror_mode": {
    "name": "ipython",
    "version": 3
   },
   "file_extension": ".py",
   "mimetype": "text/x-python",
   "name": "python",
   "nbconvert_exporter": "python",
   "pygments_lexer": "ipython3",
   "version": "3.9.7"
  }
 },
 "nbformat": 4,
 "nbformat_minor": 5
}
