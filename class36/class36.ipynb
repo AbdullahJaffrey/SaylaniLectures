{
 "cells": [
  {
   "cell_type": "code",
   "execution_count": 1,
   "id": "5806b9e2",
   "metadata": {},
   "outputs": [],
   "source": [
    "# (23/09/2022) Friday (Extra Class)"
   ]
  },
  {
   "cell_type": "markdown",
   "id": "31afb1a2",
   "metadata": {},
   "source": [
    "# Let's Explore: "
   ]
  },
  {
   "cell_type": "markdown",
   "id": "e08903f7",
   "metadata": {},
   "source": [
    "\n",
    "\n",
    "<img src='https://www.bing.com/th?id=ABT2CC1D80F908B5475D500ACF717844B6246E274114007FBDB7CE643F74BC707A0&w=608&h=200&c=2&rs=1&o=6&pid=SANGAM'>\n",
    "\n",
    "**Jellyfish Lake, Palau :**\n",
    "\n",
    "If you’re lucky enough to see this view through the lens of your diving mask, you must be snorkelling in Jellyfish Lake on the island of Eil Malk in the Pacific island nation of Palau. Golden jellyfish are a subspecies unique to this small lake, on this small island – they’re found nowhere else on the planet. About a million teacup-sized golden jellyfish inhabit the lake, following the sunlight that nourishes them. Symbiotic algae live inside the jellyfish and provide their hosts with energy as a byproduct of photosynthesis. The more sun the jellyfish get, the more energy they derive. So, they start the day at the east end of the lake and drift westward until dusk, following the arc of the sun.\n",
    "\n",
    "The saltwater marine lake they live in is one of 10 on Eil Malk, which is only 18.9 square kilometres in size, and one of many on the Rock Islands, which Eil Malk is part of. The Rock Islands, declared a UNESCO World Heritage site in 2012, is a scattering of hundreds of very small, mostly unpopulated limestone islands and islets characterised by their mushroom-like shape. Put together, all the islands are only 41 square kilometres in size, making Eil Malk one of the bigger ones. The marine lakes, like Jellyfish Lake, were once joined to the ocean, but long ago became landlocked. Golden jellyfish evolved in this micro universe, away from other food sources and predators. As a result, they have lost their ability to sting. So, if you go snorkelling, there’s no need to keep a distance."
   ]
  },
  {
   "cell_type": "code",
   "execution_count": 2,
   "id": "08762b96",
   "metadata": {},
   "outputs": [],
   "source": [
    "# Last Class Revision:"
   ]
  },
  {
   "cell_type": "code",
   "execution_count": 3,
   "id": "404c54c9",
   "metadata": {},
   "outputs": [],
   "source": [
    "import numpy as np"
   ]
  },
  {
   "cell_type": "code",
   "execution_count": 4,
   "id": "874c05dc",
   "metadata": {},
   "outputs": [],
   "source": [
    "import pandas as pd"
   ]
  },
  {
   "cell_type": "code",
   "execution_count": 5,
   "id": "f1c22945",
   "metadata": {},
   "outputs": [],
   "source": [
    "employee = pd.DataFrame({\n",
    "    'Employee id':[np.nan,123,124,125,126,np.nan,127,128,129],\n",
    "    'Employee name':[\"Abdullah\",\"Kamal\",\"Hassan\",\"Kashif\",\"Umer\",'Ali',\"Taqwi\",\"Zain\",\"Noah\"],\n",
    "    'Employee age':[24,23,np.nan,34,54,34,34,21,45],\n",
    "    \"Employee  monthly salary\":[np.nan,np.nan,30,np.nan,56,76,89,45,90],\n",
    "    \"Employee Department\":[\"DataScience\",\"Prod\",\"Prod\",\"Supply\",\"Accounts\", \"Accounts\",'Prod',\"Prod\",\"DataScience\"],\n",
    "    \"Employee Service as per year\":[np.nan,5,6,np.nan,7,np.nan,2,1,9]})"
   ]
  },
  {
   "cell_type": "code",
   "execution_count": 6,
   "id": "89daeefd",
   "metadata": {},
   "outputs": [
    {
     "data": {
      "text/html": [
       "<div>\n",
       "<style scoped>\n",
       "    .dataframe tbody tr th:only-of-type {\n",
       "        vertical-align: middle;\n",
       "    }\n",
       "\n",
       "    .dataframe tbody tr th {\n",
       "        vertical-align: top;\n",
       "    }\n",
       "\n",
       "    .dataframe thead th {\n",
       "        text-align: right;\n",
       "    }\n",
       "</style>\n",
       "<table border=\"1\" class=\"dataframe\">\n",
       "  <thead>\n",
       "    <tr style=\"text-align: right;\">\n",
       "      <th></th>\n",
       "      <th>Employee id</th>\n",
       "      <th>Employee name</th>\n",
       "      <th>Employee age</th>\n",
       "      <th>Employee  monthly salary</th>\n",
       "      <th>Employee Department</th>\n",
       "      <th>Employee Service as per year</th>\n",
       "    </tr>\n",
       "  </thead>\n",
       "  <tbody>\n",
       "    <tr>\n",
       "      <th>0</th>\n",
       "      <td>NaN</td>\n",
       "      <td>Abdullah</td>\n",
       "      <td>24.0</td>\n",
       "      <td>NaN</td>\n",
       "      <td>DataScience</td>\n",
       "      <td>NaN</td>\n",
       "    </tr>\n",
       "    <tr>\n",
       "      <th>1</th>\n",
       "      <td>123.0</td>\n",
       "      <td>Kamal</td>\n",
       "      <td>23.0</td>\n",
       "      <td>NaN</td>\n",
       "      <td>Prod</td>\n",
       "      <td>5.0</td>\n",
       "    </tr>\n",
       "    <tr>\n",
       "      <th>2</th>\n",
       "      <td>124.0</td>\n",
       "      <td>Hassan</td>\n",
       "      <td>NaN</td>\n",
       "      <td>30.0</td>\n",
       "      <td>Prod</td>\n",
       "      <td>6.0</td>\n",
       "    </tr>\n",
       "    <tr>\n",
       "      <th>3</th>\n",
       "      <td>125.0</td>\n",
       "      <td>Kashif</td>\n",
       "      <td>34.0</td>\n",
       "      <td>NaN</td>\n",
       "      <td>Supply</td>\n",
       "      <td>NaN</td>\n",
       "    </tr>\n",
       "    <tr>\n",
       "      <th>4</th>\n",
       "      <td>126.0</td>\n",
       "      <td>Umer</td>\n",
       "      <td>54.0</td>\n",
       "      <td>56.0</td>\n",
       "      <td>Accounts</td>\n",
       "      <td>7.0</td>\n",
       "    </tr>\n",
       "    <tr>\n",
       "      <th>5</th>\n",
       "      <td>NaN</td>\n",
       "      <td>Ali</td>\n",
       "      <td>34.0</td>\n",
       "      <td>76.0</td>\n",
       "      <td>Accounts</td>\n",
       "      <td>NaN</td>\n",
       "    </tr>\n",
       "    <tr>\n",
       "      <th>6</th>\n",
       "      <td>127.0</td>\n",
       "      <td>Taqwi</td>\n",
       "      <td>34.0</td>\n",
       "      <td>89.0</td>\n",
       "      <td>Prod</td>\n",
       "      <td>2.0</td>\n",
       "    </tr>\n",
       "    <tr>\n",
       "      <th>7</th>\n",
       "      <td>128.0</td>\n",
       "      <td>Zain</td>\n",
       "      <td>21.0</td>\n",
       "      <td>45.0</td>\n",
       "      <td>Prod</td>\n",
       "      <td>1.0</td>\n",
       "    </tr>\n",
       "    <tr>\n",
       "      <th>8</th>\n",
       "      <td>129.0</td>\n",
       "      <td>Noah</td>\n",
       "      <td>45.0</td>\n",
       "      <td>90.0</td>\n",
       "      <td>DataScience</td>\n",
       "      <td>9.0</td>\n",
       "    </tr>\n",
       "  </tbody>\n",
       "</table>\n",
       "</div>"
      ],
      "text/plain": [
       "   Employee id Employee name  Employee age  Employee  monthly salary  \\\n",
       "0          NaN      Abdullah          24.0                       NaN   \n",
       "1        123.0         Kamal          23.0                       NaN   \n",
       "2        124.0        Hassan           NaN                      30.0   \n",
       "3        125.0        Kashif          34.0                       NaN   \n",
       "4        126.0          Umer          54.0                      56.0   \n",
       "5          NaN           Ali          34.0                      76.0   \n",
       "6        127.0         Taqwi          34.0                      89.0   \n",
       "7        128.0          Zain          21.0                      45.0   \n",
       "8        129.0          Noah          45.0                      90.0   \n",
       "\n",
       "  Employee Department  Employee Service as per year  \n",
       "0         DataScience                           NaN  \n",
       "1                Prod                           5.0  \n",
       "2                Prod                           6.0  \n",
       "3              Supply                           NaN  \n",
       "4            Accounts                           7.0  \n",
       "5            Accounts                           NaN  \n",
       "6                Prod                           2.0  \n",
       "7                Prod                           1.0  \n",
       "8         DataScience                           9.0  "
      ]
     },
     "execution_count": 6,
     "metadata": {},
     "output_type": "execute_result"
    }
   ],
   "source": [
    "employee"
   ]
  },
  {
   "cell_type": "code",
   "execution_count": 7,
   "id": "724a6592",
   "metadata": {},
   "outputs": [
    {
     "data": {
      "text/html": [
       "<div>\n",
       "<style scoped>\n",
       "    .dataframe tbody tr th:only-of-type {\n",
       "        vertical-align: middle;\n",
       "    }\n",
       "\n",
       "    .dataframe tbody tr th {\n",
       "        vertical-align: top;\n",
       "    }\n",
       "\n",
       "    .dataframe thead th {\n",
       "        text-align: right;\n",
       "    }\n",
       "</style>\n",
       "<table border=\"1\" class=\"dataframe\">\n",
       "  <thead>\n",
       "    <tr style=\"text-align: right;\">\n",
       "      <th></th>\n",
       "      <th>Employee age</th>\n",
       "      <th>Employee  monthly salary</th>\n",
       "    </tr>\n",
       "  </thead>\n",
       "  <tbody>\n",
       "    <tr>\n",
       "      <th>1</th>\n",
       "      <td>23.0</td>\n",
       "      <td>NaN</td>\n",
       "    </tr>\n",
       "    <tr>\n",
       "      <th>2</th>\n",
       "      <td>NaN</td>\n",
       "      <td>30.0</td>\n",
       "    </tr>\n",
       "  </tbody>\n",
       "</table>\n",
       "</div>"
      ],
      "text/plain": [
       "   Employee age  Employee  monthly salary\n",
       "1          23.0                       NaN\n",
       "2           NaN                      30.0"
      ]
     },
     "execution_count": 7,
     "metadata": {},
     "output_type": "execute_result"
    }
   ],
   "source": [
    "employee.iloc[1:3, 2:4]"
   ]
  },
  {
   "cell_type": "code",
   "execution_count": 8,
   "id": "aa15b38e",
   "metadata": {},
   "outputs": [
    {
     "data": {
      "text/html": [
       "<div>\n",
       "<style scoped>\n",
       "    .dataframe tbody tr th:only-of-type {\n",
       "        vertical-align: middle;\n",
       "    }\n",
       "\n",
       "    .dataframe tbody tr th {\n",
       "        vertical-align: top;\n",
       "    }\n",
       "\n",
       "    .dataframe thead th {\n",
       "        text-align: right;\n",
       "    }\n",
       "</style>\n",
       "<table border=\"1\" class=\"dataframe\">\n",
       "  <thead>\n",
       "    <tr style=\"text-align: right;\">\n",
       "      <th></th>\n",
       "      <th>Employee age</th>\n",
       "      <th>Employee  monthly salary</th>\n",
       "      <th>Employee Department</th>\n",
       "    </tr>\n",
       "  </thead>\n",
       "  <tbody>\n",
       "    <tr>\n",
       "      <th>1</th>\n",
       "      <td>23.0</td>\n",
       "      <td>NaN</td>\n",
       "      <td>Prod</td>\n",
       "    </tr>\n",
       "    <tr>\n",
       "      <th>2</th>\n",
       "      <td>NaN</td>\n",
       "      <td>30.0</td>\n",
       "      <td>Prod</td>\n",
       "    </tr>\n",
       "    <tr>\n",
       "      <th>3</th>\n",
       "      <td>34.0</td>\n",
       "      <td>NaN</td>\n",
       "      <td>Supply</td>\n",
       "    </tr>\n",
       "  </tbody>\n",
       "</table>\n",
       "</div>"
      ],
      "text/plain": [
       "   Employee age  Employee  monthly salary Employee Department\n",
       "1          23.0                       NaN                Prod\n",
       "2           NaN                      30.0                Prod\n",
       "3          34.0                       NaN              Supply"
      ]
     },
     "execution_count": 8,
     "metadata": {},
     "output_type": "execute_result"
    }
   ],
   "source": [
    "employee.loc[1:3,'Employee age':'Employee Department']"
   ]
  },
  {
   "cell_type": "code",
   "execution_count": 9,
   "id": "98f4c97c",
   "metadata": {},
   "outputs": [],
   "source": [
    "# Parhaye hogaye bohat, Ab thora chill kro"
   ]
  },
  {
   "cell_type": "markdown",
   "id": "1022d9ff",
   "metadata": {},
   "source": [
    "<a href='https://www.netflix.com/pk/'> Watch Movies on Netflix! </a>"
   ]
  },
  {
   "cell_type": "code",
   "execution_count": 10,
   "id": "f63c3ab7",
   "metadata": {},
   "outputs": [],
   "source": [
    "#Class Starts from here:"
   ]
  },
  {
   "cell_type": "markdown",
   "id": "33838fff",
   "metadata": {},
   "source": [
    "### Summarizing and Computing Descriptive Statistics:"
   ]
  },
  {
   "cell_type": "code",
   "execution_count": 11,
   "id": "74530697",
   "metadata": {},
   "outputs": [
    {
     "data": {
      "text/html": [
       "<div>\n",
       "<style scoped>\n",
       "    .dataframe tbody tr th:only-of-type {\n",
       "        vertical-align: middle;\n",
       "    }\n",
       "\n",
       "    .dataframe tbody tr th {\n",
       "        vertical-align: top;\n",
       "    }\n",
       "\n",
       "    .dataframe thead th {\n",
       "        text-align: right;\n",
       "    }\n",
       "</style>\n",
       "<table border=\"1\" class=\"dataframe\">\n",
       "  <thead>\n",
       "    <tr style=\"text-align: right;\">\n",
       "      <th></th>\n",
       "      <th>Employee id</th>\n",
       "      <th>Employee age</th>\n",
       "      <th>Employee  monthly salary</th>\n",
       "      <th>Employee Service as per year</th>\n",
       "    </tr>\n",
       "  </thead>\n",
       "  <tbody>\n",
       "    <tr>\n",
       "      <th>count</th>\n",
       "      <td>7.000000</td>\n",
       "      <td>8.000000</td>\n",
       "      <td>6.000000</td>\n",
       "      <td>6.00000</td>\n",
       "    </tr>\n",
       "    <tr>\n",
       "      <th>mean</th>\n",
       "      <td>126.000000</td>\n",
       "      <td>33.625000</td>\n",
       "      <td>64.333333</td>\n",
       "      <td>5.00000</td>\n",
       "    </tr>\n",
       "    <tr>\n",
       "      <th>std</th>\n",
       "      <td>2.160247</td>\n",
       "      <td>11.400971</td>\n",
       "      <td>24.598103</td>\n",
       "      <td>3.03315</td>\n",
       "    </tr>\n",
       "    <tr>\n",
       "      <th>min</th>\n",
       "      <td>123.000000</td>\n",
       "      <td>21.000000</td>\n",
       "      <td>30.000000</td>\n",
       "      <td>1.00000</td>\n",
       "    </tr>\n",
       "    <tr>\n",
       "      <th>25%</th>\n",
       "      <td>124.500000</td>\n",
       "      <td>23.750000</td>\n",
       "      <td>47.750000</td>\n",
       "      <td>2.75000</td>\n",
       "    </tr>\n",
       "    <tr>\n",
       "      <th>50%</th>\n",
       "      <td>126.000000</td>\n",
       "      <td>34.000000</td>\n",
       "      <td>66.000000</td>\n",
       "      <td>5.50000</td>\n",
       "    </tr>\n",
       "    <tr>\n",
       "      <th>75%</th>\n",
       "      <td>127.500000</td>\n",
       "      <td>36.750000</td>\n",
       "      <td>85.750000</td>\n",
       "      <td>6.75000</td>\n",
       "    </tr>\n",
       "    <tr>\n",
       "      <th>max</th>\n",
       "      <td>129.000000</td>\n",
       "      <td>54.000000</td>\n",
       "      <td>90.000000</td>\n",
       "      <td>9.00000</td>\n",
       "    </tr>\n",
       "  </tbody>\n",
       "</table>\n",
       "</div>"
      ],
      "text/plain": [
       "       Employee id  Employee age  Employee  monthly salary  \\\n",
       "count     7.000000      8.000000                  6.000000   \n",
       "mean    126.000000     33.625000                 64.333333   \n",
       "std       2.160247     11.400971                 24.598103   \n",
       "min     123.000000     21.000000                 30.000000   \n",
       "25%     124.500000     23.750000                 47.750000   \n",
       "50%     126.000000     34.000000                 66.000000   \n",
       "75%     127.500000     36.750000                 85.750000   \n",
       "max     129.000000     54.000000                 90.000000   \n",
       "\n",
       "       Employee Service as per year  \n",
       "count                       6.00000  \n",
       "mean                        5.00000  \n",
       "std                         3.03315  \n",
       "min                         1.00000  \n",
       "25%                         2.75000  \n",
       "50%                         5.50000  \n",
       "75%                         6.75000  \n",
       "max                         9.00000  "
      ]
     },
     "execution_count": 11,
     "metadata": {},
     "output_type": "execute_result"
    }
   ],
   "source": [
    "employee.describe()"
   ]
  },
  {
   "cell_type": "code",
   "execution_count": 12,
   "id": "59120844",
   "metadata": {},
   "outputs": [
    {
     "data": {
      "text/html": [
       "<div>\n",
       "<style scoped>\n",
       "    .dataframe tbody tr th:only-of-type {\n",
       "        vertical-align: middle;\n",
       "    }\n",
       "\n",
       "    .dataframe tbody tr th {\n",
       "        vertical-align: top;\n",
       "    }\n",
       "\n",
       "    .dataframe thead th {\n",
       "        text-align: right;\n",
       "    }\n",
       "</style>\n",
       "<table border=\"1\" class=\"dataframe\">\n",
       "  <thead>\n",
       "    <tr style=\"text-align: right;\">\n",
       "      <th></th>\n",
       "      <th>Employee id</th>\n",
       "      <th>Employee name</th>\n",
       "      <th>Employee age</th>\n",
       "      <th>Employee  monthly salary</th>\n",
       "      <th>Employee Department</th>\n",
       "      <th>Employee Service as per year</th>\n",
       "    </tr>\n",
       "  </thead>\n",
       "  <tbody>\n",
       "    <tr>\n",
       "      <th>0</th>\n",
       "      <td>123.0</td>\n",
       "      <td>Abdullah</td>\n",
       "      <td>34.0</td>\n",
       "      <td>30.0</td>\n",
       "      <td>Prod</td>\n",
       "      <td>1.0</td>\n",
       "    </tr>\n",
       "    <tr>\n",
       "      <th>1</th>\n",
       "      <td>124.0</td>\n",
       "      <td>Ali</td>\n",
       "      <td>NaN</td>\n",
       "      <td>45.0</td>\n",
       "      <td>NaN</td>\n",
       "      <td>2.0</td>\n",
       "    </tr>\n",
       "    <tr>\n",
       "      <th>2</th>\n",
       "      <td>125.0</td>\n",
       "      <td>Hassan</td>\n",
       "      <td>NaN</td>\n",
       "      <td>56.0</td>\n",
       "      <td>NaN</td>\n",
       "      <td>5.0</td>\n",
       "    </tr>\n",
       "    <tr>\n",
       "      <th>3</th>\n",
       "      <td>126.0</td>\n",
       "      <td>Kamal</td>\n",
       "      <td>NaN</td>\n",
       "      <td>76.0</td>\n",
       "      <td>NaN</td>\n",
       "      <td>6.0</td>\n",
       "    </tr>\n",
       "    <tr>\n",
       "      <th>4</th>\n",
       "      <td>127.0</td>\n",
       "      <td>Kashif</td>\n",
       "      <td>NaN</td>\n",
       "      <td>89.0</td>\n",
       "      <td>NaN</td>\n",
       "      <td>7.0</td>\n",
       "    </tr>\n",
       "    <tr>\n",
       "      <th>5</th>\n",
       "      <td>128.0</td>\n",
       "      <td>Noah</td>\n",
       "      <td>NaN</td>\n",
       "      <td>90.0</td>\n",
       "      <td>NaN</td>\n",
       "      <td>9.0</td>\n",
       "    </tr>\n",
       "    <tr>\n",
       "      <th>6</th>\n",
       "      <td>129.0</td>\n",
       "      <td>Taqwi</td>\n",
       "      <td>NaN</td>\n",
       "      <td>NaN</td>\n",
       "      <td>NaN</td>\n",
       "      <td>NaN</td>\n",
       "    </tr>\n",
       "    <tr>\n",
       "      <th>7</th>\n",
       "      <td>NaN</td>\n",
       "      <td>Umer</td>\n",
       "      <td>NaN</td>\n",
       "      <td>NaN</td>\n",
       "      <td>NaN</td>\n",
       "      <td>NaN</td>\n",
       "    </tr>\n",
       "    <tr>\n",
       "      <th>8</th>\n",
       "      <td>NaN</td>\n",
       "      <td>Zain</td>\n",
       "      <td>NaN</td>\n",
       "      <td>NaN</td>\n",
       "      <td>NaN</td>\n",
       "      <td>NaN</td>\n",
       "    </tr>\n",
       "  </tbody>\n",
       "</table>\n",
       "</div>"
      ],
      "text/plain": [
       "   Employee id Employee name  Employee age  Employee  monthly salary  \\\n",
       "0        123.0      Abdullah          34.0                      30.0   \n",
       "1        124.0           Ali           NaN                      45.0   \n",
       "2        125.0        Hassan           NaN                      56.0   \n",
       "3        126.0         Kamal           NaN                      76.0   \n",
       "4        127.0        Kashif           NaN                      89.0   \n",
       "5        128.0          Noah           NaN                      90.0   \n",
       "6        129.0         Taqwi           NaN                       NaN   \n",
       "7          NaN          Umer           NaN                       NaN   \n",
       "8          NaN          Zain           NaN                       NaN   \n",
       "\n",
       "  Employee Department  Employee Service as per year  \n",
       "0                Prod                           1.0  \n",
       "1                 NaN                           2.0  \n",
       "2                 NaN                           5.0  \n",
       "3                 NaN                           6.0  \n",
       "4                 NaN                           7.0  \n",
       "5                 NaN                           9.0  \n",
       "6                 NaN                           NaN  \n",
       "7                 NaN                           NaN  \n",
       "8                 NaN                           NaN  "
      ]
     },
     "execution_count": 12,
     "metadata": {},
     "output_type": "execute_result"
    }
   ],
   "source": [
    "employee.mode()"
   ]
  },
  {
   "cell_type": "code",
   "execution_count": 13,
   "id": "d584a356",
   "metadata": {},
   "outputs": [
    {
     "data": {
      "text/plain": [
       "Employee id                    -1.200000\n",
       "Employee age                   -0.114597\n",
       "Employee  monthly salary       -1.743820\n",
       "Employee Service as per year   -1.205104\n",
       "dtype: float64"
      ]
     },
     "execution_count": 13,
     "metadata": {},
     "output_type": "execute_result"
    }
   ],
   "source": [
    "employee.kurtosis(numeric_only=True)"
   ]
  },
  {
   "cell_type": "code",
   "execution_count": 14,
   "id": "cc41eb88",
   "metadata": {},
   "outputs": [
    {
     "data": {
      "text/plain": [
       "Employee id                     0.000000\n",
       "Employee age                    0.748967\n",
       "Employee  monthly salary       -0.297744\n",
       "Employee Service as per year   -0.193514\n",
       "dtype: float64"
      ]
     },
     "execution_count": 14,
     "metadata": {},
     "output_type": "execute_result"
    }
   ],
   "source": [
    "employee.skew(numeric_only=True) # Only those columns or row appears which are numerical in type!"
   ]
  },
  {
   "cell_type": "markdown",
   "id": "1af6de36",
   "metadata": {},
   "source": [
    "<img src='https://danielmiessler.com/images/Mean-Median-Mode-and-Range-e1480829559507-1.png' width=75%>"
   ]
  },
  {
   "cell_type": "markdown",
   "id": "3dbb3e81",
   "metadata": {},
   "source": [
    "<img src='https://i.ytimg.com/vi/aGGeq0QgWAs/maxresdefault.jpg' width=75%>"
   ]
  },
  {
   "cell_type": "markdown",
   "id": "2559a10c",
   "metadata": {},
   "source": [
    "<img src='https://encrypted-tbn0.gstatic.com/images?q=tbn:ANd9GcSu2cfk5Qm7DTxeE4uLWJKKp4ZMXnzlDhLGvw&usqp=CAU' width=75%>"
   ]
  },
  {
   "cell_type": "code",
   "execution_count": 15,
   "id": "a33c9ef0",
   "metadata": {},
   "outputs": [],
   "source": [
    "# Discussing Stats in class."
   ]
  },
  {
   "cell_type": "markdown",
   "id": "2a421805",
   "metadata": {},
   "source": [
    "<img src = 'https://dpbnri2zg3lc2.cloudfront.net/en/wp-content/uploads/old-blog-uploads/ratio-data-1.jpg'>\n",
    "<img src = 'https://dpbnri2zg3lc2.cloudfront.net/en/wp-content/uploads/old-blog-uploads/four-levels-of-measurement-data-4.jpg'>\n",
    "<img src = 'https://www.chi2innovations.com/wp-content/uploads/2020/11/Ratio-Data-Examples.png'>\n"
   ]
  },
  {
   "cell_type": "markdown",
   "id": "01cd41e7",
   "metadata": {},
   "source": [
    "<img src='https://www.questionpro.com/blog/wp-content/uploads/2018/05/Blog_NOIR-image3-1.jpg'>"
   ]
  },
  {
   "cell_type": "code",
   "execution_count": 16,
   "id": "2e843c02",
   "metadata": {},
   "outputs": [],
   "source": [
    "df = pd.DataFrame({'flower':['Rose','Tulip','Sunflower','Jasmine'],\n",
    "                'frequency':[3,5,2,6],\n",
    "                'CF':[3,8,10,16] \n",
    "                # CF = Cummulative frequency. Also, can be calculated by cumsum() function!                  \n",
    "                })"
   ]
  },
  {
   "cell_type": "code",
   "execution_count": 17,
   "id": "6689e899",
   "metadata": {},
   "outputs": [
    {
     "data": {
      "text/html": [
       "<div>\n",
       "<style scoped>\n",
       "    .dataframe tbody tr th:only-of-type {\n",
       "        vertical-align: middle;\n",
       "    }\n",
       "\n",
       "    .dataframe tbody tr th {\n",
       "        vertical-align: top;\n",
       "    }\n",
       "\n",
       "    .dataframe thead th {\n",
       "        text-align: right;\n",
       "    }\n",
       "</style>\n",
       "<table border=\"1\" class=\"dataframe\">\n",
       "  <thead>\n",
       "    <tr style=\"text-align: right;\">\n",
       "      <th></th>\n",
       "      <th>flower</th>\n",
       "      <th>frequency</th>\n",
       "      <th>CF</th>\n",
       "    </tr>\n",
       "  </thead>\n",
       "  <tbody>\n",
       "    <tr>\n",
       "      <th>0</th>\n",
       "      <td>Rose</td>\n",
       "      <td>3</td>\n",
       "      <td>3</td>\n",
       "    </tr>\n",
       "    <tr>\n",
       "      <th>1</th>\n",
       "      <td>Tulip</td>\n",
       "      <td>5</td>\n",
       "      <td>8</td>\n",
       "    </tr>\n",
       "    <tr>\n",
       "      <th>2</th>\n",
       "      <td>Sunflower</td>\n",
       "      <td>2</td>\n",
       "      <td>10</td>\n",
       "    </tr>\n",
       "    <tr>\n",
       "      <th>3</th>\n",
       "      <td>Jasmine</td>\n",
       "      <td>6</td>\n",
       "      <td>16</td>\n",
       "    </tr>\n",
       "  </tbody>\n",
       "</table>\n",
       "</div>"
      ],
      "text/plain": [
       "      flower  frequency  CF\n",
       "0       Rose          3   3\n",
       "1      Tulip          5   8\n",
       "2  Sunflower          2  10\n",
       "3    Jasmine          6  16"
      ]
     },
     "execution_count": 17,
     "metadata": {},
     "output_type": "execute_result"
    }
   ],
   "source": [
    "df"
   ]
  },
  {
   "cell_type": "code",
   "execution_count": 18,
   "id": "56b7879d",
   "metadata": {},
   "outputs": [
    {
     "data": {
      "text/html": [
       "<div>\n",
       "<style scoped>\n",
       "    .dataframe tbody tr th:only-of-type {\n",
       "        vertical-align: middle;\n",
       "    }\n",
       "\n",
       "    .dataframe tbody tr th {\n",
       "        vertical-align: top;\n",
       "    }\n",
       "\n",
       "    .dataframe thead th {\n",
       "        text-align: right;\n",
       "    }\n",
       "</style>\n",
       "<table border=\"1\" class=\"dataframe\">\n",
       "  <thead>\n",
       "    <tr style=\"text-align: right;\">\n",
       "      <th></th>\n",
       "      <th>frequency</th>\n",
       "      <th>CF</th>\n",
       "    </tr>\n",
       "    <tr>\n",
       "      <th>flower</th>\n",
       "      <th></th>\n",
       "      <th></th>\n",
       "    </tr>\n",
       "  </thead>\n",
       "  <tbody>\n",
       "    <tr>\n",
       "      <th>Rose</th>\n",
       "      <td>3</td>\n",
       "      <td>3</td>\n",
       "    </tr>\n",
       "    <tr>\n",
       "      <th>Tulip</th>\n",
       "      <td>5</td>\n",
       "      <td>8</td>\n",
       "    </tr>\n",
       "    <tr>\n",
       "      <th>Sunflower</th>\n",
       "      <td>2</td>\n",
       "      <td>10</td>\n",
       "    </tr>\n",
       "    <tr>\n",
       "      <th>Jasmine</th>\n",
       "      <td>6</td>\n",
       "      <td>16</td>\n",
       "    </tr>\n",
       "  </tbody>\n",
       "</table>\n",
       "</div>"
      ],
      "text/plain": [
       "           frequency  CF\n",
       "flower                  \n",
       "Rose               3   3\n",
       "Tulip              5   8\n",
       "Sunflower          2  10\n",
       "Jasmine            6  16"
      ]
     },
     "execution_count": 18,
     "metadata": {},
     "output_type": "execute_result"
    }
   ],
   "source": [
    "df.set_index('flower')"
   ]
  },
  {
   "cell_type": "code",
   "execution_count": 19,
   "id": "9465e569",
   "metadata": {},
   "outputs": [
    {
     "data": {
      "text/plain": [
       "<AxesSubplot:xlabel='flower'>"
      ]
     },
     "execution_count": 19,
     "metadata": {},
     "output_type": "execute_result"
    },
    {
     "data": {
      "image/png": "[encoded data removed]",
      "text/plain": [
       "<Figure size 432x288 with 1 Axes>"
      ]
     },
     "metadata": {
      "needs_background": "light"
     },
     "output_type": "display_data"
    }
   ],
   "source": [
    "df.plot(kind='bar', x='flower')"
   ]
  },
  {
   "cell_type": "code",
   "execution_count": 20,
   "id": "60ec1d7b",
   "metadata": {},
   "outputs": [
    {
     "data": {
      "text/plain": [
       "<AxesSubplot:xlabel='flower'>"
      ]
     },
     "execution_count": 20,
     "metadata": {},
     "output_type": "execute_result"
    },
    {
     "data": {
      "image/png": "[encoded data removed]",
      "text/plain": [
       "<Figure size 432x288 with 1 Axes>"
      ]
     },
     "metadata": {
      "needs_background": "light"
     },
     "output_type": "display_data"
    }
   ],
   "source": [
    "df.plot(kind='bar', x='flower', y='frequency')"
   ]
  },
  {
   "cell_type": "code",
   "execution_count": 21,
   "id": "0d4a24bb",
   "metadata": {},
   "outputs": [],
   "source": [
    "# Done "
   ]
  }
 ],
 "metadata": {
  "kernelspec": {
   "display_name": "Python 3 (ipykernel)",
   "language": "python",
   "name": "python3"
  },
  "language_info": {
   "codemirror_mode": {
    "name": "ipython",
    "version": 3
   },
   "file_extension": ".py",
   "mimetype": "text/x-python",
   "name": "python",
   "nbconvert_exporter": "python",
   "pygments_lexer": "ipython3",
   "version": "3.9.7"
  }
 },
 "nbformat": 4,
 "nbformat_minor": 5
}
