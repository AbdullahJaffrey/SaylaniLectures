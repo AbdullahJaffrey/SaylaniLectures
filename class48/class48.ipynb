{
 "cells": [
  {
   "cell_type": "code",
   "execution_count": 1,
   "id": "0077de32",
   "metadata": {},
   "outputs": [],
   "source": [
    "# (14/11/2022) Monday"
   ]
  },
  {
   "cell_type": "markdown",
   "id": "3bcac6cb",
   "metadata": {},
   "source": [
    "# Let's Explore:\n",
    "\n",
    "<img src='https://www.bing.com/th?id=OSK.DESNHaMOY7eIz6mIC9OsOpLQX7rvhpOj5BwClRpOCLiFWv8&w=384&h=228&rs=2&o=6&oif=webp&pid=SANGAM' />\n",
    "\n",
    "**Halki, Greece :**\n",
    "\n",
    "Halki, a tiny Greek island in the Aegean Sea, remains quiet when other Greek islands are filled with visitors. The only way to arrive is by ferry from Rhodes. Halki has a total area of just 28 square kilometres, the smallest of the 26 inhabited islands in the Dodecanese group. One of the most popular attractions on Halki is the ruins of this medieval castle built by the Knights of St. John in the 14th century, in the now abandoned village of Chorio. It’s a short, uphill walk from the only town here, the port village of Emporio, where most of the island’s few hundred permanent residents live.\n",
    "\n",
    "A significant portion of the population left in the mid-20th century, many of them settling in the Gulf Coast town of Tarpon Springs, Florida, which has the highest percentage of Greek Americans of any city in the United States. These days, not much happens in Halki beyond eating, relaxing and swimming. Like all Greek islands, Halki has beautiful beaches. Here, you’re more likely to have them all to yourself."
   ]
  },
  {
   "cell_type": "code",
   "execution_count": 2,
   "id": "991d0696",
   "metadata": {},
   "outputs": [],
   "source": [
    "# Class Starts from here:"
   ]
  },
  {
   "cell_type": "code",
   "execution_count": 3,
   "id": "e5332c76",
   "metadata": {},
   "outputs": [],
   "source": [
    "import numpy as np\n",
    "import pandas as pd\n",
    "import matplotlib.pyplot as plt"
   ]
  },
  {
   "cell_type": "markdown",
   "id": "cfacc775",
   "metadata": {},
   "source": [
    "# Types of Regressions:\n",
    "\n",
    "    A. Simple Linear Regression\n",
    "\n",
    "    B. Multiple Linear Regression\n",
    "\n",
    "    C. Polynomial Regression"
   ]
  },
  {
   "cell_type": "markdown",
   "id": "60b81274",
   "metadata": {},
   "source": [
    "# Logistic Regression: \n",
    "\n",
    "    Belongs to the Classification regression but from the common regression algorithm."
   ]
  },
  {
   "cell_type": "markdown",
   "id": "4f7618f0",
   "metadata": {},
   "source": [
    "# Simple Linear Regression\n",
    "**-----------------------**"
   ]
  },
  {
   "cell_type": "code",
   "execution_count": 4,
   "id": "59e8665b",
   "metadata": {},
   "outputs": [
    {
     "data": {
      "text/html": [
       "<div>\n",
       "<style scoped>\n",
       "    .dataframe tbody tr th:only-of-type {\n",
       "        vertical-align: middle;\n",
       "    }\n",
       "\n",
       "    .dataframe tbody tr th {\n",
       "        vertical-align: top;\n",
       "    }\n",
       "\n",
       "    .dataframe thead th {\n",
       "        text-align: right;\n",
       "    }\n",
       "</style>\n",
       "<table border=\"1\" class=\"dataframe\">\n",
       "  <thead>\n",
       "    <tr style=\"text-align: right;\">\n",
       "      <th></th>\n",
       "      <th>diameter</th>\n",
       "      <th>price</th>\n",
       "    </tr>\n",
       "  </thead>\n",
       "  <tbody>\n",
       "    <tr>\n",
       "      <th>0</th>\n",
       "      <td>6</td>\n",
       "      <td>7.0</td>\n",
       "    </tr>\n",
       "    <tr>\n",
       "      <th>1</th>\n",
       "      <td>8</td>\n",
       "      <td>9.0</td>\n",
       "    </tr>\n",
       "    <tr>\n",
       "      <th>2</th>\n",
       "      <td>10</td>\n",
       "      <td>13.0</td>\n",
       "    </tr>\n",
       "    <tr>\n",
       "      <th>3</th>\n",
       "      <td>14</td>\n",
       "      <td>17.5</td>\n",
       "    </tr>\n",
       "    <tr>\n",
       "      <th>4</th>\n",
       "      <td>18</td>\n",
       "      <td>18.0</td>\n",
       "    </tr>\n",
       "  </tbody>\n",
       "</table>\n",
       "</div>"
      ],
      "text/plain": [
       "   diameter  price\n",
       "0         6    7.0\n",
       "1         8    9.0\n",
       "2        10   13.0\n",
       "3        14   17.5\n",
       "4        18   18.0"
      ]
     },
     "execution_count": 4,
     "metadata": {},
     "output_type": "execute_result"
    }
   ],
   "source": [
    "data=pd.DataFrame({'diameter':[6,8,10,14,18],'price':[7,9,13,17.5,18]})\n",
    "data"
   ]
  },
  {
   "cell_type": "code",
   "execution_count": 5,
   "id": "0fad57a3",
   "metadata": {},
   "outputs": [],
   "source": [
    "X = data.diameter.values.reshape(5,1)\n",
    "Y = data.price.values.reshape(5,1)"
   ]
  },
  {
   "cell_type": "code",
   "execution_count": 6,
   "id": "dd6d5110",
   "metadata": {},
   "outputs": [
    {
     "data": {
      "text/plain": [
       "array([[ 6],\n",
       "       [ 8],\n",
       "       [10],\n",
       "       [14],\n",
       "       [18]], dtype=int64)"
      ]
     },
     "execution_count": 6,
     "metadata": {},
     "output_type": "execute_result"
    }
   ],
   "source": [
    "X"
   ]
  },
  {
   "cell_type": "code",
   "execution_count": 7,
   "id": "ce10e288",
   "metadata": {},
   "outputs": [
    {
     "data": {
      "text/plain": [
       "array([[ 7. ],\n",
       "       [ 9. ],\n",
       "       [13. ],\n",
       "       [17.5],\n",
       "       [18. ]])"
      ]
     },
     "execution_count": 7,
     "metadata": {},
     "output_type": "execute_result"
    }
   ],
   "source": [
    "Y"
   ]
  },
  {
   "cell_type": "code",
   "execution_count": 8,
   "id": "2ed460d1",
   "metadata": {},
   "outputs": [
    {
     "data": {
      "image/png": "[encoded data removed]",
      "text/plain": [
       "<Figure size 432x288 with 1 Axes>"
      ]
     },
     "metadata": {
      "needs_background": "light"
     },
     "output_type": "display_data"
    }
   ],
   "source": [
    "plt.figure()\n",
    "plt.title('Price of Pizza on the based on Diameter')\n",
    "plt.plot(X,Y)\n",
    "plt.xlabel('Diameter')\n",
    "plt.ylabel('Price')\n",
    "plt.grid(True)\n",
    "plt.show()"
   ]
  },
  {
   "cell_type": "code",
   "execution_count": 9,
   "id": "16c12ded",
   "metadata": {},
   "outputs": [
    {
     "data": {
      "image/png": "[encoded data removed]",
      "text/plain": [
       "<Figure size 432x288 with 1 Axes>"
      ]
     },
     "metadata": {
      "needs_background": "light"
     },
     "output_type": "display_data"
    }
   ],
   "source": [
    "plt.figure()\n",
    "plt.title('Price of Pizza on the based on Diameter')\n",
    "plt.plot(X,Y,'k')\n",
    "plt.xlabel('Diameter')\n",
    "plt.ylabel('Price')\n",
    "plt.grid(True)\n",
    "plt.show()"
   ]
  },
  {
   "cell_type": "code",
   "execution_count": 10,
   "id": "15bf02e1",
   "metadata": {},
   "outputs": [
    {
     "data": {
      "image/png": "[encoded data removed]",
      "text/plain": [
       "<Figure size 432x288 with 1 Axes>"
      ]
     },
     "metadata": {
      "needs_background": "light"
     },
     "output_type": "display_data"
    }
   ],
   "source": [
    "plt.figure()\n",
    "plt.title('Price of Pizza on the based on Diameter')\n",
    "plt.plot(X,Y,'k.')\n",
    "plt.axis([0,25,0,25])\n",
    "plt.xlabel('Diameter')\n",
    "plt.ylabel('Price')\n",
    "plt.grid(True)\n",
    "plt.show()"
   ]
  },
  {
   "cell_type": "code",
   "execution_count": 11,
   "id": "0638b4c6",
   "metadata": {},
   "outputs": [],
   "source": [
    "from sklearn.linear_model import LinearRegression"
   ]
  },
  {
   "cell_type": "code",
   "execution_count": 12,
   "id": "4575fa88",
   "metadata": {},
   "outputs": [],
   "source": [
    "lr = LinearRegression()"
   ]
  },
  {
   "cell_type": "code",
   "execution_count": 13,
   "id": "a4443308",
   "metadata": {},
   "outputs": [
    {
     "data": {
      "text/plain": [
       "LinearRegression()"
      ]
     },
     "execution_count": 13,
     "metadata": {},
     "output_type": "execute_result"
    }
   ],
   "source": [
    "lr.fit(X,Y)"
   ]
  },
  {
   "cell_type": "code",
   "execution_count": 14,
   "id": "cf6a7a11",
   "metadata": {},
   "outputs": [],
   "source": [
    "predicted_price = lr.predict(X)"
   ]
  },
  {
   "cell_type": "code",
   "execution_count": 15,
   "id": "d29e356e",
   "metadata": {},
   "outputs": [
    {
     "name": "stdout",
     "output_type": "stream",
     "text": [
      "[[ 7.82327586]\n",
      " [ 9.77586207]\n",
      " [11.72844828]\n",
      " [15.63362069]\n",
      " [19.5387931 ]]\n"
     ]
    }
   ],
   "source": [
    "print(predicted_price)"
   ]
  },
  {
   "cell_type": "code",
   "execution_count": 16,
   "id": "408f5e09",
   "metadata": {},
   "outputs": [],
   "source": [
    "data['predicted_price'] = predicted_price"
   ]
  },
  {
   "cell_type": "code",
   "execution_count": 17,
   "id": "afc1c815",
   "metadata": {},
   "outputs": [
    {
     "data": {
      "image/png": "[encoded data removed]",
      "text/plain": [
       "<Figure size 432x288 with 1 Axes>"
      ]
     },
     "metadata": {
      "needs_background": "light"
     },
     "output_type": "display_data"
    }
   ],
   "source": [
    "plt.figure()\n",
    "plt.title('Price of Pizza on the based on Diameter')\n",
    "plt.plot(X,Y,'k.')\n",
    "plt.plot(X,predicted_price)\n",
    "plt.axis([0,25,0,25])\n",
    "plt.xlabel('Diameter')\n",
    "plt.ylabel('Price')\n",
    "plt.grid(True)\n",
    "plt.show()"
   ]
  },
  {
   "cell_type": "markdown",
   "id": "01470fb8",
   "metadata": {},
   "source": [
    "# Root Mean square:\n",
    "\n",
    "<img src='https://miro.medium.com/max/966/1*lqDsPkfXPGen32Uem1PTNg.png'>"
   ]
  },
  {
   "cell_type": "code",
   "execution_count": 18,
   "id": "8138a218",
   "metadata": {},
   "outputs": [
    {
     "name": "stdout",
     "output_type": "stream",
     "text": [
      " Root Mean square is:\n",
      "      1.7495689655172406\n",
      "      \n"
     ]
    }
   ],
   "source": [
    "print(f\"\"\" Root Mean square is:\n",
    "      {np.mean((lr.predict(X)-Y)**2)}\n",
    "      \"\"\")"
   ]
  },
  {
   "cell_type": "code",
   "execution_count": 19,
   "id": "3387f0ac",
   "metadata": {},
   "outputs": [
    {
     "name": "stdout",
     "output_type": "stream",
     "text": [
      "Enter the diameter: 12\n",
      " Price per 12 diameter pizza! 13.681034482758621\n"
     ]
    }
   ],
   "source": [
    "i = int(input('Enter the diameter: '))\n",
    "print(f\" Price per {i} diameter pizza! {np.mean(lr.predict([[i]]))}\")"
   ]
  },
  {
   "cell_type": "code",
   "execution_count": 20,
   "id": "a1f6376d",
   "metadata": {},
   "outputs": [
    {
     "name": "stdout",
     "output_type": "stream",
     "text": [
      "Enter the diameter: 50\n",
      "Price will be 50.78017241379309 $ for 50 diameter pizza!\n"
     ]
    }
   ],
   "source": [
    "i = int(input('Enter the diameter: '))\n",
    "print(f\"Price will be {np.mean(lr.predict([[i]]))} $ for {i} diameter pizza!\")"
   ]
  },
  {
   "cell_type": "code",
   "execution_count": 21,
   "id": "0f07e08e",
   "metadata": {},
   "outputs": [
    {
     "data": {
      "text/html": [
       "<div>\n",
       "<style scoped>\n",
       "    .dataframe tbody tr th:only-of-type {\n",
       "        vertical-align: middle;\n",
       "    }\n",
       "\n",
       "    .dataframe tbody tr th {\n",
       "        vertical-align: top;\n",
       "    }\n",
       "\n",
       "    .dataframe thead th {\n",
       "        text-align: right;\n",
       "    }\n",
       "</style>\n",
       "<table border=\"1\" class=\"dataframe\">\n",
       "  <thead>\n",
       "    <tr style=\"text-align: right;\">\n",
       "      <th></th>\n",
       "      <th>diameter</th>\n",
       "      <th>price</th>\n",
       "      <th>predicted_price</th>\n",
       "    </tr>\n",
       "  </thead>\n",
       "  <tbody>\n",
       "    <tr>\n",
       "      <th>0</th>\n",
       "      <td>6</td>\n",
       "      <td>7.0</td>\n",
       "      <td>7.823276</td>\n",
       "    </tr>\n",
       "    <tr>\n",
       "      <th>1</th>\n",
       "      <td>8</td>\n",
       "      <td>9.0</td>\n",
       "      <td>9.775862</td>\n",
       "    </tr>\n",
       "    <tr>\n",
       "      <th>2</th>\n",
       "      <td>10</td>\n",
       "      <td>13.0</td>\n",
       "      <td>11.728448</td>\n",
       "    </tr>\n",
       "    <tr>\n",
       "      <th>3</th>\n",
       "      <td>14</td>\n",
       "      <td>17.5</td>\n",
       "      <td>15.633621</td>\n",
       "    </tr>\n",
       "    <tr>\n",
       "      <th>4</th>\n",
       "      <td>18</td>\n",
       "      <td>18.0</td>\n",
       "      <td>19.538793</td>\n",
       "    </tr>\n",
       "  </tbody>\n",
       "</table>\n",
       "</div>"
      ],
      "text/plain": [
       "   diameter  price  predicted_price\n",
       "0         6    7.0         7.823276\n",
       "1         8    9.0         9.775862\n",
       "2        10   13.0        11.728448\n",
       "3        14   17.5        15.633621\n",
       "4        18   18.0        19.538793"
      ]
     },
     "execution_count": 21,
     "metadata": {},
     "output_type": "execute_result"
    }
   ],
   "source": [
    "data"
   ]
  },
  {
   "cell_type": "code",
   "execution_count": 22,
   "id": "d52c474c",
   "metadata": {},
   "outputs": [
    {
     "data": {
      "text/html": [
       "<div>\n",
       "<style scoped>\n",
       "    .dataframe tbody tr th:only-of-type {\n",
       "        vertical-align: middle;\n",
       "    }\n",
       "\n",
       "    .dataframe tbody tr th {\n",
       "        vertical-align: top;\n",
       "    }\n",
       "\n",
       "    .dataframe thead th {\n",
       "        text-align: right;\n",
       "    }\n",
       "</style>\n",
       "<table border=\"1\" class=\"dataframe\">\n",
       "  <thead>\n",
       "    <tr style=\"text-align: right;\">\n",
       "      <th></th>\n",
       "      <th>diameter</th>\n",
       "      <th>price</th>\n",
       "    </tr>\n",
       "  </thead>\n",
       "  <tbody>\n",
       "    <tr>\n",
       "      <th>0</th>\n",
       "      <td>8</td>\n",
       "      <td>11.0</td>\n",
       "    </tr>\n",
       "    <tr>\n",
       "      <th>1</th>\n",
       "      <td>9</td>\n",
       "      <td>8.5</td>\n",
       "    </tr>\n",
       "    <tr>\n",
       "      <th>2</th>\n",
       "      <td>11</td>\n",
       "      <td>15.0</td>\n",
       "    </tr>\n",
       "    <tr>\n",
       "      <th>3</th>\n",
       "      <td>16</td>\n",
       "      <td>18.0</td>\n",
       "    </tr>\n",
       "    <tr>\n",
       "      <th>4</th>\n",
       "      <td>12</td>\n",
       "      <td>11.0</td>\n",
       "    </tr>\n",
       "  </tbody>\n",
       "</table>\n",
       "</div>"
      ],
      "text/plain": [
       "   diameter  price\n",
       "0         8   11.0\n",
       "1         9    8.5\n",
       "2        11   15.0\n",
       "3        16   18.0\n",
       "4        12   11.0"
      ]
     },
     "execution_count": 22,
     "metadata": {},
     "output_type": "execute_result"
    }
   ],
   "source": [
    "test_data = pd.DataFrame({'diameter':[8,9,11,16,12],'price':[11,8.5,15,18,11]})\n",
    "test_data"
   ]
  },
  {
   "cell_type": "code",
   "execution_count": 23,
   "id": "eb20dda9",
   "metadata": {},
   "outputs": [],
   "source": [
    "X_test = test_data.diameter.values.reshape(5,1)"
   ]
  },
  {
   "cell_type": "code",
   "execution_count": 24,
   "id": "c75f2be1",
   "metadata": {},
   "outputs": [
    {
     "data": {
      "text/plain": [
       "array([[ 8],\n",
       "       [ 9],\n",
       "       [11],\n",
       "       [16],\n",
       "       [12]], dtype=int64)"
      ]
     },
     "execution_count": 24,
     "metadata": {},
     "output_type": "execute_result"
    }
   ],
   "source": [
    "X_test"
   ]
  },
  {
   "cell_type": "code",
   "execution_count": 25,
   "id": "76d6df95",
   "metadata": {},
   "outputs": [
    {
     "data": {
      "text/plain": [
       "array([[11. ],\n",
       "       [ 8.5],\n",
       "       [15. ],\n",
       "       [18. ],\n",
       "       [11. ]])"
      ]
     },
     "execution_count": 25,
     "metadata": {},
     "output_type": "execute_result"
    }
   ],
   "source": [
    "Y_test = test_data.price.values.reshape(5,1)\n",
    "Y_test"
   ]
  },
  {
   "cell_type": "code",
   "execution_count": 26,
   "id": "de53c8d2",
   "metadata": {},
   "outputs": [
    {
     "data": {
      "text/plain": [
       "array([[-1.22413793],\n",
       "       [ 2.25215517],\n",
       "       [-2.29525862],\n",
       "       [-0.4137931 ],\n",
       "       [ 2.68103448]])"
      ]
     },
     "execution_count": 26,
     "metadata": {},
     "output_type": "execute_result"
    }
   ],
   "source": [
    "lr.predict(X_test)-Y_test"
   ]
  },
  {
   "cell_type": "code",
   "execution_count": 27,
   "id": "bfacd7cf",
   "metadata": {},
   "outputs": [
    {
     "data": {
      "text/plain": [
       "0.6620052929422553"
      ]
     },
     "execution_count": 27,
     "metadata": {},
     "output_type": "execute_result"
    }
   ],
   "source": [
    "r2_score = lr.score(X_test,Y_test)\n",
    "r2_score"
   ]
  },
  {
   "cell_type": "code",
   "execution_count": 28,
   "id": "b81ca46a",
   "metadata": {},
   "outputs": [
    {
     "data": {
      "text/plain": [
       "LinearRegression()"
      ]
     },
     "execution_count": 28,
     "metadata": {},
     "output_type": "execute_result"
    }
   ],
   "source": [
    "lr.fit(X_test,Y_test)"
   ]
  },
  {
   "cell_type": "code",
   "execution_count": 29,
   "id": "2aecdeef",
   "metadata": {},
   "outputs": [],
   "source": [
    "predicted_price_test = lr.predict(X_test)"
   ]
  },
  {
   "cell_type": "code",
   "execution_count": 30,
   "id": "430b0af9",
   "metadata": {},
   "outputs": [
    {
     "data": {
      "image/png": "[encoded data removed]",
      "text/plain": [
       "<Figure size 432x288 with 1 Axes>"
      ]
     },
     "metadata": {
      "needs_background": "light"
     },
     "output_type": "display_data"
    }
   ],
   "source": [
    "plt.figure()\n",
    "plt.title('Price of Pizza on the based on Diameter')\n",
    "plt.plot(X_test,Y_test,'k.')\n",
    "plt.plot(X_test,predicted_price_test)\n",
    "plt.axis([0,25,0,25])\n",
    "plt.xlabel('Diameter')\n",
    "plt.ylabel('Price')\n",
    "plt.grid(True)\n",
    "plt.show()"
   ]
  },
  {
   "cell_type": "markdown",
   "id": "ce5bb5cc",
   "metadata": {},
   "source": [
    "---------  End of Simple Linear Regression --------"
   ]
  },
  {
   "cell_type": "markdown",
   "id": "914cb4e1",
   "metadata": {},
   "source": [
    "# Multiple Linear Regression\n",
    "**-----------------------**"
   ]
  },
  {
   "cell_type": "code",
   "execution_count": 31,
   "id": "702f0583",
   "metadata": {},
   "outputs": [],
   "source": [
    "# training data\n",
    "data_train = pd.DataFrame({'diameter':[6,8,10,14,18],'toppings':[2,1,0,2,0] ,'price':[7,9,13,17.5,18]})"
   ]
  },
  {
   "cell_type": "code",
   "execution_count": 32,
   "id": "31ca5294",
   "metadata": {},
   "outputs": [
    {
     "data": {
      "text/html": [
       "<div>\n",
       "<style scoped>\n",
       "    .dataframe tbody tr th:only-of-type {\n",
       "        vertical-align: middle;\n",
       "    }\n",
       "\n",
       "    .dataframe tbody tr th {\n",
       "        vertical-align: top;\n",
       "    }\n",
       "\n",
       "    .dataframe thead th {\n",
       "        text-align: right;\n",
       "    }\n",
       "</style>\n",
       "<table border=\"1\" class=\"dataframe\">\n",
       "  <thead>\n",
       "    <tr style=\"text-align: right;\">\n",
       "      <th></th>\n",
       "      <th>diameter</th>\n",
       "      <th>toppings</th>\n",
       "      <th>price</th>\n",
       "    </tr>\n",
       "  </thead>\n",
       "  <tbody>\n",
       "    <tr>\n",
       "      <th>0</th>\n",
       "      <td>6</td>\n",
       "      <td>2</td>\n",
       "      <td>7.0</td>\n",
       "    </tr>\n",
       "    <tr>\n",
       "      <th>1</th>\n",
       "      <td>8</td>\n",
       "      <td>1</td>\n",
       "      <td>9.0</td>\n",
       "    </tr>\n",
       "    <tr>\n",
       "      <th>2</th>\n",
       "      <td>10</td>\n",
       "      <td>0</td>\n",
       "      <td>13.0</td>\n",
       "    </tr>\n",
       "    <tr>\n",
       "      <th>3</th>\n",
       "      <td>14</td>\n",
       "      <td>2</td>\n",
       "      <td>17.5</td>\n",
       "    </tr>\n",
       "    <tr>\n",
       "      <th>4</th>\n",
       "      <td>18</td>\n",
       "      <td>0</td>\n",
       "      <td>18.0</td>\n",
       "    </tr>\n",
       "  </tbody>\n",
       "</table>\n",
       "</div>"
      ],
      "text/plain": [
       "   diameter  toppings  price\n",
       "0         6         2    7.0\n",
       "1         8         1    9.0\n",
       "2        10         0   13.0\n",
       "3        14         2   17.5\n",
       "4        18         0   18.0"
      ]
     },
     "execution_count": 32,
     "metadata": {},
     "output_type": "execute_result"
    }
   ],
   "source": [
    "data_train"
   ]
  },
  {
   "cell_type": "code",
   "execution_count": 33,
   "id": "35b77c43",
   "metadata": {},
   "outputs": [],
   "source": [
    "# 1st method:\n",
    "# X_topping_train = data_train.drop('price')\n",
    "# 2nd method:\n",
    "X_topping_train = data_train[['diameter', 'toppings']].values"
   ]
  },
  {
   "cell_type": "code",
   "execution_count": 34,
   "id": "c5073a78",
   "metadata": {},
   "outputs": [
    {
     "data": {
      "text/plain": [
       "array([[ 6,  2],\n",
       "       [ 8,  1],\n",
       "       [10,  0],\n",
       "       [14,  2],\n",
       "       [18,  0]], dtype=int64)"
      ]
     },
     "execution_count": 34,
     "metadata": {},
     "output_type": "execute_result"
    }
   ],
   "source": [
    "X_topping_train"
   ]
  },
  {
   "cell_type": "code",
   "execution_count": 35,
   "id": "1e582b16",
   "metadata": {},
   "outputs": [],
   "source": [
    "# 1d will be reshaped b/c of complexity but 2d will not be reshaped!"
   ]
  },
  {
   "cell_type": "code",
   "execution_count": 36,
   "id": "b0e61c6a",
   "metadata": {},
   "outputs": [
    {
     "data": {
      "text/plain": [
       "array([[ 7. ],\n",
       "       [ 9. ],\n",
       "       [13. ],\n",
       "       [17.5],\n",
       "       [18. ]])"
      ]
     },
     "execution_count": 36,
     "metadata": {},
     "output_type": "execute_result"
    }
   ],
   "source": [
    "Y_topping_train = data_train.price.values.reshape(5,1)\n",
    "Y_topping_train"
   ]
  },
  {
   "cell_type": "code",
   "execution_count": 37,
   "id": "bb8d8399",
   "metadata": {},
   "outputs": [],
   "source": [
    "mlr = LinearRegression()"
   ]
  },
  {
   "cell_type": "code",
   "execution_count": 38,
   "id": "f6fdbf43",
   "metadata": {},
   "outputs": [
    {
     "data": {
      "text/plain": [
       "LinearRegression()"
      ]
     },
     "execution_count": 38,
     "metadata": {},
     "output_type": "execute_result"
    }
   ],
   "source": [
    "mlr.fit(X_topping_train,Y_topping_train)"
   ]
  },
  {
   "cell_type": "code",
   "execution_count": 39,
   "id": "7523872e",
   "metadata": {},
   "outputs": [
    {
     "data": {
      "text/html": [
       "<div>\n",
       "<style scoped>\n",
       "    .dataframe tbody tr th:only-of-type {\n",
       "        vertical-align: middle;\n",
       "    }\n",
       "\n",
       "    .dataframe tbody tr th {\n",
       "        vertical-align: top;\n",
       "    }\n",
       "\n",
       "    .dataframe thead th {\n",
       "        text-align: right;\n",
       "    }\n",
       "</style>\n",
       "<table border=\"1\" class=\"dataframe\">\n",
       "  <thead>\n",
       "    <tr style=\"text-align: right;\">\n",
       "      <th></th>\n",
       "      <th>diameter</th>\n",
       "      <th>toppings</th>\n",
       "      <th>price</th>\n",
       "    </tr>\n",
       "  </thead>\n",
       "  <tbody>\n",
       "    <tr>\n",
       "      <th>0</th>\n",
       "      <td>8</td>\n",
       "      <td>2</td>\n",
       "      <td>11.0</td>\n",
       "    </tr>\n",
       "    <tr>\n",
       "      <th>1</th>\n",
       "      <td>9</td>\n",
       "      <td>0</td>\n",
       "      <td>8.5</td>\n",
       "    </tr>\n",
       "    <tr>\n",
       "      <th>2</th>\n",
       "      <td>11</td>\n",
       "      <td>2</td>\n",
       "      <td>15.0</td>\n",
       "    </tr>\n",
       "    <tr>\n",
       "      <th>3</th>\n",
       "      <td>16</td>\n",
       "      <td>2</td>\n",
       "      <td>18.0</td>\n",
       "    </tr>\n",
       "    <tr>\n",
       "      <th>4</th>\n",
       "      <td>12</td>\n",
       "      <td>0</td>\n",
       "      <td>11.0</td>\n",
       "    </tr>\n",
       "  </tbody>\n",
       "</table>\n",
       "</div>"
      ],
      "text/plain": [
       "   diameter  toppings  price\n",
       "0         8         2   11.0\n",
       "1         9         0    8.5\n",
       "2        11         2   15.0\n",
       "3        16         2   18.0\n",
       "4        12         0   11.0"
      ]
     },
     "execution_count": 39,
     "metadata": {},
     "output_type": "execute_result"
    }
   ],
   "source": [
    "# test data\n",
    "\n",
    "data_test = pd.DataFrame({'diameter':[8,9,11,16,12],'toppings':[2,0,2,2,0] ,'price':[11,8.5,15,18,11]})\n",
    "data_test"
   ]
  },
  {
   "cell_type": "code",
   "execution_count": 40,
   "id": "f2e6b794",
   "metadata": {},
   "outputs": [],
   "source": [
    "# only training data will be fitted, not the testing data"
   ]
  },
  {
   "cell_type": "code",
   "execution_count": 41,
   "id": "75aa9f95",
   "metadata": {},
   "outputs": [],
   "source": [
    "X_topping_test = data_test[['diameter', 'toppings']].values\n",
    "Y_topping_test = data_test.price.values.reshape(5,1)\n",
    "test_data_predict = mlr.predict(X_topping_test)"
   ]
  },
  {
   "cell_type": "code",
   "execution_count": 42,
   "id": "75eb5aa9",
   "metadata": {},
   "outputs": [
    {
     "name": "stdout",
     "output_type": "stream",
     "text": [
      "Predicted: [10.0625] --VS-- the Actual: [11.]\n",
      "Predicted: [10.28125] --VS-- the Actual: [8.5]\n",
      "Predicted: [13.09375] --VS-- the Actual: [15.]\n",
      "Predicted: [18.14583333] --VS-- the Actual: [18.]\n",
      "Predicted: [13.3125] --VS-- the Actual: [11.]\n"
     ]
    }
   ],
   "source": [
    "for i, pred in enumerate(test_data_predict):\n",
    "    print(f'Predicted: {pred} --VS-- the Actual: {Y_topping_test[i]}')"
   ]
  },
  {
   "cell_type": "code",
   "execution_count": 43,
   "id": "055bcb30",
   "metadata": {},
   "outputs": [],
   "source": [
    "data_test['test_data_predict'] = test_data_predict"
   ]
  },
  {
   "cell_type": "code",
   "execution_count": 44,
   "id": "e745ba91",
   "metadata": {},
   "outputs": [
    {
     "data": {
      "text/plain": [
       "0.7701677731318468"
      ]
     },
     "execution_count": 44,
     "metadata": {},
     "output_type": "execute_result"
    }
   ],
   "source": [
    "mlr.score(X_topping_test,Y_topping_test)"
   ]
  },
  {
   "cell_type": "code",
   "execution_count": 45,
   "id": "bbf9936c",
   "metadata": {},
   "outputs": [
    {
     "data": {
      "image/png": "[encoded data removed]",
      "text/plain": [
       "<Figure size 432x288 with 1 Axes>"
      ]
     },
     "metadata": {
      "needs_background": "light"
     },
     "output_type": "display_data"
    }
   ],
   "source": [
    "plt.figure()\n",
    "plt.title('Price of Pizza on the based on Diameter and Toppings')\n",
    "plt.plot(X_topping_test,Y_topping_test,'k.')\n",
    "plt.plot(X_topping_test,test_data_predict)\n",
    "plt.axis([0,25,0,25])\n",
    "plt.xlabel('Diameter and Toppings')\n",
    "plt.ylabel('Price')\n",
    "plt.grid(True)\n",
    "plt.show()"
   ]
  },
  {
   "cell_type": "code",
   "execution_count": 46,
   "id": "8de7f6f9",
   "metadata": {},
   "outputs": [
    {
     "data": {
      "text/html": [
       "<div>\n",
       "<style scoped>\n",
       "    .dataframe tbody tr th:only-of-type {\n",
       "        vertical-align: middle;\n",
       "    }\n",
       "\n",
       "    .dataframe tbody tr th {\n",
       "        vertical-align: top;\n",
       "    }\n",
       "\n",
       "    .dataframe thead th {\n",
       "        text-align: right;\n",
       "    }\n",
       "</style>\n",
       "<table border=\"1\" class=\"dataframe\">\n",
       "  <thead>\n",
       "    <tr style=\"text-align: right;\">\n",
       "      <th></th>\n",
       "      <th>diameter</th>\n",
       "      <th>toppings</th>\n",
       "      <th>price</th>\n",
       "      <th>test_data_predict</th>\n",
       "    </tr>\n",
       "  </thead>\n",
       "  <tbody>\n",
       "    <tr>\n",
       "      <th>0</th>\n",
       "      <td>8</td>\n",
       "      <td>2</td>\n",
       "      <td>11.0</td>\n",
       "      <td>10.062500</td>\n",
       "    </tr>\n",
       "    <tr>\n",
       "      <th>1</th>\n",
       "      <td>9</td>\n",
       "      <td>0</td>\n",
       "      <td>8.5</td>\n",
       "      <td>10.281250</td>\n",
       "    </tr>\n",
       "    <tr>\n",
       "      <th>2</th>\n",
       "      <td>11</td>\n",
       "      <td>2</td>\n",
       "      <td>15.0</td>\n",
       "      <td>13.093750</td>\n",
       "    </tr>\n",
       "    <tr>\n",
       "      <th>3</th>\n",
       "      <td>16</td>\n",
       "      <td>2</td>\n",
       "      <td>18.0</td>\n",
       "      <td>18.145833</td>\n",
       "    </tr>\n",
       "    <tr>\n",
       "      <th>4</th>\n",
       "      <td>12</td>\n",
       "      <td>0</td>\n",
       "      <td>11.0</td>\n",
       "      <td>13.312500</td>\n",
       "    </tr>\n",
       "  </tbody>\n",
       "</table>\n",
       "</div>"
      ],
      "text/plain": [
       "   diameter  toppings  price  test_data_predict\n",
       "0         8         2   11.0          10.062500\n",
       "1         9         0    8.5          10.281250\n",
       "2        11         2   15.0          13.093750\n",
       "3        16         2   18.0          18.145833\n",
       "4        12         0   11.0          13.312500"
      ]
     },
     "execution_count": 46,
     "metadata": {},
     "output_type": "execute_result"
    }
   ],
   "source": [
    "data_test"
   ]
  },
  {
   "cell_type": "markdown",
   "id": "b76c6e32",
   "metadata": {},
   "source": [
    "<img src='https://files.realpython.com/media/py-corr-1.d13ed60a9b91.png' />"
   ]
  },
  {
   "cell_type": "markdown",
   "id": "b7f36fbe",
   "metadata": {},
   "source": [
    "<img src='https://miro.medium.com/max/1400/1*jCVL0KaYzbabVkPeappbmQ.gif' />"
   ]
  },
  {
   "cell_type": "markdown",
   "id": "8703df02",
   "metadata": {},
   "source": [
    "<img src='https://www.simplilearn.com/ice9/free_resources_article_thumb/17-draw.gif' />"
   ]
  },
  {
   "cell_type": "code",
   "execution_count": 47,
   "id": "602e63b7",
   "metadata": {},
   "outputs": [
    {
     "data": {
      "text/html": [
       "<div>\n",
       "<style scoped>\n",
       "    .dataframe tbody tr th:only-of-type {\n",
       "        vertical-align: middle;\n",
       "    }\n",
       "\n",
       "    .dataframe tbody tr th {\n",
       "        vertical-align: top;\n",
       "    }\n",
       "\n",
       "    .dataframe thead th {\n",
       "        text-align: right;\n",
       "    }\n",
       "</style>\n",
       "<table border=\"1\" class=\"dataframe\">\n",
       "  <thead>\n",
       "    <tr style=\"text-align: right;\">\n",
       "      <th></th>\n",
       "      <th>diameter</th>\n",
       "      <th>toppings</th>\n",
       "      <th>price</th>\n",
       "      <th>test_data_predict</th>\n",
       "    </tr>\n",
       "  </thead>\n",
       "  <tbody>\n",
       "    <tr>\n",
       "      <th>diameter</th>\n",
       "      <td>1.000000</td>\n",
       "      <td>0.205174</td>\n",
       "      <td>0.815847</td>\n",
       "      <td>0.991509</td>\n",
       "    </tr>\n",
       "    <tr>\n",
       "      <th>toppings</th>\n",
       "      <td>0.205174</td>\n",
       "      <td>1.000000</td>\n",
       "      <td>0.714640</td>\n",
       "      <td>0.330702</td>\n",
       "    </tr>\n",
       "    <tr>\n",
       "      <th>price</th>\n",
       "      <td>0.815847</td>\n",
       "      <td>0.714640</td>\n",
       "      <td>1.000000</td>\n",
       "      <td>0.881629</td>\n",
       "    </tr>\n",
       "    <tr>\n",
       "      <th>test_data_predict</th>\n",
       "      <td>0.991509</td>\n",
       "      <td>0.330702</td>\n",
       "      <td>0.881629</td>\n",
       "      <td>1.000000</td>\n",
       "    </tr>\n",
       "  </tbody>\n",
       "</table>\n",
       "</div>"
      ],
      "text/plain": [
       "                   diameter  toppings     price  test_data_predict\n",
       "diameter           1.000000  0.205174  0.815847           0.991509\n",
       "toppings           0.205174  1.000000  0.714640           0.330702\n",
       "price              0.815847  0.714640  1.000000           0.881629\n",
       "test_data_predict  0.991509  0.330702  0.881629           1.000000"
      ]
     },
     "execution_count": 47,
     "metadata": {},
     "output_type": "execute_result"
    }
   ],
   "source": [
    "data_test.corr() # multicollinearity: The less correlation there is between two points, the better the data. \n",
    "\n",
    "# weak 0 - 0.25\n",
    "# strong > 0.50\n",
    "# very strong > 0.75 "
   ]
  },
  {
   "cell_type": "markdown",
   "id": "7b9bfaac",
   "metadata": {},
   "source": [
    "<img src='https://www.mathsisfun.com/data/images/correlation-examples.svg' />"
   ]
  },
  {
   "cell_type": "markdown",
   "id": "de09e9e6",
   "metadata": {},
   "source": [
    "---------  End of Multiple Linear Regression --------"
   ]
  },
  {
   "cell_type": "code",
   "execution_count": 48,
   "id": "2669ae0b",
   "metadata": {},
   "outputs": [],
   "source": [
    "# Done"
   ]
  }
 ],
 "metadata": {
  "kernelspec": {
   "display_name": "Python 3 (ipykernel)",
   "language": "python",
   "name": "python3"
  },
  "language_info": {
   "codemirror_mode": {
    "name": "ipython",
    "version": 3
   },
   "file_extension": ".py",
   "mimetype": "text/x-python",
   "name": "python",
   "nbconvert_exporter": "python",
   "pygments_lexer": "ipython3",
   "version": "3.9.7"
  }
 },
 "nbformat": 4,
 "nbformat_minor": 5
}
