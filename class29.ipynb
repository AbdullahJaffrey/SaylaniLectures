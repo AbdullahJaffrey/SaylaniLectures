{
 "cells": [
  {
   "cell_type": "code",
   "execution_count": 1,
   "id": "786ce424",
   "metadata": {},
   "outputs": [],
   "source": [
    "#(29/08/2022) Monday"
   ]
  },
  {
   "cell_type": "markdown",
   "id": "757e552c",
   "metadata": {},
   "source": [
    "# Let's Explore:"
   ]
  },
  {
   "cell_type": "markdown",
   "id": "2f21930f",
   "metadata": {},
   "source": [
    "#### The Rise of Mughal Dynasty:"
   ]
  },
  {
   "cell_type": "markdown",
   "id": "4412dc8f",
   "metadata": {},
   "source": [
    "<a href='https://en.wikipedia.org/wiki/Akbar' target='_blank'> Akbar I </a>"
   ]
  },
  {
   "cell_type": "markdown",
   "id": "31e4d61f",
   "metadata": {},
   "source": [
    "<img src=''>"
   ]
  },
  {
   "cell_type": "markdown",
   "id": "258e0f2e",
   "metadata": {},
   "source": [
    "<img src='https://upload.wikimedia.org/wikipedia/commons/2/2e/Posthumous_portrait_of_Mughal_Empreror_Akbar.jpg' width=700px>"
   ]
  },
  {
   "cell_type": "markdown",
   "id": "848d9894",
   "metadata": {},
   "source": [
    "Abu'l-Fath Jalal-ud-din Muhammad Akbar, popularly known as Akbar the Great, and also as Akbar I, was the third Mughal emperor, who reigned from 1556 to 1605. Akbar succeeded his father, Humayun, under a regent, Bairam Khan, who helped the young emperor expand and consolidate Mughal domains in India"
   ]
  },
  {
   "cell_type": "code",
   "execution_count": 2,
   "id": "7e6e9e01",
   "metadata": {},
   "outputs": [],
   "source": [
    "# Let's get started"
   ]
  },
  {
   "cell_type": "markdown",
   "id": "98d4b222",
   "metadata": {},
   "source": [
    "# Numpy array basic Indexing and Slicing:"
   ]
  },
  {
   "cell_type": "code",
   "execution_count": 3,
   "id": "256dbfcc",
   "metadata": {},
   "outputs": [],
   "source": [
    "import numpy as np"
   ]
  },
  {
   "cell_type": "code",
   "execution_count": 4,
   "id": "32ef1276",
   "metadata": {},
   "outputs": [],
   "source": [
    "arr2d = np.arange(25).reshape(5,5)  "
   ]
  },
  {
   "cell_type": "code",
   "execution_count": 5,
   "id": "748b11c1",
   "metadata": {},
   "outputs": [
    {
     "data": {
      "text/plain": [
       "array([[ 0,  1,  2,  3,  4],\n",
       "       [ 5,  6,  7,  8,  9],\n",
       "       [10, 11, 12, 13, 14],\n",
       "       [15, 16, 17, 18, 19],\n",
       "       [20, 21, 22, 23, 24]])"
      ]
     },
     "execution_count": 5,
     "metadata": {},
     "output_type": "execute_result"
    }
   ],
   "source": [
    "arr2d"
   ]
  },
  {
   "cell_type": "code",
   "execution_count": 6,
   "id": "3e07a26e",
   "metadata": {},
   "outputs": [
    {
     "data": {
      "text/plain": [
       "13"
      ]
     },
     "execution_count": 6,
     "metadata": {},
     "output_type": "execute_result"
    }
   ],
   "source": [
    "arr2d[2][3]"
   ]
  },
  {
   "cell_type": "code",
   "execution_count": 7,
   "id": "cacceb28",
   "metadata": {},
   "outputs": [],
   "source": [
    "arr3d = np.arange(64).reshape(4,2,8)  "
   ]
  },
  {
   "cell_type": "code",
   "execution_count": 8,
   "id": "844c58b4",
   "metadata": {},
   "outputs": [
    {
     "data": {
      "text/plain": [
       "array([[[ 0,  1,  2,  3,  4,  5,  6,  7],\n",
       "        [ 8,  9, 10, 11, 12, 13, 14, 15]],\n",
       "\n",
       "       [[16, 17, 18, 19, 20, 21, 22, 23],\n",
       "        [24, 25, 26, 27, 28, 29, 30, 31]],\n",
       "\n",
       "       [[32, 33, 34, 35, 36, 37, 38, 39],\n",
       "        [40, 41, 42, 43, 44, 45, 46, 47]],\n",
       "\n",
       "       [[48, 49, 50, 51, 52, 53, 54, 55],\n",
       "        [56, 57, 58, 59, 60, 61, 62, 63]]])"
      ]
     },
     "execution_count": 8,
     "metadata": {},
     "output_type": "execute_result"
    }
   ],
   "source": [
    "arr3d"
   ]
  },
  {
   "cell_type": "code",
   "execution_count": 9,
   "id": "de491dfb",
   "metadata": {},
   "outputs": [
    {
     "data": {
      "text/plain": [
       "46"
      ]
     },
     "execution_count": 9,
     "metadata": {},
     "output_type": "execute_result"
    }
   ],
   "source": [
    "arr3d[2][1][6]"
   ]
  },
  {
   "cell_type": "code",
   "execution_count": 10,
   "id": "d9fc755d",
   "metadata": {},
   "outputs": [
    {
     "data": {
      "text/plain": [
       "46"
      ]
     },
     "execution_count": 10,
     "metadata": {},
     "output_type": "execute_result"
    }
   ],
   "source": [
    "arr3d[2,1,6]"
   ]
  },
  {
   "cell_type": "code",
   "execution_count": 11,
   "id": "82cf6d81",
   "metadata": {},
   "outputs": [],
   "source": [
    "arr4d = np.arange(128).reshape(4,2,8,2)"
   ]
  },
  {
   "cell_type": "code",
   "execution_count": 12,
   "id": "440c0117",
   "metadata": {},
   "outputs": [
    {
     "data": {
      "text/plain": [
       "array([[[[  0,   1],\n",
       "         [  2,   3],\n",
       "         [  4,   5],\n",
       "         [  6,   7],\n",
       "         [  8,   9],\n",
       "         [ 10,  11],\n",
       "         [ 12,  13],\n",
       "         [ 14,  15]],\n",
       "\n",
       "        [[ 16,  17],\n",
       "         [ 18,  19],\n",
       "         [ 20,  21],\n",
       "         [ 22,  23],\n",
       "         [ 24,  25],\n",
       "         [ 26,  27],\n",
       "         [ 28,  29],\n",
       "         [ 30,  31]]],\n",
       "\n",
       "\n",
       "       [[[ 32,  33],\n",
       "         [ 34,  35],\n",
       "         [ 36,  37],\n",
       "         [ 38,  39],\n",
       "         [ 40,  41],\n",
       "         [ 42,  43],\n",
       "         [ 44,  45],\n",
       "         [ 46,  47]],\n",
       "\n",
       "        [[ 48,  49],\n",
       "         [ 50,  51],\n",
       "         [ 52,  53],\n",
       "         [ 54,  55],\n",
       "         [ 56,  57],\n",
       "         [ 58,  59],\n",
       "         [ 60,  61],\n",
       "         [ 62,  63]]],\n",
       "\n",
       "\n",
       "       [[[ 64,  65],\n",
       "         [ 66,  67],\n",
       "         [ 68,  69],\n",
       "         [ 70,  71],\n",
       "         [ 72,  73],\n",
       "         [ 74,  75],\n",
       "         [ 76,  77],\n",
       "         [ 78,  79]],\n",
       "\n",
       "        [[ 80,  81],\n",
       "         [ 82,  83],\n",
       "         [ 84,  85],\n",
       "         [ 86,  87],\n",
       "         [ 88,  89],\n",
       "         [ 90,  91],\n",
       "         [ 92,  93],\n",
       "         [ 94,  95]]],\n",
       "\n",
       "\n",
       "       [[[ 96,  97],\n",
       "         [ 98,  99],\n",
       "         [100, 101],\n",
       "         [102, 103],\n",
       "         [104, 105],\n",
       "         [106, 107],\n",
       "         [108, 109],\n",
       "         [110, 111]],\n",
       "\n",
       "        [[112, 113],\n",
       "         [114, 115],\n",
       "         [116, 117],\n",
       "         [118, 119],\n",
       "         [120, 121],\n",
       "         [122, 123],\n",
       "         [124, 125],\n",
       "         [126, 127]]]])"
      ]
     },
     "execution_count": 12,
     "metadata": {},
     "output_type": "execute_result"
    }
   ],
   "source": [
    "arr4d"
   ]
  },
  {
   "cell_type": "code",
   "execution_count": 13,
   "id": "0f9b8511",
   "metadata": {},
   "outputs": [
    {
     "data": {
      "text/plain": [
       "97"
      ]
     },
     "execution_count": 13,
     "metadata": {},
     "output_type": "execute_result"
    }
   ],
   "source": [
    "arr4d[3][0][0][1]"
   ]
  },
  {
   "cell_type": "code",
   "execution_count": 14,
   "id": "4362ad70",
   "metadata": {},
   "outputs": [
    {
     "data": {
      "text/plain": [
       "97"
      ]
     },
     "execution_count": 14,
     "metadata": {},
     "output_type": "execute_result"
    }
   ],
   "source": [
    "arr4d[3,0,0,1]"
   ]
  },
  {
   "cell_type": "code",
   "execution_count": 15,
   "id": "d1e95981",
   "metadata": {},
   "outputs": [],
   "source": [
    "#Slicing for more values:"
   ]
  },
  {
   "cell_type": "code",
   "execution_count": 16,
   "id": "40ad4e23",
   "metadata": {},
   "outputs": [
    {
     "data": {
      "text/plain": [
       "array([[ 0,  1,  2,  3,  4],\n",
       "       [ 5,  6,  7,  8,  9],\n",
       "       [10, 11, 12, 13, 14],\n",
       "       [15, 16, 17, 18, 19],\n",
       "       [20, 21, 22, 23, 24]])"
      ]
     },
     "execution_count": 16,
     "metadata": {},
     "output_type": "execute_result"
    }
   ],
   "source": [
    "arr2d"
   ]
  },
  {
   "cell_type": "code",
   "execution_count": 17,
   "id": "238740a0",
   "metadata": {},
   "outputs": [],
   "source": [
    "# To access [11, 12, 13]\n",
    "\n",
    "# [start-row:end-row, start-column:end-column ]"
   ]
  },
  {
   "cell_type": "code",
   "execution_count": 18,
   "id": "14cf452a",
   "metadata": {},
   "outputs": [
    {
     "data": {
      "text/plain": [
       "array([[11, 12, 13]])"
      ]
     },
     "execution_count": 18,
     "metadata": {},
     "output_type": "execute_result"
    }
   ],
   "source": [
    "arr2d[2:3,1:4]"
   ]
  },
  {
   "cell_type": "code",
   "execution_count": 19,
   "id": "9c0d35cb",
   "metadata": {},
   "outputs": [
    {
     "data": {
      "text/plain": [
       "array([[ 4],\n",
       "       [ 9],\n",
       "       [14],\n",
       "       [19],\n",
       "       [24]])"
      ]
     },
     "execution_count": 19,
     "metadata": {},
     "output_type": "execute_result"
    }
   ],
   "source": [
    "arr2d[0:5, 4:5]"
   ]
  },
  {
   "cell_type": "code",
   "execution_count": 20,
   "id": "7a1ff0b7",
   "metadata": {},
   "outputs": [
    {
     "data": {
      "text/plain": [
       "array([2, 3])"
      ]
     },
     "execution_count": 20,
     "metadata": {},
     "output_type": "execute_result"
    }
   ],
   "source": [
    "arr2d[0,2:4]"
   ]
  },
  {
   "cell_type": "code",
   "execution_count": 21,
   "id": "961bc9c1",
   "metadata": {},
   "outputs": [
    {
     "data": {
      "text/plain": [
       "array([[ 4],\n",
       "       [ 9],\n",
       "       [14],\n",
       "       [19],\n",
       "       [24]])"
      ]
     },
     "execution_count": 21,
     "metadata": {},
     "output_type": "execute_result"
    }
   ],
   "source": [
    "arr2d[0:,4:]"
   ]
  },
  {
   "cell_type": "code",
   "execution_count": 22,
   "id": "c9ba12e9",
   "metadata": {},
   "outputs": [
    {
     "name": "stdout",
     "output_type": "stream",
     "text": [
      "[[ 0  1  2  3  4]\n",
      " [ 5  6  7  8  9]\n",
      " [10 11 12 13 14]\n",
      " [15 16 17 18 19]\n",
      " [20 21 22 23 24]]\n"
     ]
    },
    {
     "data": {
      "text/plain": [
       "array([[16, 17, 18]])"
      ]
     },
     "execution_count": 22,
     "metadata": {},
     "output_type": "execute_result"
    }
   ],
   "source": [
    "# To access [16, 17, 18, 19]\n",
    "print(arr2d)\n",
    "arr2d[3:4,1:4]"
   ]
  },
  {
   "cell_type": "code",
   "execution_count": 23,
   "id": "bede8c7e",
   "metadata": {},
   "outputs": [
    {
     "name": "stdout",
     "output_type": "stream",
     "text": [
      "[[ 6  7  8]\n",
      " [11 12 13]\n",
      " [16 17 18]]\n"
     ]
    },
    {
     "data": {
      "text/plain": [
       "array([[16, 17, 18]])"
      ]
     },
     "execution_count": 23,
     "metadata": {},
     "output_type": "execute_result"
    }
   ],
   "source": [
    "# OR\n",
    "\n",
    "print(arr2d[1:4,1:4])\n",
    "\n",
    "arr2d[3:4,1:4]"
   ]
  },
  {
   "cell_type": "code",
   "execution_count": 24,
   "id": "f77d53d3",
   "metadata": {},
   "outputs": [
    {
     "name": "stdout",
     "output_type": "stream",
     "text": [
      "[0 1 2 3 4 5 6 7 8 9]\n"
     ]
    }
   ],
   "source": [
    "# 1d mein no rows and no columns\n",
    "arr1d = np.arange(10)\n",
    "print(arr1d)"
   ]
  },
  {
   "cell_type": "markdown",
   "id": "8212778c",
   "metadata": {},
   "source": [
    "<img src='https://tutorialspoint.dev/image/Numpy1.jpg' width=500px>"
   ]
  },
  {
   "cell_type": "markdown",
   "id": "f786236d",
   "metadata": {},
   "source": [
    "<img src='https://res.cloudinary.com/dyd911kmh/image/upload/v1651825496/content_arrays_axes_8d6a639e44.png' width=500px>"
   ]
  },
  {
   "cell_type": "markdown",
   "id": "23f16424",
   "metadata": {},
   "source": [
    "<img src='https://miro.medium.com/max/1400/0*7mdPBssk30gaDfKm.png' width=500px>"
   ]
  },
  {
   "cell_type": "code",
   "execution_count": 25,
   "id": "fd480bbf",
   "metadata": {},
   "outputs": [
    {
     "name": "stdout",
     "output_type": "stream",
     "text": [
      "[0 1 2 3 4 5 6 7 8 9]\n",
      "[[0 1 2 3 4]\n",
      " [5 6 7 8 9]]\n"
     ]
    }
   ],
   "source": [
    "print(arr1d)\n",
    "arr2d = arr1d.reshape(2,5)\n",
    "print(arr2d)"
   ]
  },
  {
   "cell_type": "code",
   "execution_count": 26,
   "id": "24597f3c",
   "metadata": {},
   "outputs": [
    {
     "name": "stdout",
     "output_type": "stream",
     "text": [
      "######################## 1d #################### \n",
      "\n",
      "[ 0  1  2  3  4  5  6  7  8  9 10 11 12 13 14 15]\n",
      "\n",
      " ######################## 2d #################### \n",
      "\n",
      "[[ 0  1  2  3  4  5  6  7]\n",
      " [ 8  9 10 11 12 13 14 15]]\n",
      "\n",
      " ######################## 3d #################### \n",
      "\n",
      "[[[ 0  1]\n",
      "  [ 2  3]]\n",
      "\n",
      " [[ 4  5]\n",
      "  [ 6  7]]\n",
      "\n",
      " [[ 8  9]\n",
      "  [10 11]]\n",
      "\n",
      " [[12 13]\n",
      "  [14 15]]]\n",
      "<class 'numpy.ndarray'>\n"
     ]
    }
   ],
   "source": [
    "print('######################## 1d #################### \\n')\n",
    "# Cann't be convered from arr2d as the format doesn't fufills the requirement slicing:\n",
    "arr1d = np.arange(16)\n",
    "print(arr1d)\n",
    "print('\\n ######################## 2d #################### \\n')\n",
    "arr2d = arr1d.reshape(2,8)\n",
    "print(arr2d)\n",
    "arr3d = arr1d.reshape(4,2,2)\n",
    "print('\\n ######################## 3d #################### \\n')\n",
    "print(arr3d)\n",
    "print(type(arr3d))"
   ]
  },
  {
   "cell_type": "code",
   "execution_count": 27,
   "id": "90e982e2",
   "metadata": {},
   "outputs": [
    {
     "data": {
      "text/plain": [
       "array([[ 0,  1,  2,  3],\n",
       "       [ 4,  5,  6,  7],\n",
       "       [ 8,  9, 10, 11],\n",
       "       [12, 13, 14, 15],\n",
       "       [16, 17, 18, 19]])"
      ]
     },
     "execution_count": 27,
     "metadata": {},
     "output_type": "execute_result"
    }
   ],
   "source": [
    "mydata=np.arange(20).reshape(5,4)\n",
    "mydata"
   ]
  },
  {
   "cell_type": "code",
   "execution_count": 28,
   "id": "3334a0cb",
   "metadata": {},
   "outputs": [
    {
     "data": {
      "text/plain": [
       "array([[16, 17, 18, 19],\n",
       "       [ 8,  9, 10, 11],\n",
       "       [ 0,  1,  2,  3]])"
      ]
     },
     "execution_count": 28,
     "metadata": {},
     "output_type": "execute_result"
    }
   ],
   "source": [
    "# creating random number list from list:\n",
    "\n",
    "mydata[[4,2,0]]"
   ]
  },
  {
   "cell_type": "code",
   "execution_count": 29,
   "id": "344180c1",
   "metadata": {},
   "outputs": [
    {
     "data": {
      "text/plain": [
       "array([ True, False, False,  True, False, False, False])"
      ]
     },
     "execution_count": 29,
     "metadata": {},
     "output_type": "execute_result"
    }
   ],
   "source": [
    "names = np.array(['Bob', 'Joe', 'Will', 'Bob', 'Will', 'Joe', 'Joe'])\n",
    "names =='Bob'"
   ]
  },
  {
   "cell_type": "code",
   "execution_count": 30,
   "id": "fb1e5e20",
   "metadata": {},
   "outputs": [
    {
     "data": {
      "text/plain": [
       "array([[ 0,  1,  2,  3],\n",
       "       [ 8,  9, 10, 11],\n",
       "       [16, 17, 18, 19]])"
      ]
     },
     "execution_count": 30,
     "metadata": {},
     "output_type": "execute_result"
    }
   ],
   "source": [
    "mydata[[True, False, True,  False, True]]"
   ]
  },
  {
   "cell_type": "code",
   "execution_count": 31,
   "id": "9f7afee2",
   "metadata": {},
   "outputs": [
    {
     "data": {
      "text/plain": [
       "array([[False, False, False, False],\n",
       "       [False, False, False, False],\n",
       "       [False, False,  True,  True],\n",
       "       [ True,  True,  True,  True],\n",
       "       [ True,  True,  True,  True]])"
      ]
     },
     "execution_count": 31,
     "metadata": {},
     "output_type": "execute_result"
    }
   ],
   "source": [
    "mydata >= 10"
   ]
  },
  {
   "cell_type": "code",
   "execution_count": 32,
   "id": "2e7e8170",
   "metadata": {},
   "outputs": [
    {
     "data": {
      "text/plain": [
       "array([10, 11, 12, 13, 14, 15, 16, 17, 18, 19])"
      ]
     },
     "execution_count": 32,
     "metadata": {},
     "output_type": "execute_result"
    }
   ],
   "source": [
    "mydata[mydata >= 10]"
   ]
  },
  {
   "cell_type": "code",
   "execution_count": 33,
   "id": "1ce1b065",
   "metadata": {},
   "outputs": [
    {
     "data": {
      "text/plain": [
       "array([10, 11, 12, 13, 14, 15])"
      ]
     },
     "execution_count": 33,
     "metadata": {},
     "output_type": "execute_result"
    }
   ],
   "source": [
    "mydata[(mydata >= 10) & (mydata <= 15)]"
   ]
  },
  {
   "cell_type": "code",
   "execution_count": 34,
   "id": "00d50631",
   "metadata": {},
   "outputs": [
    {
     "name": "stdout",
     "output_type": "stream",
     "text": [
      "[[ 0  1  2  3  4  5  6  7  8  9]\n",
      " [10 11 12 13 14 15 16 17 18 19]\n",
      " [20 21 22 23 24 25 26 27 28 29]\n",
      " [30 31 32 33 34 35 36 37 38 39]\n",
      " [40 41 42 43 44 45 46 47 48 49]\n",
      " [50 51 52 53 54 55 56 57 58 59]\n",
      " [60 61 62 63 64 65 66 67 68 69]\n",
      " [70 71 72 73 74 75 76 77 78 79]\n",
      " [80 81 82 83 84 85 86 87 88 89]\n",
      " [90 91 92 93 94 95 96 97 98 99]]\n"
     ]
    }
   ],
   "source": [
    "newdata = np.arange(100).reshape(10,10)\n",
    "print(newdata)"
   ]
  },
  {
   "cell_type": "code",
   "execution_count": 35,
   "id": "a983e40c",
   "metadata": {},
   "outputs": [
    {
     "data": {
      "text/plain": [
       "array([[False, False, False, False, False, False, False, False, False,\n",
       "        False],\n",
       "       [False, False, False, False, False, False, False, False, False,\n",
       "        False],\n",
       "       [False, False, False, False, False, False, False, False, False,\n",
       "        False],\n",
       "       [False, False, False, False, False, False, False, False, False,\n",
       "        False],\n",
       "       [False, False, False, False, False, False, False, False, False,\n",
       "        False],\n",
       "       [False,  True,  True,  True,  True,  True,  True,  True,  True,\n",
       "         True],\n",
       "       [ True,  True,  True,  True,  True,  True,  True,  True,  True,\n",
       "         True],\n",
       "       [ True,  True,  True,  True,  True,  True,  True,  True,  True,\n",
       "         True],\n",
       "       [ True,  True,  True,  True,  True,  True,  True,  True,  True,\n",
       "         True],\n",
       "       [ True,  True,  True,  True,  True,  True,  True,  True,  True,\n",
       "         True]])"
      ]
     },
     "execution_count": 35,
     "metadata": {},
     "output_type": "execute_result"
    }
   ],
   "source": [
    "newdata > 50"
   ]
  },
  {
   "cell_type": "code",
   "execution_count": 36,
   "id": "35f35afc",
   "metadata": {},
   "outputs": [
    {
     "data": {
      "text/plain": [
       "array([51, 52, 53, 54, 55, 56, 57, 58, 59, 60, 61, 62, 63, 64, 65, 66, 67,\n",
       "       68, 69, 70, 71, 72, 73, 74, 75, 76, 77, 78, 79, 80, 81, 82, 83, 84,\n",
       "       85, 86, 87, 88, 89, 90, 91, 92, 93, 94, 95, 96, 97, 98, 99])"
      ]
     },
     "execution_count": 36,
     "metadata": {},
     "output_type": "execute_result"
    }
   ],
   "source": [
    "# We're checking a condition inside our dataset!\n",
    "newdata[newdata > 50]"
   ]
  },
  {
   "cell_type": "code",
   "execution_count": 37,
   "id": "49e04e09",
   "metadata": {},
   "outputs": [
    {
     "data": {
      "text/plain": [
       "array([ 1,  3,  5,  7,  9, 11, 13, 15, 17, 19, 21, 23, 25, 27, 29, 31, 33,\n",
       "       35, 37, 39, 41, 43, 45, 47, 49, 51, 53, 55, 57, 59, 61, 63, 65, 67,\n",
       "       69, 71, 73, 75, 77, 79, 81, 83, 85, 87, 89, 91, 93, 95, 97, 99])"
      ]
     },
     "execution_count": 37,
     "metadata": {},
     "output_type": "execute_result"
    }
   ],
   "source": [
    "newdata[newdata%2!=0]"
   ]
  },
  {
   "cell_type": "code",
   "execution_count": 38,
   "id": "bda31416",
   "metadata": {},
   "outputs": [
    {
     "data": {
      "text/plain": [
       "array([50, 51, 52, 53, 54, 55, 56, 57, 58, 59, 60, 61, 62, 63, 64, 65, 66,\n",
       "       67, 68, 69, 70])"
      ]
     },
     "execution_count": 38,
     "metadata": {},
     "output_type": "execute_result"
    }
   ],
   "source": [
    "# We're checking if any of our condition is true inside our dataset!\n",
    "newdata[(newdata >= 50) & ((newdata == 60) | (newdata <= 70))]"
   ]
  },
  {
   "cell_type": "code",
   "execution_count": 39,
   "id": "499820dc",
   "metadata": {},
   "outputs": [
    {
     "data": {
      "text/plain": [
       "array([ 3,  9, 15, 21, 27, 33, 39, 45, 51, 57, 63, 69, 75, 81, 87, 93, 99])"
      ]
     },
     "execution_count": 39,
     "metadata": {},
     "output_type": "execute_result"
    }
   ],
   "source": [
    "newdata[(newdata%2!=0) & (newdata%3==0)]"
   ]
  },
  {
   "cell_type": "code",
   "execution_count": 40,
   "id": "dd18eac7",
   "metadata": {},
   "outputs": [
    {
     "name": "stdout",
     "output_type": "stream",
     "text": [
      "4\n"
     ]
    },
    {
     "data": {
      "text/plain": [
       "array([2, 0])"
      ]
     },
     "execution_count": 40,
     "metadata": {},
     "output_type": "execute_result"
    }
   ],
   "source": [
    "data = np.array([2,5,3,8,9,10,12,20,0,1,23,67]).reshape(4,3)\n",
    "print(len(data)) # 4 >> counting rows only\n",
    "data[(data<5) & (data%2 == 0)]"
   ]
  },
  {
   "cell_type": "code",
   "execution_count": 41,
   "id": "da7c85ad",
   "metadata": {},
   "outputs": [
    {
     "name": "stdout",
     "output_type": "stream",
     "text": [
      "3\n"
     ]
    },
    {
     "data": {
      "text/plain": [
       "array([2, 0])"
      ]
     },
     "execution_count": 41,
     "metadata": {},
     "output_type": "execute_result"
    }
   ],
   "source": [
    "data = np.array([2,5,3,8,9,10,12,20,0,1,23,67]).reshape(3,4)\n",
    "print(len(data)) # 4 >> counting rows only\n",
    "data[(data<5) & (data%2 == 0)]"
   ]
  },
  {
   "cell_type": "markdown",
   "id": "e882305a",
   "metadata": {},
   "source": [
    "# Fancy Indexing:"
   ]
  },
  {
   "cell_type": "code",
   "execution_count": 42,
   "id": "7af44978",
   "metadata": {},
   "outputs": [
    {
     "name": "stdout",
     "output_type": "stream",
     "text": [
      "[0 1 2 3 4 5 6 7 8 9]\n"
     ]
    },
    {
     "data": {
      "text/plain": [
       "array([7, 1, 2, 6])"
      ]
     },
     "execution_count": 42,
     "metadata": {},
     "output_type": "execute_result"
    }
   ],
   "source": [
    "arr = np.arange(10)\n",
    "print(arr)\n",
    "inds = [7, 1, 2, 6]\n",
    "arr[inds]"
   ]
  },
  {
   "cell_type": "code",
   "execution_count": 43,
   "id": "9f002d58",
   "metadata": {},
   "outputs": [
    {
     "name": "stdout",
     "output_type": "stream",
     "text": [
      "[[ 0  1  2  3  4  5  6  7]\n",
      " [ 8  9 10 11 12 13 14 15]]\n"
     ]
    },
    {
     "data": {
      "text/plain": [
       "array([[ 0,  8],\n",
       "       [ 1,  9],\n",
       "       [ 2, 10],\n",
       "       [ 3, 11],\n",
       "       [ 4, 12],\n",
       "       [ 5, 13],\n",
       "       [ 6, 14],\n",
       "       [ 7, 15]])"
      ]
     },
     "execution_count": 43,
     "metadata": {},
     "output_type": "execute_result"
    }
   ],
   "source": [
    "# Transpose: merger of arrays.\n",
    "print(arr2d)\n",
    "arr2d.T"
   ]
  },
  {
   "cell_type": "code",
   "execution_count": 44,
   "id": "7a31807c",
   "metadata": {},
   "outputs": [],
   "source": [
    "#Done"
   ]
  }
 ],
 "metadata": {
  "kernelspec": {
   "display_name": "Python 3 (ipykernel)",
   "language": "python",
   "name": "python3"
  },
  "language_info": {
   "codemirror_mode": {
    "name": "ipython",
    "version": 3
   },
   "file_extension": ".py",
   "mimetype": "text/x-python",
   "name": "python",
   "nbconvert_exporter": "python",
   "pygments_lexer": "ipython3",
   "version": "3.9.7"
  }
 },
 "nbformat": 4,
 "nbformat_minor": 5
}
