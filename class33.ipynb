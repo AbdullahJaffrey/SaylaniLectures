{
 "cells": [
  {
   "cell_type": "code",
   "execution_count": 1,
   "id": "de4195e8",
   "metadata": {},
   "outputs": [],
   "source": [
    "# (15-09-2022) Thursday"
   ]
  },
  {
   "cell_type": "markdown",
   "id": "7987af79",
   "metadata": {},
   "source": [
    "# Let's Explore:"
   ]
  },
  {
   "cell_type": "markdown",
   "id": "a7658028",
   "metadata": {},
   "source": [
    "**Roland's Breach, Pyrenees, France**\n",
    "\n",
    "<img src='https://www.bing.com/th?id=ABT5F52740B35EBAF1603E79EA48F660E9363D357B49DB4CE8504038EB6A761A869&w=608&h=200&c=2&rs=1&o=6&pid=SANGAM'>\n",
    "\n",
    "The Milky Way looks like it is pouring into this giant gap, Roland’s Breach, high in the Pyrenees on the border of France and Spain. This towering natural wonder is 40 metres wide and about 70 metres deep and found on the outskirts of the famous Cirque de Garvarnie – a spectacular amphitheatre-like cliff face, from which numerous waterfalls pour.\n",
    "\n",
    "According to legend, Roland’s Breach was created by the famous knight who served Charlemagne, the first Holy Roman Emperor. The story goes that Roland tried to destroy his sword, Durandal, after being defeated in the Battle of Roncevaux Pass in 778 CE, creating the opening in the rock face. Found at an altitude of 2,807 metres, these days Roland’s Breach and the Cirque de Gavarnie are popular destinations for experienced hikers keen to experience one of France’s most stunning natural attractions."
   ]
  },
  {
   "cell_type": "code",
   "execution_count": 2,
   "id": "a92ed3be",
   "metadata": {},
   "outputs": [],
   "source": [
    "#Revision of list comprehension:"
   ]
  },
  {
   "cell_type": "code",
   "execution_count": 3,
   "id": "f4ec2d86",
   "metadata": {},
   "outputs": [],
   "source": [
    "List1 = ['A' if i%2==0 else 'B' for i in range(10)]"
   ]
  },
  {
   "cell_type": "code",
   "execution_count": 4,
   "id": "1d6bb7a7",
   "metadata": {},
   "outputs": [
    {
     "data": {
      "text/plain": [
       "['A', 'B', 'A', 'B', 'A', 'B', 'A', 'B', 'A', 'B']"
      ]
     },
     "execution_count": 4,
     "metadata": {},
     "output_type": "execute_result"
    }
   ],
   "source": [
    "List1"
   ]
  },
  {
   "cell_type": "code",
   "execution_count": 5,
   "id": "ec75d9b5",
   "metadata": {},
   "outputs": [],
   "source": [
    "#Starts from here:"
   ]
  },
  {
   "cell_type": "code",
   "execution_count": 6,
   "id": "e1d37852",
   "metadata": {},
   "outputs": [],
   "source": [
    "import pandas as pd"
   ]
  },
  {
   "cell_type": "code",
   "execution_count": 7,
   "id": "f86ee3a2",
   "metadata": {},
   "outputs": [],
   "source": [
    "import numpy as np"
   ]
  },
  {
   "cell_type": "code",
   "execution_count": 8,
   "id": "6421b5ab",
   "metadata": {},
   "outputs": [
    {
     "data": {
      "text/plain": [
       "{'Column1': array([0, 1, 2, 3, 4, 5, 6, 7, 8, 9]),\n",
       " 'Column2': array([10, 11, 12, 13, 14, 15, 16, 17, 18, 19])}"
      ]
     },
     "execution_count": 8,
     "metadata": {},
     "output_type": "execute_result"
    }
   ],
   "source": [
    "df = {}\n",
    "df['Column1'] = np.arange(10)\n",
    "df['Column2'] = np.arange(10,20)\n",
    "df"
   ]
  },
  {
   "cell_type": "code",
   "execution_count": 9,
   "id": "8b2268a5",
   "metadata": {},
   "outputs": [
    {
     "data": {
      "text/html": [
       "<div>\n",
       "<style scoped>\n",
       "    .dataframe tbody tr th:only-of-type {\n",
       "        vertical-align: middle;\n",
       "    }\n",
       "\n",
       "    .dataframe tbody tr th {\n",
       "        vertical-align: top;\n",
       "    }\n",
       "\n",
       "    .dataframe thead th {\n",
       "        text-align: right;\n",
       "    }\n",
       "</style>\n",
       "<table border=\"1\" class=\"dataframe\">\n",
       "  <thead>\n",
       "    <tr style=\"text-align: right;\">\n",
       "      <th></th>\n",
       "      <th>Column1</th>\n",
       "      <th>Column2</th>\n",
       "    </tr>\n",
       "  </thead>\n",
       "  <tbody>\n",
       "    <tr>\n",
       "      <th>0</th>\n",
       "      <td>0</td>\n",
       "      <td>10</td>\n",
       "    </tr>\n",
       "    <tr>\n",
       "      <th>1</th>\n",
       "      <td>1</td>\n",
       "      <td>11</td>\n",
       "    </tr>\n",
       "    <tr>\n",
       "      <th>2</th>\n",
       "      <td>2</td>\n",
       "      <td>12</td>\n",
       "    </tr>\n",
       "    <tr>\n",
       "      <th>3</th>\n",
       "      <td>3</td>\n",
       "      <td>13</td>\n",
       "    </tr>\n",
       "    <tr>\n",
       "      <th>4</th>\n",
       "      <td>4</td>\n",
       "      <td>14</td>\n",
       "    </tr>\n",
       "    <tr>\n",
       "      <th>5</th>\n",
       "      <td>5</td>\n",
       "      <td>15</td>\n",
       "    </tr>\n",
       "    <tr>\n",
       "      <th>6</th>\n",
       "      <td>6</td>\n",
       "      <td>16</td>\n",
       "    </tr>\n",
       "    <tr>\n",
       "      <th>7</th>\n",
       "      <td>7</td>\n",
       "      <td>17</td>\n",
       "    </tr>\n",
       "    <tr>\n",
       "      <th>8</th>\n",
       "      <td>8</td>\n",
       "      <td>18</td>\n",
       "    </tr>\n",
       "    <tr>\n",
       "      <th>9</th>\n",
       "      <td>9</td>\n",
       "      <td>19</td>\n",
       "    </tr>\n",
       "  </tbody>\n",
       "</table>\n",
       "</div>"
      ],
      "text/plain": [
       "   Column1  Column2\n",
       "0        0       10\n",
       "1        1       11\n",
       "2        2       12\n",
       "3        3       13\n",
       "4        4       14\n",
       "5        5       15\n",
       "6        6       16\n",
       "7        7       17\n",
       "8        8       18\n",
       "9        9       19"
      ]
     },
     "execution_count": 9,
     "metadata": {},
     "output_type": "execute_result"
    }
   ],
   "source": [
    "df = pd.DataFrame(df)\n",
    "df"
   ]
  },
  {
   "cell_type": "markdown",
   "id": "432a2034",
   "metadata": {},
   "source": [
    "#### Fetch the row from the data frame where the value is less than 2."
   ]
  },
  {
   "cell_type": "code",
   "execution_count": 10,
   "id": "efd5e844",
   "metadata": {},
   "outputs": [
    {
     "data": {
      "text/html": [
       "<div>\n",
       "<style scoped>\n",
       "    .dataframe tbody tr th:only-of-type {\n",
       "        vertical-align: middle;\n",
       "    }\n",
       "\n",
       "    .dataframe tbody tr th {\n",
       "        vertical-align: top;\n",
       "    }\n",
       "\n",
       "    .dataframe thead th {\n",
       "        text-align: right;\n",
       "    }\n",
       "</style>\n",
       "<table border=\"1\" class=\"dataframe\">\n",
       "  <thead>\n",
       "    <tr style=\"text-align: right;\">\n",
       "      <th></th>\n",
       "      <th>Column1</th>\n",
       "      <th>Column2</th>\n",
       "    </tr>\n",
       "  </thead>\n",
       "  <tbody>\n",
       "    <tr>\n",
       "      <th>0</th>\n",
       "      <td>0</td>\n",
       "      <td>10</td>\n",
       "    </tr>\n",
       "    <tr>\n",
       "      <th>1</th>\n",
       "      <td>1</td>\n",
       "      <td>11</td>\n",
       "    </tr>\n",
       "  </tbody>\n",
       "</table>\n",
       "</div>"
      ],
      "text/plain": [
       "   Column1  Column2\n",
       "0        0       10\n",
       "1        1       11"
      ]
     },
     "execution_count": 10,
     "metadata": {},
     "output_type": "execute_result"
    }
   ],
   "source": [
    "df[df['Column1']<2]"
   ]
  },
  {
   "cell_type": "code",
   "execution_count": 11,
   "id": "760de72a",
   "metadata": {},
   "outputs": [],
   "source": [
    "result = pd.DataFrame({\"student_name\":['Noah', 'Nasir', 'Salis','Jibrael', 'Abdullah'],\n",
    "                       \"student_roll\":[1,2,3,4,5,],\n",
    "                      \"Paper1\":[90,89,78,76,65],\n",
    "                      \"Paper2\":[80,99,78,78,55],\n",
    "                      \"Paper3\":[60,49,68,86,95]})"
   ]
  },
  {
   "cell_type": "code",
   "execution_count": 12,
   "id": "c452ee50",
   "metadata": {},
   "outputs": [
    {
     "data": {
      "text/html": [
       "<div>\n",
       "<style scoped>\n",
       "    .dataframe tbody tr th:only-of-type {\n",
       "        vertical-align: middle;\n",
       "    }\n",
       "\n",
       "    .dataframe tbody tr th {\n",
       "        vertical-align: top;\n",
       "    }\n",
       "\n",
       "    .dataframe thead th {\n",
       "        text-align: right;\n",
       "    }\n",
       "</style>\n",
       "<table border=\"1\" class=\"dataframe\">\n",
       "  <thead>\n",
       "    <tr style=\"text-align: right;\">\n",
       "      <th></th>\n",
       "      <th>student_name</th>\n",
       "      <th>student_roll</th>\n",
       "      <th>Paper1</th>\n",
       "      <th>Paper2</th>\n",
       "      <th>Paper3</th>\n",
       "    </tr>\n",
       "  </thead>\n",
       "  <tbody>\n",
       "    <tr>\n",
       "      <th>0</th>\n",
       "      <td>Noah</td>\n",
       "      <td>1</td>\n",
       "      <td>90</td>\n",
       "      <td>80</td>\n",
       "      <td>60</td>\n",
       "    </tr>\n",
       "    <tr>\n",
       "      <th>1</th>\n",
       "      <td>Nasir</td>\n",
       "      <td>2</td>\n",
       "      <td>89</td>\n",
       "      <td>99</td>\n",
       "      <td>49</td>\n",
       "    </tr>\n",
       "    <tr>\n",
       "      <th>2</th>\n",
       "      <td>Salis</td>\n",
       "      <td>3</td>\n",
       "      <td>78</td>\n",
       "      <td>78</td>\n",
       "      <td>68</td>\n",
       "    </tr>\n",
       "    <tr>\n",
       "      <th>3</th>\n",
       "      <td>Jibrael</td>\n",
       "      <td>4</td>\n",
       "      <td>76</td>\n",
       "      <td>78</td>\n",
       "      <td>86</td>\n",
       "    </tr>\n",
       "    <tr>\n",
       "      <th>4</th>\n",
       "      <td>Abdullah</td>\n",
       "      <td>5</td>\n",
       "      <td>65</td>\n",
       "      <td>55</td>\n",
       "      <td>95</td>\n",
       "    </tr>\n",
       "  </tbody>\n",
       "</table>\n",
       "</div>"
      ],
      "text/plain": [
       "  student_name  student_roll  Paper1  Paper2  Paper3\n",
       "0         Noah             1      90      80      60\n",
       "1        Nasir             2      89      99      49\n",
       "2        Salis             3      78      78      68\n",
       "3      Jibrael             4      76      78      86\n",
       "4     Abdullah             5      65      55      95"
      ]
     },
     "execution_count": 12,
     "metadata": {},
     "output_type": "execute_result"
    }
   ],
   "source": [
    "result"
   ]
  },
  {
   "cell_type": "code",
   "execution_count": 13,
   "id": "319955d2",
   "metadata": {},
   "outputs": [],
   "source": [
    "result['Total'] = result['Paper1'] + result['Paper2'] + result['Paper3']"
   ]
  },
  {
   "cell_type": "code",
   "execution_count": 14,
   "id": "8455d51b",
   "metadata": {},
   "outputs": [],
   "source": [
    "result['Percentage'] = result['Total']/300*100"
   ]
  },
  {
   "cell_type": "code",
   "execution_count": 15,
   "id": "5cd763c6",
   "metadata": {},
   "outputs": [
    {
     "data": {
      "text/html": [
       "<div>\n",
       "<style scoped>\n",
       "    .dataframe tbody tr th:only-of-type {\n",
       "        vertical-align: middle;\n",
       "    }\n",
       "\n",
       "    .dataframe tbody tr th {\n",
       "        vertical-align: top;\n",
       "    }\n",
       "\n",
       "    .dataframe thead th {\n",
       "        text-align: right;\n",
       "    }\n",
       "</style>\n",
       "<table border=\"1\" class=\"dataframe\">\n",
       "  <thead>\n",
       "    <tr style=\"text-align: right;\">\n",
       "      <th></th>\n",
       "      <th>student_name</th>\n",
       "      <th>student_roll</th>\n",
       "      <th>Paper1</th>\n",
       "      <th>Paper2</th>\n",
       "      <th>Paper3</th>\n",
       "      <th>Total</th>\n",
       "      <th>Percentage</th>\n",
       "    </tr>\n",
       "  </thead>\n",
       "  <tbody>\n",
       "    <tr>\n",
       "      <th>0</th>\n",
       "      <td>Noah</td>\n",
       "      <td>1</td>\n",
       "      <td>90</td>\n",
       "      <td>80</td>\n",
       "      <td>60</td>\n",
       "      <td>230</td>\n",
       "      <td>76.666667</td>\n",
       "    </tr>\n",
       "    <tr>\n",
       "      <th>1</th>\n",
       "      <td>Nasir</td>\n",
       "      <td>2</td>\n",
       "      <td>89</td>\n",
       "      <td>99</td>\n",
       "      <td>49</td>\n",
       "      <td>237</td>\n",
       "      <td>79.000000</td>\n",
       "    </tr>\n",
       "    <tr>\n",
       "      <th>2</th>\n",
       "      <td>Salis</td>\n",
       "      <td>3</td>\n",
       "      <td>78</td>\n",
       "      <td>78</td>\n",
       "      <td>68</td>\n",
       "      <td>224</td>\n",
       "      <td>74.666667</td>\n",
       "    </tr>\n",
       "    <tr>\n",
       "      <th>3</th>\n",
       "      <td>Jibrael</td>\n",
       "      <td>4</td>\n",
       "      <td>76</td>\n",
       "      <td>78</td>\n",
       "      <td>86</td>\n",
       "      <td>240</td>\n",
       "      <td>80.000000</td>\n",
       "    </tr>\n",
       "    <tr>\n",
       "      <th>4</th>\n",
       "      <td>Abdullah</td>\n",
       "      <td>5</td>\n",
       "      <td>65</td>\n",
       "      <td>55</td>\n",
       "      <td>95</td>\n",
       "      <td>215</td>\n",
       "      <td>71.666667</td>\n",
       "    </tr>\n",
       "  </tbody>\n",
       "</table>\n",
       "</div>"
      ],
      "text/plain": [
       "  student_name  student_roll  Paper1  Paper2  Paper3  Total  Percentage\n",
       "0         Noah             1      90      80      60    230   76.666667\n",
       "1        Nasir             2      89      99      49    237   79.000000\n",
       "2        Salis             3      78      78      68    224   74.666667\n",
       "3      Jibrael             4      76      78      86    240   80.000000\n",
       "4     Abdullah             5      65      55      95    215   71.666667"
      ]
     },
     "execution_count": 15,
     "metadata": {},
     "output_type": "execute_result"
    }
   ],
   "source": [
    "result"
   ]
  },
  {
   "cell_type": "code",
   "execution_count": 16,
   "id": "60442749",
   "metadata": {},
   "outputs": [
    {
     "data": {
      "text/html": [
       "<div>\n",
       "<style scoped>\n",
       "    .dataframe tbody tr th:only-of-type {\n",
       "        vertical-align: middle;\n",
       "    }\n",
       "\n",
       "    .dataframe tbody tr th {\n",
       "        vertical-align: top;\n",
       "    }\n",
       "\n",
       "    .dataframe thead th {\n",
       "        text-align: right;\n",
       "    }\n",
       "</style>\n",
       "<table border=\"1\" class=\"dataframe\">\n",
       "  <thead>\n",
       "    <tr style=\"text-align: right;\">\n",
       "      <th></th>\n",
       "      <th>student_name</th>\n",
       "      <th>student_roll</th>\n",
       "      <th>Paper1</th>\n",
       "      <th>Paper2</th>\n",
       "      <th>Paper3</th>\n",
       "      <th>Total</th>\n",
       "      <th>Percentage</th>\n",
       "      <th>LC_Grade</th>\n",
       "    </tr>\n",
       "  </thead>\n",
       "  <tbody>\n",
       "    <tr>\n",
       "      <th>0</th>\n",
       "      <td>Noah</td>\n",
       "      <td>1</td>\n",
       "      <td>90</td>\n",
       "      <td>80</td>\n",
       "      <td>60</td>\n",
       "      <td>230</td>\n",
       "      <td>76.666667</td>\n",
       "      <td>B</td>\n",
       "    </tr>\n",
       "    <tr>\n",
       "      <th>1</th>\n",
       "      <td>Nasir</td>\n",
       "      <td>2</td>\n",
       "      <td>89</td>\n",
       "      <td>99</td>\n",
       "      <td>49</td>\n",
       "      <td>237</td>\n",
       "      <td>79.000000</td>\n",
       "      <td>B</td>\n",
       "    </tr>\n",
       "    <tr>\n",
       "      <th>2</th>\n",
       "      <td>Salis</td>\n",
       "      <td>3</td>\n",
       "      <td>78</td>\n",
       "      <td>78</td>\n",
       "      <td>68</td>\n",
       "      <td>224</td>\n",
       "      <td>74.666667</td>\n",
       "      <td>C</td>\n",
       "    </tr>\n",
       "    <tr>\n",
       "      <th>3</th>\n",
       "      <td>Jibrael</td>\n",
       "      <td>4</td>\n",
       "      <td>76</td>\n",
       "      <td>78</td>\n",
       "      <td>86</td>\n",
       "      <td>240</td>\n",
       "      <td>80.000000</td>\n",
       "      <td>A</td>\n",
       "    </tr>\n",
       "    <tr>\n",
       "      <th>4</th>\n",
       "      <td>Abdullah</td>\n",
       "      <td>5</td>\n",
       "      <td>65</td>\n",
       "      <td>55</td>\n",
       "      <td>95</td>\n",
       "      <td>215</td>\n",
       "      <td>71.666667</td>\n",
       "      <td>C</td>\n",
       "    </tr>\n",
       "  </tbody>\n",
       "</table>\n",
       "</div>"
      ],
      "text/plain": [
       "  student_name  student_roll  Paper1  Paper2  Paper3  Total  Percentage  \\\n",
       "0         Noah             1      90      80      60    230   76.666667   \n",
       "1        Nasir             2      89      99      49    237   79.000000   \n",
       "2        Salis             3      78      78      68    224   74.666667   \n",
       "3      Jibrael             4      76      78      86    240   80.000000   \n",
       "4     Abdullah             5      65      55      95    215   71.666667   \n",
       "\n",
       "  LC_Grade  \n",
       "0        B  \n",
       "1        B  \n",
       "2        C  \n",
       "3        A  \n",
       "4        C  "
      ]
     },
     "execution_count": 16,
     "metadata": {},
     "output_type": "execute_result"
    }
   ],
   "source": [
    "result['LC_Grade'] = ['A' if num >= 80 else 'B' if num >= 75 else 'C' for num in result['Percentage']]\n",
    "result"
   ]
  },
  {
   "cell_type": "code",
   "execution_count": 17,
   "id": "55c65a40",
   "metadata": {},
   "outputs": [],
   "source": [
    "def grade(num):\n",
    "    \n",
    "    grade = None\n",
    "    if num >=80:\n",
    "        grade = 'A'\n",
    "    elif num >=75:\n",
    "        grade =  'B'\n",
    "    else:\n",
    "        grade =  'C'\n",
    "    return grade"
   ]
  },
  {
   "cell_type": "code",
   "execution_count": 18,
   "id": "7f592cb9",
   "metadata": {},
   "outputs": [
    {
     "data": {
      "text/html": [
       "<div>\n",
       "<style scoped>\n",
       "    .dataframe tbody tr th:only-of-type {\n",
       "        vertical-align: middle;\n",
       "    }\n",
       "\n",
       "    .dataframe tbody tr th {\n",
       "        vertical-align: top;\n",
       "    }\n",
       "\n",
       "    .dataframe thead th {\n",
       "        text-align: right;\n",
       "    }\n",
       "</style>\n",
       "<table border=\"1\" class=\"dataframe\">\n",
       "  <thead>\n",
       "    <tr style=\"text-align: right;\">\n",
       "      <th></th>\n",
       "      <th>student_name</th>\n",
       "      <th>student_roll</th>\n",
       "      <th>Paper1</th>\n",
       "      <th>Paper2</th>\n",
       "      <th>Paper3</th>\n",
       "      <th>Total</th>\n",
       "      <th>Percentage</th>\n",
       "      <th>LC_Grade</th>\n",
       "      <th>func_Grade</th>\n",
       "    </tr>\n",
       "  </thead>\n",
       "  <tbody>\n",
       "    <tr>\n",
       "      <th>0</th>\n",
       "      <td>Noah</td>\n",
       "      <td>1</td>\n",
       "      <td>90</td>\n",
       "      <td>80</td>\n",
       "      <td>60</td>\n",
       "      <td>230</td>\n",
       "      <td>76.666667</td>\n",
       "      <td>B</td>\n",
       "      <td>B</td>\n",
       "    </tr>\n",
       "    <tr>\n",
       "      <th>1</th>\n",
       "      <td>Nasir</td>\n",
       "      <td>2</td>\n",
       "      <td>89</td>\n",
       "      <td>99</td>\n",
       "      <td>49</td>\n",
       "      <td>237</td>\n",
       "      <td>79.000000</td>\n",
       "      <td>B</td>\n",
       "      <td>B</td>\n",
       "    </tr>\n",
       "    <tr>\n",
       "      <th>2</th>\n",
       "      <td>Salis</td>\n",
       "      <td>3</td>\n",
       "      <td>78</td>\n",
       "      <td>78</td>\n",
       "      <td>68</td>\n",
       "      <td>224</td>\n",
       "      <td>74.666667</td>\n",
       "      <td>C</td>\n",
       "      <td>C</td>\n",
       "    </tr>\n",
       "    <tr>\n",
       "      <th>3</th>\n",
       "      <td>Jibrael</td>\n",
       "      <td>4</td>\n",
       "      <td>76</td>\n",
       "      <td>78</td>\n",
       "      <td>86</td>\n",
       "      <td>240</td>\n",
       "      <td>80.000000</td>\n",
       "      <td>A</td>\n",
       "      <td>A</td>\n",
       "    </tr>\n",
       "    <tr>\n",
       "      <th>4</th>\n",
       "      <td>Abdullah</td>\n",
       "      <td>5</td>\n",
       "      <td>65</td>\n",
       "      <td>55</td>\n",
       "      <td>95</td>\n",
       "      <td>215</td>\n",
       "      <td>71.666667</td>\n",
       "      <td>C</td>\n",
       "      <td>C</td>\n",
       "    </tr>\n",
       "  </tbody>\n",
       "</table>\n",
       "</div>"
      ],
      "text/plain": [
       "  student_name  student_roll  Paper1  Paper2  Paper3  Total  Percentage  \\\n",
       "0         Noah             1      90      80      60    230   76.666667   \n",
       "1        Nasir             2      89      99      49    237   79.000000   \n",
       "2        Salis             3      78      78      68    224   74.666667   \n",
       "3      Jibrael             4      76      78      86    240   80.000000   \n",
       "4     Abdullah             5      65      55      95    215   71.666667   \n",
       "\n",
       "  LC_Grade func_Grade  \n",
       "0        B          B  \n",
       "1        B          B  \n",
       "2        C          C  \n",
       "3        A          A  \n",
       "4        C          C  "
      ]
     },
     "execution_count": 18,
     "metadata": {},
     "output_type": "execute_result"
    }
   ],
   "source": [
    "result['func_Grade'] = [grade(num) for num in result['Percentage']]\n",
    "result"
   ]
  },
  {
   "cell_type": "markdown",
   "id": "98fde2ef",
   "metadata": {},
   "source": [
    "LOC and ILOC:\n",
    "    \n",
    "   * Loc: Catching Row\n",
    "   * ILoc: Catching Column"
   ]
  },
  {
   "cell_type": "code",
   "execution_count": 19,
   "id": "45468a8b",
   "metadata": {},
   "outputs": [
    {
     "data": {
      "text/plain": [
       "student_name        Salis\n",
       "student_roll            3\n",
       "Paper1                 78\n",
       "Paper2                 78\n",
       "Paper3                 68\n",
       "Total                 224\n",
       "Percentage      74.666667\n",
       "LC_Grade                C\n",
       "func_Grade              C\n",
       "Name: 2, dtype: object"
      ]
     },
     "execution_count": 19,
     "metadata": {},
     "output_type": "execute_result"
    }
   ],
   "source": [
    "result.loc[2]"
   ]
  },
  {
   "cell_type": "code",
   "execution_count": 20,
   "id": "78b600de",
   "metadata": {},
   "outputs": [
    {
     "data": {
      "text/plain": [
       "student_name    Jibrael\n",
       "student_roll          4\n",
       "Paper1               76\n",
       "Paper2               78\n",
       "Paper3               86\n",
       "Total               240\n",
       "Percentage         80.0\n",
       "LC_Grade              A\n",
       "func_Grade            A\n",
       "Name: 3, dtype: object"
      ]
     },
     "execution_count": 20,
     "metadata": {},
     "output_type": "execute_result"
    }
   ],
   "source": [
    "result.iloc[3]"
   ]
  },
  {
   "cell_type": "code",
   "execution_count": 21,
   "id": "0880732c",
   "metadata": {},
   "outputs": [
    {
     "data": {
      "text/html": [
       "<div>\n",
       "<style scoped>\n",
       "    .dataframe tbody tr th:only-of-type {\n",
       "        vertical-align: middle;\n",
       "    }\n",
       "\n",
       "    .dataframe tbody tr th {\n",
       "        vertical-align: top;\n",
       "    }\n",
       "\n",
       "    .dataframe thead th {\n",
       "        text-align: right;\n",
       "    }\n",
       "</style>\n",
       "<table border=\"1\" class=\"dataframe\">\n",
       "  <thead>\n",
       "    <tr style=\"text-align: right;\">\n",
       "      <th></th>\n",
       "      <th>student_name</th>\n",
       "      <th>student_roll</th>\n",
       "      <th>Paper1</th>\n",
       "      <th>Paper2</th>\n",
       "      <th>Paper3</th>\n",
       "      <th>Total</th>\n",
       "      <th>Percentage</th>\n",
       "      <th>LC_Grade</th>\n",
       "      <th>func_Grade</th>\n",
       "    </tr>\n",
       "  </thead>\n",
       "  <tbody>\n",
       "    <tr>\n",
       "      <th>0</th>\n",
       "      <td>Noah</td>\n",
       "      <td>1</td>\n",
       "      <td>90</td>\n",
       "      <td>80</td>\n",
       "      <td>60</td>\n",
       "      <td>230</td>\n",
       "      <td>76.666667</td>\n",
       "      <td>B</td>\n",
       "      <td>B</td>\n",
       "    </tr>\n",
       "  </tbody>\n",
       "</table>\n",
       "</div>"
      ],
      "text/plain": [
       "  student_name  student_roll  Paper1  Paper2  Paper3  Total  Percentage  \\\n",
       "0         Noah             1      90      80      60    230   76.666667   \n",
       "\n",
       "  LC_Grade func_Grade  \n",
       "0        B          B  "
      ]
     },
     "execution_count": 21,
     "metadata": {},
     "output_type": "execute_result"
    }
   ],
   "source": [
    "result[result['student_name']=='Noah']"
   ]
  },
  {
   "cell_type": "code",
   "execution_count": 22,
   "id": "1b1a1081",
   "metadata": {},
   "outputs": [
    {
     "data": {
      "text/plain": [
       "0    B\n",
       "Name: LC_Grade, dtype: object"
      ]
     },
     "execution_count": 22,
     "metadata": {},
     "output_type": "execute_result"
    }
   ],
   "source": [
    "result[result['student_name']=='Noah']['LC_Grade']"
   ]
  },
  {
   "cell_type": "code",
   "execution_count": 23,
   "id": "f4dc8994",
   "metadata": {},
   "outputs": [
    {
     "data": {
      "text/html": [
       "<div>\n",
       "<style scoped>\n",
       "    .dataframe tbody tr th:only-of-type {\n",
       "        vertical-align: middle;\n",
       "    }\n",
       "\n",
       "    .dataframe tbody tr th {\n",
       "        vertical-align: top;\n",
       "    }\n",
       "\n",
       "    .dataframe thead th {\n",
       "        text-align: right;\n",
       "    }\n",
       "</style>\n",
       "<table border=\"1\" class=\"dataframe\">\n",
       "  <thead>\n",
       "    <tr style=\"text-align: right;\">\n",
       "      <th></th>\n",
       "      <th>student_name</th>\n",
       "      <th>LC_Grade</th>\n",
       "    </tr>\n",
       "  </thead>\n",
       "  <tbody>\n",
       "    <tr>\n",
       "      <th>0</th>\n",
       "      <td>Noah</td>\n",
       "      <td>B</td>\n",
       "    </tr>\n",
       "  </tbody>\n",
       "</table>\n",
       "</div>"
      ],
      "text/plain": [
       "  student_name LC_Grade\n",
       "0         Noah        B"
      ]
     },
     "execution_count": 23,
     "metadata": {},
     "output_type": "execute_result"
    }
   ],
   "source": [
    "result[result['student_name']=='Noah'][['student_name','LC_Grade']]"
   ]
  },
  {
   "cell_type": "code",
   "execution_count": 24,
   "id": "da074ba2",
   "metadata": {},
   "outputs": [
    {
     "data": {
      "text/html": [
       "<div>\n",
       "<style scoped>\n",
       "    .dataframe tbody tr th:only-of-type {\n",
       "        vertical-align: middle;\n",
       "    }\n",
       "\n",
       "    .dataframe tbody tr th {\n",
       "        vertical-align: top;\n",
       "    }\n",
       "\n",
       "    .dataframe thead th {\n",
       "        text-align: right;\n",
       "    }\n",
       "</style>\n",
       "<table border=\"1\" class=\"dataframe\">\n",
       "  <thead>\n",
       "    <tr style=\"text-align: right;\">\n",
       "      <th></th>\n",
       "      <th>student_name</th>\n",
       "      <th>Total</th>\n",
       "      <th>LC_Grade</th>\n",
       "    </tr>\n",
       "  </thead>\n",
       "  <tbody>\n",
       "    <tr>\n",
       "      <th>0</th>\n",
       "      <td>Noah</td>\n",
       "      <td>230</td>\n",
       "      <td>B</td>\n",
       "    </tr>\n",
       "  </tbody>\n",
       "</table>\n",
       "</div>"
      ],
      "text/plain": [
       "  student_name  Total LC_Grade\n",
       "0         Noah    230        B"
      ]
     },
     "execution_count": 24,
     "metadata": {},
     "output_type": "execute_result"
    }
   ],
   "source": [
    "result[result['student_name']=='Noah'][['student_name','Total','LC_Grade']]"
   ]
  },
  {
   "cell_type": "code",
   "execution_count": 25,
   "id": "33a89848",
   "metadata": {},
   "outputs": [
    {
     "data": {
      "text/html": [
       "<div>\n",
       "<style scoped>\n",
       "    .dataframe tbody tr th:only-of-type {\n",
       "        vertical-align: middle;\n",
       "    }\n",
       "\n",
       "    .dataframe tbody tr th {\n",
       "        vertical-align: top;\n",
       "    }\n",
       "\n",
       "    .dataframe thead th {\n",
       "        text-align: right;\n",
       "    }\n",
       "</style>\n",
       "<table border=\"1\" class=\"dataframe\">\n",
       "  <thead>\n",
       "    <tr style=\"text-align: right;\">\n",
       "      <th></th>\n",
       "      <th>student_name</th>\n",
       "      <th>Total</th>\n",
       "      <th>LC_Grade</th>\n",
       "    </tr>\n",
       "  </thead>\n",
       "  <tbody>\n",
       "    <tr>\n",
       "      <th>0</th>\n",
       "      <td>Noah</td>\n",
       "      <td>230</td>\n",
       "      <td>B</td>\n",
       "    </tr>\n",
       "    <tr>\n",
       "      <th>1</th>\n",
       "      <td>Nasir</td>\n",
       "      <td>237</td>\n",
       "      <td>B</td>\n",
       "    </tr>\n",
       "    <tr>\n",
       "      <th>2</th>\n",
       "      <td>Salis</td>\n",
       "      <td>224</td>\n",
       "      <td>C</td>\n",
       "    </tr>\n",
       "    <tr>\n",
       "      <th>3</th>\n",
       "      <td>Jibrael</td>\n",
       "      <td>240</td>\n",
       "      <td>A</td>\n",
       "    </tr>\n",
       "    <tr>\n",
       "      <th>4</th>\n",
       "      <td>Abdullah</td>\n",
       "      <td>215</td>\n",
       "      <td>C</td>\n",
       "    </tr>\n",
       "  </tbody>\n",
       "</table>\n",
       "</div>"
      ],
      "text/plain": [
       "  student_name  Total LC_Grade\n",
       "0         Noah    230        B\n",
       "1        Nasir    237        B\n",
       "2        Salis    224        C\n",
       "3      Jibrael    240        A\n",
       "4     Abdullah    215        C"
      ]
     },
     "execution_count": 25,
     "metadata": {},
     "output_type": "execute_result"
    }
   ],
   "source": [
    "result[['student_name','Total','LC_Grade']]"
   ]
  },
  {
   "cell_type": "code",
   "execution_count": 26,
   "id": "f0833325",
   "metadata": {},
   "outputs": [
    {
     "data": {
      "text/plain": [
       "65"
      ]
     },
     "execution_count": 26,
     "metadata": {},
     "output_type": "execute_result"
    }
   ],
   "source": [
    "result['Paper1'].min()"
   ]
  },
  {
   "cell_type": "code",
   "execution_count": 27,
   "id": "6f94496e",
   "metadata": {},
   "outputs": [
    {
     "data": {
      "text/plain": [
       "99"
      ]
     },
     "execution_count": 27,
     "metadata": {},
     "output_type": "execute_result"
    }
   ],
   "source": [
    "result['Paper2'].max()"
   ]
  },
  {
   "cell_type": "code",
   "execution_count": 28,
   "id": "58c11fd7",
   "metadata": {},
   "outputs": [
    {
     "data": {
      "text/plain": [
       "65"
      ]
     },
     "execution_count": 28,
     "metadata": {},
     "output_type": "execute_result"
    }
   ],
   "source": [
    "min(result['Paper1'])"
   ]
  },
  {
   "cell_type": "code",
   "execution_count": 29,
   "id": "82ede8f7",
   "metadata": {},
   "outputs": [
    {
     "data": {
      "text/html": [
       "<div>\n",
       "<style scoped>\n",
       "    .dataframe tbody tr th:only-of-type {\n",
       "        vertical-align: middle;\n",
       "    }\n",
       "\n",
       "    .dataframe tbody tr th {\n",
       "        vertical-align: top;\n",
       "    }\n",
       "\n",
       "    .dataframe thead th {\n",
       "        text-align: right;\n",
       "    }\n",
       "</style>\n",
       "<table border=\"1\" class=\"dataframe\">\n",
       "  <thead>\n",
       "    <tr style=\"text-align: right;\">\n",
       "      <th></th>\n",
       "      <th>student_name</th>\n",
       "      <th>student_roll</th>\n",
       "      <th>Paper1</th>\n",
       "      <th>Paper2</th>\n",
       "      <th>Paper3</th>\n",
       "      <th>Total</th>\n",
       "      <th>Percentage</th>\n",
       "      <th>LC_Grade</th>\n",
       "      <th>func_Grade</th>\n",
       "    </tr>\n",
       "  </thead>\n",
       "  <tbody>\n",
       "    <tr>\n",
       "      <th>4</th>\n",
       "      <td>Abdullah</td>\n",
       "      <td>5</td>\n",
       "      <td>65</td>\n",
       "      <td>55</td>\n",
       "      <td>95</td>\n",
       "      <td>215</td>\n",
       "      <td>71.666667</td>\n",
       "      <td>C</td>\n",
       "      <td>C</td>\n",
       "    </tr>\n",
       "  </tbody>\n",
       "</table>\n",
       "</div>"
      ],
      "text/plain": [
       "  student_name  student_roll  Paper1  Paper2  Paper3  Total  Percentage  \\\n",
       "4     Abdullah             5      65      55      95    215   71.666667   \n",
       "\n",
       "  LC_Grade func_Grade  \n",
       "4        C          C  "
      ]
     },
     "execution_count": 29,
     "metadata": {},
     "output_type": "execute_result"
    }
   ],
   "source": [
    "result[result['Paper1'] == result['Paper1'].min()]"
   ]
  },
  {
   "cell_type": "code",
   "execution_count": 30,
   "id": "252e6810",
   "metadata": {},
   "outputs": [
    {
     "data": {
      "text/html": [
       "<div>\n",
       "<style scoped>\n",
       "    .dataframe tbody tr th:only-of-type {\n",
       "        vertical-align: middle;\n",
       "    }\n",
       "\n",
       "    .dataframe tbody tr th {\n",
       "        vertical-align: top;\n",
       "    }\n",
       "\n",
       "    .dataframe thead th {\n",
       "        text-align: right;\n",
       "    }\n",
       "</style>\n",
       "<table border=\"1\" class=\"dataframe\">\n",
       "  <thead>\n",
       "    <tr style=\"text-align: right;\">\n",
       "      <th></th>\n",
       "      <th>student_name</th>\n",
       "      <th>student_roll</th>\n",
       "      <th>Paper1</th>\n",
       "      <th>Paper2</th>\n",
       "      <th>Paper3</th>\n",
       "      <th>Total</th>\n",
       "      <th>Percentage</th>\n",
       "      <th>LC_Grade</th>\n",
       "      <th>func_Grade</th>\n",
       "    </tr>\n",
       "  </thead>\n",
       "  <tbody>\n",
       "    <tr>\n",
       "      <th>1</th>\n",
       "      <td>Nasir</td>\n",
       "      <td>2</td>\n",
       "      <td>89</td>\n",
       "      <td>99</td>\n",
       "      <td>49</td>\n",
       "      <td>237</td>\n",
       "      <td>79.0</td>\n",
       "      <td>B</td>\n",
       "      <td>B</td>\n",
       "    </tr>\n",
       "  </tbody>\n",
       "</table>\n",
       "</div>"
      ],
      "text/plain": [
       "  student_name  student_roll  Paper1  Paper2  Paper3  Total  Percentage  \\\n",
       "1        Nasir             2      89      99      49    237        79.0   \n",
       "\n",
       "  LC_Grade func_Grade  \n",
       "1        B          B  "
      ]
     },
     "execution_count": 30,
     "metadata": {},
     "output_type": "execute_result"
    }
   ],
   "source": [
    "result[result['Paper2'] == result['Paper2'].max()]"
   ]
  },
  {
   "cell_type": "code",
   "execution_count": 31,
   "id": "236c5b0e",
   "metadata": {},
   "outputs": [
    {
     "data": {
      "text/html": [
       "<div>\n",
       "<style scoped>\n",
       "    .dataframe tbody tr th:only-of-type {\n",
       "        vertical-align: middle;\n",
       "    }\n",
       "\n",
       "    .dataframe tbody tr th {\n",
       "        vertical-align: top;\n",
       "    }\n",
       "\n",
       "    .dataframe thead th {\n",
       "        text-align: right;\n",
       "    }\n",
       "</style>\n",
       "<table border=\"1\" class=\"dataframe\">\n",
       "  <thead>\n",
       "    <tr style=\"text-align: right;\">\n",
       "      <th></th>\n",
       "      <th>student_name</th>\n",
       "      <th>Paper2</th>\n",
       "    </tr>\n",
       "  </thead>\n",
       "  <tbody>\n",
       "    <tr>\n",
       "      <th>1</th>\n",
       "      <td>Nasir</td>\n",
       "      <td>99</td>\n",
       "    </tr>\n",
       "  </tbody>\n",
       "</table>\n",
       "</div>"
      ],
      "text/plain": [
       "  student_name  Paper2\n",
       "1        Nasir      99"
      ]
     },
     "execution_count": 31,
     "metadata": {},
     "output_type": "execute_result"
    }
   ],
   "source": [
    "result[result['Paper2'] == result['Paper2'].max()][['student_name','Paper2']]"
   ]
  },
  {
   "cell_type": "code",
   "execution_count": 32,
   "id": "d565532b",
   "metadata": {},
   "outputs": [
    {
     "data": {
      "text/html": [
       "<div>\n",
       "<style scoped>\n",
       "    .dataframe tbody tr th:only-of-type {\n",
       "        vertical-align: middle;\n",
       "    }\n",
       "\n",
       "    .dataframe tbody tr th {\n",
       "        vertical-align: top;\n",
       "    }\n",
       "\n",
       "    .dataframe thead th {\n",
       "        text-align: right;\n",
       "    }\n",
       "</style>\n",
       "<table border=\"1\" class=\"dataframe\">\n",
       "  <thead>\n",
       "    <tr style=\"text-align: right;\">\n",
       "      <th></th>\n",
       "      <th>student_name</th>\n",
       "      <th>Paper1</th>\n",
       "    </tr>\n",
       "  </thead>\n",
       "  <tbody>\n",
       "    <tr>\n",
       "      <th>4</th>\n",
       "      <td>Abdullah</td>\n",
       "      <td>65</td>\n",
       "    </tr>\n",
       "  </tbody>\n",
       "</table>\n",
       "</div>"
      ],
      "text/plain": [
       "  student_name  Paper1\n",
       "4     Abdullah      65"
      ]
     },
     "execution_count": 32,
     "metadata": {},
     "output_type": "execute_result"
    }
   ],
   "source": [
    "result[result['Paper1'] == result['Paper1'].min()][['student_name','Paper1']]"
   ]
  },
  {
   "cell_type": "code",
   "execution_count": 33,
   "id": "58a07a0c",
   "metadata": {},
   "outputs": [
    {
     "data": {
      "text/plain": [
       "Paper1    90\n",
       "Paper2    99\n",
       "dtype: int64"
      ]
     },
     "execution_count": 33,
     "metadata": {},
     "output_type": "execute_result"
    }
   ],
   "source": [
    "result[['Paper1','Paper2']].max()"
   ]
  },
  {
   "cell_type": "code",
   "execution_count": 34,
   "id": "db47a9a5",
   "metadata": {},
   "outputs": [
    {
     "data": {
      "text/plain": [
       "student_name    Salis\n",
       "Paper2             99\n",
       "dtype: object"
      ]
     },
     "execution_count": 34,
     "metadata": {},
     "output_type": "execute_result"
    }
   ],
   "source": [
    "result[['student_name','Paper2']].max()"
   ]
  },
  {
   "cell_type": "code",
   "execution_count": 35,
   "id": "a2dd8794",
   "metadata": {},
   "outputs": [
    {
     "data": {
      "text/plain": [
       "student_name    Salis\n",
       "Paper1             90\n",
       "Paper2             99\n",
       "dtype: object"
      ]
     },
     "execution_count": 35,
     "metadata": {},
     "output_type": "execute_result"
    }
   ],
   "source": [
    "result[['student_name','Paper1','Paper2']].max()"
   ]
  },
  {
   "cell_type": "code",
   "execution_count": 36,
   "id": "a900112b",
   "metadata": {},
   "outputs": [
    {
     "data": {
      "text/html": [
       "<div>\n",
       "<style scoped>\n",
       "    .dataframe tbody tr th:only-of-type {\n",
       "        vertical-align: middle;\n",
       "    }\n",
       "\n",
       "    .dataframe tbody tr th {\n",
       "        vertical-align: top;\n",
       "    }\n",
       "\n",
       "    .dataframe thead th {\n",
       "        text-align: right;\n",
       "    }\n",
       "</style>\n",
       "<table border=\"1\" class=\"dataframe\">\n",
       "  <thead>\n",
       "    <tr style=\"text-align: right;\">\n",
       "      <th></th>\n",
       "      <th>student_name</th>\n",
       "      <th>student_roll</th>\n",
       "      <th>Paper1</th>\n",
       "      <th>Paper2</th>\n",
       "      <th>Paper3</th>\n",
       "      <th>Total</th>\n",
       "      <th>Percentage</th>\n",
       "      <th>LC_Grade</th>\n",
       "      <th>func_Grade</th>\n",
       "    </tr>\n",
       "  </thead>\n",
       "  <tbody>\n",
       "    <tr>\n",
       "      <th>2</th>\n",
       "      <td>Salis</td>\n",
       "      <td>3</td>\n",
       "      <td>78</td>\n",
       "      <td>78</td>\n",
       "      <td>68</td>\n",
       "      <td>224</td>\n",
       "      <td>74.666667</td>\n",
       "      <td>C</td>\n",
       "      <td>C</td>\n",
       "    </tr>\n",
       "  </tbody>\n",
       "</table>\n",
       "</div>"
      ],
      "text/plain": [
       "  student_name  student_roll  Paper1  Paper2  Paper3  Total  Percentage  \\\n",
       "2        Salis             3      78      78      68    224   74.666667   \n",
       "\n",
       "  LC_Grade func_Grade  \n",
       "2        C          C  "
      ]
     },
     "execution_count": 36,
     "metadata": {},
     "output_type": "execute_result"
    }
   ],
   "source": [
    "result[result['student_name'] == 'Salis']"
   ]
  },
  {
   "cell_type": "code",
   "execution_count": 37,
   "id": "19659029",
   "metadata": {},
   "outputs": [
    {
     "data": {
      "text/html": [
       "<div>\n",
       "<style scoped>\n",
       "    .dataframe tbody tr th:only-of-type {\n",
       "        vertical-align: middle;\n",
       "    }\n",
       "\n",
       "    .dataframe tbody tr th {\n",
       "        vertical-align: top;\n",
       "    }\n",
       "\n",
       "    .dataframe thead th {\n",
       "        text-align: right;\n",
       "    }\n",
       "</style>\n",
       "<table border=\"1\" class=\"dataframe\">\n",
       "  <thead>\n",
       "    <tr style=\"text-align: right;\">\n",
       "      <th></th>\n",
       "      <th>student_name</th>\n",
       "      <th>student_roll</th>\n",
       "      <th>Paper1</th>\n",
       "      <th>Paper2</th>\n",
       "      <th>Paper3</th>\n",
       "      <th>Total</th>\n",
       "      <th>Percentage</th>\n",
       "      <th>LC_Grade</th>\n",
       "      <th>func_Grade</th>\n",
       "    </tr>\n",
       "  </thead>\n",
       "  <tbody>\n",
       "    <tr>\n",
       "      <th>4</th>\n",
       "      <td>Abdullah1</td>\n",
       "      <td>5</td>\n",
       "      <td>65</td>\n",
       "      <td>55</td>\n",
       "      <td>95</td>\n",
       "      <td>215</td>\n",
       "      <td>71.666667</td>\n",
       "      <td>C</td>\n",
       "      <td>C</td>\n",
       "    </tr>\n",
       "  </tbody>\n",
       "</table>\n",
       "</div>"
      ],
      "text/plain": [
       "  student_name  student_roll  Paper1  Paper2  Paper3  Total  Percentage  \\\n",
       "4    Abdullah1             5      65      55      95    215   71.666667   \n",
       "\n",
       "  LC_Grade func_Grade  \n",
       "4        C          C  "
      ]
     },
     "execution_count": 37,
     "metadata": {},
     "output_type": "execute_result"
    }
   ],
   "source": [
    "result[result['student_name'] == 'Abdullah'].replace('Abdullah','Abdullah1')"
   ]
  },
  {
   "cell_type": "code",
   "execution_count": 38,
   "id": "d68baca5",
   "metadata": {},
   "outputs": [],
   "source": [
    "#Done"
   ]
  }
 ],
 "metadata": {
  "kernelspec": {
   "display_name": "Python 3 (ipykernel)",
   "language": "python",
   "name": "python3"
  },
  "language_info": {
   "codemirror_mode": {
    "name": "ipython",
    "version": 3
   },
   "file_extension": ".py",
   "mimetype": "text/x-python",
   "name": "python",
   "nbconvert_exporter": "python",
   "pygments_lexer": "ipython3",
   "version": "3.9.7"
  }
 },
 "nbformat": 4,
 "nbformat_minor": 5
}
