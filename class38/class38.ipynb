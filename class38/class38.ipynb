{
 "cells": [
  {
   "cell_type": "code",
   "execution_count": 1,
   "id": "1e98b206",
   "metadata": {},
   "outputs": [],
   "source": [
    "# (29/09/2022) Thurday"
   ]
  },
  {
   "cell_type": "markdown",
   "id": "57b50ac5",
   "metadata": {},
   "source": [
    "# Lets Explore:\n",
    "\n",
    "\n",
    "<img src='https://www.bing.com/th?id=ABT0FB8FA16A37256CC1196E4C5543CDAD61208294AF5EFB445B0F3E4A919153A8B&w=608&h=200&c=2&rs=1&o=6&pid=SANGAM'>\n",
    "\n",
    "**Banff National Park, Canada:**\n",
    "\n",
    "Banff National Park, established in 1885, is Canada’s first national park. What started as a 26-square-kilometre hot springs reserve expanded over the years to become 6,641 square kilometres of mountain landscape in the middle of the Canadian Rockies. As part of the Canadian Rocky Mountain Parks UNESCO World Heritage Site, it may come as no surprise that over three million visitors come to the Alberta park every year to hike, bike, ski and camp among the rocky peaks and glacial lakes.\n",
    "\n",
    "Visit Banff National Park and you may get some photos like this, too. Johnston Canyon, seen here, is in close proximity to the Trans-Canada Highway that leads through the park, making it one of the most easily accessible hikes. But it’s not only popular with humans, it’s also one of the park’s best bird-watching spots, so bring binoculars and a camera to look for some of Banff’s winged residents.\n"
   ]
  },
  {
   "cell_type": "code",
   "execution_count": 2,
   "id": "7e2f75d0",
   "metadata": {},
   "outputs": [],
   "source": [
    "# Class Starts from here:"
   ]
  },
  {
   "cell_type": "markdown",
   "id": "31fcd726",
   "metadata": {},
   "source": [
    "# <a href='https://www.investopedia.com/terms/p/probabilitydistribution.asp'> **Probability Distribution Explained: Types and Uses in Investing:** </a>\n",
    "<img src='https://www.investopedia.com/thmb/230_825_RlEU4Lgdz-VhwGpC3EY=/660x0/filters:no_upscale():max_bytes(150000):strip_icc():format(webp)/dotdash_Final_Probability_Distribution_Sep_2020-01-7aca39a5b71148608a0f45691b58184a.jpg'>"
   ]
  },
  {
   "cell_type": "markdown",
   "id": "ca9c26c9",
   "metadata": {},
   "source": [
    "<img src='https://miro.medium.com/max/700/1*cr9_-ts4vqVBOttf-EVuQQ.png'>"
   ]
  },
  {
   "cell_type": "markdown",
   "id": "30de3f82",
   "metadata": {},
   "source": [
    "<img src='https://bernard-mlab.com/images/common-distribution_huec055ab3bd48482f92384431f8f73d3e_75898_900x500_fit_box_2.png'>"
   ]
  },
  {
   "cell_type": "markdown",
   "id": "c7313ee6",
   "metadata": {},
   "source": [
    "<img src='https://www.researchgate.net/publication/348296835/figure/fig2/AS:977252779048962@1610006627436/Three-types-of-data-distribution-are-present-in-descriptive-statistics.jpg' width=70%>"
   ]
  },
  {
   "cell_type": "markdown",
   "id": "23fb0977",
   "metadata": {},
   "source": [
    "<img src='https://i.pinimg.com/originals/a1/28/f2/a128f2ff6208151bc26e311ed3720a37.jpg'>"
   ]
  },
  {
   "cell_type": "markdown",
   "id": "7e4cc38a",
   "metadata": {},
   "source": [
    "<a href='https://www.compose.ai/?gclid=CjwKCAjwhNWZBhB_EiwAPzlhNset2_9rzh_2UesXyuUKGLmOg4r4zke4ATOfhVzjRO3ONnx-TDoTCxoCkTEQAvD_BwE'> Today's Special!! </a>"
   ]
  },
  {
   "cell_type": "markdown",
   "id": "d6421f11",
   "metadata": {},
   "source": [
    "# <a href='https://statisticshelper.com/mean-median-mode-calculator/#answer'>  Mean Median Mode Calculator </a>"
   ]
  },
  {
   "cell_type": "markdown",
   "id": "24285a8c",
   "metadata": {},
   "source": [
    "<a href='https://www.airforshare.com/'> Today's Special2 !! </a>"
   ]
  },
  {
   "cell_type": "markdown",
   "id": "d2381663",
   "metadata": {},
   "source": [
    "<img src='https://cdn.wallstreetmojo.com/wp-content/uploads/2019/05/Standard-Deviation-Formula-1.jpg'>"
   ]
  },
  {
   "cell_type": "markdown",
   "id": "1b48c179",
   "metadata": {},
   "source": [
    "<img src='https://i.ytimg.com/vi/Uk98hiMQgN0/maxresdefault.jpg'>"
   ]
  },
  {
   "cell_type": "markdown",
   "id": "f125d84c",
   "metadata": {},
   "source": [
    "<img src='https://i.ytimg.com/vi/IaTFpp-uzp0/maxresdefault.jpg'>"
   ]
  },
  {
   "cell_type": "markdown",
   "id": "b74b3e46",
   "metadata": {},
   "source": [
    "<img src='https://media.nagwa.com/172108231524/en/thumbnail_l.jpeg'>"
   ]
  },
  {
   "cell_type": "markdown",
   "id": "df4755a5",
   "metadata": {},
   "source": [
    "<a href='https://www.ztable.net/'> Z Score Table </a>"
   ]
  },
  {
   "cell_type": "markdown",
   "id": "ef5ac61b",
   "metadata": {},
   "source": [
    "<a href='https://www.educba.com/z-test-statistics-formula'> Read this !</a>"
   ]
  },
  {
   "cell_type": "code",
   "execution_count": 3,
   "id": "c04f3afb",
   "metadata": {},
   "outputs": [],
   "source": [
    "#Done"
   ]
  }
 ],
 "metadata": {
  "kernelspec": {
   "display_name": "Python 3 (ipykernel)",
   "language": "python",
   "name": "python3"
  },
  "language_info": {
   "codemirror_mode": {
    "name": "ipython",
    "version": 3
   },
   "file_extension": ".py",
   "mimetype": "text/x-python",
   "name": "python",
   "nbconvert_exporter": "python",
   "pygments_lexer": "ipython3",
   "version": "3.9.7"
  }
 },
 "nbformat": 4,
 "nbformat_minor": 5
}
