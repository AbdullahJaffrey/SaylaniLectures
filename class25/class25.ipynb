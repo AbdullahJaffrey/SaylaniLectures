{
 "cells": [
  {
   "cell_type": "code",
   "execution_count": 1,
   "id": "0f29d475",
   "metadata": {},
   "outputs": [],
   "source": [
    "# Thursday (11/08/2022) online due to rain in karachi."
   ]
  },
  {
   "cell_type": "markdown",
   "id": "3140f28d",
   "metadata": {},
   "source": [
    "# Let's Explore:"
   ]
  },
  {
   "cell_type": "markdown",
   "id": "99b18717",
   "metadata": {},
   "source": [
    "<img src='https://en-academic.com/pictures/enwiki/79/Omoteginza_from_Enzanso_2000-5-4.jpg' width=1000px>\n",
    "\n",
    "<a href='https://www.google.com/search?q=Mount+Tsubakuro&sourceid=chrome&ie=UTF-8'> Mount Tsubakuro: </a>\n",
    "\n",
    "\n",
    "Nearly three quarters of Japan is made up of mountains, thanks to its location on the Pacific Ring of Fire volcanic zone. Japan's four major islands – Honshu, Hokkaido, Kyushu and Shikoku – all have ranges running through them. One of the most photographed peaks in the word is snow-capped Mount Fuji, Japan's tallest mountain at 3,776 metres. While not quite as tall, the 2,763-metre Mount Tsubakuro, which we feature in our image today, is a popular hiking destination, with well-maintained trails, rest areas and lodges.\n",
    "\n",
    "Known as the Queen of the Northern Alps, granite-covered Mount Tsubakuro is said to be one of the easiest mountains of the Japanese Alps to climb, not to mention one of the best places to go to enjoy incredible alpine views. Beautiful scenery abounds here on the island of Honshu, less than three hours' driving distance from Tokyo. From the summit you can view some of the highest peaks in Japan, such as the Yatsugatake mountain range and Mount Fuji. Japan's rugged terrain is a boon for its tourist industry, providing opportunities for skiing, climbing and resorts with hot springs – Mount Tsubakuro is no exception."
   ]
  },
  {
   "cell_type": "code",
   "execution_count": 2,
   "id": "bb968e43",
   "metadata": {},
   "outputs": [],
   "source": [
    "from car import Car"
   ]
  },
  {
   "cell_type": "code",
   "execution_count": 3,
   "id": "c0b21377",
   "metadata": {},
   "outputs": [],
   "source": [
    "car1 = Car('Toyota', 'Corolla XLI', 2012)"
   ]
  },
  {
   "cell_type": "code",
   "execution_count": 4,
   "id": "4e8e442b",
   "metadata": {},
   "outputs": [
    {
     "data": {
      "text/plain": [
       "2012"
      ]
     },
     "execution_count": 4,
     "metadata": {},
     "output_type": "execute_result"
    }
   ],
   "source": [
    "car1.year"
   ]
  },
  {
   "cell_type": "markdown",
   "id": "7c59fadf",
   "metadata": {},
   "source": [
    "<img src='libimport.png' width=800px height=150px>"
   ]
  },
  {
   "cell_type": "code",
   "execution_count": 5,
   "id": "594f7d0d",
   "metadata": {},
   "outputs": [],
   "source": [
    "from human import * # * >> All -----------> means 'Select * from module'"
   ]
  },
  {
   "cell_type": "code",
   "execution_count": 6,
   "id": "7cff63b7",
   "metadata": {},
   "outputs": [],
   "source": [
    "h1 = Human(24, 'B+')"
   ]
  },
  {
   "cell_type": "code",
   "execution_count": 7,
   "id": "20bc02d6",
   "metadata": {},
   "outputs": [
    {
     "data": {
      "text/plain": [
       "'B+'"
      ]
     },
     "execution_count": 7,
     "metadata": {},
     "output_type": "execute_result"
    }
   ],
   "source": [
    "h1.blood_group"
   ]
  },
  {
   "cell_type": "code",
   "execution_count": 8,
   "id": "ad84613b",
   "metadata": {},
   "outputs": [
    {
     "data": {
      "text/plain": [
       "'Your blood type is B+! '"
      ]
     },
     "execution_count": 8,
     "metadata": {},
     "output_type": "execute_result"
    }
   ],
   "source": [
    "h1.blood_type()"
   ]
  },
  {
   "cell_type": "code",
   "execution_count": 9,
   "id": "644cb5b2",
   "metadata": {},
   "outputs": [],
   "source": [
    "#Donate blood atleast twice a year!"
   ]
  },
  {
   "cell_type": "markdown",
   "id": "9593ddba",
   "metadata": {},
   "source": [
    "<img src='https://www.hema-quebec.qc.ca/userfiles/image/photos/sang/anglais/Compatibilite-ang.jpg' width=300px>"
   ]
  },
  {
   "cell_type": "markdown",
   "id": "554ab3c5",
   "metadata": {},
   "source": [
    "<img src='https://upload.wikimedia.org/wikipedia/commons/thumb/3/32/ABO_blood_type.svg/1200px-ABO_blood_type.svg.png' width=400px>"
   ]
  },
  {
   "cell_type": "markdown",
   "id": "2e76ef7b",
   "metadata": {},
   "source": [
    "#### File:\n",
    "\n",
    "A file is some information or data which stays in the computer storage devices. You already know about different kinds of file , like your music files, video files, text files. Python gives you easy ways to manipulate these files. Generally we divide files in two categories, text file and binary file. Works fine, even if the cached removes. No more storage consumption or reloading time!\n",
    "#### vs\n"
   ]
  },
  {
   "cell_type": "markdown",
   "id": "5c172e93",
   "metadata": {},
   "source": [
    "#### File Handling:\n",
    "\n",
    "File handling is an integral part of programming. File handling in Python is simplified with built-in methods, \n",
    "which include creating, opening, and closing files. While files are open, \n",
    "Python additionally allows performing various file operations, \n",
    "such as reading, writing, and appending information."
   ]
  },
  {
   "cell_type": "code",
   "execution_count": 10,
   "id": "2deea7d2",
   "metadata": {},
   "outputs": [
    {
     "ename": "FileNotFoundError",
     "evalue": "[Errno 2] No such file or directory: 'testfile.text'",
     "output_type": "error",
     "traceback": [
      "\u001b[1;31m---------------------------------------------------------------------------\u001b[0m",
      "\u001b[1;31mFileNotFoundError\u001b[0m                         Traceback (most recent call last)",
      "Input \u001b[1;32mIn [10]\u001b[0m, in \u001b[0;36m<cell line: 1>\u001b[1;34m()\u001b[0m\n\u001b[1;32m----> 1\u001b[0m \u001b[38;5;28;01mwith\u001b[39;00m \u001b[38;5;28;43mopen\u001b[39;49m\u001b[43m(\u001b[49m\u001b[38;5;124;43m'\u001b[39;49m\u001b[38;5;124;43mtestfile.text\u001b[39;49m\u001b[38;5;124;43m'\u001b[39;49m\u001b[43m,\u001b[49m\u001b[43m \u001b[49m\u001b[38;5;124;43m'\u001b[39;49m\u001b[38;5;124;43mr\u001b[39;49m\u001b[38;5;124;43m'\u001b[39;49m\u001b[43m)\u001b[49m \u001b[38;5;28;01mas\u001b[39;00m testfile: \u001b[38;5;66;03m#r  >> read! only reads the file. cann't create it if not present. \u001b[39;00m\n\u001b[0;32m      2\u001b[0m     \u001b[38;5;28mprint\u001b[39m(testfile\u001b[38;5;241m.\u001b[39mread())\n",
      "\u001b[1;31mFileNotFoundError\u001b[0m: [Errno 2] No such file or directory: 'testfile.text'"
     ]
    }
   ],
   "source": [
    "with open('testfile.text', 'r') as testfile: #r  >> read! only reads the file. cann't create it if not present. \n",
    "    print(testfile.read()) # Display error, cause no file of this name is stored in the system."
   ]
  },
  {
   "cell_type": "code",
   "execution_count": 11,
   "id": "1e35dc65",
   "metadata": {},
   "outputs": [
    {
     "name": "stdout",
     "output_type": "stream",
     "text": [
      "No file exist with this name!! ;) \n"
     ]
    }
   ],
   "source": [
    "try: # To save ourself from error:\n",
    "    with open('testfile.text', 'r') as testfile: #r  >> read! only reads the file. cann't create it if not present. \n",
    "        print(testfile.read()) # Display error, cause no file of this name is stored in the system.\n",
    "except FileNotFoundError:\n",
    "    print('No file exist with this name!! ;) ')"
   ]
  },
  {
   "cell_type": "code",
   "execution_count": 12,
   "id": "b3ab618c",
   "metadata": {},
   "outputs": [
    {
     "name": "stdout",
     "output_type": "stream",
     "text": [
      "Congrats! You create your first file using \"w\" function.\n"
     ]
    }
   ],
   "source": [
    "try: # To save ourself from error:\n",
    "    with open('testfile1.text', 'w+') as testfile1: #w  >> write! Creates a new file if not present.\n",
    "        testfile1.write('Congrats! You create your first file using \"w\" function.')\n",
    "        # After every Re-run, the file will be over-write automatically!\n",
    "        testfile1.seek(0) #resets the index to 0, so function can read each word from start to end carefully.\n",
    "        print(testfile1.read())\n",
    "except FileNotFoundError:\n",
    "    print('No file exist with this name!! ;) ')"
   ]
  },
  {
   "cell_type": "markdown",
   "id": "0806edd6",
   "metadata": {},
   "source": [
    "If we access the file without open(), then we have to close the file to operate using close() func. With open(), no need to use 'close()' function as it closes the file auto-matically!"
   ]
  },
  {
   "cell_type": "code",
   "execution_count": 13,
   "id": "8354a7cb",
   "metadata": {},
   "outputs": [],
   "source": [
    "try:\n",
    "    with open('testfile2.txt', 'w+') as trailfile:\n",
    "        trailfile.write('Congrats! You create your second file using \"w\" function.')\n",
    "        trailfile.seek(0)\n",
    "        trailfile.close()\n",
    "except Exception as e:\n",
    "    print(f'Kindly, resolve this Error: {e}')"
   ]
  },
  {
   "cell_type": "markdown",
   "id": "d84074ae",
   "metadata": {},
   "source": [
    "<img src='workflow.png' width=700px>"
   ]
  },
  {
   "cell_type": "code",
   "execution_count": 14,
   "id": "933690c8",
   "metadata": {},
   "outputs": [
    {
     "name": "stdout",
     "output_type": "stream",
     "text": [
      "Congrats! You create your second file using \"w\" function.\n"
     ]
    }
   ],
   "source": [
    "with open('testfile2.txt', 'r+') as trailfile:\n",
    "    print(trailfile.read())"
   ]
  },
  {
   "cell_type": "code",
   "execution_count": 15,
   "id": "fe9616f5",
   "metadata": {},
   "outputs": [],
   "source": [
    "#Done"
   ]
  }
 ],
 "metadata": {
  "kernelspec": {
   "display_name": "Python 3 (ipykernel)",
   "language": "python",
   "name": "python3"
  },
  "language_info": {
   "codemirror_mode": {
    "name": "ipython",
    "version": 3
   },
   "file_extension": ".py",
   "mimetype": "text/x-python",
   "name": "python",
   "nbconvert_exporter": "python",
   "pygments_lexer": "ipython3",
   "version": "3.9.7"
  }
 },
 "nbformat": 4,
 "nbformat_minor": 5
}
